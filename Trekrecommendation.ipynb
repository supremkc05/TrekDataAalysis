{
 "cells": [
  {
   "cell_type": "code",
   "id": "initial_id",
   "metadata": {
    "collapsed": true,
    "ExecuteTime": {
     "end_time": "2024-10-16T04:30:47.646352Z",
     "start_time": "2024-10-16T04:30:47.496075Z"
    }
   },
   "source": [
    "import pandas as pd\n",
    "import numpy as np\n",
    "import matplotlib.pyplot as plt\n",
    "import seaborn as sns\n",
    "import plotly.express as px"
   ],
   "outputs": [],
   "execution_count": 1
  },
  {
   "metadata": {
    "ExecuteTime": {
     "end_time": "2024-10-15T11:38:24.571744Z",
     "start_time": "2024-10-15T11:38:24.542091Z"
    }
   },
   "cell_type": "code",
   "source": [
    "# Load the data\n",
    "df=pd.read_csv('Nepali_Treking_EnhancedV2.csv')"
   ],
   "id": "3a7b279b8f6fafcd",
   "outputs": [],
   "execution_count": 2
  },
  {
   "metadata": {
    "ExecuteTime": {
     "end_time": "2024-10-15T11:38:26.392728Z",
     "start_time": "2024-10-15T11:38:26.357475Z"
    }
   },
   "cell_type": "code",
   "source": "df.head()",
   "id": "68431b996256374a",
   "outputs": [
    {
     "data": {
      "text/plain": [
       "   Unnamed: 0                                 Trek              Cost  \\\n",
       "0           0               Everest Base Camp Trek  \\n$1,420     USD   \n",
       "1           1         Everest Base Camp Short Trek  \\n$1,295     USD   \n",
       "2           2  Everest Base Camp Heli Shuttle Trek       \\n$2000 USD   \n",
       "3           3          Everest Base Camp Heli Trek  \\n$3,300     USD   \n",
       "4           4   Everest Base Camp Trek for Seniors  \\n$1,800     USD   \n",
       "\n",
       "       Time Trip Grade Max Altitude      Accomodation  \\\n",
       "0   16 Days   Moderate       5545 m  Hotel/Guesthouse   \n",
       "1   14 Days   Moderate       5545 m  Hotel/Guesthouse   \n",
       "2   12 Days   Moderate       5545 m  Hotel/Guesthouse   \n",
       "3   11 Days   Moderate       5545 m  Hotel/Guesthouse   \n",
       "4   20 Days   Moderate       5545 m  Hotel/Guesthouse   \n",
       "\n",
       "           Best Travel Time Date of Travel         Sex  ...  Regional code  \\\n",
       "0  March - May & Sept - Dec      9/13/2022  Non-Binary  ...              0   \n",
       "1  March - May & Sept - Dec       9/4/2021      Female  ...             40   \n",
       "2  March - May & Sept - Dec      1/25/2021      Female  ...             80   \n",
       "3  March - May & Sept - Dec      1/28/2022  Non-Binary  ...            120   \n",
       "4  March - May & Sept - Dec     10/21/2021  Non-Binary  ...            200   \n",
       "\n",
       "       Country Fitness Level  Weather Conditions Trekking Group Size  \\\n",
       "0        total  Intermediate               Clear                10.0   \n",
       "1  Afghanistan           NaN                 NaN                 NaN   \n",
       "2      Albania      Advanced               Snowy                12.0   \n",
       "3      Algeria  Intermediate               Clear                 5.0   \n",
       "4        Andra      Beginner              Cloudy                 6.0   \n",
       "\n",
       "   Guide/No Guide  Equipment Used Purpose of Travel Health Incidents  \\\n",
       "0           Guide           Poles           Leisure              NaN   \n",
       "1             NaN             NaN               NaN              NaN   \n",
       "2           Guide          Oxygen           Charity              NaN   \n",
       "3           Guide           Poles           Leisure              NaN   \n",
       "4        No Guide             NaN         Adventure     Minor Injury   \n",
       "\n",
       "  Review/Satisfaction  \n",
       "0                 4.5  \n",
       "1                 NaN  \n",
       "2                 5.0  \n",
       "3                 4.0  \n",
       "4                 3.5  \n",
       "\n",
       "[5 rows x 26 columns]"
      ],
      "text/html": [
       "<div>\n",
       "<style scoped>\n",
       "    .dataframe tbody tr th:only-of-type {\n",
       "        vertical-align: middle;\n",
       "    }\n",
       "\n",
       "    .dataframe tbody tr th {\n",
       "        vertical-align: top;\n",
       "    }\n",
       "\n",
       "    .dataframe thead th {\n",
       "        text-align: right;\n",
       "    }\n",
       "</style>\n",
       "<table border=\"1\" class=\"dataframe\">\n",
       "  <thead>\n",
       "    <tr style=\"text-align: right;\">\n",
       "      <th></th>\n",
       "      <th>Unnamed: 0</th>\n",
       "      <th>Trek</th>\n",
       "      <th>Cost</th>\n",
       "      <th>Time</th>\n",
       "      <th>Trip Grade</th>\n",
       "      <th>Max Altitude</th>\n",
       "      <th>Accomodation</th>\n",
       "      <th>Best Travel Time</th>\n",
       "      <th>Date of Travel</th>\n",
       "      <th>Sex</th>\n",
       "      <th>...</th>\n",
       "      <th>Regional code</th>\n",
       "      <th>Country</th>\n",
       "      <th>Fitness Level</th>\n",
       "      <th>Weather Conditions</th>\n",
       "      <th>Trekking Group Size</th>\n",
       "      <th>Guide/No Guide</th>\n",
       "      <th>Equipment Used</th>\n",
       "      <th>Purpose of Travel</th>\n",
       "      <th>Health Incidents</th>\n",
       "      <th>Review/Satisfaction</th>\n",
       "    </tr>\n",
       "  </thead>\n",
       "  <tbody>\n",
       "    <tr>\n",
       "      <th>0</th>\n",
       "      <td>0</td>\n",
       "      <td>Everest Base Camp Trek</td>\n",
       "      <td>\\n$1,420     USD</td>\n",
       "      <td>16 Days</td>\n",
       "      <td>Moderate</td>\n",
       "      <td>5545 m</td>\n",
       "      <td>Hotel/Guesthouse</td>\n",
       "      <td>March - May &amp; Sept - Dec</td>\n",
       "      <td>9/13/2022</td>\n",
       "      <td>Non-Binary</td>\n",
       "      <td>...</td>\n",
       "      <td>0</td>\n",
       "      <td>total</td>\n",
       "      <td>Intermediate</td>\n",
       "      <td>Clear</td>\n",
       "      <td>10.0</td>\n",
       "      <td>Guide</td>\n",
       "      <td>Poles</td>\n",
       "      <td>Leisure</td>\n",
       "      <td>NaN</td>\n",
       "      <td>4.5</td>\n",
       "    </tr>\n",
       "    <tr>\n",
       "      <th>1</th>\n",
       "      <td>1</td>\n",
       "      <td>Everest Base Camp Short Trek</td>\n",
       "      <td>\\n$1,295     USD</td>\n",
       "      <td>14 Days</td>\n",
       "      <td>Moderate</td>\n",
       "      <td>5545 m</td>\n",
       "      <td>Hotel/Guesthouse</td>\n",
       "      <td>March - May &amp; Sept - Dec</td>\n",
       "      <td>9/4/2021</td>\n",
       "      <td>Female</td>\n",
       "      <td>...</td>\n",
       "      <td>40</td>\n",
       "      <td>Afghanistan</td>\n",
       "      <td>NaN</td>\n",
       "      <td>NaN</td>\n",
       "      <td>NaN</td>\n",
       "      <td>NaN</td>\n",
       "      <td>NaN</td>\n",
       "      <td>NaN</td>\n",
       "      <td>NaN</td>\n",
       "      <td>NaN</td>\n",
       "    </tr>\n",
       "    <tr>\n",
       "      <th>2</th>\n",
       "      <td>2</td>\n",
       "      <td>Everest Base Camp Heli Shuttle Trek</td>\n",
       "      <td>\\n$2000 USD</td>\n",
       "      <td>12 Days</td>\n",
       "      <td>Moderate</td>\n",
       "      <td>5545 m</td>\n",
       "      <td>Hotel/Guesthouse</td>\n",
       "      <td>March - May &amp; Sept - Dec</td>\n",
       "      <td>1/25/2021</td>\n",
       "      <td>Female</td>\n",
       "      <td>...</td>\n",
       "      <td>80</td>\n",
       "      <td>Albania</td>\n",
       "      <td>Advanced</td>\n",
       "      <td>Snowy</td>\n",
       "      <td>12.0</td>\n",
       "      <td>Guide</td>\n",
       "      <td>Oxygen</td>\n",
       "      <td>Charity</td>\n",
       "      <td>NaN</td>\n",
       "      <td>5.0</td>\n",
       "    </tr>\n",
       "    <tr>\n",
       "      <th>3</th>\n",
       "      <td>3</td>\n",
       "      <td>Everest Base Camp Heli Trek</td>\n",
       "      <td>\\n$3,300     USD</td>\n",
       "      <td>11 Days</td>\n",
       "      <td>Moderate</td>\n",
       "      <td>5545 m</td>\n",
       "      <td>Hotel/Guesthouse</td>\n",
       "      <td>March - May &amp; Sept - Dec</td>\n",
       "      <td>1/28/2022</td>\n",
       "      <td>Non-Binary</td>\n",
       "      <td>...</td>\n",
       "      <td>120</td>\n",
       "      <td>Algeria</td>\n",
       "      <td>Intermediate</td>\n",
       "      <td>Clear</td>\n",
       "      <td>5.0</td>\n",
       "      <td>Guide</td>\n",
       "      <td>Poles</td>\n",
       "      <td>Leisure</td>\n",
       "      <td>NaN</td>\n",
       "      <td>4.0</td>\n",
       "    </tr>\n",
       "    <tr>\n",
       "      <th>4</th>\n",
       "      <td>4</td>\n",
       "      <td>Everest Base Camp Trek for Seniors</td>\n",
       "      <td>\\n$1,800     USD</td>\n",
       "      <td>20 Days</td>\n",
       "      <td>Moderate</td>\n",
       "      <td>5545 m</td>\n",
       "      <td>Hotel/Guesthouse</td>\n",
       "      <td>March - May &amp; Sept - Dec</td>\n",
       "      <td>10/21/2021</td>\n",
       "      <td>Non-Binary</td>\n",
       "      <td>...</td>\n",
       "      <td>200</td>\n",
       "      <td>Andra</td>\n",
       "      <td>Beginner</td>\n",
       "      <td>Cloudy</td>\n",
       "      <td>6.0</td>\n",
       "      <td>No Guide</td>\n",
       "      <td>NaN</td>\n",
       "      <td>Adventure</td>\n",
       "      <td>Minor Injury</td>\n",
       "      <td>3.5</td>\n",
       "    </tr>\n",
       "  </tbody>\n",
       "</table>\n",
       "<p>5 rows × 26 columns</p>\n",
       "</div>"
      ]
     },
     "execution_count": 3,
     "metadata": {},
     "output_type": "execute_result"
    }
   ],
   "execution_count": 3
  },
  {
   "metadata": {
    "ExecuteTime": {
     "end_time": "2024-10-15T11:38:30.793155Z",
     "start_time": "2024-10-15T11:38:30.785583Z"
    }
   },
   "cell_type": "code",
   "source": "df.columns",
   "id": "89e82fa58f6dbb2c",
   "outputs": [
    {
     "data": {
      "text/plain": [
       "Index(['Unnamed: 0', 'Trek', 'Cost', 'Time', 'Trip Grade', 'Max Altitude',\n",
       "       'Accomodation', 'Best Travel Time', 'Date of Travel', 'Sex', 'Age',\n",
       "       'Employment Type', 'GraduateOrNot', 'AnnualIncome', 'FrequentFlyer',\n",
       "       'Year', 'Regional code', 'Country', 'Fitness Level',\n",
       "       'Weather Conditions', 'Trekking Group Size', 'Guide/No Guide',\n",
       "       'Equipment Used', 'Purpose of Travel', 'Health Incidents',\n",
       "       'Review/Satisfaction'],\n",
       "      dtype='object')"
      ]
     },
     "execution_count": 4,
     "metadata": {},
     "output_type": "execute_result"
    }
   ],
   "execution_count": 4
  },
  {
   "metadata": {
    "ExecuteTime": {
     "end_time": "2024-10-15T11:38:33.424777Z",
     "start_time": "2024-10-15T11:38:33.398709Z"
    }
   },
   "cell_type": "code",
   "source": "df.info()",
   "id": "b1809ace8a1e64d4",
   "outputs": [
    {
     "name": "stdout",
     "output_type": "stream",
     "text": [
      "<class 'pandas.core.frame.DataFrame'>\n",
      "RangeIndex: 383 entries, 0 to 382\n",
      "Data columns (total 26 columns):\n",
      " #   Column               Non-Null Count  Dtype  \n",
      "---  ------               --------------  -----  \n",
      " 0   Unnamed: 0           383 non-null    int64  \n",
      " 1   Trek                 383 non-null    object \n",
      " 2   Cost                 383 non-null    object \n",
      " 3   Time                 383 non-null    object \n",
      " 4   Trip Grade           383 non-null    object \n",
      " 5   Max Altitude         383 non-null    object \n",
      " 6   Accomodation         383 non-null    object \n",
      " 7   Best Travel Time     383 non-null    object \n",
      " 8   Date of Travel       383 non-null    object \n",
      " 9   Sex                  383 non-null    object \n",
      " 10  Age                  383 non-null    int64  \n",
      " 11  Employment Type      383 non-null    object \n",
      " 12  GraduateOrNot        383 non-null    object \n",
      " 13  AnnualIncome         383 non-null    int64  \n",
      " 14  FrequentFlyer        383 non-null    object \n",
      " 15  Year                 383 non-null    int64  \n",
      " 16  Regional code        383 non-null    int64  \n",
      " 17  Country              383 non-null    object \n",
      " 18  Fitness Level        345 non-null    object \n",
      " 19  Weather Conditions   345 non-null    object \n",
      " 20  Trekking Group Size  345 non-null    float64\n",
      " 21  Guide/No Guide       345 non-null    object \n",
      " 22  Equipment Used       207 non-null    object \n",
      " 23  Purpose of Travel    345 non-null    object \n",
      " 24  Health Incidents     138 non-null    object \n",
      " 25  Review/Satisfaction  345 non-null    float64\n",
      "dtypes: float64(2), int64(5), object(19)\n",
      "memory usage: 77.9+ KB\n"
     ]
    }
   ],
   "execution_count": 5
  },
  {
   "metadata": {},
   "cell_type": "code",
   "execution_count": 93,
   "source": "df.describe() #summary statistics",
   "id": "d6dd63842ef124d2",
   "outputs": []
  },
  {
   "metadata": {},
   "cell_type": "code",
   "execution_count": 94,
   "source": [
    "#dropping the columns with missing values\n",
    "df.drop(\"Unnamed: 0\", inplace=True, axis=1) \n",
    "df.columns"
   ],
   "id": "324cb53ec1a306f1",
   "outputs": []
  },
  {
   "metadata": {
    "ExecuteTime": {
     "end_time": "2024-10-15T11:41:14.618356Z",
     "start_time": "2024-10-15T11:41:14.508308Z"
    }
   },
   "cell_type": "code",
   "source": [
    "# Dropping the unnecessary columns from the dataset\n",
    "df.drop([\"AnnualIncome\", \"Employment Type\", \"GraduateOrNot\"], inplace=True, axis=1)\n",
    "df.columns"
   ],
   "id": "ff524f67ef72e0b4",
   "outputs": [],
   "execution_count": 6
  },
  {
   "metadata": {
    "ExecuteTime": {
     "end_time": "2024-10-15T11:41:46.906860Z",
     "start_time": "2024-10-15T11:41:46.881773Z"
    }
   },
   "cell_type": "code",
   "source": [
    "#removing the string 'USD' from the 'Cost' column\n",
    "df['Cost'] = df['Cost'].replace(r'[\\$, USD]', '', regex=True).astype(float)"
   ],
   "id": "4339cc15edb94be1",
   "outputs": [],
   "execution_count": 8
  },
  {
   "metadata": {
    "ExecuteTime": {
     "end_time": "2024-10-15T11:41:47.706318Z",
     "start_time": "2024-10-15T11:41:47.689019Z"
    }
   },
   "cell_type": "code",
   "source": [
    "#removing the string 'Days' from the 'Time' column\n",
    "df['Time'] = df['Time'].astype(str).str.strip().str.replace(r'(?i)\\s*Days?', '', regex=True).astype(int)"
   ],
   "id": "429cda15e97a6463",
   "outputs": [],
   "execution_count": 9
  },
  {
   "metadata": {},
   "cell_type": "code",
   "outputs": [],
   "execution_count": 10,
   "source": [
    "# Remove the 'm' and any commas from the 'Max Altitude' column\n",
    "df['Max Altitude'] = df['Max Altitude'].str.replace(r'(?i)\\s*m', '', regex=True).str.replace(',', '')\n",
    "\n",
    "# Convert the column to an integer type\n",
    "df['Max Altitude'] = df['Max Altitude'].astype(int)"
   ],
   "id": "bf3ec44052888741"
  },
  {
   "metadata": {},
   "cell_type": "code",
   "outputs": [
    {
     "data": {
      "text/plain": [
       "                                  Trek  Time  Max Altitude Trip Grade    Cost  \\\n",
       "0               Everest Base Camp Trek    16          5545   Moderate  1420.0   \n",
       "1         Everest Base Camp Short Trek    14          5545   Moderate  1295.0   \n",
       "2  Everest Base Camp Heli Shuttle Trek    12          5545   Moderate  2000.0   \n",
       "3          Everest Base Camp Heli Trek    11          5545   Moderate  3300.0   \n",
       "4   Everest Base Camp Trek for Seniors    20          5545   Moderate  1800.0   \n",
       "\n",
       "   Age  Trekking Group Size Fitness Level  \n",
       "0   31                 10.0  Intermediate  \n",
       "1   31                  NaN           NaN  \n",
       "2   34                 12.0      Advanced  \n",
       "3   28                  5.0  Intermediate  \n",
       "4   28                  6.0      Beginner  "
      ],
      "text/html": [
       "<div>\n",
       "<style scoped>\n",
       "    .dataframe tbody tr th:only-of-type {\n",
       "        vertical-align: middle;\n",
       "    }\n",
       "\n",
       "    .dataframe tbody tr th {\n",
       "        vertical-align: top;\n",
       "    }\n",
       "\n",
       "    .dataframe thead th {\n",
       "        text-align: right;\n",
       "    }\n",
       "</style>\n",
       "<table border=\"1\" class=\"dataframe\">\n",
       "  <thead>\n",
       "    <tr style=\"text-align: right;\">\n",
       "      <th></th>\n",
       "      <th>Trek</th>\n",
       "      <th>Time</th>\n",
       "      <th>Max Altitude</th>\n",
       "      <th>Trip Grade</th>\n",
       "      <th>Cost</th>\n",
       "      <th>Age</th>\n",
       "      <th>Trekking Group Size</th>\n",
       "      <th>Fitness Level</th>\n",
       "    </tr>\n",
       "  </thead>\n",
       "  <tbody>\n",
       "    <tr>\n",
       "      <th>0</th>\n",
       "      <td>Everest Base Camp Trek</td>\n",
       "      <td>16</td>\n",
       "      <td>5545</td>\n",
       "      <td>Moderate</td>\n",
       "      <td>1420.0</td>\n",
       "      <td>31</td>\n",
       "      <td>10.0</td>\n",
       "      <td>Intermediate</td>\n",
       "    </tr>\n",
       "    <tr>\n",
       "      <th>1</th>\n",
       "      <td>Everest Base Camp Short Trek</td>\n",
       "      <td>14</td>\n",
       "      <td>5545</td>\n",
       "      <td>Moderate</td>\n",
       "      <td>1295.0</td>\n",
       "      <td>31</td>\n",
       "      <td>NaN</td>\n",
       "      <td>NaN</td>\n",
       "    </tr>\n",
       "    <tr>\n",
       "      <th>2</th>\n",
       "      <td>Everest Base Camp Heli Shuttle Trek</td>\n",
       "      <td>12</td>\n",
       "      <td>5545</td>\n",
       "      <td>Moderate</td>\n",
       "      <td>2000.0</td>\n",
       "      <td>34</td>\n",
       "      <td>12.0</td>\n",
       "      <td>Advanced</td>\n",
       "    </tr>\n",
       "    <tr>\n",
       "      <th>3</th>\n",
       "      <td>Everest Base Camp Heli Trek</td>\n",
       "      <td>11</td>\n",
       "      <td>5545</td>\n",
       "      <td>Moderate</td>\n",
       "      <td>3300.0</td>\n",
       "      <td>28</td>\n",
       "      <td>5.0</td>\n",
       "      <td>Intermediate</td>\n",
       "    </tr>\n",
       "    <tr>\n",
       "      <th>4</th>\n",
       "      <td>Everest Base Camp Trek for Seniors</td>\n",
       "      <td>20</td>\n",
       "      <td>5545</td>\n",
       "      <td>Moderate</td>\n",
       "      <td>1800.0</td>\n",
       "      <td>28</td>\n",
       "      <td>6.0</td>\n",
       "      <td>Beginner</td>\n",
       "    </tr>\n",
       "  </tbody>\n",
       "</table>\n",
       "</div>"
      ]
     },
     "execution_count": 12,
     "metadata": {},
     "output_type": "execute_result"
    }
   ],
   "execution_count": 12,
   "source": "df.head()",
   "id": "5fa4b1d682a7e76"
  },
  {
   "metadata": {
    "ExecuteTime": {
     "end_time": "2024-10-15T11:42:00.675563Z",
     "start_time": "2024-10-15T11:42:00.653461Z"
    }
   },
   "cell_type": "code",
   "source": [
    "# Clean the 'trek' column\n",
    "df['Trek'] = df['Trek'].str.strip().str.replace(r'[^a-zA-Z\\s]', '', regex=True)\n",
    "\n",
    "# Display the cleaned DataFrame\n",
    "print(df['Trek'])"
   ],
   "id": "ab6083f2d7ddeeb9",
   "outputs": [
    {
     "name": "stdout",
     "output_type": "stream",
     "text": [
      "0                   Everest Base Camp Trek\n",
      "1             Everest Base Camp Short Trek\n",
      "2      Everest Base Camp Heli Shuttle Trek\n",
      "3              Everest Base Camp Heli Trek\n",
      "4       Everest Base Camp Trek for Seniors\n",
      "                      ...                 \n",
      "378               Ghorepani Poon Hill Trek\n",
      "379                     Upper Mustang Trek\n",
      "380                       Mardi Himal Trek\n",
      "381               Langtang Valley Trekking\n",
      "382                   Manaslu Circuit Trek\n",
      "Name: Trek, Length: 383, dtype: object\n"
     ]
    }
   ],
   "execution_count": 11
  },
  {
   "metadata": {},
   "cell_type": "code",
   "execution_count": 101,
   "source": [
    "# Convert date columns to datetime\n",
    "df['Date of Travel'] = pd.to_datetime(df['Date of Travel'], errors='coerce')"
   ],
   "id": "af126a3739769050",
   "outputs": []
  },
  {
   "metadata": {
    "ExecuteTime": {
     "end_time": "2024-10-15T11:43:00.024979Z",
     "start_time": "2024-10-15T11:42:59.987511Z"
    }
   },
   "cell_type": "code",
   "source": [
    "import re\n",
    "def clean_best_travel_time(time: str) -> str:\n",
    "    # Shortening months for consistency\n",
    "    time = re.sub(r\"\\bSetpt\\b\", \"Sep\", time)\n",
    "    time = re.sub(r\"\\bSept\\b\", \"Sep\", time)\n",
    "    time = re.sub(r\"\\bJan\\b\", \"Jan\", time)\n",
    "    time = re.sub(r\"\\bMarch\\b\", \"Mar\", time)\n",
    "    time = re.sub(r\"\\bApril\\b\", \"Apr\", time)\n",
    "\n",
    "    # Remove punctuations and add spaces\n",
    "    time = re.sub(r\"\\.\", \"\", time)\n",
    "    time = re.sub(r\"\\s\", \"\", time)\n",
    "    time = re.sub(r\"-\", \" - \", time)\n",
    "    time = re.sub(r\"\\s*&\\s*\", \" & \", time)\n",
    "\n",
    "    return time\n",
    "\n",
    "df['Best Travel Time'] = df['Best Travel Time'].apply(clean_best_travel_time)\n",
    "\n",
    "df['Best Travel Time'].unique()"
   ],
   "id": "b9ed5f9131fcfaf3",
   "outputs": [],
   "execution_count": 13
  },
  {
   "metadata": {
    "ExecuteTime": {
     "end_time": "2024-10-15T11:43:15.563591Z",
     "start_time": "2024-10-15T11:43:15.535286Z"
    }
   },
   "cell_type": "code",
   "source": [
    "# Function to map month ranges to seasons\n",
    "def get_season(time_range):\n",
    "    seasons = set()\n",
    "    if any(month in time_range for month in ['Mar', 'Apr', 'May']):\n",
    "        seasons.add('Spring')\n",
    "    if any(month in time_range for month in ['Jun', 'Jul', 'Aug']):\n",
    "        seasons.add('Summer')\n",
    "    if any(month in time_range for month in ['Sep', 'Oct', 'Nov']):\n",
    "        seasons.add('Autumn')\n",
    "    if any(month in time_range for month in ['Dec', 'Jan', 'Feb']):\n",
    "        seasons.add('Winter')\n",
    "\n",
    "    # Prioritize Autumn if both Autumn and Winter exist\n",
    "    if 'Autumn' in seasons and 'Winter' in seasons:\n",
    "        return ['Autumn', 'Winter']\n",
    "\n",
    "    return list(seasons) if seasons else [None]\n",
    "\n",
    "\n",
    "# Function to split \"Best Travel Time\" into two favorable seasons\n",
    "def split_travel_time(time):\n",
    "    if pd.isnull(time):\n",
    "        return pd.Series([None, None])\n",
    "\n",
    "    # Split if there are two ranges with '&'\n",
    "    if '&' in time:\n",
    "        seasons = time.split(' & ')\n",
    "        season1 = get_season(seasons[0].strip())\n",
    "        season2 = get_season(seasons[1].strip())\n",
    "        return pd.Series([season1[0] if season1 else None, season2[0] if season2 else None])\n",
    "    else:\n",
    "        # If only one season range, return the same season for both columns\n",
    "        season = get_season(time.strip())\n",
    "        return pd.Series([season[0] if season else None, season[0] if season else None])\n",
    "\n",
    "\n",
    "# Apply the function to split the 'Best Travel Time' column\n",
    "df[['Best Travel Time 1', 'Best Travel Time 2']] = df['Best Travel Time'].apply(split_travel_time)\n",
    "\n",
    "# Drop the original \"Best Travel Time\" column to avoid duplication\n",
    "df.drop(columns=['Best Travel Time'], inplace=True)\n",
    "\n",
    "# Re-arranging columns to place 'Best Travel Time 1' and 'Best Travel Time 2' before 'Date of Travel'\n",
    "cols = df.columns.tolist()\n",
    "# Remove 'Best Travel Time 1' and 'Best Travel Time 2' from the list if they already exist\n",
    "if 'Best Travel Time 1' in cols:\n",
    "    cols.remove('Best Travel Time 1')\n",
    "if 'Best Travel Time 2' in cols:\n",
    "    cols.remove('Best Travel Time 2')\n",
    "\n",
    "# Find the index of 'Date of Travel'\n",
    "date_of_travel_index = cols.index('Date of Travel')\n",
    "# Insert the new columns before 'Date of Travel'\n",
    "new_order = cols[:date_of_travel_index] + ['Best Travel Time 1', 'Best Travel Time 2'] + cols[date_of_travel_index:]\n",
    "df = df[new_order]\n",
    "\n",
    "# Output: Verify the final DataFrame\n",
    "print(df.head())"
   ],
   "id": "b83028b7670ba009",
   "outputs": [
    {
     "name": "stderr",
     "output_type": "stream",
     "text": [
      "C:\\Users\\supre\\AppData\\Local\\Temp\\ipykernel_11808\\1940038514.py:4: FutureWarning: A value is trying to be set on a copy of a DataFrame or Series through chained assignment using an inplace method.\n",
      "The behavior will change in pandas 3.0. This inplace method will never work because the intermediate object on which we are setting values always behaves as a copy.\n",
      "\n",
      "For example, when doing 'df[col].method(value, inplace=True)', try using 'df.method({col: value}, inplace=True)' or df[col] = df[col].method(value) instead, to perform the operation inplace on the original object.\n",
      "\n",
      "\n",
      "  df['Trekking Group Size'].fillna(mode_value, inplace=True)\n"
     ]
    }
   ],
   "execution_count": 14
  },
  {
   "metadata": {},
   "cell_type": "code",
   "outputs": [],
   "execution_count": 104,
   "source": [
    "#now join the Best Travel Time 1 and Best Travel Time 2 columns in a single column using - separator\n",
    "df['Best Travel Time'] = df['Best Travel Time 1'] + ' - ' + df['Best Travel Time 2']"
   ],
   "id": "2567cc3b577680ec"
  },
  {
   "metadata": {
    "ExecuteTime": {
     "end_time": "2024-10-15T11:43:40.711815Z",
     "start_time": "2024-10-15T11:43:37.436195Z"
    }
   },
   "cell_type": "code",
   "source": [
    "# Drop the 'Best Travel Time 1' and 'Best Travel Time 2' columns\n",
    "df.drop(columns=['Best Travel Time 1', 'Best Travel Time 2'], inplace=True)"
   ],
   "id": "180a46ce5a7dfcd5",
   "outputs": [
    {
     "name": "stderr",
     "output_type": "stream",
     "text": [
      "C:\\Users\\supre\\AppData\\Local\\Temp\\ipykernel_11808\\1925400370.py:4: FutureWarning: A value is trying to be set on a copy of a DataFrame or Series through chained assignment using an inplace method.\n",
      "The behavior will change in pandas 3.0. This inplace method will never work because the intermediate object on which we are setting values always behaves as a copy.\n",
      "\n",
      "For example, when doing 'df[col].method(value, inplace=True)', try using 'df.method({col: value}, inplace=True)' or df[col] = df[col].method(value) instead, to perform the operation inplace on the original object.\n",
      "\n",
      "\n",
      "  df['Trekking Group Size'].fillna(mode_value, inplace=True)# Drop the 'Best Travel Time 1' and 'Best Travel Time 2' columns\n"
     ]
    },
    {
     "ename": "KeyError",
     "evalue": "\"['Best Travel Time 1', 'Best Travel Time 2'] not found in axis\"",
     "output_type": "error",
     "traceback": [
      "\u001B[1;31m---------------------------------------------------------------------------\u001B[0m",
      "\u001B[1;31mKeyError\u001B[0m                                  Traceback (most recent call last)",
      "Cell \u001B[1;32mIn[15], line 5\u001B[0m\n\u001B[0;32m      3\u001B[0m \u001B[38;5;66;03m# Fill the null values with the mode\u001B[39;00m\n\u001B[0;32m      4\u001B[0m df[\u001B[38;5;124m'\u001B[39m\u001B[38;5;124mTrekking Group Size\u001B[39m\u001B[38;5;124m'\u001B[39m]\u001B[38;5;241m.\u001B[39mfillna(mode_value, inplace\u001B[38;5;241m=\u001B[39m\u001B[38;5;28;01mTrue\u001B[39;00m)\u001B[38;5;66;03m# Drop the 'Best Travel Time 1' and 'Best Travel Time 2' columns\u001B[39;00m\n\u001B[1;32m----> 5\u001B[0m \u001B[43mdf\u001B[49m\u001B[38;5;241;43m.\u001B[39;49m\u001B[43mdrop\u001B[49m\u001B[43m(\u001B[49m\u001B[43mcolumns\u001B[49m\u001B[38;5;241;43m=\u001B[39;49m\u001B[43m[\u001B[49m\u001B[38;5;124;43m'\u001B[39;49m\u001B[38;5;124;43mBest Travel Time 1\u001B[39;49m\u001B[38;5;124;43m'\u001B[39;49m\u001B[43m,\u001B[49m\u001B[43m \u001B[49m\u001B[38;5;124;43m'\u001B[39;49m\u001B[38;5;124;43mBest Travel Time 2\u001B[39;49m\u001B[38;5;124;43m'\u001B[39;49m\u001B[43m]\u001B[49m\u001B[43m,\u001B[49m\u001B[43m \u001B[49m\u001B[43minplace\u001B[49m\u001B[38;5;241;43m=\u001B[39;49m\u001B[38;5;28;43;01mTrue\u001B[39;49;00m\u001B[43m)\u001B[49m\n",
      "File \u001B[1;32m~\\Desktop\\Voicerecognitation\\.venv\\Lib\\site-packages\\pandas\\core\\frame.py:5581\u001B[0m, in \u001B[0;36mDataFrame.drop\u001B[1;34m(self, labels, axis, index, columns, level, inplace, errors)\u001B[0m\n\u001B[0;32m   5433\u001B[0m \u001B[38;5;28;01mdef\u001B[39;00m \u001B[38;5;21mdrop\u001B[39m(\n\u001B[0;32m   5434\u001B[0m     \u001B[38;5;28mself\u001B[39m,\n\u001B[0;32m   5435\u001B[0m     labels: IndexLabel \u001B[38;5;241m|\u001B[39m \u001B[38;5;28;01mNone\u001B[39;00m \u001B[38;5;241m=\u001B[39m \u001B[38;5;28;01mNone\u001B[39;00m,\n\u001B[1;32m   (...)\u001B[0m\n\u001B[0;32m   5442\u001B[0m     errors: IgnoreRaise \u001B[38;5;241m=\u001B[39m \u001B[38;5;124m\"\u001B[39m\u001B[38;5;124mraise\u001B[39m\u001B[38;5;124m\"\u001B[39m,\n\u001B[0;32m   5443\u001B[0m ) \u001B[38;5;241m-\u001B[39m\u001B[38;5;241m>\u001B[39m DataFrame \u001B[38;5;241m|\u001B[39m \u001B[38;5;28;01mNone\u001B[39;00m:\n\u001B[0;32m   5444\u001B[0m \u001B[38;5;250m    \u001B[39m\u001B[38;5;124;03m\"\"\"\u001B[39;00m\n\u001B[0;32m   5445\u001B[0m \u001B[38;5;124;03m    Drop specified labels from rows or columns.\u001B[39;00m\n\u001B[0;32m   5446\u001B[0m \n\u001B[1;32m   (...)\u001B[0m\n\u001B[0;32m   5579\u001B[0m \u001B[38;5;124;03m            weight  1.0     0.8\u001B[39;00m\n\u001B[0;32m   5580\u001B[0m \u001B[38;5;124;03m    \"\"\"\u001B[39;00m\n\u001B[1;32m-> 5581\u001B[0m     \u001B[38;5;28;01mreturn\u001B[39;00m \u001B[38;5;28;43msuper\u001B[39;49m\u001B[43m(\u001B[49m\u001B[43m)\u001B[49m\u001B[38;5;241;43m.\u001B[39;49m\u001B[43mdrop\u001B[49m\u001B[43m(\u001B[49m\n\u001B[0;32m   5582\u001B[0m \u001B[43m        \u001B[49m\u001B[43mlabels\u001B[49m\u001B[38;5;241;43m=\u001B[39;49m\u001B[43mlabels\u001B[49m\u001B[43m,\u001B[49m\n\u001B[0;32m   5583\u001B[0m \u001B[43m        \u001B[49m\u001B[43maxis\u001B[49m\u001B[38;5;241;43m=\u001B[39;49m\u001B[43maxis\u001B[49m\u001B[43m,\u001B[49m\n\u001B[0;32m   5584\u001B[0m \u001B[43m        \u001B[49m\u001B[43mindex\u001B[49m\u001B[38;5;241;43m=\u001B[39;49m\u001B[43mindex\u001B[49m\u001B[43m,\u001B[49m\n\u001B[0;32m   5585\u001B[0m \u001B[43m        \u001B[49m\u001B[43mcolumns\u001B[49m\u001B[38;5;241;43m=\u001B[39;49m\u001B[43mcolumns\u001B[49m\u001B[43m,\u001B[49m\n\u001B[0;32m   5586\u001B[0m \u001B[43m        \u001B[49m\u001B[43mlevel\u001B[49m\u001B[38;5;241;43m=\u001B[39;49m\u001B[43mlevel\u001B[49m\u001B[43m,\u001B[49m\n\u001B[0;32m   5587\u001B[0m \u001B[43m        \u001B[49m\u001B[43minplace\u001B[49m\u001B[38;5;241;43m=\u001B[39;49m\u001B[43minplace\u001B[49m\u001B[43m,\u001B[49m\n\u001B[0;32m   5588\u001B[0m \u001B[43m        \u001B[49m\u001B[43merrors\u001B[49m\u001B[38;5;241;43m=\u001B[39;49m\u001B[43merrors\u001B[49m\u001B[43m,\u001B[49m\n\u001B[0;32m   5589\u001B[0m \u001B[43m    \u001B[49m\u001B[43m)\u001B[49m\n",
      "File \u001B[1;32m~\\Desktop\\Voicerecognitation\\.venv\\Lib\\site-packages\\pandas\\core\\generic.py:4788\u001B[0m, in \u001B[0;36mNDFrame.drop\u001B[1;34m(self, labels, axis, index, columns, level, inplace, errors)\u001B[0m\n\u001B[0;32m   4786\u001B[0m \u001B[38;5;28;01mfor\u001B[39;00m axis, labels \u001B[38;5;129;01min\u001B[39;00m axes\u001B[38;5;241m.\u001B[39mitems():\n\u001B[0;32m   4787\u001B[0m     \u001B[38;5;28;01mif\u001B[39;00m labels \u001B[38;5;129;01mis\u001B[39;00m \u001B[38;5;129;01mnot\u001B[39;00m \u001B[38;5;28;01mNone\u001B[39;00m:\n\u001B[1;32m-> 4788\u001B[0m         obj \u001B[38;5;241m=\u001B[39m \u001B[43mobj\u001B[49m\u001B[38;5;241;43m.\u001B[39;49m\u001B[43m_drop_axis\u001B[49m\u001B[43m(\u001B[49m\u001B[43mlabels\u001B[49m\u001B[43m,\u001B[49m\u001B[43m \u001B[49m\u001B[43maxis\u001B[49m\u001B[43m,\u001B[49m\u001B[43m \u001B[49m\u001B[43mlevel\u001B[49m\u001B[38;5;241;43m=\u001B[39;49m\u001B[43mlevel\u001B[49m\u001B[43m,\u001B[49m\u001B[43m \u001B[49m\u001B[43merrors\u001B[49m\u001B[38;5;241;43m=\u001B[39;49m\u001B[43merrors\u001B[49m\u001B[43m)\u001B[49m\n\u001B[0;32m   4790\u001B[0m \u001B[38;5;28;01mif\u001B[39;00m inplace:\n\u001B[0;32m   4791\u001B[0m     \u001B[38;5;28mself\u001B[39m\u001B[38;5;241m.\u001B[39m_update_inplace(obj)\n",
      "File \u001B[1;32m~\\Desktop\\Voicerecognitation\\.venv\\Lib\\site-packages\\pandas\\core\\generic.py:4830\u001B[0m, in \u001B[0;36mNDFrame._drop_axis\u001B[1;34m(self, labels, axis, level, errors, only_slice)\u001B[0m\n\u001B[0;32m   4828\u001B[0m         new_axis \u001B[38;5;241m=\u001B[39m axis\u001B[38;5;241m.\u001B[39mdrop(labels, level\u001B[38;5;241m=\u001B[39mlevel, errors\u001B[38;5;241m=\u001B[39merrors)\n\u001B[0;32m   4829\u001B[0m     \u001B[38;5;28;01melse\u001B[39;00m:\n\u001B[1;32m-> 4830\u001B[0m         new_axis \u001B[38;5;241m=\u001B[39m \u001B[43maxis\u001B[49m\u001B[38;5;241;43m.\u001B[39;49m\u001B[43mdrop\u001B[49m\u001B[43m(\u001B[49m\u001B[43mlabels\u001B[49m\u001B[43m,\u001B[49m\u001B[43m \u001B[49m\u001B[43merrors\u001B[49m\u001B[38;5;241;43m=\u001B[39;49m\u001B[43merrors\u001B[49m\u001B[43m)\u001B[49m\n\u001B[0;32m   4831\u001B[0m     indexer \u001B[38;5;241m=\u001B[39m axis\u001B[38;5;241m.\u001B[39mget_indexer(new_axis)\n\u001B[0;32m   4833\u001B[0m \u001B[38;5;66;03m# Case for non-unique axis\u001B[39;00m\n\u001B[0;32m   4834\u001B[0m \u001B[38;5;28;01melse\u001B[39;00m:\n",
      "File \u001B[1;32m~\\Desktop\\Voicerecognitation\\.venv\\Lib\\site-packages\\pandas\\core\\indexes\\base.py:7070\u001B[0m, in \u001B[0;36mIndex.drop\u001B[1;34m(self, labels, errors)\u001B[0m\n\u001B[0;32m   7068\u001B[0m \u001B[38;5;28;01mif\u001B[39;00m mask\u001B[38;5;241m.\u001B[39many():\n\u001B[0;32m   7069\u001B[0m     \u001B[38;5;28;01mif\u001B[39;00m errors \u001B[38;5;241m!=\u001B[39m \u001B[38;5;124m\"\u001B[39m\u001B[38;5;124mignore\u001B[39m\u001B[38;5;124m\"\u001B[39m:\n\u001B[1;32m-> 7070\u001B[0m         \u001B[38;5;28;01mraise\u001B[39;00m \u001B[38;5;167;01mKeyError\u001B[39;00m(\u001B[38;5;124mf\u001B[39m\u001B[38;5;124m\"\u001B[39m\u001B[38;5;132;01m{\u001B[39;00mlabels[mask]\u001B[38;5;241m.\u001B[39mtolist()\u001B[38;5;132;01m}\u001B[39;00m\u001B[38;5;124m not found in axis\u001B[39m\u001B[38;5;124m\"\u001B[39m)\n\u001B[0;32m   7071\u001B[0m     indexer \u001B[38;5;241m=\u001B[39m indexer[\u001B[38;5;241m~\u001B[39mmask]\n\u001B[0;32m   7072\u001B[0m \u001B[38;5;28;01mreturn\u001B[39;00m \u001B[38;5;28mself\u001B[39m\u001B[38;5;241m.\u001B[39mdelete(indexer)\n",
      "\u001B[1;31mKeyError\u001B[0m: \"['Best Travel Time 1', 'Best Travel Time 2'] not found in axis\""
     ]
    }
   ],
   "execution_count": 15
  },
  {
   "metadata": {
    "ExecuteTime": {
     "end_time": "2024-10-15T06:28:56.176473Z",
     "start_time": "2024-10-15T06:28:56.159924Z"
    }
   },
   "cell_type": "code",
   "source": "df.head()",
   "id": "cb1c344c38319604",
   "outputs": [
    {
     "data": {
      "text/plain": [
       "                                  Trek    Cost  Time Trip Grade  Max Altitude  \\\n",
       "0               Everest Base Camp Trek  1420.0    16   Moderate          5545   \n",
       "1         Everest Base Camp Short Trek  1295.0    14   Moderate          5545   \n",
       "2  Everest Base Camp Heli Shuttle Trek  2000.0    12   Moderate          5545   \n",
       "3          Everest Base Camp Heli Trek  3300.0    11   Moderate          5545   \n",
       "4   Everest Base Camp Trek for Seniors  1800.0    20   Moderate          5545   \n",
       "\n",
       "       Accomodation Date of Travel         Sex  Age FrequentFlyer  ...  \\\n",
       "0  Hotel/Guesthouse     2022-09-13  Non-Binary   31            No  ...   \n",
       "1  Hotel/Guesthouse     2021-09-04      Female   31            No  ...   \n",
       "2  Hotel/Guesthouse     2021-01-25      Female   34            No  ...   \n",
       "3  Hotel/Guesthouse     2022-01-28  Non-Binary   28            No  ...   \n",
       "4  Hotel/Guesthouse     2021-10-21  Non-Binary   28           Yes  ...   \n",
       "\n",
       "       Country  Fitness Level Weather Conditions Trekking Group Size  \\\n",
       "0        total   Intermediate              Clear                10.0   \n",
       "1  Afghanistan            NaN                NaN                 NaN   \n",
       "2      Albania       Advanced              Snowy                12.0   \n",
       "3      Algeria   Intermediate              Clear                 5.0   \n",
       "4        Andra       Beginner             Cloudy                 6.0   \n",
       "\n",
       "  Guide/No Guide  Equipment Used Purpose of Travel Health Incidents  \\\n",
       "0          Guide           Poles           Leisure              NaN   \n",
       "1            NaN             NaN               NaN              NaN   \n",
       "2          Guide          Oxygen           Charity              NaN   \n",
       "3          Guide           Poles           Leisure              NaN   \n",
       "4       No Guide             NaN         Adventure     Minor Injury   \n",
       "\n",
       "  Review/Satisfaction Best Travel Time  \n",
       "0                 4.5  Spring - Autumn  \n",
       "1                 NaN  Spring - Autumn  \n",
       "2                 5.0  Spring - Autumn  \n",
       "3                 4.0  Spring - Autumn  \n",
       "4                 3.5  Spring - Autumn  \n",
       "\n",
       "[5 rows x 22 columns]"
      ],
      "text/html": [
       "<div>\n",
       "<style scoped>\n",
       "    .dataframe tbody tr th:only-of-type {\n",
       "        vertical-align: middle;\n",
       "    }\n",
       "\n",
       "    .dataframe tbody tr th {\n",
       "        vertical-align: top;\n",
       "    }\n",
       "\n",
       "    .dataframe thead th {\n",
       "        text-align: right;\n",
       "    }\n",
       "</style>\n",
       "<table border=\"1\" class=\"dataframe\">\n",
       "  <thead>\n",
       "    <tr style=\"text-align: right;\">\n",
       "      <th></th>\n",
       "      <th>Trek</th>\n",
       "      <th>Cost</th>\n",
       "      <th>Time</th>\n",
       "      <th>Trip Grade</th>\n",
       "      <th>Max Altitude</th>\n",
       "      <th>Accomodation</th>\n",
       "      <th>Date of Travel</th>\n",
       "      <th>Sex</th>\n",
       "      <th>Age</th>\n",
       "      <th>FrequentFlyer</th>\n",
       "      <th>...</th>\n",
       "      <th>Country</th>\n",
       "      <th>Fitness Level</th>\n",
       "      <th>Weather Conditions</th>\n",
       "      <th>Trekking Group Size</th>\n",
       "      <th>Guide/No Guide</th>\n",
       "      <th>Equipment Used</th>\n",
       "      <th>Purpose of Travel</th>\n",
       "      <th>Health Incidents</th>\n",
       "      <th>Review/Satisfaction</th>\n",
       "      <th>Best Travel Time</th>\n",
       "    </tr>\n",
       "  </thead>\n",
       "  <tbody>\n",
       "    <tr>\n",
       "      <th>0</th>\n",
       "      <td>Everest Base Camp Trek</td>\n",
       "      <td>1420.0</td>\n",
       "      <td>16</td>\n",
       "      <td>Moderate</td>\n",
       "      <td>5545</td>\n",
       "      <td>Hotel/Guesthouse</td>\n",
       "      <td>2022-09-13</td>\n",
       "      <td>Non-Binary</td>\n",
       "      <td>31</td>\n",
       "      <td>No</td>\n",
       "      <td>...</td>\n",
       "      <td>total</td>\n",
       "      <td>Intermediate</td>\n",
       "      <td>Clear</td>\n",
       "      <td>10.0</td>\n",
       "      <td>Guide</td>\n",
       "      <td>Poles</td>\n",
       "      <td>Leisure</td>\n",
       "      <td>NaN</td>\n",
       "      <td>4.5</td>\n",
       "      <td>Spring - Autumn</td>\n",
       "    </tr>\n",
       "    <tr>\n",
       "      <th>1</th>\n",
       "      <td>Everest Base Camp Short Trek</td>\n",
       "      <td>1295.0</td>\n",
       "      <td>14</td>\n",
       "      <td>Moderate</td>\n",
       "      <td>5545</td>\n",
       "      <td>Hotel/Guesthouse</td>\n",
       "      <td>2021-09-04</td>\n",
       "      <td>Female</td>\n",
       "      <td>31</td>\n",
       "      <td>No</td>\n",
       "      <td>...</td>\n",
       "      <td>Afghanistan</td>\n",
       "      <td>NaN</td>\n",
       "      <td>NaN</td>\n",
       "      <td>NaN</td>\n",
       "      <td>NaN</td>\n",
       "      <td>NaN</td>\n",
       "      <td>NaN</td>\n",
       "      <td>NaN</td>\n",
       "      <td>NaN</td>\n",
       "      <td>Spring - Autumn</td>\n",
       "    </tr>\n",
       "    <tr>\n",
       "      <th>2</th>\n",
       "      <td>Everest Base Camp Heli Shuttle Trek</td>\n",
       "      <td>2000.0</td>\n",
       "      <td>12</td>\n",
       "      <td>Moderate</td>\n",
       "      <td>5545</td>\n",
       "      <td>Hotel/Guesthouse</td>\n",
       "      <td>2021-01-25</td>\n",
       "      <td>Female</td>\n",
       "      <td>34</td>\n",
       "      <td>No</td>\n",
       "      <td>...</td>\n",
       "      <td>Albania</td>\n",
       "      <td>Advanced</td>\n",
       "      <td>Snowy</td>\n",
       "      <td>12.0</td>\n",
       "      <td>Guide</td>\n",
       "      <td>Oxygen</td>\n",
       "      <td>Charity</td>\n",
       "      <td>NaN</td>\n",
       "      <td>5.0</td>\n",
       "      <td>Spring - Autumn</td>\n",
       "    </tr>\n",
       "    <tr>\n",
       "      <th>3</th>\n",
       "      <td>Everest Base Camp Heli Trek</td>\n",
       "      <td>3300.0</td>\n",
       "      <td>11</td>\n",
       "      <td>Moderate</td>\n",
       "      <td>5545</td>\n",
       "      <td>Hotel/Guesthouse</td>\n",
       "      <td>2022-01-28</td>\n",
       "      <td>Non-Binary</td>\n",
       "      <td>28</td>\n",
       "      <td>No</td>\n",
       "      <td>...</td>\n",
       "      <td>Algeria</td>\n",
       "      <td>Intermediate</td>\n",
       "      <td>Clear</td>\n",
       "      <td>5.0</td>\n",
       "      <td>Guide</td>\n",
       "      <td>Poles</td>\n",
       "      <td>Leisure</td>\n",
       "      <td>NaN</td>\n",
       "      <td>4.0</td>\n",
       "      <td>Spring - Autumn</td>\n",
       "    </tr>\n",
       "    <tr>\n",
       "      <th>4</th>\n",
       "      <td>Everest Base Camp Trek for Seniors</td>\n",
       "      <td>1800.0</td>\n",
       "      <td>20</td>\n",
       "      <td>Moderate</td>\n",
       "      <td>5545</td>\n",
       "      <td>Hotel/Guesthouse</td>\n",
       "      <td>2021-10-21</td>\n",
       "      <td>Non-Binary</td>\n",
       "      <td>28</td>\n",
       "      <td>Yes</td>\n",
       "      <td>...</td>\n",
       "      <td>Andra</td>\n",
       "      <td>Beginner</td>\n",
       "      <td>Cloudy</td>\n",
       "      <td>6.0</td>\n",
       "      <td>No Guide</td>\n",
       "      <td>NaN</td>\n",
       "      <td>Adventure</td>\n",
       "      <td>Minor Injury</td>\n",
       "      <td>3.5</td>\n",
       "      <td>Spring - Autumn</td>\n",
       "    </tr>\n",
       "  </tbody>\n",
       "</table>\n",
       "<p>5 rows × 22 columns</p>\n",
       "</div>"
      ]
     },
     "execution_count": 106,
     "metadata": {},
     "output_type": "execute_result"
    }
   ],
   "execution_count": 106
  },
  {
   "metadata": {
    "ExecuteTime": {
     "end_time": "2024-10-15T06:28:56.213109Z",
     "start_time": "2024-10-15T06:28:56.208654Z"
    }
   },
   "cell_type": "code",
   "source": [
    "#whitespaces haru hatayako\n",
    "df['Sex'] = df['Sex'].str.strip().str.lower()"
   ],
   "id": "8de3423cf47677cb",
   "outputs": [],
   "execution_count": 107
  },
  {
   "metadata": {
    "ExecuteTime": {
     "end_time": "2024-10-15T06:28:56.277603Z",
     "start_time": "2024-10-15T06:28:56.270718Z"
    }
   },
   "cell_type": "code",
   "source": [
    "# Map 'male' and 'female' to their respective categories, and all other values to 'other'\n",
    "df['Sex'] = df['Sex'].map({'male': 'Male', 'female': 'Female'}).fillna('Other')"
   ],
   "id": "5be8d6609968e65e",
   "outputs": [],
   "execution_count": 108
  },
  {
   "metadata": {
    "ExecuteTime": {
     "end_time": "2024-10-15T06:28:56.329328Z",
     "start_time": "2024-10-15T06:28:56.323228Z"
    }
   },
   "cell_type": "code",
   "source": "print(df['Sex'].value_counts())",
   "id": "1f520cb3fc3e8bc9",
   "outputs": [
    {
     "name": "stdout",
     "output_type": "stream",
     "text": [
      "Sex\n",
      "Other     181\n",
      "Female    103\n",
      "Male       99\n",
      "Name: count, dtype: int64\n"
     ]
    }
   ],
   "execution_count": 109
  },
  {
   "metadata": {
    "ExecuteTime": {
     "end_time": "2024-10-15T06:28:56.571255Z",
     "start_time": "2024-10-15T06:28:56.561150Z"
    }
   },
   "cell_type": "code",
   "source": [
    "#median rakhdeako nan value ma reviews ko lagi\n",
    "overall_median = df['Review/Satisfaction'].median()\n",
    "# Replace the remaining NaN values with the overall median\n",
    "df['Review/Satisfaction'].fillna(overall_median, inplace=True)\n",
    "# Check to ensure no NaN values remain in the 'Review/Satisfaction' column\n",
    "df['Review/Satisfaction'].isna().sum(), df['Review/Satisfaction'].head()"
   ],
   "id": "85d71bffb7d238d4",
   "outputs": [
    {
     "name": "stderr",
     "output_type": "stream",
     "text": [
      "C:\\Users\\supre\\AppData\\Local\\Temp\\ipykernel_3608\\3428833629.py:4: FutureWarning:\n",
      "\n",
      "A value is trying to be set on a copy of a DataFrame or Series through chained assignment using an inplace method.\n",
      "The behavior will change in pandas 3.0. This inplace method will never work because the intermediate object on which we are setting values always behaves as a copy.\n",
      "\n",
      "For example, when doing 'df[col].method(value, inplace=True)', try using 'df.method({col: value}, inplace=True)' or df[col] = df[col].method(value) instead, to perform the operation inplace on the original object.\n",
      "\n",
      "\n",
      "\n"
     ]
    },
    {
     "data": {
      "text/plain": [
       "(0,\n",
       " 0    4.5\n",
       " 1    4.0\n",
       " 2    5.0\n",
       " 3    4.0\n",
       " 4    3.5\n",
       " Name: Review/Satisfaction, dtype: float64)"
      ]
     },
     "execution_count": 110,
     "metadata": {},
     "output_type": "execute_result"
    }
   ],
   "execution_count": 110
  },
  {
   "metadata": {
    "ExecuteTime": {
     "end_time": "2024-10-15T06:28:56.679182Z",
     "start_time": "2024-10-15T06:28:56.668529Z"
    }
   },
   "cell_type": "code",
   "source": [
    "# Define the mapping dictionary for trip grades\n",
    "trip_grade_mapping = {\n",
    "    'Easy': 0,\n",
    "    'Light': 1,\n",
    "    'Easy To Moderate': 1,\n",
    "    'Light+Moderate': 2,\n",
    "    'Easy-Moderate': 2,\n",
    "    'Moderate': 3,\n",
    "    'Moderate-Hard': 4,\n",
    "    'Moderate+Demanding': 4,\n",
    "    'Demanding': 4,\n",
    "    'Strenuous': 5,\n",
    "    'Demanding+Challenging': 5\n",
    "}\n",
    "# Apply the mapping to the 'Trip Grade' column\n",
    "df['Trip Grade Numeric'] = df['Trip Grade'].map(trip_grade_mapping)\n",
    "\n",
    "# Check the result\n",
    "print(df[['Trip Grade', 'Trip Grade Numeric']].head())"
   ],
   "id": "ae1626bb473290dc",
   "outputs": [
    {
     "name": "stdout",
     "output_type": "stream",
     "text": [
      "  Trip Grade  Trip Grade Numeric\n",
      "0   Moderate                   3\n",
      "1   Moderate                   3\n",
      "2   Moderate                   3\n",
      "3   Moderate                   3\n",
      "4   Moderate                   3\n"
     ]
    }
   ],
   "execution_count": 111
  },
  {
   "metadata": {
    "ExecuteTime": {
     "end_time": "2024-10-15T06:28:56.758906Z",
     "start_time": "2024-10-15T06:28:56.751117Z"
    }
   },
   "cell_type": "code",
   "source": [
    "# Fill NaN values with the mode of the 'Guide' column\n",
    "mode_value = df['Guide/No Guide'].mode()[0]\n",
    "df['Guide/No Guide'] = df['Guide/No Guide'].fillna(mode_value)"
   ],
   "id": "549aa4ea7ccd4b3",
   "outputs": [],
   "execution_count": 112
  },
  {
   "metadata": {
    "ExecuteTime": {
     "end_time": "2024-10-15T06:28:56.790304Z",
     "start_time": "2024-10-15T06:28:56.782436Z"
    }
   },
   "cell_type": "code",
   "source": [
    "# Map 'guide' to 1 and 'no guide' to 0\n",
    "df['Guide/No Guide'] = df['Guide/No Guide'].str.strip().str.lower().map({'guide': 1, 'no guide': 0})"
   ],
   "id": "9b730c390d10fafe",
   "outputs": [],
   "execution_count": 113
  },
  {
   "metadata": {
    "ExecuteTime": {
     "end_time": "2024-10-15T06:28:56.829547Z",
     "start_time": "2024-10-15T06:28:56.818922Z"
    }
   },
   "cell_type": "code",
   "source": "print(df['Guide/No Guide'].value_counts()) #checking the conversion",
   "id": "412448ab0334e34e",
   "outputs": [
    {
     "name": "stdout",
     "output_type": "stream",
     "text": [
      "Guide/No Guide\n",
      "1    245\n",
      "0    138\n",
      "Name: count, dtype: int64\n"
     ]
    }
   ],
   "execution_count": 114
  },
  {
   "metadata": {
    "ExecuteTime": {
     "end_time": "2024-10-15T06:28:56.865725Z",
     "start_time": "2024-10-15T06:28:56.859785Z"
    }
   },
   "cell_type": "code",
   "source": [
    "# Remove 'Hotel/' from the 'Accomodation' column\n",
    "df['Accomodation'] = df['Accomodation'].str.replace(r'^Hotel/', '', regex=True)"
   ],
   "id": "6bfb3b91e203c2c1",
   "outputs": [],
   "execution_count": 115
  },
  {
   "metadata": {
    "ExecuteTime": {
     "end_time": "2024-10-15T06:28:56.934765Z",
     "start_time": "2024-10-15T06:28:56.923246Z"
    }
   },
   "cell_type": "code",
   "source": [
    "# Display the updated DataFrame\n",
    "print(df)"
   ],
   "id": "eeea63f2f446be86",
   "outputs": [
    {
     "name": "stdout",
     "output_type": "stream",
     "text": [
      "                                    Trek    Cost  Time     Trip Grade  \\\n",
      "0                 Everest Base Camp Trek  1420.0    16       Moderate   \n",
      "1           Everest Base Camp Short Trek  1295.0    14       Moderate   \n",
      "2    Everest Base Camp Heli Shuttle Trek  2000.0    12       Moderate   \n",
      "3            Everest Base Camp Heli Trek  3300.0    11       Moderate   \n",
      "4     Everest Base Camp Trek for Seniors  1800.0    20       Moderate   \n",
      "..                                   ...     ...   ...            ...   \n",
      "378             Ghorepani Poon Hill Trek   450.0    10           Easy   \n",
      "379                   Upper Mustang Trek  2100.0    17  Moderate-Hard   \n",
      "380                     Mardi Himal Trek   590.0     9  Easy-Moderate   \n",
      "381             Langtang Valley Trekking   690.0    11       Moderate   \n",
      "382                 Manaslu Circuit Trek  1190.0    17  Moderate-Hard   \n",
      "\n",
      "     Max Altitude Accomodation Date of Travel     Sex  Age FrequentFlyer  ...  \\\n",
      "0            5545   Guesthouse     2022-09-13   Other   31            No  ...   \n",
      "1            5545   Guesthouse     2021-09-04  Female   31            No  ...   \n",
      "2            5545   Guesthouse     2021-01-25  Female   34            No  ...   \n",
      "3            5545   Guesthouse     2022-01-28   Other   28            No  ...   \n",
      "4            5545   Guesthouse     2021-10-21   Other   28           Yes  ...   \n",
      "..            ...          ...            ...     ...  ...           ...  ...   \n",
      "378          3210   Guesthouse     2022-08-09    Male   25           Yes  ...   \n",
      "379          4200   Guesthouse     2022-09-09  Female   27           Yes  ...   \n",
      "380          4500   Guesthouse     2021-05-04   Other   28            No  ...   \n",
      "381          4773   Guesthouse     2021-01-13  Female   29            No  ...   \n",
      "382          5220   Guesthouse     2025-05-13  Female   31           Yes  ...   \n",
      "\n",
      "     Fitness Level  Weather Conditions Trekking Group Size Guide/No Guide  \\\n",
      "0     Intermediate               Clear                10.0              1   \n",
      "1              NaN                 NaN                 NaN              1   \n",
      "2         Advanced               Snowy                12.0              1   \n",
      "3     Intermediate               Clear                 5.0              1   \n",
      "4         Beginner              Cloudy                 6.0              0   \n",
      "..             ...                 ...                 ...            ...   \n",
      "378   Intermediate               Clear                 5.0              1   \n",
      "379       Beginner              Cloudy                 6.0              0   \n",
      "380   Intermediate               Clear                10.0              1   \n",
      "381       Beginner               Rainy                 8.0              0   \n",
      "382       Advanced               Snowy                12.0              1   \n",
      "\n",
      "    Equipment Used  Purpose of Travel   Health Incidents Review/Satisfaction  \\\n",
      "0            Poles            Leisure                NaN                 4.5   \n",
      "1              NaN                NaN                NaN                 4.0   \n",
      "2           Oxygen            Charity                NaN                 5.0   \n",
      "3            Poles            Leisure                NaN                 4.0   \n",
      "4              NaN          Adventure       Minor Injury                 3.5   \n",
      "..             ...                ...                ...                 ...   \n",
      "378          Poles            Leisure                NaN                 4.0   \n",
      "379            NaN          Adventure       Minor Injury                 3.5   \n",
      "380          Poles            Leisure                NaN                 4.5   \n",
      "381            NaN          Adventure  Altitude Sickness                 3.0   \n",
      "382         Oxygen            Charity                NaN                 5.0   \n",
      "\n",
      "    Best Travel Time Trip Grade Numeric  \n",
      "0    Spring - Autumn                  3  \n",
      "1    Spring - Autumn                  3  \n",
      "2    Spring - Autumn                  3  \n",
      "3    Spring - Autumn                  3  \n",
      "4    Spring - Autumn                  3  \n",
      "..               ...                ...  \n",
      "378  Winter - Autumn                  0  \n",
      "379  Winter - Autumn                  4  \n",
      "380  Winter - Autumn                  2  \n",
      "381  Winter - Autumn                  3  \n",
      "382  Winter - Autumn                  4  \n",
      "\n",
      "[383 rows x 23 columns]\n"
     ]
    }
   ],
   "execution_count": 116
  },
  {
   "metadata": {
    "ExecuteTime": {
     "end_time": "2024-10-15T06:28:56.987620Z",
     "start_time": "2024-10-15T06:28:56.948662Z"
    }
   },
   "cell_type": "code",
   "source": [
    "# Check for outliers in the 'Cost' column\n",
    "fig = px.box(df,\n",
    "             y='Cost',\n",
    "             title='Box plot for Trek Costs',\n",
    "             hover_data=['Trek', 'Time']\n",
    "            )\n",
    "fig.show()"
   ],
   "id": "ffae41111dd919d8",
   "outputs": [
    {
     "data": {
      "application/vnd.plotly.v1+json": {
       "data": [
        {
         "alignmentgroup": "True",
         "customdata": [
          [
           "Everest Base Camp Trek",
           16
          ],
          [
           "Everest Base Camp Short Trek",
           14
          ],
          [
           "Everest Base Camp Heli Shuttle Trek",
           12
          ],
          [
           "Everest Base Camp Heli Trek",
           11
          ],
          [
           "Everest Base Camp Trek for Seniors",
           20
          ],
          [
           "Everest Chola Pass Trek",
           19
          ],
          [
           "Gokyo Lake Renjo La Pass Trek",
           16
          ],
          [
           "Everest High Passes Trek",
           22
          ],
          [
           "Short Everest Trek",
           7
          ],
          [
           "Everest Panorama Trek",
           10
          ],
          [
           "Everest View Trek",
           9
          ],
          [
           "Luxury Everest Base Camp Heli Trek",
           11
          ],
          [
           "Everest Base Camp Trek with Chola and Renjo La Pass",
           21
          ],
          [
           "Annapurna Base Camp Trek",
           14
          ],
          [
           "Annapurna Base Camp Short Trek",
           11
          ],
          [
           "Instant Annapurna Base Camp Trek",
           9
          ],
          [
           "Annapurna Base Camp Heli Trek",
           9
          ],
          [
           "Mardi Himal Trek",
           9
          ],
          [
           "Mardi Himal Trekking",
           8
          ],
          [
           "Classic Annapurna Circuit Trek",
           18
          ],
          [
           "Annapurna Circuit Trek",
           14
          ],
          [
           "Annapurna Circuit Short Trek",
           12
          ],
          [
           "Annapurna Luxury Trek",
           9
          ],
          [
           "Annapurna Panorama Trek",
           9
          ],
          [
           "Annapurna Tilicho Lake Trek",
           17
          ],
          [
           "Short Annapurna Trek",
           5
          ],
          [
           "Manaslu Circuit Trek",
           15
          ],
          [
           "Manaslu Circuit Trekking",
           14
          ],
          [
           "Tsum Valley with Manaslu Trek",
           20
          ],
          [
           "Upper Mustang Trek",
           17
          ],
          [
           "Upper Mustang Trek with Yara",
           18
          ],
          [
           "Upper Mustang Tiji Festival Trek",
           18
          ],
          [
           "Langtang Valley Trek",
           10
          ],
          [
           "Langtang Gosaikunda Trek",
           16
          ],
          [
           "Tamang Heritage Trek",
           14
          ],
          [
           "Tamang Heritage Trail",
           8
          ],
          [
           "Helambu Trek",
           9
          ],
          [
           "Annapurna Base Camp Trek",
           11
          ],
          [
           "Everest Base Camp Trek for Youths",
           14
          ],
          [
           "Everest Base Camp Short Trek",
           14
          ],
          [
           "Everest Base Camp Trek",
           16
          ],
          [
           "Annapurna Circuit Trek",
           17
          ],
          [
           "Everest Base Camp Luxury Lodge Trek",
           15
          ],
          [
           "Everest Base Camp Trek via Gokyo Lakes and Cho La Pass",
           18
          ],
          [
           "Upper Mustang Trek",
           17
          ],
          [
           "Everest Advanced Base Camp Trek from Tibet",
           18
          ],
          [
           "Gokyo Lakes and Gokyo Ri Trek",
           14
          ],
          [
           "Mardi Himal Trek",
           10
          ],
          [
           "Manaslu Circuit Trek",
           18
          ],
          [
           "Langtang Valley Trek",
           11
          ],
          [
           "Annapurna Sanctuary Trek",
           14
          ],
          [
           "Rara Lake Trek",
           15
          ],
          [
           "Everest High Passes Trek",
           20
          ],
          [
           "Kanchenjunga Circuit Trek",
           25
          ],
          [
           "Everest View Trek",
           12
          ],
          [
           "Tsum Valley Trek",
           19
          ],
          [
           "The Royal Trek",
           9
          ],
          [
           "Makalu Base Camp Trek",
           22
          ],
          [
           "Langtang Gosainkunda and Helambu Trek",
           17
          ],
          [
           "Nar Phu Valley Trek",
           19
          ],
          [
           "Annapurna Circle Trek",
           14
          ],
          [
           "Everest Kangshung Face Trek",
           21
          ],
          [
           "Tsum Valley and Manaslu Trek",
           27
          ],
          [
           "Khopra Ridge Community Trek",
           13
          ],
          [
           "Nepal Experience Tour",
           12
          ],
          [
           "Annapurna Circuit Trek with Tilicho Lake and Poon Hill",
           20
          ],
          [
           "Annapurna With Tilicho Lake Trek",
           17
          ],
          [
           "Langtang Valley Trek with Ganja la Pass",
           14
          ],
          [
           "Tamang Heritage Trek",
           14
          ],
          [
           "Manaslu and Annapurna Trek with Tilicho Lake",
           25
          ],
          [
           "Nepal Trekking and Everest Himalaya Heli Tour",
           7
          ],
          [
           "Nepal Hiking and Culture Tour",
           8
          ],
          [
           "Annapurna Sunrise and Everest View Trek",
           17
          ],
          [
           "Tenzing Hillary Everest Marathon",
           20
          ],
          [
           "Everest Base Camp Trek",
           16
          ],
          [
           "Everest Kalapathar Trekking",
           15
          ],
          [
           "Everest Panorama Trek",
           10
          ],
          [
           "Everest Base Camp Trek via Gokyo Lake",
           19
          ],
          [
           "Gokyo Lake Trek",
           13
          ],
          [
           "Everest Base Camp Heli Trek",
           9
          ],
          [
           "Annapurna Circuit Trek",
           19
          ],
          [
           "Annapurna Base Camp Trek",
           16
          ],
          [
           "Ghorepani Poon Hill Trek",
           10
          ],
          [
           "Upper Mustang Trek",
           17
          ],
          [
           "Mardi Himal Trek",
           9
          ],
          [
           "Langtang Valley Trekking",
           11
          ],
          [
           "Manaslu Circuit Trek",
           17
          ],
          [
           "Annapurna Base Camp Trek",
           14
          ],
          [
           "Annapurna Base Camp Short Trek",
           11
          ],
          [
           "Instant Annapurna Base Camp Trek",
           9
          ],
          [
           "Annapurna Base Camp Heli Trek",
           9
          ],
          [
           "Mardi Himal Trek",
           9
          ],
          [
           "Mardi Himal Trekking",
           8
          ],
          [
           "Classic Annapurna Circuit Trek",
           18
          ],
          [
           "Annapurna Circuit Trek",
           14
          ],
          [
           "Annapurna Circuit Short Trek",
           12
          ],
          [
           "Annapurna Luxury Trek",
           9
          ],
          [
           "Annapurna Panorama Trek",
           9
          ],
          [
           "Annapurna Tilicho Lake Trek",
           17
          ],
          [
           "Short Annapurna Trek",
           5
          ],
          [
           "Manaslu Circuit Trek",
           15
          ],
          [
           "Manaslu Circuit Trekking",
           14
          ],
          [
           "Tsum Valley with Manaslu Trek",
           20
          ],
          [
           "Upper Mustang Trek",
           17
          ],
          [
           "Upper Mustang Trek with Yara",
           18
          ],
          [
           "Upper Mustang Tiji Festival Trek",
           18
          ],
          [
           "Langtang Valley Trek",
           10
          ],
          [
           "Langtang Gosaikunda Trek",
           16
          ],
          [
           "Tamang Heritage Trek",
           14
          ],
          [
           "Tamang Heritage Trail",
           8
          ],
          [
           "Helambu Trek",
           9
          ],
          [
           "Annapurna Base Camp Trek",
           11
          ],
          [
           "Everest Base Camp Trek for Youths",
           14
          ],
          [
           "Everest Base Camp Short Trek",
           14
          ],
          [
           "Everest Base Camp Trek",
           16
          ],
          [
           "Annapurna Circuit Trek",
           17
          ],
          [
           "Everest Base Camp Luxury Lodge Trek",
           15
          ],
          [
           "Everest Base Camp Trek via Gokyo Lakes and Cho La Pass",
           18
          ],
          [
           "Upper Mustang Trek",
           17
          ],
          [
           "Everest Advanced Base Camp Trek from Tibet",
           18
          ],
          [
           "Gokyo Lakes and Gokyo Ri Trek",
           14
          ],
          [
           "Mardi Himal Trek",
           10
          ],
          [
           "Manaslu Circuit Trek",
           18
          ],
          [
           "Langtang Valley Trek",
           11
          ],
          [
           "Annapurna Sanctuary Trek",
           14
          ],
          [
           "Rara Lake Trek",
           15
          ],
          [
           "Everest High Passes Trek",
           20
          ],
          [
           "Kanchenjunga Circuit Trek",
           25
          ],
          [
           "Everest View Trek",
           12
          ],
          [
           "Tsum Valley Trek",
           19
          ],
          [
           "The Royal Trek",
           9
          ],
          [
           "Makalu Base Camp Trek",
           22
          ],
          [
           "Langtang Gosainkunda and Helambu Trek",
           17
          ],
          [
           "Nar Phu Valley Trek",
           19
          ],
          [
           "Annapurna Circle Trek",
           14
          ],
          [
           "Everest Kangshung Face Trek",
           21
          ],
          [
           "Tsum Valley and Manaslu Trek",
           27
          ],
          [
           "Khopra Ridge Community Trek",
           13
          ],
          [
           "Nepal Experience Tour",
           12
          ],
          [
           "Annapurna Circuit Trek with Tilicho Lake and Poon Hill",
           20
          ],
          [
           "Annapurna With Tilicho Lake Trek",
           17
          ],
          [
           "Langtang Valley Trek with Ganja la Pass",
           14
          ],
          [
           "Tamang Heritage Trek",
           14
          ],
          [
           "Manaslu and Annapurna Trek with Tilicho Lake",
           25
          ],
          [
           "Nepal Trekking and Everest Himalaya Heli Tour",
           7
          ],
          [
           "Nepal Hiking and Culture Tour",
           8
          ],
          [
           "Annapurna Sunrise and Everest View Trek",
           17
          ],
          [
           "Tenzing Hillary Everest Marathon",
           20
          ],
          [
           "Everest Base Camp Trek",
           16
          ],
          [
           "Everest Kalapathar Trekking",
           15
          ],
          [
           "Everest Panorama Trek",
           10
          ],
          [
           "Everest Base Camp Trek via Gokyo Lake",
           19
          ],
          [
           "Gokyo Lake Trek",
           13
          ],
          [
           "Everest Base Camp Heli Trek",
           9
          ],
          [
           "Annapurna Circuit Trek",
           19
          ],
          [
           "Annapurna Base Camp Trek",
           16
          ],
          [
           "Ghorepani Poon Hill Trek",
           10
          ],
          [
           "Upper Mustang Trek",
           17
          ],
          [
           "Mardi Himal Trek",
           9
          ],
          [
           "Langtang Valley Trekking",
           11
          ],
          [
           "Manaslu Circuit Trek",
           17
          ],
          [
           "Annapurna Base Camp Trek",
           14
          ],
          [
           "Annapurna Base Camp Short Trek",
           11
          ],
          [
           "Instant Annapurna Base Camp Trek",
           9
          ],
          [
           "Annapurna Base Camp Heli Trek",
           9
          ],
          [
           "Mardi Himal Trek",
           9
          ],
          [
           "Mardi Himal Trekking",
           8
          ],
          [
           "Classic Annapurna Circuit Trek",
           18
          ],
          [
           "Annapurna Circuit Trek",
           14
          ],
          [
           "Annapurna Circuit Short Trek",
           12
          ],
          [
           "Annapurna Luxury Trek",
           9
          ],
          [
           "Annapurna Panorama Trek",
           9
          ],
          [
           "Annapurna Tilicho Lake Trek",
           17
          ],
          [
           "Short Annapurna Trek",
           5
          ],
          [
           "Manaslu Circuit Trek",
           15
          ],
          [
           "Manaslu Circuit Trekking",
           14
          ],
          [
           "Tsum Valley with Manaslu Trek",
           20
          ],
          [
           "Upper Mustang Trek",
           17
          ],
          [
           "Upper Mustang Trek with Yara",
           18
          ],
          [
           "Upper Mustang Tiji Festival Trek",
           18
          ],
          [
           "Langtang Valley Trek",
           10
          ],
          [
           "Langtang Gosaikunda Trek",
           16
          ],
          [
           "Tamang Heritage Trek",
           14
          ],
          [
           "Tamang Heritage Trail",
           8
          ],
          [
           "Helambu Trek",
           9
          ],
          [
           "Annapurna Base Camp Trek",
           11
          ],
          [
           "Everest Base Camp Trek for Youths",
           14
          ],
          [
           "Everest Base Camp Short Trek",
           14
          ],
          [
           "Everest Base Camp Trek",
           16
          ],
          [
           "Annapurna Circuit Trek",
           17
          ],
          [
           "Everest Base Camp Luxury Lodge Trek",
           15
          ],
          [
           "Everest Base Camp Trek via Gokyo Lakes and Cho La Pass",
           18
          ],
          [
           "Upper Mustang Trek",
           17
          ],
          [
           "Everest Advanced Base Camp Trek from Tibet",
           18
          ],
          [
           "Gokyo Lakes and Gokyo Ri Trek",
           14
          ],
          [
           "Mardi Himal Trek",
           10
          ],
          [
           "Manaslu Circuit Trek",
           18
          ],
          [
           "Langtang Valley Trek",
           11
          ],
          [
           "Annapurna Sanctuary Trek",
           14
          ],
          [
           "Rara Lake Trek",
           15
          ],
          [
           "Everest High Passes Trek",
           20
          ],
          [
           "Kanchenjunga Circuit Trek",
           25
          ],
          [
           "Everest View Trek",
           12
          ],
          [
           "Tsum Valley Trek",
           19
          ],
          [
           "The Royal Trek",
           9
          ],
          [
           "Makalu Base Camp Trek",
           22
          ],
          [
           "Langtang Gosainkunda and Helambu Trek",
           17
          ],
          [
           "Nar Phu Valley Trek",
           19
          ],
          [
           "Annapurna Circle Trek",
           14
          ],
          [
           "Everest Kangshung Face Trek",
           21
          ],
          [
           "Tsum Valley and Manaslu Trek",
           27
          ],
          [
           "Khopra Ridge Community Trek",
           13
          ],
          [
           "Nepal Experience Tour",
           12
          ],
          [
           "Annapurna Circuit Trek with Tilicho Lake and Poon Hill",
           20
          ],
          [
           "Annapurna With Tilicho Lake Trek",
           17
          ],
          [
           "Langtang Valley Trek with Ganja la Pass",
           14
          ],
          [
           "Tamang Heritage Trek",
           14
          ],
          [
           "Manaslu and Annapurna Trek with Tilicho Lake",
           25
          ],
          [
           "Nepal Trekking and Everest Himalaya Heli Tour",
           7
          ],
          [
           "Nepal Hiking and Culture Tour",
           8
          ],
          [
           "Annapurna Sunrise and Everest View Trek",
           17
          ],
          [
           "Tenzing Hillary Everest Marathon",
           20
          ],
          [
           "Everest Base Camp Trek",
           16
          ],
          [
           "Everest Kalapathar Trekking",
           15
          ],
          [
           "Everest Panorama Trek",
           10
          ],
          [
           "Everest Base Camp Trek via Gokyo Lake",
           19
          ],
          [
           "Gokyo Lake Trek",
           13
          ],
          [
           "Everest Base Camp Heli Trek",
           9
          ],
          [
           "Annapurna Circuit Trek",
           19
          ],
          [
           "Annapurna Base Camp Trek",
           16
          ],
          [
           "Ghorepani Poon Hill Trek",
           10
          ],
          [
           "Upper Mustang Trek",
           17
          ],
          [
           "Mardi Himal Trek",
           9
          ],
          [
           "Langtang Valley Trekking",
           11
          ],
          [
           "Manaslu Circuit Trek",
           17
          ],
          [
           "Annapurna Base Camp Trek",
           14
          ],
          [
           "Annapurna Base Camp Short Trek",
           11
          ],
          [
           "Instant Annapurna Base Camp Trek",
           9
          ],
          [
           "Annapurna Base Camp Heli Trek",
           9
          ],
          [
           "Mardi Himal Trek",
           9
          ],
          [
           "Mardi Himal Trekking",
           8
          ],
          [
           "Classic Annapurna Circuit Trek",
           18
          ],
          [
           "Annapurna Circuit Trek",
           14
          ],
          [
           "Annapurna Circuit Short Trek",
           12
          ],
          [
           "Annapurna Luxury Trek",
           9
          ],
          [
           "Annapurna Panorama Trek",
           9
          ],
          [
           "Annapurna Tilicho Lake Trek",
           17
          ],
          [
           "Short Annapurna Trek",
           5
          ],
          [
           "Manaslu Circuit Trek",
           15
          ],
          [
           "Manaslu Circuit Trekking",
           14
          ],
          [
           "Tsum Valley with Manaslu Trek",
           20
          ],
          [
           "Upper Mustang Trek",
           17
          ],
          [
           "Upper Mustang Trek with Yara",
           18
          ],
          [
           "Upper Mustang Tiji Festival Trek",
           18
          ],
          [
           "Langtang Valley Trek",
           10
          ],
          [
           "Langtang Gosaikunda Trek",
           16
          ],
          [
           "Tamang Heritage Trek",
           14
          ],
          [
           "Tamang Heritage Trail",
           8
          ],
          [
           "Helambu Trek",
           9
          ],
          [
           "Annapurna Base Camp Trek",
           11
          ],
          [
           "Everest Base Camp Trek for Youths",
           14
          ],
          [
           "Everest Base Camp Short Trek",
           14
          ],
          [
           "Everest Base Camp Trek",
           16
          ],
          [
           "Annapurna Circuit Trek",
           17
          ],
          [
           "Everest Base Camp Luxury Lodge Trek",
           15
          ],
          [
           "Everest Base Camp Trek via Gokyo Lakes and Cho La Pass",
           18
          ],
          [
           "Upper Mustang Trek",
           17
          ],
          [
           "Everest Advanced Base Camp Trek from Tibet",
           18
          ],
          [
           "Gokyo Lakes and Gokyo Ri Trek",
           14
          ],
          [
           "Mardi Himal Trek",
           10
          ],
          [
           "Manaslu Circuit Trek",
           18
          ],
          [
           "Langtang Valley Trek",
           11
          ],
          [
           "Annapurna Sanctuary Trek",
           14
          ],
          [
           "Rara Lake Trek",
           15
          ],
          [
           "Everest High Passes Trek",
           20
          ],
          [
           "Kanchenjunga Circuit Trek",
           25
          ],
          [
           "Everest View Trek",
           12
          ],
          [
           "Tsum Valley Trek",
           19
          ],
          [
           "The Royal Trek",
           9
          ],
          [
           "Makalu Base Camp Trek",
           22
          ],
          [
           "Langtang Gosainkunda and Helambu Trek",
           17
          ],
          [
           "Nar Phu Valley Trek",
           19
          ],
          [
           "Annapurna Circle Trek",
           14
          ],
          [
           "Everest Kangshung Face Trek",
           21
          ],
          [
           "Tsum Valley and Manaslu Trek",
           27
          ],
          [
           "Khopra Ridge Community Trek",
           13
          ],
          [
           "Nepal Experience Tour",
           12
          ],
          [
           "Annapurna Circuit Trek with Tilicho Lake and Poon Hill",
           20
          ],
          [
           "Annapurna With Tilicho Lake Trek",
           17
          ],
          [
           "Langtang Valley Trek with Ganja la Pass",
           14
          ],
          [
           "Tamang Heritage Trek",
           14
          ],
          [
           "Manaslu and Annapurna Trek with Tilicho Lake",
           25
          ],
          [
           "Nepal Trekking and Everest Himalaya Heli Tour",
           7
          ],
          [
           "Nepal Hiking and Culture Tour",
           8
          ],
          [
           "Annapurna Sunrise and Everest View Trek",
           17
          ],
          [
           "Tenzing Hillary Everest Marathon",
           20
          ],
          [
           "Everest Base Camp Trek",
           16
          ],
          [
           "Everest Kalapathar Trekking",
           15
          ],
          [
           "Everest Panorama Trek",
           10
          ],
          [
           "Everest Base Camp Trek via Gokyo Lake",
           19
          ],
          [
           "Gokyo Lake Trek",
           13
          ],
          [
           "Everest Base Camp Heli Trek",
           9
          ],
          [
           "Annapurna Circuit Trek",
           19
          ],
          [
           "Annapurna Base Camp Trek",
           16
          ],
          [
           "Ghorepani Poon Hill Trek",
           10
          ],
          [
           "Upper Mustang Trek",
           17
          ],
          [
           "Mardi Himal Trek",
           9
          ],
          [
           "Langtang Valley Trekking",
           11
          ],
          [
           "Manaslu Circuit Trek",
           17
          ],
          [
           "Annapurna Base Camp Trek",
           14
          ],
          [
           "Annapurna Base Camp Short Trek",
           11
          ],
          [
           "Instant Annapurna Base Camp Trek",
           9
          ],
          [
           "Annapurna Base Camp Heli Trek",
           9
          ],
          [
           "Mardi Himal Trek",
           9
          ],
          [
           "Mardi Himal Trekking",
           8
          ],
          [
           "Classic Annapurna Circuit Trek",
           18
          ],
          [
           "Annapurna Circuit Trek",
           14
          ],
          [
           "Annapurna Circuit Short Trek",
           12
          ],
          [
           "Annapurna Luxury Trek",
           9
          ],
          [
           "Annapurna Panorama Trek",
           9
          ],
          [
           "Annapurna Tilicho Lake Trek",
           17
          ],
          [
           "Short Annapurna Trek",
           5
          ],
          [
           "Manaslu Circuit Trek",
           15
          ],
          [
           "Manaslu Circuit Trekking",
           14
          ],
          [
           "Tsum Valley with Manaslu Trek",
           20
          ],
          [
           "Upper Mustang Trek",
           17
          ],
          [
           "Upper Mustang Trek with Yara",
           18
          ],
          [
           "Upper Mustang Tiji Festival Trek",
           18
          ],
          [
           "Langtang Valley Trek",
           10
          ],
          [
           "Langtang Gosaikunda Trek",
           16
          ],
          [
           "Tamang Heritage Trek",
           14
          ],
          [
           "Tamang Heritage Trail",
           8
          ],
          [
           "Helambu Trek",
           9
          ],
          [
           "Annapurna Base Camp Trek",
           11
          ],
          [
           "Everest Base Camp Trek for Youths",
           14
          ],
          [
           "Everest Base Camp Short Trek",
           14
          ],
          [
           "Everest Base Camp Trek",
           16
          ],
          [
           "Annapurna Circuit Trek",
           17
          ],
          [
           "Everest Base Camp Luxury Lodge Trek",
           15
          ],
          [
           "Everest Base Camp Trek via Gokyo Lakes and Cho La Pass",
           18
          ],
          [
           "Upper Mustang Trek",
           17
          ],
          [
           "Everest Advanced Base Camp Trek from Tibet",
           18
          ],
          [
           "Gokyo Lakes and Gokyo Ri Trek",
           14
          ],
          [
           "Mardi Himal Trek",
           10
          ],
          [
           "Manaslu Circuit Trek",
           18
          ],
          [
           "Langtang Valley Trek",
           11
          ],
          [
           "Annapurna Sanctuary Trek",
           14
          ],
          [
           "Rara Lake Trek",
           15
          ],
          [
           "Everest High Passes Trek",
           20
          ],
          [
           "Kanchenjunga Circuit Trek",
           25
          ],
          [
           "Everest View Trek",
           12
          ],
          [
           "Tsum Valley Trek",
           19
          ],
          [
           "The Royal Trek",
           9
          ],
          [
           "Makalu Base Camp Trek",
           22
          ],
          [
           "Langtang Gosainkunda and Helambu Trek",
           17
          ],
          [
           "Nar Phu Valley Trek",
           19
          ],
          [
           "Annapurna Circle Trek",
           14
          ],
          [
           "Everest Kangshung Face Trek",
           21
          ],
          [
           "Tsum Valley and Manaslu Trek",
           27
          ],
          [
           "Khopra Ridge Community Trek",
           13
          ],
          [
           "Nepal Experience Tour",
           12
          ],
          [
           "Annapurna Circuit Trek with Tilicho Lake and Poon Hill",
           20
          ],
          [
           "Annapurna With Tilicho Lake Trek",
           17
          ],
          [
           "Langtang Valley Trek with Ganja la Pass",
           14
          ],
          [
           "Tamang Heritage Trek",
           14
          ],
          [
           "Manaslu and Annapurna Trek with Tilicho Lake",
           25
          ],
          [
           "Nepal Trekking and Everest Himalaya Heli Tour",
           7
          ],
          [
           "Nepal Hiking and Culture Tour",
           8
          ],
          [
           "Annapurna Sunrise and Everest View Trek",
           17
          ],
          [
           "Tenzing Hillary Everest Marathon",
           20
          ],
          [
           "Everest Base Camp Trek",
           16
          ],
          [
           "Everest Kalapathar Trekking",
           15
          ],
          [
           "Everest Panorama Trek",
           10
          ],
          [
           "Everest Base Camp Trek via Gokyo Lake",
           19
          ],
          [
           "Gokyo Lake Trek",
           13
          ],
          [
           "Everest Base Camp Heli Trek",
           9
          ],
          [
           "Annapurna Circuit Trek",
           19
          ],
          [
           "Annapurna Base Camp Trek",
           16
          ],
          [
           "Ghorepani Poon Hill Trek",
           10
          ],
          [
           "Upper Mustang Trek",
           17
          ],
          [
           "Mardi Himal Trek",
           9
          ],
          [
           "Langtang Valley Trekking",
           11
          ],
          [
           "Manaslu Circuit Trek",
           17
          ]
         ],
         "hovertemplate": "Cost=%{y}<br>Trek=%{customdata[0]}<br>Time=%{customdata[1]}<extra></extra>",
         "legendgroup": "",
         "marker": {
          "color": "#636efa"
         },
         "name": "",
         "notched": false,
         "offsetgroup": "",
         "orientation": "v",
         "showlegend": false,
         "x0": " ",
         "xaxis": "x",
         "y": [
          1420.0,
          1295.0,
          2000.0,
          3300.0,
          1800.0,
          1720.0,
          1450.0,
          1950.0,
          1060.0,
          1150.0,
          1100.0,
          4200.0,
          1900.0,
          1090.0,
          1090.0,
          980.0,
          1750.0,
          850.0,
          850.0,
          1350.0,
          1250.0,
          1250.0,
          1450.0,
          860.0,
          1450.0,
          590.0,
          1450.0,
          1380.0,
          1850.0,
          2150.0,
          2300.0,
          2150.0,
          750.0,
          1180.0,
          920.0,
          750.0,
          780.0,
          1499.0,
          1750.0,
          1499.0,
          1499.0,
          1499.0,
          1499.0,
          1499.0,
          1499.0,
          1499.0,
          1499.0,
          1499.0,
          1499.0,
          1499.0,
          1499.0,
          1499.0,
          1499.0,
          1499.0,
          1499.0,
          1499.0,
          1499.0,
          1499.0,
          1499.0,
          1499.0,
          1499.0,
          1499.0,
          1499.0,
          1499.0,
          1499.0,
          1499.0,
          1499.0,
          1499.0,
          1499.0,
          1499.0,
          1499.0,
          1499.0,
          1499.0,
          1499.0,
          1450.0,
          1390.0,
          1040.0,
          1530.0,
          1190.0,
          3600.0,
          1100.0,
          1090.0,
          450.0,
          2100.0,
          590.0,
          690.0,
          1190.0,
          1090.0,
          1090.0,
          980.0,
          1750.0,
          850.0,
          850.0,
          1350.0,
          1250.0,
          1250.0,
          1450.0,
          860.0,
          1450.0,
          590.0,
          1450.0,
          1380.0,
          1850.0,
          2150.0,
          2300.0,
          2150.0,
          750.0,
          1180.0,
          920.0,
          750.0,
          780.0,
          1499.0,
          1750.0,
          1499.0,
          1499.0,
          1499.0,
          1499.0,
          1499.0,
          1499.0,
          1499.0,
          1499.0,
          1499.0,
          1499.0,
          1499.0,
          1499.0,
          1499.0,
          1499.0,
          1499.0,
          1499.0,
          1499.0,
          1499.0,
          1499.0,
          1499.0,
          1499.0,
          1499.0,
          1499.0,
          1499.0,
          1499.0,
          1499.0,
          1499.0,
          1499.0,
          1499.0,
          1499.0,
          1499.0,
          1499.0,
          1499.0,
          1499.0,
          1499.0,
          1450.0,
          1390.0,
          1040.0,
          1530.0,
          1190.0,
          3600.0,
          1100.0,
          1090.0,
          450.0,
          2100.0,
          590.0,
          690.0,
          1190.0,
          1090.0,
          1090.0,
          980.0,
          1750.0,
          850.0,
          850.0,
          1350.0,
          1250.0,
          1250.0,
          1450.0,
          860.0,
          1450.0,
          590.0,
          1450.0,
          1380.0,
          1850.0,
          2150.0,
          2300.0,
          2150.0,
          750.0,
          1180.0,
          920.0,
          750.0,
          780.0,
          1499.0,
          1750.0,
          1499.0,
          1499.0,
          1499.0,
          1499.0,
          1499.0,
          1499.0,
          1499.0,
          1499.0,
          1499.0,
          1499.0,
          1499.0,
          1499.0,
          1499.0,
          1499.0,
          1499.0,
          1499.0,
          1499.0,
          1499.0,
          1499.0,
          1499.0,
          1499.0,
          1499.0,
          1499.0,
          1499.0,
          1499.0,
          1499.0,
          1499.0,
          1499.0,
          1499.0,
          1499.0,
          1499.0,
          1499.0,
          1499.0,
          1499.0,
          1499.0,
          1450.0,
          1390.0,
          1040.0,
          1530.0,
          1190.0,
          3600.0,
          1100.0,
          1090.0,
          450.0,
          2100.0,
          590.0,
          690.0,
          1190.0,
          1090.0,
          1090.0,
          980.0,
          1750.0,
          850.0,
          850.0,
          1350.0,
          1250.0,
          1250.0,
          1450.0,
          860.0,
          1450.0,
          590.0,
          1450.0,
          1380.0,
          1850.0,
          2150.0,
          2300.0,
          2150.0,
          750.0,
          1180.0,
          920.0,
          750.0,
          780.0,
          1499.0,
          1750.0,
          1499.0,
          1499.0,
          1499.0,
          1499.0,
          1499.0,
          1499.0,
          1499.0,
          1499.0,
          1499.0,
          1499.0,
          1499.0,
          1499.0,
          1499.0,
          1499.0,
          1499.0,
          1499.0,
          1499.0,
          1499.0,
          1499.0,
          1499.0,
          1499.0,
          1499.0,
          1499.0,
          1499.0,
          1499.0,
          1499.0,
          1499.0,
          1499.0,
          1499.0,
          1499.0,
          1499.0,
          1499.0,
          1499.0,
          1499.0,
          1499.0,
          1450.0,
          1390.0,
          1040.0,
          1530.0,
          1190.0,
          3600.0,
          1100.0,
          1090.0,
          450.0,
          2100.0,
          590.0,
          690.0,
          1190.0,
          1090.0,
          1090.0,
          980.0,
          1750.0,
          850.0,
          850.0,
          1350.0,
          1250.0,
          1250.0,
          1450.0,
          860.0,
          1450.0,
          590.0,
          1450.0,
          1380.0,
          1850.0,
          2150.0,
          2300.0,
          2150.0,
          750.0,
          1180.0,
          920.0,
          750.0,
          780.0,
          1499.0,
          1750.0,
          1499.0,
          1499.0,
          1499.0,
          1499.0,
          1499.0,
          1499.0,
          1499.0,
          1499.0,
          1499.0,
          1499.0,
          1499.0,
          1499.0,
          1499.0,
          1499.0,
          1499.0,
          1499.0,
          1499.0,
          1499.0,
          1499.0,
          1499.0,
          1499.0,
          1499.0,
          1499.0,
          1499.0,
          1499.0,
          1499.0,
          1499.0,
          1499.0,
          1499.0,
          1499.0,
          1499.0,
          1499.0,
          1499.0,
          1499.0,
          1499.0,
          1450.0,
          1390.0,
          1040.0,
          1530.0,
          1190.0,
          3600.0,
          1100.0,
          1090.0,
          450.0,
          2100.0,
          590.0,
          690.0,
          1190.0
         ],
         "y0": " ",
         "yaxis": "y",
         "type": "box"
        }
       ],
       "layout": {
        "template": {
         "data": {
          "histogram2dcontour": [
           {
            "type": "histogram2dcontour",
            "colorbar": {
             "outlinewidth": 0,
             "ticks": ""
            },
            "colorscale": [
             [
              0.0,
              "#0d0887"
             ],
             [
              0.1111111111111111,
              "#46039f"
             ],
             [
              0.2222222222222222,
              "#7201a8"
             ],
             [
              0.3333333333333333,
              "#9c179e"
             ],
             [
              0.4444444444444444,
              "#bd3786"
             ],
             [
              0.5555555555555556,
              "#d8576b"
             ],
             [
              0.6666666666666666,
              "#ed7953"
             ],
             [
              0.7777777777777778,
              "#fb9f3a"
             ],
             [
              0.8888888888888888,
              "#fdca26"
             ],
             [
              1.0,
              "#f0f921"
             ]
            ]
           }
          ],
          "choropleth": [
           {
            "type": "choropleth",
            "colorbar": {
             "outlinewidth": 0,
             "ticks": ""
            }
           }
          ],
          "histogram2d": [
           {
            "type": "histogram2d",
            "colorbar": {
             "outlinewidth": 0,
             "ticks": ""
            },
            "colorscale": [
             [
              0.0,
              "#0d0887"
             ],
             [
              0.1111111111111111,
              "#46039f"
             ],
             [
              0.2222222222222222,
              "#7201a8"
             ],
             [
              0.3333333333333333,
              "#9c179e"
             ],
             [
              0.4444444444444444,
              "#bd3786"
             ],
             [
              0.5555555555555556,
              "#d8576b"
             ],
             [
              0.6666666666666666,
              "#ed7953"
             ],
             [
              0.7777777777777778,
              "#fb9f3a"
             ],
             [
              0.8888888888888888,
              "#fdca26"
             ],
             [
              1.0,
              "#f0f921"
             ]
            ]
           }
          ],
          "heatmap": [
           {
            "type": "heatmap",
            "colorbar": {
             "outlinewidth": 0,
             "ticks": ""
            },
            "colorscale": [
             [
              0.0,
              "#0d0887"
             ],
             [
              0.1111111111111111,
              "#46039f"
             ],
             [
              0.2222222222222222,
              "#7201a8"
             ],
             [
              0.3333333333333333,
              "#9c179e"
             ],
             [
              0.4444444444444444,
              "#bd3786"
             ],
             [
              0.5555555555555556,
              "#d8576b"
             ],
             [
              0.6666666666666666,
              "#ed7953"
             ],
             [
              0.7777777777777778,
              "#fb9f3a"
             ],
             [
              0.8888888888888888,
              "#fdca26"
             ],
             [
              1.0,
              "#f0f921"
             ]
            ]
           }
          ],
          "heatmapgl": [
           {
            "type": "heatmapgl",
            "colorbar": {
             "outlinewidth": 0,
             "ticks": ""
            },
            "colorscale": [
             [
              0.0,
              "#0d0887"
             ],
             [
              0.1111111111111111,
              "#46039f"
             ],
             [
              0.2222222222222222,
              "#7201a8"
             ],
             [
              0.3333333333333333,
              "#9c179e"
             ],
             [
              0.4444444444444444,
              "#bd3786"
             ],
             [
              0.5555555555555556,
              "#d8576b"
             ],
             [
              0.6666666666666666,
              "#ed7953"
             ],
             [
              0.7777777777777778,
              "#fb9f3a"
             ],
             [
              0.8888888888888888,
              "#fdca26"
             ],
             [
              1.0,
              "#f0f921"
             ]
            ]
           }
          ],
          "contourcarpet": [
           {
            "type": "contourcarpet",
            "colorbar": {
             "outlinewidth": 0,
             "ticks": ""
            }
           }
          ],
          "contour": [
           {
            "type": "contour",
            "colorbar": {
             "outlinewidth": 0,
             "ticks": ""
            },
            "colorscale": [
             [
              0.0,
              "#0d0887"
             ],
             [
              0.1111111111111111,
              "#46039f"
             ],
             [
              0.2222222222222222,
              "#7201a8"
             ],
             [
              0.3333333333333333,
              "#9c179e"
             ],
             [
              0.4444444444444444,
              "#bd3786"
             ],
             [
              0.5555555555555556,
              "#d8576b"
             ],
             [
              0.6666666666666666,
              "#ed7953"
             ],
             [
              0.7777777777777778,
              "#fb9f3a"
             ],
             [
              0.8888888888888888,
              "#fdca26"
             ],
             [
              1.0,
              "#f0f921"
             ]
            ]
           }
          ],
          "surface": [
           {
            "type": "surface",
            "colorbar": {
             "outlinewidth": 0,
             "ticks": ""
            },
            "colorscale": [
             [
              0.0,
              "#0d0887"
             ],
             [
              0.1111111111111111,
              "#46039f"
             ],
             [
              0.2222222222222222,
              "#7201a8"
             ],
             [
              0.3333333333333333,
              "#9c179e"
             ],
             [
              0.4444444444444444,
              "#bd3786"
             ],
             [
              0.5555555555555556,
              "#d8576b"
             ],
             [
              0.6666666666666666,
              "#ed7953"
             ],
             [
              0.7777777777777778,
              "#fb9f3a"
             ],
             [
              0.8888888888888888,
              "#fdca26"
             ],
             [
              1.0,
              "#f0f921"
             ]
            ]
           }
          ],
          "mesh3d": [
           {
            "type": "mesh3d",
            "colorbar": {
             "outlinewidth": 0,
             "ticks": ""
            }
           }
          ],
          "scatter": [
           {
            "marker": {
             "line": {
              "color": "#283442"
             }
            },
            "type": "scatter"
           }
          ],
          "parcoords": [
           {
            "type": "parcoords",
            "line": {
             "colorbar": {
              "outlinewidth": 0,
              "ticks": ""
             }
            }
           }
          ],
          "scatterpolargl": [
           {
            "type": "scatterpolargl",
            "marker": {
             "colorbar": {
              "outlinewidth": 0,
              "ticks": ""
             }
            }
           }
          ],
          "bar": [
           {
            "error_x": {
             "color": "#f2f5fa"
            },
            "error_y": {
             "color": "#f2f5fa"
            },
            "marker": {
             "line": {
              "color": "rgb(17,17,17)",
              "width": 0.5
             },
             "pattern": {
              "fillmode": "overlay",
              "size": 10,
              "solidity": 0.2
             }
            },
            "type": "bar"
           }
          ],
          "scattergeo": [
           {
            "type": "scattergeo",
            "marker": {
             "colorbar": {
              "outlinewidth": 0,
              "ticks": ""
             }
            }
           }
          ],
          "scatterpolar": [
           {
            "type": "scatterpolar",
            "marker": {
             "colorbar": {
              "outlinewidth": 0,
              "ticks": ""
             }
            }
           }
          ],
          "histogram": [
           {
            "marker": {
             "pattern": {
              "fillmode": "overlay",
              "size": 10,
              "solidity": 0.2
             }
            },
            "type": "histogram"
           }
          ],
          "scattergl": [
           {
            "marker": {
             "line": {
              "color": "#283442"
             }
            },
            "type": "scattergl"
           }
          ],
          "scatter3d": [
           {
            "type": "scatter3d",
            "line": {
             "colorbar": {
              "outlinewidth": 0,
              "ticks": ""
             }
            },
            "marker": {
             "colorbar": {
              "outlinewidth": 0,
              "ticks": ""
             }
            }
           }
          ],
          "scattermapbox": [
           {
            "type": "scattermapbox",
            "marker": {
             "colorbar": {
              "outlinewidth": 0,
              "ticks": ""
             }
            }
           }
          ],
          "scatterternary": [
           {
            "type": "scatterternary",
            "marker": {
             "colorbar": {
              "outlinewidth": 0,
              "ticks": ""
             }
            }
           }
          ],
          "scattercarpet": [
           {
            "type": "scattercarpet",
            "marker": {
             "colorbar": {
              "outlinewidth": 0,
              "ticks": ""
             }
            }
           }
          ],
          "carpet": [
           {
            "aaxis": {
             "endlinecolor": "#A2B1C6",
             "gridcolor": "#506784",
             "linecolor": "#506784",
             "minorgridcolor": "#506784",
             "startlinecolor": "#A2B1C6"
            },
            "baxis": {
             "endlinecolor": "#A2B1C6",
             "gridcolor": "#506784",
             "linecolor": "#506784",
             "minorgridcolor": "#506784",
             "startlinecolor": "#A2B1C6"
            },
            "type": "carpet"
           }
          ],
          "table": [
           {
            "cells": {
             "fill": {
              "color": "#506784"
             },
             "line": {
              "color": "rgb(17,17,17)"
             }
            },
            "header": {
             "fill": {
              "color": "#2a3f5f"
             },
             "line": {
              "color": "rgb(17,17,17)"
             }
            },
            "type": "table"
           }
          ],
          "barpolar": [
           {
            "marker": {
             "line": {
              "color": "rgb(17,17,17)",
              "width": 0.5
             },
             "pattern": {
              "fillmode": "overlay",
              "size": 10,
              "solidity": 0.2
             }
            },
            "type": "barpolar"
           }
          ],
          "pie": [
           {
            "automargin": true,
            "type": "pie"
           }
          ]
         },
         "layout": {
          "autotypenumbers": "strict",
          "colorway": [
           "#636efa",
           "#EF553B",
           "#00cc96",
           "#ab63fa",
           "#FFA15A",
           "#19d3f3",
           "#FF6692",
           "#B6E880",
           "#FF97FF",
           "#FECB52"
          ],
          "font": {
           "color": "#f2f5fa"
          },
          "hovermode": "closest",
          "hoverlabel": {
           "align": "left"
          },
          "paper_bgcolor": "rgb(17,17,17)",
          "plot_bgcolor": "rgb(17,17,17)",
          "polar": {
           "bgcolor": "rgb(17,17,17)",
           "angularaxis": {
            "gridcolor": "#506784",
            "linecolor": "#506784",
            "ticks": ""
           },
           "radialaxis": {
            "gridcolor": "#506784",
            "linecolor": "#506784",
            "ticks": ""
           }
          },
          "ternary": {
           "bgcolor": "rgb(17,17,17)",
           "aaxis": {
            "gridcolor": "#506784",
            "linecolor": "#506784",
            "ticks": ""
           },
           "baxis": {
            "gridcolor": "#506784",
            "linecolor": "#506784",
            "ticks": ""
           },
           "caxis": {
            "gridcolor": "#506784",
            "linecolor": "#506784",
            "ticks": ""
           }
          },
          "coloraxis": {
           "colorbar": {
            "outlinewidth": 0,
            "ticks": ""
           }
          },
          "colorscale": {
           "sequential": [
            [
             0.0,
             "#0d0887"
            ],
            [
             0.1111111111111111,
             "#46039f"
            ],
            [
             0.2222222222222222,
             "#7201a8"
            ],
            [
             0.3333333333333333,
             "#9c179e"
            ],
            [
             0.4444444444444444,
             "#bd3786"
            ],
            [
             0.5555555555555556,
             "#d8576b"
            ],
            [
             0.6666666666666666,
             "#ed7953"
            ],
            [
             0.7777777777777778,
             "#fb9f3a"
            ],
            [
             0.8888888888888888,
             "#fdca26"
            ],
            [
             1.0,
             "#f0f921"
            ]
           ],
           "sequentialminus": [
            [
             0.0,
             "#0d0887"
            ],
            [
             0.1111111111111111,
             "#46039f"
            ],
            [
             0.2222222222222222,
             "#7201a8"
            ],
            [
             0.3333333333333333,
             "#9c179e"
            ],
            [
             0.4444444444444444,
             "#bd3786"
            ],
            [
             0.5555555555555556,
             "#d8576b"
            ],
            [
             0.6666666666666666,
             "#ed7953"
            ],
            [
             0.7777777777777778,
             "#fb9f3a"
            ],
            [
             0.8888888888888888,
             "#fdca26"
            ],
            [
             1.0,
             "#f0f921"
            ]
           ],
           "diverging": [
            [
             0,
             "#8e0152"
            ],
            [
             0.1,
             "#c51b7d"
            ],
            [
             0.2,
             "#de77ae"
            ],
            [
             0.3,
             "#f1b6da"
            ],
            [
             0.4,
             "#fde0ef"
            ],
            [
             0.5,
             "#f7f7f7"
            ],
            [
             0.6,
             "#e6f5d0"
            ],
            [
             0.7,
             "#b8e186"
            ],
            [
             0.8,
             "#7fbc41"
            ],
            [
             0.9,
             "#4d9221"
            ],
            [
             1,
             "#276419"
            ]
           ]
          },
          "xaxis": {
           "gridcolor": "#283442",
           "linecolor": "#506784",
           "ticks": "",
           "title": {
            "standoff": 15
           },
           "zerolinecolor": "#283442",
           "automargin": true,
           "zerolinewidth": 2
          },
          "yaxis": {
           "gridcolor": "#283442",
           "linecolor": "#506784",
           "ticks": "",
           "title": {
            "standoff": 15
           },
           "zerolinecolor": "#283442",
           "automargin": true,
           "zerolinewidth": 2
          },
          "scene": {
           "xaxis": {
            "backgroundcolor": "rgb(17,17,17)",
            "gridcolor": "#506784",
            "linecolor": "#506784",
            "showbackground": true,
            "ticks": "",
            "zerolinecolor": "#C8D4E3",
            "gridwidth": 2
           },
           "yaxis": {
            "backgroundcolor": "rgb(17,17,17)",
            "gridcolor": "#506784",
            "linecolor": "#506784",
            "showbackground": true,
            "ticks": "",
            "zerolinecolor": "#C8D4E3",
            "gridwidth": 2
           },
           "zaxis": {
            "backgroundcolor": "rgb(17,17,17)",
            "gridcolor": "#506784",
            "linecolor": "#506784",
            "showbackground": true,
            "ticks": "",
            "zerolinecolor": "#C8D4E3",
            "gridwidth": 2
           }
          },
          "shapedefaults": {
           "line": {
            "color": "#f2f5fa"
           }
          },
          "annotationdefaults": {
           "arrowcolor": "#f2f5fa",
           "arrowhead": 0,
           "arrowwidth": 1
          },
          "geo": {
           "bgcolor": "rgb(17,17,17)",
           "landcolor": "rgb(17,17,17)",
           "subunitcolor": "#506784",
           "showland": true,
           "showlakes": true,
           "lakecolor": "rgb(17,17,17)"
          },
          "title": {
           "x": 0.05
          },
          "updatemenudefaults": {
           "bgcolor": "#506784",
           "borderwidth": 0
          },
          "sliderdefaults": {
           "bgcolor": "#C8D4E3",
           "borderwidth": 1,
           "bordercolor": "rgb(17,17,17)",
           "tickwidth": 0
          },
          "mapbox": {
           "style": "dark"
          }
         }
        },
        "xaxis": {
         "anchor": "y",
         "domain": [
          0.0,
          1.0
         ]
        },
        "yaxis": {
         "anchor": "x",
         "domain": [
          0.0,
          1.0
         ],
         "title": {
          "text": "Cost"
         }
        },
        "legend": {
         "tracegroupgap": 0
        },
        "title": {
         "text": "Box plot for Trek Costs"
        },
        "boxmode": "group"
       },
       "config": {
        "plotlyServerURL": "https://plot.ly"
       }
      },
      "text/html": [
       "<div>                            <div id=\"9cf05bef-8968-4bb2-9457-9f322e399c01\" class=\"plotly-graph-div\" style=\"height:525px; width:100%;\"></div>            <script type=\"text/javascript\">                require([\"plotly\"], function(Plotly) {                    window.PLOTLYENV=window.PLOTLYENV || {};                                    if (document.getElementById(\"9cf05bef-8968-4bb2-9457-9f322e399c01\")) {                    Plotly.newPlot(                        \"9cf05bef-8968-4bb2-9457-9f322e399c01\",                        [{\"alignmentgroup\":\"True\",\"customdata\":[[\"Everest Base Camp Trek\",16],[\"Everest Base Camp Short Trek\",14],[\"Everest Base Camp Heli Shuttle Trek\",12],[\"Everest Base Camp Heli Trek\",11],[\"Everest Base Camp Trek for Seniors\",20],[\"Everest Chola Pass Trek\",19],[\"Gokyo Lake Renjo La Pass Trek\",16],[\"Everest High Passes Trek\",22],[\"Short Everest Trek\",7],[\"Everest Panorama Trek\",10],[\"Everest View Trek\",9],[\"Luxury Everest Base Camp Heli Trek\",11],[\"Everest Base Camp Trek with Chola and Renjo La Pass\",21],[\"Annapurna Base Camp Trek\",14],[\"Annapurna Base Camp Short Trek\",11],[\"Instant Annapurna Base Camp Trek\",9],[\"Annapurna Base Camp Heli Trek\",9],[\"Mardi Himal Trek\",9],[\"Mardi Himal Trekking\",8],[\"Classic Annapurna Circuit Trek\",18],[\"Annapurna Circuit Trek\",14],[\"Annapurna Circuit Short Trek\",12],[\"Annapurna Luxury Trek\",9],[\"Annapurna Panorama Trek\",9],[\"Annapurna Tilicho Lake Trek\",17],[\"Short Annapurna Trek\",5],[\"Manaslu Circuit Trek\",15],[\"Manaslu Circuit Trekking\",14],[\"Tsum Valley with Manaslu Trek\",20],[\"Upper Mustang Trek\",17],[\"Upper Mustang Trek with Yara\",18],[\"Upper Mustang Tiji Festival Trek\",18],[\"Langtang Valley Trek\",10],[\"Langtang Gosaikunda Trek\",16],[\"Tamang Heritage Trek\",14],[\"Tamang Heritage Trail\",8],[\"Helambu Trek\",9],[\"Annapurna Base Camp Trek\",11],[\"Everest Base Camp Trek for Youths\",14],[\"Everest Base Camp Short Trek\",14],[\"Everest Base Camp Trek\",16],[\"Annapurna Circuit Trek\",17],[\"Everest Base Camp Luxury Lodge Trek\",15],[\"Everest Base Camp Trek via Gokyo Lakes and Cho La Pass\",18],[\"Upper Mustang Trek\",17],[\"Everest Advanced Base Camp Trek from Tibet\",18],[\"Gokyo Lakes and Gokyo Ri Trek\",14],[\"Mardi Himal Trek\",10],[\"Manaslu Circuit Trek\",18],[\"Langtang Valley Trek\",11],[\"Annapurna Sanctuary Trek\",14],[\"Rara Lake Trek\",15],[\"Everest High Passes Trek\",20],[\"Kanchenjunga Circuit Trek\",25],[\"Everest View Trek\",12],[\"Tsum Valley Trek\",19],[\"The Royal Trek\",9],[\"Makalu Base Camp Trek\",22],[\"Langtang Gosainkunda and Helambu Trek\",17],[\"Nar Phu Valley Trek\",19],[\"Annapurna Circle Trek\",14],[\"Everest Kangshung Face Trek\",21],[\"Tsum Valley and Manaslu Trek\",27],[\"Khopra Ridge Community Trek\",13],[\"Nepal Experience Tour\",12],[\"Annapurna Circuit Trek with Tilicho Lake and Poon Hill\",20],[\"Annapurna With Tilicho Lake Trek\",17],[\"Langtang Valley Trek with Ganja la Pass\",14],[\"Tamang Heritage Trek\",14],[\"Manaslu and Annapurna Trek with Tilicho Lake\",25],[\"Nepal Trekking and Everest Himalaya Heli Tour\",7],[\"Nepal Hiking and Culture Tour\",8],[\"Annapurna Sunrise and Everest View Trek\",17],[\"Tenzing Hillary Everest Marathon\",20],[\"Everest Base Camp Trek\",16],[\"Everest Kalapathar Trekking\",15],[\"Everest Panorama Trek\",10],[\"Everest Base Camp Trek via Gokyo Lake\",19],[\"Gokyo Lake Trek\",13],[\"Everest Base Camp Heli Trek\",9],[\"Annapurna Circuit Trek\",19],[\"Annapurna Base Camp Trek\",16],[\"Ghorepani Poon Hill Trek\",10],[\"Upper Mustang Trek\",17],[\"Mardi Himal Trek\",9],[\"Langtang Valley Trekking\",11],[\"Manaslu Circuit Trek\",17],[\"Annapurna Base Camp Trek\",14],[\"Annapurna Base Camp Short Trek\",11],[\"Instant Annapurna Base Camp Trek\",9],[\"Annapurna Base Camp Heli Trek\",9],[\"Mardi Himal Trek\",9],[\"Mardi Himal Trekking\",8],[\"Classic Annapurna Circuit Trek\",18],[\"Annapurna Circuit Trek\",14],[\"Annapurna Circuit Short Trek\",12],[\"Annapurna Luxury Trek\",9],[\"Annapurna Panorama Trek\",9],[\"Annapurna Tilicho Lake Trek\",17],[\"Short Annapurna Trek\",5],[\"Manaslu Circuit Trek\",15],[\"Manaslu Circuit Trekking\",14],[\"Tsum Valley with Manaslu Trek\",20],[\"Upper Mustang Trek\",17],[\"Upper Mustang Trek with Yara\",18],[\"Upper Mustang Tiji Festival Trek\",18],[\"Langtang Valley Trek\",10],[\"Langtang Gosaikunda Trek\",16],[\"Tamang Heritage Trek\",14],[\"Tamang Heritage Trail\",8],[\"Helambu Trek\",9],[\"Annapurna Base Camp Trek\",11],[\"Everest Base Camp Trek for Youths\",14],[\"Everest Base Camp Short Trek\",14],[\"Everest Base Camp Trek\",16],[\"Annapurna Circuit Trek\",17],[\"Everest Base Camp Luxury Lodge Trek\",15],[\"Everest Base Camp Trek via Gokyo Lakes and Cho La Pass\",18],[\"Upper Mustang Trek\",17],[\"Everest Advanced Base Camp Trek from Tibet\",18],[\"Gokyo Lakes and Gokyo Ri Trek\",14],[\"Mardi Himal Trek\",10],[\"Manaslu Circuit Trek\",18],[\"Langtang Valley Trek\",11],[\"Annapurna Sanctuary Trek\",14],[\"Rara Lake Trek\",15],[\"Everest High Passes Trek\",20],[\"Kanchenjunga Circuit Trek\",25],[\"Everest View Trek\",12],[\"Tsum Valley Trek\",19],[\"The Royal Trek\",9],[\"Makalu Base Camp Trek\",22],[\"Langtang Gosainkunda and Helambu Trek\",17],[\"Nar Phu Valley Trek\",19],[\"Annapurna Circle Trek\",14],[\"Everest Kangshung Face Trek\",21],[\"Tsum Valley and Manaslu Trek\",27],[\"Khopra Ridge Community Trek\",13],[\"Nepal Experience Tour\",12],[\"Annapurna Circuit Trek with Tilicho Lake and Poon Hill\",20],[\"Annapurna With Tilicho Lake Trek\",17],[\"Langtang Valley Trek with Ganja la Pass\",14],[\"Tamang Heritage Trek\",14],[\"Manaslu and Annapurna Trek with Tilicho Lake\",25],[\"Nepal Trekking and Everest Himalaya Heli Tour\",7],[\"Nepal Hiking and Culture Tour\",8],[\"Annapurna Sunrise and Everest View Trek\",17],[\"Tenzing Hillary Everest Marathon\",20],[\"Everest Base Camp Trek\",16],[\"Everest Kalapathar Trekking\",15],[\"Everest Panorama Trek\",10],[\"Everest Base Camp Trek via Gokyo Lake\",19],[\"Gokyo Lake Trek\",13],[\"Everest Base Camp Heli Trek\",9],[\"Annapurna Circuit Trek\",19],[\"Annapurna Base Camp Trek\",16],[\"Ghorepani Poon Hill Trek\",10],[\"Upper Mustang Trek\",17],[\"Mardi Himal Trek\",9],[\"Langtang Valley Trekking\",11],[\"Manaslu Circuit Trek\",17],[\"Annapurna Base Camp Trek\",14],[\"Annapurna Base Camp Short Trek\",11],[\"Instant Annapurna Base Camp Trek\",9],[\"Annapurna Base Camp Heli Trek\",9],[\"Mardi Himal Trek\",9],[\"Mardi Himal Trekking\",8],[\"Classic Annapurna Circuit Trek\",18],[\"Annapurna Circuit Trek\",14],[\"Annapurna Circuit Short Trek\",12],[\"Annapurna Luxury Trek\",9],[\"Annapurna Panorama Trek\",9],[\"Annapurna Tilicho Lake Trek\",17],[\"Short Annapurna Trek\",5],[\"Manaslu Circuit Trek\",15],[\"Manaslu Circuit Trekking\",14],[\"Tsum Valley with Manaslu Trek\",20],[\"Upper Mustang Trek\",17],[\"Upper Mustang Trek with Yara\",18],[\"Upper Mustang Tiji Festival Trek\",18],[\"Langtang Valley Trek\",10],[\"Langtang Gosaikunda Trek\",16],[\"Tamang Heritage Trek\",14],[\"Tamang Heritage Trail\",8],[\"Helambu Trek\",9],[\"Annapurna Base Camp Trek\",11],[\"Everest Base Camp Trek for Youths\",14],[\"Everest Base Camp Short Trek\",14],[\"Everest Base Camp Trek\",16],[\"Annapurna Circuit Trek\",17],[\"Everest Base Camp Luxury Lodge Trek\",15],[\"Everest Base Camp Trek via Gokyo Lakes and Cho La Pass\",18],[\"Upper Mustang Trek\",17],[\"Everest Advanced Base Camp Trek from Tibet\",18],[\"Gokyo Lakes and Gokyo Ri Trek\",14],[\"Mardi Himal Trek\",10],[\"Manaslu Circuit Trek\",18],[\"Langtang Valley Trek\",11],[\"Annapurna Sanctuary Trek\",14],[\"Rara Lake Trek\",15],[\"Everest High Passes Trek\",20],[\"Kanchenjunga Circuit Trek\",25],[\"Everest View Trek\",12],[\"Tsum Valley Trek\",19],[\"The Royal Trek\",9],[\"Makalu Base Camp Trek\",22],[\"Langtang Gosainkunda and Helambu Trek\",17],[\"Nar Phu Valley Trek\",19],[\"Annapurna Circle Trek\",14],[\"Everest Kangshung Face Trek\",21],[\"Tsum Valley and Manaslu Trek\",27],[\"Khopra Ridge Community Trek\",13],[\"Nepal Experience Tour\",12],[\"Annapurna Circuit Trek with Tilicho Lake and Poon Hill\",20],[\"Annapurna With Tilicho Lake Trek\",17],[\"Langtang Valley Trek with Ganja la Pass\",14],[\"Tamang Heritage Trek\",14],[\"Manaslu and Annapurna Trek with Tilicho Lake\",25],[\"Nepal Trekking and Everest Himalaya Heli Tour\",7],[\"Nepal Hiking and Culture Tour\",8],[\"Annapurna Sunrise and Everest View Trek\",17],[\"Tenzing Hillary Everest Marathon\",20],[\"Everest Base Camp Trek\",16],[\"Everest Kalapathar Trekking\",15],[\"Everest Panorama Trek\",10],[\"Everest Base Camp Trek via Gokyo Lake\",19],[\"Gokyo Lake Trek\",13],[\"Everest Base Camp Heli Trek\",9],[\"Annapurna Circuit Trek\",19],[\"Annapurna Base Camp Trek\",16],[\"Ghorepani Poon Hill Trek\",10],[\"Upper Mustang Trek\",17],[\"Mardi Himal Trek\",9],[\"Langtang Valley Trekking\",11],[\"Manaslu Circuit Trek\",17],[\"Annapurna Base Camp Trek\",14],[\"Annapurna Base Camp Short Trek\",11],[\"Instant Annapurna Base Camp Trek\",9],[\"Annapurna Base Camp Heli Trek\",9],[\"Mardi Himal Trek\",9],[\"Mardi Himal Trekking\",8],[\"Classic Annapurna Circuit Trek\",18],[\"Annapurna Circuit Trek\",14],[\"Annapurna Circuit Short Trek\",12],[\"Annapurna Luxury Trek\",9],[\"Annapurna Panorama Trek\",9],[\"Annapurna Tilicho Lake Trek\",17],[\"Short Annapurna Trek\",5],[\"Manaslu Circuit Trek\",15],[\"Manaslu Circuit Trekking\",14],[\"Tsum Valley with Manaslu Trek\",20],[\"Upper Mustang Trek\",17],[\"Upper Mustang Trek with Yara\",18],[\"Upper Mustang Tiji Festival Trek\",18],[\"Langtang Valley Trek\",10],[\"Langtang Gosaikunda Trek\",16],[\"Tamang Heritage Trek\",14],[\"Tamang Heritage Trail\",8],[\"Helambu Trek\",9],[\"Annapurna Base Camp Trek\",11],[\"Everest Base Camp Trek for Youths\",14],[\"Everest Base Camp Short Trek\",14],[\"Everest Base Camp Trek\",16],[\"Annapurna Circuit Trek\",17],[\"Everest Base Camp Luxury Lodge Trek\",15],[\"Everest Base Camp Trek via Gokyo Lakes and Cho La Pass\",18],[\"Upper Mustang Trek\",17],[\"Everest Advanced Base Camp Trek from Tibet\",18],[\"Gokyo Lakes and Gokyo Ri Trek\",14],[\"Mardi Himal Trek\",10],[\"Manaslu Circuit Trek\",18],[\"Langtang Valley Trek\",11],[\"Annapurna Sanctuary Trek\",14],[\"Rara Lake Trek\",15],[\"Everest High Passes Trek\",20],[\"Kanchenjunga Circuit Trek\",25],[\"Everest View Trek\",12],[\"Tsum Valley Trek\",19],[\"The Royal Trek\",9],[\"Makalu Base Camp Trek\",22],[\"Langtang Gosainkunda and Helambu Trek\",17],[\"Nar Phu Valley Trek\",19],[\"Annapurna Circle Trek\",14],[\"Everest Kangshung Face Trek\",21],[\"Tsum Valley and Manaslu Trek\",27],[\"Khopra Ridge Community Trek\",13],[\"Nepal Experience Tour\",12],[\"Annapurna Circuit Trek with Tilicho Lake and Poon Hill\",20],[\"Annapurna With Tilicho Lake Trek\",17],[\"Langtang Valley Trek with Ganja la Pass\",14],[\"Tamang Heritage Trek\",14],[\"Manaslu and Annapurna Trek with Tilicho Lake\",25],[\"Nepal Trekking and Everest Himalaya Heli Tour\",7],[\"Nepal Hiking and Culture Tour\",8],[\"Annapurna Sunrise and Everest View Trek\",17],[\"Tenzing Hillary Everest Marathon\",20],[\"Everest Base Camp Trek\",16],[\"Everest Kalapathar Trekking\",15],[\"Everest Panorama Trek\",10],[\"Everest Base Camp Trek via Gokyo Lake\",19],[\"Gokyo Lake Trek\",13],[\"Everest Base Camp Heli Trek\",9],[\"Annapurna Circuit Trek\",19],[\"Annapurna Base Camp Trek\",16],[\"Ghorepani Poon Hill Trek\",10],[\"Upper Mustang Trek\",17],[\"Mardi Himal Trek\",9],[\"Langtang Valley Trekking\",11],[\"Manaslu Circuit Trek\",17],[\"Annapurna Base Camp Trek\",14],[\"Annapurna Base Camp Short Trek\",11],[\"Instant Annapurna Base Camp Trek\",9],[\"Annapurna Base Camp Heli Trek\",9],[\"Mardi Himal Trek\",9],[\"Mardi Himal Trekking\",8],[\"Classic Annapurna Circuit Trek\",18],[\"Annapurna Circuit Trek\",14],[\"Annapurna Circuit Short Trek\",12],[\"Annapurna Luxury Trek\",9],[\"Annapurna Panorama Trek\",9],[\"Annapurna Tilicho Lake Trek\",17],[\"Short Annapurna Trek\",5],[\"Manaslu Circuit Trek\",15],[\"Manaslu Circuit Trekking\",14],[\"Tsum Valley with Manaslu Trek\",20],[\"Upper Mustang Trek\",17],[\"Upper Mustang Trek with Yara\",18],[\"Upper Mustang Tiji Festival Trek\",18],[\"Langtang Valley Trek\",10],[\"Langtang Gosaikunda Trek\",16],[\"Tamang Heritage Trek\",14],[\"Tamang Heritage Trail\",8],[\"Helambu Trek\",9],[\"Annapurna Base Camp Trek\",11],[\"Everest Base Camp Trek for Youths\",14],[\"Everest Base Camp Short Trek\",14],[\"Everest Base Camp Trek\",16],[\"Annapurna Circuit Trek\",17],[\"Everest Base Camp Luxury Lodge Trek\",15],[\"Everest Base Camp Trek via Gokyo Lakes and Cho La Pass\",18],[\"Upper Mustang Trek\",17],[\"Everest Advanced Base Camp Trek from Tibet\",18],[\"Gokyo Lakes and Gokyo Ri Trek\",14],[\"Mardi Himal Trek\",10],[\"Manaslu Circuit Trek\",18],[\"Langtang Valley Trek\",11],[\"Annapurna Sanctuary Trek\",14],[\"Rara Lake Trek\",15],[\"Everest High Passes Trek\",20],[\"Kanchenjunga Circuit Trek\",25],[\"Everest View Trek\",12],[\"Tsum Valley Trek\",19],[\"The Royal Trek\",9],[\"Makalu Base Camp Trek\",22],[\"Langtang Gosainkunda and Helambu Trek\",17],[\"Nar Phu Valley Trek\",19],[\"Annapurna Circle Trek\",14],[\"Everest Kangshung Face Trek\",21],[\"Tsum Valley and Manaslu Trek\",27],[\"Khopra Ridge Community Trek\",13],[\"Nepal Experience Tour\",12],[\"Annapurna Circuit Trek with Tilicho Lake and Poon Hill\",20],[\"Annapurna With Tilicho Lake Trek\",17],[\"Langtang Valley Trek with Ganja la Pass\",14],[\"Tamang Heritage Trek\",14],[\"Manaslu and Annapurna Trek with Tilicho Lake\",25],[\"Nepal Trekking and Everest Himalaya Heli Tour\",7],[\"Nepal Hiking and Culture Tour\",8],[\"Annapurna Sunrise and Everest View Trek\",17],[\"Tenzing Hillary Everest Marathon\",20],[\"Everest Base Camp Trek\",16],[\"Everest Kalapathar Trekking\",15],[\"Everest Panorama Trek\",10],[\"Everest Base Camp Trek via Gokyo Lake\",19],[\"Gokyo Lake Trek\",13],[\"Everest Base Camp Heli Trek\",9],[\"Annapurna Circuit Trek\",19],[\"Annapurna Base Camp Trek\",16],[\"Ghorepani Poon Hill Trek\",10],[\"Upper Mustang Trek\",17],[\"Mardi Himal Trek\",9],[\"Langtang Valley Trekking\",11],[\"Manaslu Circuit Trek\",17]],\"hovertemplate\":\"Cost=%{y}\\u003cbr\\u003eTrek=%{customdata[0]}\\u003cbr\\u003eTime=%{customdata[1]}\\u003cextra\\u003e\\u003c\\u002fextra\\u003e\",\"legendgroup\":\"\",\"marker\":{\"color\":\"#636efa\"},\"name\":\"\",\"notched\":false,\"offsetgroup\":\"\",\"orientation\":\"v\",\"showlegend\":false,\"x0\":\" \",\"xaxis\":\"x\",\"y\":[1420.0,1295.0,2000.0,3300.0,1800.0,1720.0,1450.0,1950.0,1060.0,1150.0,1100.0,4200.0,1900.0,1090.0,1090.0,980.0,1750.0,850.0,850.0,1350.0,1250.0,1250.0,1450.0,860.0,1450.0,590.0,1450.0,1380.0,1850.0,2150.0,2300.0,2150.0,750.0,1180.0,920.0,750.0,780.0,1499.0,1750.0,1499.0,1499.0,1499.0,1499.0,1499.0,1499.0,1499.0,1499.0,1499.0,1499.0,1499.0,1499.0,1499.0,1499.0,1499.0,1499.0,1499.0,1499.0,1499.0,1499.0,1499.0,1499.0,1499.0,1499.0,1499.0,1499.0,1499.0,1499.0,1499.0,1499.0,1499.0,1499.0,1499.0,1499.0,1499.0,1450.0,1390.0,1040.0,1530.0,1190.0,3600.0,1100.0,1090.0,450.0,2100.0,590.0,690.0,1190.0,1090.0,1090.0,980.0,1750.0,850.0,850.0,1350.0,1250.0,1250.0,1450.0,860.0,1450.0,590.0,1450.0,1380.0,1850.0,2150.0,2300.0,2150.0,750.0,1180.0,920.0,750.0,780.0,1499.0,1750.0,1499.0,1499.0,1499.0,1499.0,1499.0,1499.0,1499.0,1499.0,1499.0,1499.0,1499.0,1499.0,1499.0,1499.0,1499.0,1499.0,1499.0,1499.0,1499.0,1499.0,1499.0,1499.0,1499.0,1499.0,1499.0,1499.0,1499.0,1499.0,1499.0,1499.0,1499.0,1499.0,1499.0,1499.0,1499.0,1450.0,1390.0,1040.0,1530.0,1190.0,3600.0,1100.0,1090.0,450.0,2100.0,590.0,690.0,1190.0,1090.0,1090.0,980.0,1750.0,850.0,850.0,1350.0,1250.0,1250.0,1450.0,860.0,1450.0,590.0,1450.0,1380.0,1850.0,2150.0,2300.0,2150.0,750.0,1180.0,920.0,750.0,780.0,1499.0,1750.0,1499.0,1499.0,1499.0,1499.0,1499.0,1499.0,1499.0,1499.0,1499.0,1499.0,1499.0,1499.0,1499.0,1499.0,1499.0,1499.0,1499.0,1499.0,1499.0,1499.0,1499.0,1499.0,1499.0,1499.0,1499.0,1499.0,1499.0,1499.0,1499.0,1499.0,1499.0,1499.0,1499.0,1499.0,1499.0,1450.0,1390.0,1040.0,1530.0,1190.0,3600.0,1100.0,1090.0,450.0,2100.0,590.0,690.0,1190.0,1090.0,1090.0,980.0,1750.0,850.0,850.0,1350.0,1250.0,1250.0,1450.0,860.0,1450.0,590.0,1450.0,1380.0,1850.0,2150.0,2300.0,2150.0,750.0,1180.0,920.0,750.0,780.0,1499.0,1750.0,1499.0,1499.0,1499.0,1499.0,1499.0,1499.0,1499.0,1499.0,1499.0,1499.0,1499.0,1499.0,1499.0,1499.0,1499.0,1499.0,1499.0,1499.0,1499.0,1499.0,1499.0,1499.0,1499.0,1499.0,1499.0,1499.0,1499.0,1499.0,1499.0,1499.0,1499.0,1499.0,1499.0,1499.0,1499.0,1450.0,1390.0,1040.0,1530.0,1190.0,3600.0,1100.0,1090.0,450.0,2100.0,590.0,690.0,1190.0,1090.0,1090.0,980.0,1750.0,850.0,850.0,1350.0,1250.0,1250.0,1450.0,860.0,1450.0,590.0,1450.0,1380.0,1850.0,2150.0,2300.0,2150.0,750.0,1180.0,920.0,750.0,780.0,1499.0,1750.0,1499.0,1499.0,1499.0,1499.0,1499.0,1499.0,1499.0,1499.0,1499.0,1499.0,1499.0,1499.0,1499.0,1499.0,1499.0,1499.0,1499.0,1499.0,1499.0,1499.0,1499.0,1499.0,1499.0,1499.0,1499.0,1499.0,1499.0,1499.0,1499.0,1499.0,1499.0,1499.0,1499.0,1499.0,1499.0,1450.0,1390.0,1040.0,1530.0,1190.0,3600.0,1100.0,1090.0,450.0,2100.0,590.0,690.0,1190.0],\"y0\":\" \",\"yaxis\":\"y\",\"type\":\"box\"}],                        {\"template\":{\"data\":{\"histogram2dcontour\":[{\"type\":\"histogram2dcontour\",\"colorbar\":{\"outlinewidth\":0,\"ticks\":\"\"},\"colorscale\":[[0.0,\"#0d0887\"],[0.1111111111111111,\"#46039f\"],[0.2222222222222222,\"#7201a8\"],[0.3333333333333333,\"#9c179e\"],[0.4444444444444444,\"#bd3786\"],[0.5555555555555556,\"#d8576b\"],[0.6666666666666666,\"#ed7953\"],[0.7777777777777778,\"#fb9f3a\"],[0.8888888888888888,\"#fdca26\"],[1.0,\"#f0f921\"]]}],\"choropleth\":[{\"type\":\"choropleth\",\"colorbar\":{\"outlinewidth\":0,\"ticks\":\"\"}}],\"histogram2d\":[{\"type\":\"histogram2d\",\"colorbar\":{\"outlinewidth\":0,\"ticks\":\"\"},\"colorscale\":[[0.0,\"#0d0887\"],[0.1111111111111111,\"#46039f\"],[0.2222222222222222,\"#7201a8\"],[0.3333333333333333,\"#9c179e\"],[0.4444444444444444,\"#bd3786\"],[0.5555555555555556,\"#d8576b\"],[0.6666666666666666,\"#ed7953\"],[0.7777777777777778,\"#fb9f3a\"],[0.8888888888888888,\"#fdca26\"],[1.0,\"#f0f921\"]]}],\"heatmap\":[{\"type\":\"heatmap\",\"colorbar\":{\"outlinewidth\":0,\"ticks\":\"\"},\"colorscale\":[[0.0,\"#0d0887\"],[0.1111111111111111,\"#46039f\"],[0.2222222222222222,\"#7201a8\"],[0.3333333333333333,\"#9c179e\"],[0.4444444444444444,\"#bd3786\"],[0.5555555555555556,\"#d8576b\"],[0.6666666666666666,\"#ed7953\"],[0.7777777777777778,\"#fb9f3a\"],[0.8888888888888888,\"#fdca26\"],[1.0,\"#f0f921\"]]}],\"heatmapgl\":[{\"type\":\"heatmapgl\",\"colorbar\":{\"outlinewidth\":0,\"ticks\":\"\"},\"colorscale\":[[0.0,\"#0d0887\"],[0.1111111111111111,\"#46039f\"],[0.2222222222222222,\"#7201a8\"],[0.3333333333333333,\"#9c179e\"],[0.4444444444444444,\"#bd3786\"],[0.5555555555555556,\"#d8576b\"],[0.6666666666666666,\"#ed7953\"],[0.7777777777777778,\"#fb9f3a\"],[0.8888888888888888,\"#fdca26\"],[1.0,\"#f0f921\"]]}],\"contourcarpet\":[{\"type\":\"contourcarpet\",\"colorbar\":{\"outlinewidth\":0,\"ticks\":\"\"}}],\"contour\":[{\"type\":\"contour\",\"colorbar\":{\"outlinewidth\":0,\"ticks\":\"\"},\"colorscale\":[[0.0,\"#0d0887\"],[0.1111111111111111,\"#46039f\"],[0.2222222222222222,\"#7201a8\"],[0.3333333333333333,\"#9c179e\"],[0.4444444444444444,\"#bd3786\"],[0.5555555555555556,\"#d8576b\"],[0.6666666666666666,\"#ed7953\"],[0.7777777777777778,\"#fb9f3a\"],[0.8888888888888888,\"#fdca26\"],[1.0,\"#f0f921\"]]}],\"surface\":[{\"type\":\"surface\",\"colorbar\":{\"outlinewidth\":0,\"ticks\":\"\"},\"colorscale\":[[0.0,\"#0d0887\"],[0.1111111111111111,\"#46039f\"],[0.2222222222222222,\"#7201a8\"],[0.3333333333333333,\"#9c179e\"],[0.4444444444444444,\"#bd3786\"],[0.5555555555555556,\"#d8576b\"],[0.6666666666666666,\"#ed7953\"],[0.7777777777777778,\"#fb9f3a\"],[0.8888888888888888,\"#fdca26\"],[1.0,\"#f0f921\"]]}],\"mesh3d\":[{\"type\":\"mesh3d\",\"colorbar\":{\"outlinewidth\":0,\"ticks\":\"\"}}],\"scatter\":[{\"marker\":{\"line\":{\"color\":\"#283442\"}},\"type\":\"scatter\"}],\"parcoords\":[{\"type\":\"parcoords\",\"line\":{\"colorbar\":{\"outlinewidth\":0,\"ticks\":\"\"}}}],\"scatterpolargl\":[{\"type\":\"scatterpolargl\",\"marker\":{\"colorbar\":{\"outlinewidth\":0,\"ticks\":\"\"}}}],\"bar\":[{\"error_x\":{\"color\":\"#f2f5fa\"},\"error_y\":{\"color\":\"#f2f5fa\"},\"marker\":{\"line\":{\"color\":\"rgb(17,17,17)\",\"width\":0.5},\"pattern\":{\"fillmode\":\"overlay\",\"size\":10,\"solidity\":0.2}},\"type\":\"bar\"}],\"scattergeo\":[{\"type\":\"scattergeo\",\"marker\":{\"colorbar\":{\"outlinewidth\":0,\"ticks\":\"\"}}}],\"scatterpolar\":[{\"type\":\"scatterpolar\",\"marker\":{\"colorbar\":{\"outlinewidth\":0,\"ticks\":\"\"}}}],\"histogram\":[{\"marker\":{\"pattern\":{\"fillmode\":\"overlay\",\"size\":10,\"solidity\":0.2}},\"type\":\"histogram\"}],\"scattergl\":[{\"marker\":{\"line\":{\"color\":\"#283442\"}},\"type\":\"scattergl\"}],\"scatter3d\":[{\"type\":\"scatter3d\",\"line\":{\"colorbar\":{\"outlinewidth\":0,\"ticks\":\"\"}},\"marker\":{\"colorbar\":{\"outlinewidth\":0,\"ticks\":\"\"}}}],\"scattermapbox\":[{\"type\":\"scattermapbox\",\"marker\":{\"colorbar\":{\"outlinewidth\":0,\"ticks\":\"\"}}}],\"scatterternary\":[{\"type\":\"scatterternary\",\"marker\":{\"colorbar\":{\"outlinewidth\":0,\"ticks\":\"\"}}}],\"scattercarpet\":[{\"type\":\"scattercarpet\",\"marker\":{\"colorbar\":{\"outlinewidth\":0,\"ticks\":\"\"}}}],\"carpet\":[{\"aaxis\":{\"endlinecolor\":\"#A2B1C6\",\"gridcolor\":\"#506784\",\"linecolor\":\"#506784\",\"minorgridcolor\":\"#506784\",\"startlinecolor\":\"#A2B1C6\"},\"baxis\":{\"endlinecolor\":\"#A2B1C6\",\"gridcolor\":\"#506784\",\"linecolor\":\"#506784\",\"minorgridcolor\":\"#506784\",\"startlinecolor\":\"#A2B1C6\"},\"type\":\"carpet\"}],\"table\":[{\"cells\":{\"fill\":{\"color\":\"#506784\"},\"line\":{\"color\":\"rgb(17,17,17)\"}},\"header\":{\"fill\":{\"color\":\"#2a3f5f\"},\"line\":{\"color\":\"rgb(17,17,17)\"}},\"type\":\"table\"}],\"barpolar\":[{\"marker\":{\"line\":{\"color\":\"rgb(17,17,17)\",\"width\":0.5},\"pattern\":{\"fillmode\":\"overlay\",\"size\":10,\"solidity\":0.2}},\"type\":\"barpolar\"}],\"pie\":[{\"automargin\":true,\"type\":\"pie\"}]},\"layout\":{\"autotypenumbers\":\"strict\",\"colorway\":[\"#636efa\",\"#EF553B\",\"#00cc96\",\"#ab63fa\",\"#FFA15A\",\"#19d3f3\",\"#FF6692\",\"#B6E880\",\"#FF97FF\",\"#FECB52\"],\"font\":{\"color\":\"#f2f5fa\"},\"hovermode\":\"closest\",\"hoverlabel\":{\"align\":\"left\"},\"paper_bgcolor\":\"rgb(17,17,17)\",\"plot_bgcolor\":\"rgb(17,17,17)\",\"polar\":{\"bgcolor\":\"rgb(17,17,17)\",\"angularaxis\":{\"gridcolor\":\"#506784\",\"linecolor\":\"#506784\",\"ticks\":\"\"},\"radialaxis\":{\"gridcolor\":\"#506784\",\"linecolor\":\"#506784\",\"ticks\":\"\"}},\"ternary\":{\"bgcolor\":\"rgb(17,17,17)\",\"aaxis\":{\"gridcolor\":\"#506784\",\"linecolor\":\"#506784\",\"ticks\":\"\"},\"baxis\":{\"gridcolor\":\"#506784\",\"linecolor\":\"#506784\",\"ticks\":\"\"},\"caxis\":{\"gridcolor\":\"#506784\",\"linecolor\":\"#506784\",\"ticks\":\"\"}},\"coloraxis\":{\"colorbar\":{\"outlinewidth\":0,\"ticks\":\"\"}},\"colorscale\":{\"sequential\":[[0.0,\"#0d0887\"],[0.1111111111111111,\"#46039f\"],[0.2222222222222222,\"#7201a8\"],[0.3333333333333333,\"#9c179e\"],[0.4444444444444444,\"#bd3786\"],[0.5555555555555556,\"#d8576b\"],[0.6666666666666666,\"#ed7953\"],[0.7777777777777778,\"#fb9f3a\"],[0.8888888888888888,\"#fdca26\"],[1.0,\"#f0f921\"]],\"sequentialminus\":[[0.0,\"#0d0887\"],[0.1111111111111111,\"#46039f\"],[0.2222222222222222,\"#7201a8\"],[0.3333333333333333,\"#9c179e\"],[0.4444444444444444,\"#bd3786\"],[0.5555555555555556,\"#d8576b\"],[0.6666666666666666,\"#ed7953\"],[0.7777777777777778,\"#fb9f3a\"],[0.8888888888888888,\"#fdca26\"],[1.0,\"#f0f921\"]],\"diverging\":[[0,\"#8e0152\"],[0.1,\"#c51b7d\"],[0.2,\"#de77ae\"],[0.3,\"#f1b6da\"],[0.4,\"#fde0ef\"],[0.5,\"#f7f7f7\"],[0.6,\"#e6f5d0\"],[0.7,\"#b8e186\"],[0.8,\"#7fbc41\"],[0.9,\"#4d9221\"],[1,\"#276419\"]]},\"xaxis\":{\"gridcolor\":\"#283442\",\"linecolor\":\"#506784\",\"ticks\":\"\",\"title\":{\"standoff\":15},\"zerolinecolor\":\"#283442\",\"automargin\":true,\"zerolinewidth\":2},\"yaxis\":{\"gridcolor\":\"#283442\",\"linecolor\":\"#506784\",\"ticks\":\"\",\"title\":{\"standoff\":15},\"zerolinecolor\":\"#283442\",\"automargin\":true,\"zerolinewidth\":2},\"scene\":{\"xaxis\":{\"backgroundcolor\":\"rgb(17,17,17)\",\"gridcolor\":\"#506784\",\"linecolor\":\"#506784\",\"showbackground\":true,\"ticks\":\"\",\"zerolinecolor\":\"#C8D4E3\",\"gridwidth\":2},\"yaxis\":{\"backgroundcolor\":\"rgb(17,17,17)\",\"gridcolor\":\"#506784\",\"linecolor\":\"#506784\",\"showbackground\":true,\"ticks\":\"\",\"zerolinecolor\":\"#C8D4E3\",\"gridwidth\":2},\"zaxis\":{\"backgroundcolor\":\"rgb(17,17,17)\",\"gridcolor\":\"#506784\",\"linecolor\":\"#506784\",\"showbackground\":true,\"ticks\":\"\",\"zerolinecolor\":\"#C8D4E3\",\"gridwidth\":2}},\"shapedefaults\":{\"line\":{\"color\":\"#f2f5fa\"}},\"annotationdefaults\":{\"arrowcolor\":\"#f2f5fa\",\"arrowhead\":0,\"arrowwidth\":1},\"geo\":{\"bgcolor\":\"rgb(17,17,17)\",\"landcolor\":\"rgb(17,17,17)\",\"subunitcolor\":\"#506784\",\"showland\":true,\"showlakes\":true,\"lakecolor\":\"rgb(17,17,17)\"},\"title\":{\"x\":0.05},\"updatemenudefaults\":{\"bgcolor\":\"#506784\",\"borderwidth\":0},\"sliderdefaults\":{\"bgcolor\":\"#C8D4E3\",\"borderwidth\":1,\"bordercolor\":\"rgb(17,17,17)\",\"tickwidth\":0},\"mapbox\":{\"style\":\"dark\"}}},\"xaxis\":{\"anchor\":\"y\",\"domain\":[0.0,1.0]},\"yaxis\":{\"anchor\":\"x\",\"domain\":[0.0,1.0],\"title\":{\"text\":\"Cost\"}},\"legend\":{\"tracegroupgap\":0},\"title\":{\"text\":\"Box plot for Trek Costs\"},\"boxmode\":\"group\"},                        {\"responsive\": true}                    ).then(function(){\n",
       "                            \n",
       "var gd = document.getElementById('9cf05bef-8968-4bb2-9457-9f322e399c01');\n",
       "var x = new MutationObserver(function (mutations, observer) {{\n",
       "        var display = window.getComputedStyle(gd).display;\n",
       "        if (!display || display === 'none') {{\n",
       "            console.log([gd, 'removed!']);\n",
       "            Plotly.purge(gd);\n",
       "            observer.disconnect();\n",
       "        }}\n",
       "}});\n",
       "\n",
       "// Listen for the removal of the full notebook cells\n",
       "var notebookContainer = gd.closest('#notebook-container');\n",
       "if (notebookContainer) {{\n",
       "    x.observe(notebookContainer, {childList: true});\n",
       "}}\n",
       "\n",
       "// Listen for the clearing of the current output cell\n",
       "var outputEl = gd.closest('.output');\n",
       "if (outputEl) {{\n",
       "    x.observe(outputEl, {childList: true});\n",
       "}}\n",
       "\n",
       "                        })                };                });            </script>        </div>"
      ]
     },
     "metadata": {},
     "output_type": "display_data"
    }
   ],
   "execution_count": 117
  },
  {
   "metadata": {
    "ExecuteTime": {
     "end_time": "2024-10-15T06:28:56.998651Z",
     "start_time": "2024-10-15T06:28:56.989135Z"
    }
   },
   "cell_type": "code",
   "source": [
    "# remove the outliers form the cost columns\n",
    "# Calculate Q1, Q3, and IQR for 'Cost'\n",
    "Q1 = df['Cost'].quantile(0.25)\n",
    "Q3 = df['Cost'].quantile(0.75)\n",
    "IQR = Q3 - Q1\n",
    "\n",
    "# Define the bounds for outliers\n",
    "lower_bound = Q1 - 1.5 * IQR\n",
    "upper_bound = Q3 + 1.5 * IQR\n",
    "\n",
    "# Filter the DataFrame to remove outliers\n",
    "df_no_outliers = df[(df['Cost'] >= lower_bound) & (df['Cost'] <= upper_bound)]\n",
    "\n",
    "print(f\"Original DataFrame Shape: {df.shape}\")\n",
    "print(f\"DataFrame Shape After Removing Outliers: {df_no_outliers.shape}\")\n",
    "\n",
    "del Q1, Q3, IQR, lower_bound, upper_bound"
   ],
   "id": "91bed1021d2d44dd",
   "outputs": [
    {
     "name": "stdout",
     "output_type": "stream",
     "text": [
      "Original DataFrame Shape: (383, 23)\n",
      "DataFrame Shape After Removing Outliers: (335, 23)\n"
     ]
    }
   ],
   "execution_count": 118
  },
  {
   "metadata": {
    "ExecuteTime": {
     "end_time": "2024-10-15T06:28:57.094102Z",
     "start_time": "2024-10-15T06:28:57.044855Z"
    }
   },
   "cell_type": "code",
   "source": [
    "# show the boxplot after removing the outliers\n",
    "fig = px.box(df_no_outliers,\n",
    "             y='Cost',\n",
    "             title='Box plot for Trek Costs (Outliers Removed)',\n",
    "             hover_data=['Trek', 'Time']\n",
    "            )\n",
    "fig.show()"
   ],
   "id": "65476814baebfe5e",
   "outputs": [
    {
     "data": {
      "application/vnd.plotly.v1+json": {
       "data": [
        {
         "alignmentgroup": "True",
         "customdata": [
          [
           "Everest Base Camp Trek",
           16
          ],
          [
           "Everest Base Camp Short Trek",
           14
          ],
          [
           "Everest Base Camp Trek for Seniors",
           20
          ],
          [
           "Everest Chola Pass Trek",
           19
          ],
          [
           "Gokyo Lake Renjo La Pass Trek",
           16
          ],
          [
           "Everest High Passes Trek",
           22
          ],
          [
           "Short Everest Trek",
           7
          ],
          [
           "Everest Panorama Trek",
           10
          ],
          [
           "Everest View Trek",
           9
          ],
          [
           "Everest Base Camp Trek with Chola and Renjo La Pass",
           21
          ],
          [
           "Annapurna Base Camp Trek",
           14
          ],
          [
           "Annapurna Base Camp Short Trek",
           11
          ],
          [
           "Instant Annapurna Base Camp Trek",
           9
          ],
          [
           "Annapurna Base Camp Heli Trek",
           9
          ],
          [
           "Mardi Himal Trek",
           9
          ],
          [
           "Mardi Himal Trekking",
           8
          ],
          [
           "Classic Annapurna Circuit Trek",
           18
          ],
          [
           "Annapurna Circuit Trek",
           14
          ],
          [
           "Annapurna Circuit Short Trek",
           12
          ],
          [
           "Annapurna Luxury Trek",
           9
          ],
          [
           "Annapurna Panorama Trek",
           9
          ],
          [
           "Annapurna Tilicho Lake Trek",
           17
          ],
          [
           "Manaslu Circuit Trek",
           15
          ],
          [
           "Manaslu Circuit Trekking",
           14
          ],
          [
           "Tsum Valley with Manaslu Trek",
           20
          ],
          [
           "Langtang Valley Trek",
           10
          ],
          [
           "Langtang Gosaikunda Trek",
           16
          ],
          [
           "Tamang Heritage Trek",
           14
          ],
          [
           "Tamang Heritage Trail",
           8
          ],
          [
           "Helambu Trek",
           9
          ],
          [
           "Annapurna Base Camp Trek",
           11
          ],
          [
           "Everest Base Camp Trek for Youths",
           14
          ],
          [
           "Everest Base Camp Short Trek",
           14
          ],
          [
           "Everest Base Camp Trek",
           16
          ],
          [
           "Annapurna Circuit Trek",
           17
          ],
          [
           "Everest Base Camp Luxury Lodge Trek",
           15
          ],
          [
           "Everest Base Camp Trek via Gokyo Lakes and Cho La Pass",
           18
          ],
          [
           "Upper Mustang Trek",
           17
          ],
          [
           "Everest Advanced Base Camp Trek from Tibet",
           18
          ],
          [
           "Gokyo Lakes and Gokyo Ri Trek",
           14
          ],
          [
           "Mardi Himal Trek",
           10
          ],
          [
           "Manaslu Circuit Trek",
           18
          ],
          [
           "Langtang Valley Trek",
           11
          ],
          [
           "Annapurna Sanctuary Trek",
           14
          ],
          [
           "Rara Lake Trek",
           15
          ],
          [
           "Everest High Passes Trek",
           20
          ],
          [
           "Kanchenjunga Circuit Trek",
           25
          ],
          [
           "Everest View Trek",
           12
          ],
          [
           "Tsum Valley Trek",
           19
          ],
          [
           "The Royal Trek",
           9
          ],
          [
           "Makalu Base Camp Trek",
           22
          ],
          [
           "Langtang Gosainkunda and Helambu Trek",
           17
          ],
          [
           "Nar Phu Valley Trek",
           19
          ],
          [
           "Annapurna Circle Trek",
           14
          ],
          [
           "Everest Kangshung Face Trek",
           21
          ],
          [
           "Tsum Valley and Manaslu Trek",
           27
          ],
          [
           "Khopra Ridge Community Trek",
           13
          ],
          [
           "Nepal Experience Tour",
           12
          ],
          [
           "Annapurna Circuit Trek with Tilicho Lake and Poon Hill",
           20
          ],
          [
           "Annapurna With Tilicho Lake Trek",
           17
          ],
          [
           "Langtang Valley Trek with Ganja la Pass",
           14
          ],
          [
           "Tamang Heritage Trek",
           14
          ],
          [
           "Manaslu and Annapurna Trek with Tilicho Lake",
           25
          ],
          [
           "Nepal Trekking and Everest Himalaya Heli Tour",
           7
          ],
          [
           "Nepal Hiking and Culture Tour",
           8
          ],
          [
           "Annapurna Sunrise and Everest View Trek",
           17
          ],
          [
           "Tenzing Hillary Everest Marathon",
           20
          ],
          [
           "Everest Base Camp Trek",
           16
          ],
          [
           "Everest Kalapathar Trekking",
           15
          ],
          [
           "Everest Panorama Trek",
           10
          ],
          [
           "Everest Base Camp Trek via Gokyo Lake",
           19
          ],
          [
           "Gokyo Lake Trek",
           13
          ],
          [
           "Annapurna Circuit Trek",
           19
          ],
          [
           "Annapurna Base Camp Trek",
           16
          ],
          [
           "Manaslu Circuit Trek",
           17
          ],
          [
           "Annapurna Base Camp Trek",
           14
          ],
          [
           "Annapurna Base Camp Short Trek",
           11
          ],
          [
           "Instant Annapurna Base Camp Trek",
           9
          ],
          [
           "Annapurna Base Camp Heli Trek",
           9
          ],
          [
           "Mardi Himal Trek",
           9
          ],
          [
           "Mardi Himal Trekking",
           8
          ],
          [
           "Classic Annapurna Circuit Trek",
           18
          ],
          [
           "Annapurna Circuit Trek",
           14
          ],
          [
           "Annapurna Circuit Short Trek",
           12
          ],
          [
           "Annapurna Luxury Trek",
           9
          ],
          [
           "Annapurna Panorama Trek",
           9
          ],
          [
           "Annapurna Tilicho Lake Trek",
           17
          ],
          [
           "Manaslu Circuit Trek",
           15
          ],
          [
           "Manaslu Circuit Trekking",
           14
          ],
          [
           "Tsum Valley with Manaslu Trek",
           20
          ],
          [
           "Langtang Valley Trek",
           10
          ],
          [
           "Langtang Gosaikunda Trek",
           16
          ],
          [
           "Tamang Heritage Trek",
           14
          ],
          [
           "Tamang Heritage Trail",
           8
          ],
          [
           "Helambu Trek",
           9
          ],
          [
           "Annapurna Base Camp Trek",
           11
          ],
          [
           "Everest Base Camp Trek for Youths",
           14
          ],
          [
           "Everest Base Camp Short Trek",
           14
          ],
          [
           "Everest Base Camp Trek",
           16
          ],
          [
           "Annapurna Circuit Trek",
           17
          ],
          [
           "Everest Base Camp Luxury Lodge Trek",
           15
          ],
          [
           "Everest Base Camp Trek via Gokyo Lakes and Cho La Pass",
           18
          ],
          [
           "Upper Mustang Trek",
           17
          ],
          [
           "Everest Advanced Base Camp Trek from Tibet",
           18
          ],
          [
           "Gokyo Lakes and Gokyo Ri Trek",
           14
          ],
          [
           "Mardi Himal Trek",
           10
          ],
          [
           "Manaslu Circuit Trek",
           18
          ],
          [
           "Langtang Valley Trek",
           11
          ],
          [
           "Annapurna Sanctuary Trek",
           14
          ],
          [
           "Rara Lake Trek",
           15
          ],
          [
           "Everest High Passes Trek",
           20
          ],
          [
           "Kanchenjunga Circuit Trek",
           25
          ],
          [
           "Everest View Trek",
           12
          ],
          [
           "Tsum Valley Trek",
           19
          ],
          [
           "The Royal Trek",
           9
          ],
          [
           "Makalu Base Camp Trek",
           22
          ],
          [
           "Langtang Gosainkunda and Helambu Trek",
           17
          ],
          [
           "Nar Phu Valley Trek",
           19
          ],
          [
           "Annapurna Circle Trek",
           14
          ],
          [
           "Everest Kangshung Face Trek",
           21
          ],
          [
           "Tsum Valley and Manaslu Trek",
           27
          ],
          [
           "Khopra Ridge Community Trek",
           13
          ],
          [
           "Nepal Experience Tour",
           12
          ],
          [
           "Annapurna Circuit Trek with Tilicho Lake and Poon Hill",
           20
          ],
          [
           "Annapurna With Tilicho Lake Trek",
           17
          ],
          [
           "Langtang Valley Trek with Ganja la Pass",
           14
          ],
          [
           "Tamang Heritage Trek",
           14
          ],
          [
           "Manaslu and Annapurna Trek with Tilicho Lake",
           25
          ],
          [
           "Nepal Trekking and Everest Himalaya Heli Tour",
           7
          ],
          [
           "Nepal Hiking and Culture Tour",
           8
          ],
          [
           "Annapurna Sunrise and Everest View Trek",
           17
          ],
          [
           "Tenzing Hillary Everest Marathon",
           20
          ],
          [
           "Everest Base Camp Trek",
           16
          ],
          [
           "Everest Kalapathar Trekking",
           15
          ],
          [
           "Everest Panorama Trek",
           10
          ],
          [
           "Everest Base Camp Trek via Gokyo Lake",
           19
          ],
          [
           "Gokyo Lake Trek",
           13
          ],
          [
           "Annapurna Circuit Trek",
           19
          ],
          [
           "Annapurna Base Camp Trek",
           16
          ],
          [
           "Manaslu Circuit Trek",
           17
          ],
          [
           "Annapurna Base Camp Trek",
           14
          ],
          [
           "Annapurna Base Camp Short Trek",
           11
          ],
          [
           "Instant Annapurna Base Camp Trek",
           9
          ],
          [
           "Annapurna Base Camp Heli Trek",
           9
          ],
          [
           "Mardi Himal Trek",
           9
          ],
          [
           "Mardi Himal Trekking",
           8
          ],
          [
           "Classic Annapurna Circuit Trek",
           18
          ],
          [
           "Annapurna Circuit Trek",
           14
          ],
          [
           "Annapurna Circuit Short Trek",
           12
          ],
          [
           "Annapurna Luxury Trek",
           9
          ],
          [
           "Annapurna Panorama Trek",
           9
          ],
          [
           "Annapurna Tilicho Lake Trek",
           17
          ],
          [
           "Manaslu Circuit Trek",
           15
          ],
          [
           "Manaslu Circuit Trekking",
           14
          ],
          [
           "Tsum Valley with Manaslu Trek",
           20
          ],
          [
           "Langtang Valley Trek",
           10
          ],
          [
           "Langtang Gosaikunda Trek",
           16
          ],
          [
           "Tamang Heritage Trek",
           14
          ],
          [
           "Tamang Heritage Trail",
           8
          ],
          [
           "Helambu Trek",
           9
          ],
          [
           "Annapurna Base Camp Trek",
           11
          ],
          [
           "Everest Base Camp Trek for Youths",
           14
          ],
          [
           "Everest Base Camp Short Trek",
           14
          ],
          [
           "Everest Base Camp Trek",
           16
          ],
          [
           "Annapurna Circuit Trek",
           17
          ],
          [
           "Everest Base Camp Luxury Lodge Trek",
           15
          ],
          [
           "Everest Base Camp Trek via Gokyo Lakes and Cho La Pass",
           18
          ],
          [
           "Upper Mustang Trek",
           17
          ],
          [
           "Everest Advanced Base Camp Trek from Tibet",
           18
          ],
          [
           "Gokyo Lakes and Gokyo Ri Trek",
           14
          ],
          [
           "Mardi Himal Trek",
           10
          ],
          [
           "Manaslu Circuit Trek",
           18
          ],
          [
           "Langtang Valley Trek",
           11
          ],
          [
           "Annapurna Sanctuary Trek",
           14
          ],
          [
           "Rara Lake Trek",
           15
          ],
          [
           "Everest High Passes Trek",
           20
          ],
          [
           "Kanchenjunga Circuit Trek",
           25
          ],
          [
           "Everest View Trek",
           12
          ],
          [
           "Tsum Valley Trek",
           19
          ],
          [
           "The Royal Trek",
           9
          ],
          [
           "Makalu Base Camp Trek",
           22
          ],
          [
           "Langtang Gosainkunda and Helambu Trek",
           17
          ],
          [
           "Nar Phu Valley Trek",
           19
          ],
          [
           "Annapurna Circle Trek",
           14
          ],
          [
           "Everest Kangshung Face Trek",
           21
          ],
          [
           "Tsum Valley and Manaslu Trek",
           27
          ],
          [
           "Khopra Ridge Community Trek",
           13
          ],
          [
           "Nepal Experience Tour",
           12
          ],
          [
           "Annapurna Circuit Trek with Tilicho Lake and Poon Hill",
           20
          ],
          [
           "Annapurna With Tilicho Lake Trek",
           17
          ],
          [
           "Langtang Valley Trek with Ganja la Pass",
           14
          ],
          [
           "Tamang Heritage Trek",
           14
          ],
          [
           "Manaslu and Annapurna Trek with Tilicho Lake",
           25
          ],
          [
           "Nepal Trekking and Everest Himalaya Heli Tour",
           7
          ],
          [
           "Nepal Hiking and Culture Tour",
           8
          ],
          [
           "Annapurna Sunrise and Everest View Trek",
           17
          ],
          [
           "Tenzing Hillary Everest Marathon",
           20
          ],
          [
           "Everest Base Camp Trek",
           16
          ],
          [
           "Everest Kalapathar Trekking",
           15
          ],
          [
           "Everest Panorama Trek",
           10
          ],
          [
           "Everest Base Camp Trek via Gokyo Lake",
           19
          ],
          [
           "Gokyo Lake Trek",
           13
          ],
          [
           "Annapurna Circuit Trek",
           19
          ],
          [
           "Annapurna Base Camp Trek",
           16
          ],
          [
           "Manaslu Circuit Trek",
           17
          ],
          [
           "Annapurna Base Camp Trek",
           14
          ],
          [
           "Annapurna Base Camp Short Trek",
           11
          ],
          [
           "Instant Annapurna Base Camp Trek",
           9
          ],
          [
           "Annapurna Base Camp Heli Trek",
           9
          ],
          [
           "Mardi Himal Trek",
           9
          ],
          [
           "Mardi Himal Trekking",
           8
          ],
          [
           "Classic Annapurna Circuit Trek",
           18
          ],
          [
           "Annapurna Circuit Trek",
           14
          ],
          [
           "Annapurna Circuit Short Trek",
           12
          ],
          [
           "Annapurna Luxury Trek",
           9
          ],
          [
           "Annapurna Panorama Trek",
           9
          ],
          [
           "Annapurna Tilicho Lake Trek",
           17
          ],
          [
           "Manaslu Circuit Trek",
           15
          ],
          [
           "Manaslu Circuit Trekking",
           14
          ],
          [
           "Tsum Valley with Manaslu Trek",
           20
          ],
          [
           "Langtang Valley Trek",
           10
          ],
          [
           "Langtang Gosaikunda Trek",
           16
          ],
          [
           "Tamang Heritage Trek",
           14
          ],
          [
           "Tamang Heritage Trail",
           8
          ],
          [
           "Helambu Trek",
           9
          ],
          [
           "Annapurna Base Camp Trek",
           11
          ],
          [
           "Everest Base Camp Trek for Youths",
           14
          ],
          [
           "Everest Base Camp Short Trek",
           14
          ],
          [
           "Everest Base Camp Trek",
           16
          ],
          [
           "Annapurna Circuit Trek",
           17
          ],
          [
           "Everest Base Camp Luxury Lodge Trek",
           15
          ],
          [
           "Everest Base Camp Trek via Gokyo Lakes and Cho La Pass",
           18
          ],
          [
           "Upper Mustang Trek",
           17
          ],
          [
           "Everest Advanced Base Camp Trek from Tibet",
           18
          ],
          [
           "Gokyo Lakes and Gokyo Ri Trek",
           14
          ],
          [
           "Mardi Himal Trek",
           10
          ],
          [
           "Manaslu Circuit Trek",
           18
          ],
          [
           "Langtang Valley Trek",
           11
          ],
          [
           "Annapurna Sanctuary Trek",
           14
          ],
          [
           "Rara Lake Trek",
           15
          ],
          [
           "Everest High Passes Trek",
           20
          ],
          [
           "Kanchenjunga Circuit Trek",
           25
          ],
          [
           "Everest View Trek",
           12
          ],
          [
           "Tsum Valley Trek",
           19
          ],
          [
           "The Royal Trek",
           9
          ],
          [
           "Makalu Base Camp Trek",
           22
          ],
          [
           "Langtang Gosainkunda and Helambu Trek",
           17
          ],
          [
           "Nar Phu Valley Trek",
           19
          ],
          [
           "Annapurna Circle Trek",
           14
          ],
          [
           "Everest Kangshung Face Trek",
           21
          ],
          [
           "Tsum Valley and Manaslu Trek",
           27
          ],
          [
           "Khopra Ridge Community Trek",
           13
          ],
          [
           "Nepal Experience Tour",
           12
          ],
          [
           "Annapurna Circuit Trek with Tilicho Lake and Poon Hill",
           20
          ],
          [
           "Annapurna With Tilicho Lake Trek",
           17
          ],
          [
           "Langtang Valley Trek with Ganja la Pass",
           14
          ],
          [
           "Tamang Heritage Trek",
           14
          ],
          [
           "Manaslu and Annapurna Trek with Tilicho Lake",
           25
          ],
          [
           "Nepal Trekking and Everest Himalaya Heli Tour",
           7
          ],
          [
           "Nepal Hiking and Culture Tour",
           8
          ],
          [
           "Annapurna Sunrise and Everest View Trek",
           17
          ],
          [
           "Tenzing Hillary Everest Marathon",
           20
          ],
          [
           "Everest Base Camp Trek",
           16
          ],
          [
           "Everest Kalapathar Trekking",
           15
          ],
          [
           "Everest Panorama Trek",
           10
          ],
          [
           "Everest Base Camp Trek via Gokyo Lake",
           19
          ],
          [
           "Gokyo Lake Trek",
           13
          ],
          [
           "Annapurna Circuit Trek",
           19
          ],
          [
           "Annapurna Base Camp Trek",
           16
          ],
          [
           "Manaslu Circuit Trek",
           17
          ],
          [
           "Annapurna Base Camp Trek",
           14
          ],
          [
           "Annapurna Base Camp Short Trek",
           11
          ],
          [
           "Instant Annapurna Base Camp Trek",
           9
          ],
          [
           "Annapurna Base Camp Heli Trek",
           9
          ],
          [
           "Mardi Himal Trek",
           9
          ],
          [
           "Mardi Himal Trekking",
           8
          ],
          [
           "Classic Annapurna Circuit Trek",
           18
          ],
          [
           "Annapurna Circuit Trek",
           14
          ],
          [
           "Annapurna Circuit Short Trek",
           12
          ],
          [
           "Annapurna Luxury Trek",
           9
          ],
          [
           "Annapurna Panorama Trek",
           9
          ],
          [
           "Annapurna Tilicho Lake Trek",
           17
          ],
          [
           "Manaslu Circuit Trek",
           15
          ],
          [
           "Manaslu Circuit Trekking",
           14
          ],
          [
           "Tsum Valley with Manaslu Trek",
           20
          ],
          [
           "Langtang Valley Trek",
           10
          ],
          [
           "Langtang Gosaikunda Trek",
           16
          ],
          [
           "Tamang Heritage Trek",
           14
          ],
          [
           "Tamang Heritage Trail",
           8
          ],
          [
           "Helambu Trek",
           9
          ],
          [
           "Annapurna Base Camp Trek",
           11
          ],
          [
           "Everest Base Camp Trek for Youths",
           14
          ],
          [
           "Everest Base Camp Short Trek",
           14
          ],
          [
           "Everest Base Camp Trek",
           16
          ],
          [
           "Annapurna Circuit Trek",
           17
          ],
          [
           "Everest Base Camp Luxury Lodge Trek",
           15
          ],
          [
           "Everest Base Camp Trek via Gokyo Lakes and Cho La Pass",
           18
          ],
          [
           "Upper Mustang Trek",
           17
          ],
          [
           "Everest Advanced Base Camp Trek from Tibet",
           18
          ],
          [
           "Gokyo Lakes and Gokyo Ri Trek",
           14
          ],
          [
           "Mardi Himal Trek",
           10
          ],
          [
           "Manaslu Circuit Trek",
           18
          ],
          [
           "Langtang Valley Trek",
           11
          ],
          [
           "Annapurna Sanctuary Trek",
           14
          ],
          [
           "Rara Lake Trek",
           15
          ],
          [
           "Everest High Passes Trek",
           20
          ],
          [
           "Kanchenjunga Circuit Trek",
           25
          ],
          [
           "Everest View Trek",
           12
          ],
          [
           "Tsum Valley Trek",
           19
          ],
          [
           "The Royal Trek",
           9
          ],
          [
           "Makalu Base Camp Trek",
           22
          ],
          [
           "Langtang Gosainkunda and Helambu Trek",
           17
          ],
          [
           "Nar Phu Valley Trek",
           19
          ],
          [
           "Annapurna Circle Trek",
           14
          ],
          [
           "Everest Kangshung Face Trek",
           21
          ],
          [
           "Tsum Valley and Manaslu Trek",
           27
          ],
          [
           "Khopra Ridge Community Trek",
           13
          ],
          [
           "Nepal Experience Tour",
           12
          ],
          [
           "Annapurna Circuit Trek with Tilicho Lake and Poon Hill",
           20
          ],
          [
           "Annapurna With Tilicho Lake Trek",
           17
          ],
          [
           "Langtang Valley Trek with Ganja la Pass",
           14
          ],
          [
           "Tamang Heritage Trek",
           14
          ],
          [
           "Manaslu and Annapurna Trek with Tilicho Lake",
           25
          ],
          [
           "Nepal Trekking and Everest Himalaya Heli Tour",
           7
          ],
          [
           "Nepal Hiking and Culture Tour",
           8
          ],
          [
           "Annapurna Sunrise and Everest View Trek",
           17
          ],
          [
           "Tenzing Hillary Everest Marathon",
           20
          ],
          [
           "Everest Base Camp Trek",
           16
          ],
          [
           "Everest Kalapathar Trekking",
           15
          ],
          [
           "Everest Panorama Trek",
           10
          ],
          [
           "Everest Base Camp Trek via Gokyo Lake",
           19
          ],
          [
           "Gokyo Lake Trek",
           13
          ],
          [
           "Annapurna Circuit Trek",
           19
          ],
          [
           "Annapurna Base Camp Trek",
           16
          ],
          [
           "Manaslu Circuit Trek",
           17
          ]
         ],
         "hovertemplate": "Cost=%{y}<br>Trek=%{customdata[0]}<br>Time=%{customdata[1]}<extra></extra>",
         "legendgroup": "",
         "marker": {
          "color": "#636efa"
         },
         "name": "",
         "notched": false,
         "offsetgroup": "",
         "orientation": "v",
         "showlegend": false,
         "x0": " ",
         "xaxis": "x",
         "y": [
          1420.0,
          1295.0,
          1800.0,
          1720.0,
          1450.0,
          1950.0,
          1060.0,
          1150.0,
          1100.0,
          1900.0,
          1090.0,
          1090.0,
          980.0,
          1750.0,
          850.0,
          850.0,
          1350.0,
          1250.0,
          1250.0,
          1450.0,
          860.0,
          1450.0,
          1450.0,
          1380.0,
          1850.0,
          750.0,
          1180.0,
          920.0,
          750.0,
          780.0,
          1499.0,
          1750.0,
          1499.0,
          1499.0,
          1499.0,
          1499.0,
          1499.0,
          1499.0,
          1499.0,
          1499.0,
          1499.0,
          1499.0,
          1499.0,
          1499.0,
          1499.0,
          1499.0,
          1499.0,
          1499.0,
          1499.0,
          1499.0,
          1499.0,
          1499.0,
          1499.0,
          1499.0,
          1499.0,
          1499.0,
          1499.0,
          1499.0,
          1499.0,
          1499.0,
          1499.0,
          1499.0,
          1499.0,
          1499.0,
          1499.0,
          1499.0,
          1499.0,
          1450.0,
          1390.0,
          1040.0,
          1530.0,
          1190.0,
          1100.0,
          1090.0,
          1190.0,
          1090.0,
          1090.0,
          980.0,
          1750.0,
          850.0,
          850.0,
          1350.0,
          1250.0,
          1250.0,
          1450.0,
          860.0,
          1450.0,
          1450.0,
          1380.0,
          1850.0,
          750.0,
          1180.0,
          920.0,
          750.0,
          780.0,
          1499.0,
          1750.0,
          1499.0,
          1499.0,
          1499.0,
          1499.0,
          1499.0,
          1499.0,
          1499.0,
          1499.0,
          1499.0,
          1499.0,
          1499.0,
          1499.0,
          1499.0,
          1499.0,
          1499.0,
          1499.0,
          1499.0,
          1499.0,
          1499.0,
          1499.0,
          1499.0,
          1499.0,
          1499.0,
          1499.0,
          1499.0,
          1499.0,
          1499.0,
          1499.0,
          1499.0,
          1499.0,
          1499.0,
          1499.0,
          1499.0,
          1499.0,
          1499.0,
          1450.0,
          1390.0,
          1040.0,
          1530.0,
          1190.0,
          1100.0,
          1090.0,
          1190.0,
          1090.0,
          1090.0,
          980.0,
          1750.0,
          850.0,
          850.0,
          1350.0,
          1250.0,
          1250.0,
          1450.0,
          860.0,
          1450.0,
          1450.0,
          1380.0,
          1850.0,
          750.0,
          1180.0,
          920.0,
          750.0,
          780.0,
          1499.0,
          1750.0,
          1499.0,
          1499.0,
          1499.0,
          1499.0,
          1499.0,
          1499.0,
          1499.0,
          1499.0,
          1499.0,
          1499.0,
          1499.0,
          1499.0,
          1499.0,
          1499.0,
          1499.0,
          1499.0,
          1499.0,
          1499.0,
          1499.0,
          1499.0,
          1499.0,
          1499.0,
          1499.0,
          1499.0,
          1499.0,
          1499.0,
          1499.0,
          1499.0,
          1499.0,
          1499.0,
          1499.0,
          1499.0,
          1499.0,
          1499.0,
          1499.0,
          1450.0,
          1390.0,
          1040.0,
          1530.0,
          1190.0,
          1100.0,
          1090.0,
          1190.0,
          1090.0,
          1090.0,
          980.0,
          1750.0,
          850.0,
          850.0,
          1350.0,
          1250.0,
          1250.0,
          1450.0,
          860.0,
          1450.0,
          1450.0,
          1380.0,
          1850.0,
          750.0,
          1180.0,
          920.0,
          750.0,
          780.0,
          1499.0,
          1750.0,
          1499.0,
          1499.0,
          1499.0,
          1499.0,
          1499.0,
          1499.0,
          1499.0,
          1499.0,
          1499.0,
          1499.0,
          1499.0,
          1499.0,
          1499.0,
          1499.0,
          1499.0,
          1499.0,
          1499.0,
          1499.0,
          1499.0,
          1499.0,
          1499.0,
          1499.0,
          1499.0,
          1499.0,
          1499.0,
          1499.0,
          1499.0,
          1499.0,
          1499.0,
          1499.0,
          1499.0,
          1499.0,
          1499.0,
          1499.0,
          1499.0,
          1450.0,
          1390.0,
          1040.0,
          1530.0,
          1190.0,
          1100.0,
          1090.0,
          1190.0,
          1090.0,
          1090.0,
          980.0,
          1750.0,
          850.0,
          850.0,
          1350.0,
          1250.0,
          1250.0,
          1450.0,
          860.0,
          1450.0,
          1450.0,
          1380.0,
          1850.0,
          750.0,
          1180.0,
          920.0,
          750.0,
          780.0,
          1499.0,
          1750.0,
          1499.0,
          1499.0,
          1499.0,
          1499.0,
          1499.0,
          1499.0,
          1499.0,
          1499.0,
          1499.0,
          1499.0,
          1499.0,
          1499.0,
          1499.0,
          1499.0,
          1499.0,
          1499.0,
          1499.0,
          1499.0,
          1499.0,
          1499.0,
          1499.0,
          1499.0,
          1499.0,
          1499.0,
          1499.0,
          1499.0,
          1499.0,
          1499.0,
          1499.0,
          1499.0,
          1499.0,
          1499.0,
          1499.0,
          1499.0,
          1499.0,
          1450.0,
          1390.0,
          1040.0,
          1530.0,
          1190.0,
          1100.0,
          1090.0,
          1190.0
         ],
         "y0": " ",
         "yaxis": "y",
         "type": "box"
        }
       ],
       "layout": {
        "template": {
         "data": {
          "histogram2dcontour": [
           {
            "type": "histogram2dcontour",
            "colorbar": {
             "outlinewidth": 0,
             "ticks": ""
            },
            "colorscale": [
             [
              0.0,
              "#0d0887"
             ],
             [
              0.1111111111111111,
              "#46039f"
             ],
             [
              0.2222222222222222,
              "#7201a8"
             ],
             [
              0.3333333333333333,
              "#9c179e"
             ],
             [
              0.4444444444444444,
              "#bd3786"
             ],
             [
              0.5555555555555556,
              "#d8576b"
             ],
             [
              0.6666666666666666,
              "#ed7953"
             ],
             [
              0.7777777777777778,
              "#fb9f3a"
             ],
             [
              0.8888888888888888,
              "#fdca26"
             ],
             [
              1.0,
              "#f0f921"
             ]
            ]
           }
          ],
          "choropleth": [
           {
            "type": "choropleth",
            "colorbar": {
             "outlinewidth": 0,
             "ticks": ""
            }
           }
          ],
          "histogram2d": [
           {
            "type": "histogram2d",
            "colorbar": {
             "outlinewidth": 0,
             "ticks": ""
            },
            "colorscale": [
             [
              0.0,
              "#0d0887"
             ],
             [
              0.1111111111111111,
              "#46039f"
             ],
             [
              0.2222222222222222,
              "#7201a8"
             ],
             [
              0.3333333333333333,
              "#9c179e"
             ],
             [
              0.4444444444444444,
              "#bd3786"
             ],
             [
              0.5555555555555556,
              "#d8576b"
             ],
             [
              0.6666666666666666,
              "#ed7953"
             ],
             [
              0.7777777777777778,
              "#fb9f3a"
             ],
             [
              0.8888888888888888,
              "#fdca26"
             ],
             [
              1.0,
              "#f0f921"
             ]
            ]
           }
          ],
          "heatmap": [
           {
            "type": "heatmap",
            "colorbar": {
             "outlinewidth": 0,
             "ticks": ""
            },
            "colorscale": [
             [
              0.0,
              "#0d0887"
             ],
             [
              0.1111111111111111,
              "#46039f"
             ],
             [
              0.2222222222222222,
              "#7201a8"
             ],
             [
              0.3333333333333333,
              "#9c179e"
             ],
             [
              0.4444444444444444,
              "#bd3786"
             ],
             [
              0.5555555555555556,
              "#d8576b"
             ],
             [
              0.6666666666666666,
              "#ed7953"
             ],
             [
              0.7777777777777778,
              "#fb9f3a"
             ],
             [
              0.8888888888888888,
              "#fdca26"
             ],
             [
              1.0,
              "#f0f921"
             ]
            ]
           }
          ],
          "heatmapgl": [
           {
            "type": "heatmapgl",
            "colorbar": {
             "outlinewidth": 0,
             "ticks": ""
            },
            "colorscale": [
             [
              0.0,
              "#0d0887"
             ],
             [
              0.1111111111111111,
              "#46039f"
             ],
             [
              0.2222222222222222,
              "#7201a8"
             ],
             [
              0.3333333333333333,
              "#9c179e"
             ],
             [
              0.4444444444444444,
              "#bd3786"
             ],
             [
              0.5555555555555556,
              "#d8576b"
             ],
             [
              0.6666666666666666,
              "#ed7953"
             ],
             [
              0.7777777777777778,
              "#fb9f3a"
             ],
             [
              0.8888888888888888,
              "#fdca26"
             ],
             [
              1.0,
              "#f0f921"
             ]
            ]
           }
          ],
          "contourcarpet": [
           {
            "type": "contourcarpet",
            "colorbar": {
             "outlinewidth": 0,
             "ticks": ""
            }
           }
          ],
          "contour": [
           {
            "type": "contour",
            "colorbar": {
             "outlinewidth": 0,
             "ticks": ""
            },
            "colorscale": [
             [
              0.0,
              "#0d0887"
             ],
             [
              0.1111111111111111,
              "#46039f"
             ],
             [
              0.2222222222222222,
              "#7201a8"
             ],
             [
              0.3333333333333333,
              "#9c179e"
             ],
             [
              0.4444444444444444,
              "#bd3786"
             ],
             [
              0.5555555555555556,
              "#d8576b"
             ],
             [
              0.6666666666666666,
              "#ed7953"
             ],
             [
              0.7777777777777778,
              "#fb9f3a"
             ],
             [
              0.8888888888888888,
              "#fdca26"
             ],
             [
              1.0,
              "#f0f921"
             ]
            ]
           }
          ],
          "surface": [
           {
            "type": "surface",
            "colorbar": {
             "outlinewidth": 0,
             "ticks": ""
            },
            "colorscale": [
             [
              0.0,
              "#0d0887"
             ],
             [
              0.1111111111111111,
              "#46039f"
             ],
             [
              0.2222222222222222,
              "#7201a8"
             ],
             [
              0.3333333333333333,
              "#9c179e"
             ],
             [
              0.4444444444444444,
              "#bd3786"
             ],
             [
              0.5555555555555556,
              "#d8576b"
             ],
             [
              0.6666666666666666,
              "#ed7953"
             ],
             [
              0.7777777777777778,
              "#fb9f3a"
             ],
             [
              0.8888888888888888,
              "#fdca26"
             ],
             [
              1.0,
              "#f0f921"
             ]
            ]
           }
          ],
          "mesh3d": [
           {
            "type": "mesh3d",
            "colorbar": {
             "outlinewidth": 0,
             "ticks": ""
            }
           }
          ],
          "scatter": [
           {
            "marker": {
             "line": {
              "color": "#283442"
             }
            },
            "type": "scatter"
           }
          ],
          "parcoords": [
           {
            "type": "parcoords",
            "line": {
             "colorbar": {
              "outlinewidth": 0,
              "ticks": ""
             }
            }
           }
          ],
          "scatterpolargl": [
           {
            "type": "scatterpolargl",
            "marker": {
             "colorbar": {
              "outlinewidth": 0,
              "ticks": ""
             }
            }
           }
          ],
          "bar": [
           {
            "error_x": {
             "color": "#f2f5fa"
            },
            "error_y": {
             "color": "#f2f5fa"
            },
            "marker": {
             "line": {
              "color": "rgb(17,17,17)",
              "width": 0.5
             },
             "pattern": {
              "fillmode": "overlay",
              "size": 10,
              "solidity": 0.2
             }
            },
            "type": "bar"
           }
          ],
          "scattergeo": [
           {
            "type": "scattergeo",
            "marker": {
             "colorbar": {
              "outlinewidth": 0,
              "ticks": ""
             }
            }
           }
          ],
          "scatterpolar": [
           {
            "type": "scatterpolar",
            "marker": {
             "colorbar": {
              "outlinewidth": 0,
              "ticks": ""
             }
            }
           }
          ],
          "histogram": [
           {
            "marker": {
             "pattern": {
              "fillmode": "overlay",
              "size": 10,
              "solidity": 0.2
             }
            },
            "type": "histogram"
           }
          ],
          "scattergl": [
           {
            "marker": {
             "line": {
              "color": "#283442"
             }
            },
            "type": "scattergl"
           }
          ],
          "scatter3d": [
           {
            "type": "scatter3d",
            "line": {
             "colorbar": {
              "outlinewidth": 0,
              "ticks": ""
             }
            },
            "marker": {
             "colorbar": {
              "outlinewidth": 0,
              "ticks": ""
             }
            }
           }
          ],
          "scattermapbox": [
           {
            "type": "scattermapbox",
            "marker": {
             "colorbar": {
              "outlinewidth": 0,
              "ticks": ""
             }
            }
           }
          ],
          "scatterternary": [
           {
            "type": "scatterternary",
            "marker": {
             "colorbar": {
              "outlinewidth": 0,
              "ticks": ""
             }
            }
           }
          ],
          "scattercarpet": [
           {
            "type": "scattercarpet",
            "marker": {
             "colorbar": {
              "outlinewidth": 0,
              "ticks": ""
             }
            }
           }
          ],
          "carpet": [
           {
            "aaxis": {
             "endlinecolor": "#A2B1C6",
             "gridcolor": "#506784",
             "linecolor": "#506784",
             "minorgridcolor": "#506784",
             "startlinecolor": "#A2B1C6"
            },
            "baxis": {
             "endlinecolor": "#A2B1C6",
             "gridcolor": "#506784",
             "linecolor": "#506784",
             "minorgridcolor": "#506784",
             "startlinecolor": "#A2B1C6"
            },
            "type": "carpet"
           }
          ],
          "table": [
           {
            "cells": {
             "fill": {
              "color": "#506784"
             },
             "line": {
              "color": "rgb(17,17,17)"
             }
            },
            "header": {
             "fill": {
              "color": "#2a3f5f"
             },
             "line": {
              "color": "rgb(17,17,17)"
             }
            },
            "type": "table"
           }
          ],
          "barpolar": [
           {
            "marker": {
             "line": {
              "color": "rgb(17,17,17)",
              "width": 0.5
             },
             "pattern": {
              "fillmode": "overlay",
              "size": 10,
              "solidity": 0.2
             }
            },
            "type": "barpolar"
           }
          ],
          "pie": [
           {
            "automargin": true,
            "type": "pie"
           }
          ]
         },
         "layout": {
          "autotypenumbers": "strict",
          "colorway": [
           "#636efa",
           "#EF553B",
           "#00cc96",
           "#ab63fa",
           "#FFA15A",
           "#19d3f3",
           "#FF6692",
           "#B6E880",
           "#FF97FF",
           "#FECB52"
          ],
          "font": {
           "color": "#f2f5fa"
          },
          "hovermode": "closest",
          "hoverlabel": {
           "align": "left"
          },
          "paper_bgcolor": "rgb(17,17,17)",
          "plot_bgcolor": "rgb(17,17,17)",
          "polar": {
           "bgcolor": "rgb(17,17,17)",
           "angularaxis": {
            "gridcolor": "#506784",
            "linecolor": "#506784",
            "ticks": ""
           },
           "radialaxis": {
            "gridcolor": "#506784",
            "linecolor": "#506784",
            "ticks": ""
           }
          },
          "ternary": {
           "bgcolor": "rgb(17,17,17)",
           "aaxis": {
            "gridcolor": "#506784",
            "linecolor": "#506784",
            "ticks": ""
           },
           "baxis": {
            "gridcolor": "#506784",
            "linecolor": "#506784",
            "ticks": ""
           },
           "caxis": {
            "gridcolor": "#506784",
            "linecolor": "#506784",
            "ticks": ""
           }
          },
          "coloraxis": {
           "colorbar": {
            "outlinewidth": 0,
            "ticks": ""
           }
          },
          "colorscale": {
           "sequential": [
            [
             0.0,
             "#0d0887"
            ],
            [
             0.1111111111111111,
             "#46039f"
            ],
            [
             0.2222222222222222,
             "#7201a8"
            ],
            [
             0.3333333333333333,
             "#9c179e"
            ],
            [
             0.4444444444444444,
             "#bd3786"
            ],
            [
             0.5555555555555556,
             "#d8576b"
            ],
            [
             0.6666666666666666,
             "#ed7953"
            ],
            [
             0.7777777777777778,
             "#fb9f3a"
            ],
            [
             0.8888888888888888,
             "#fdca26"
            ],
            [
             1.0,
             "#f0f921"
            ]
           ],
           "sequentialminus": [
            [
             0.0,
             "#0d0887"
            ],
            [
             0.1111111111111111,
             "#46039f"
            ],
            [
             0.2222222222222222,
             "#7201a8"
            ],
            [
             0.3333333333333333,
             "#9c179e"
            ],
            [
             0.4444444444444444,
             "#bd3786"
            ],
            [
             0.5555555555555556,
             "#d8576b"
            ],
            [
             0.6666666666666666,
             "#ed7953"
            ],
            [
             0.7777777777777778,
             "#fb9f3a"
            ],
            [
             0.8888888888888888,
             "#fdca26"
            ],
            [
             1.0,
             "#f0f921"
            ]
           ],
           "diverging": [
            [
             0,
             "#8e0152"
            ],
            [
             0.1,
             "#c51b7d"
            ],
            [
             0.2,
             "#de77ae"
            ],
            [
             0.3,
             "#f1b6da"
            ],
            [
             0.4,
             "#fde0ef"
            ],
            [
             0.5,
             "#f7f7f7"
            ],
            [
             0.6,
             "#e6f5d0"
            ],
            [
             0.7,
             "#b8e186"
            ],
            [
             0.8,
             "#7fbc41"
            ],
            [
             0.9,
             "#4d9221"
            ],
            [
             1,
             "#276419"
            ]
           ]
          },
          "xaxis": {
           "gridcolor": "#283442",
           "linecolor": "#506784",
           "ticks": "",
           "title": {
            "standoff": 15
           },
           "zerolinecolor": "#283442",
           "automargin": true,
           "zerolinewidth": 2
          },
          "yaxis": {
           "gridcolor": "#283442",
           "linecolor": "#506784",
           "ticks": "",
           "title": {
            "standoff": 15
           },
           "zerolinecolor": "#283442",
           "automargin": true,
           "zerolinewidth": 2
          },
          "scene": {
           "xaxis": {
            "backgroundcolor": "rgb(17,17,17)",
            "gridcolor": "#506784",
            "linecolor": "#506784",
            "showbackground": true,
            "ticks": "",
            "zerolinecolor": "#C8D4E3",
            "gridwidth": 2
           },
           "yaxis": {
            "backgroundcolor": "rgb(17,17,17)",
            "gridcolor": "#506784",
            "linecolor": "#506784",
            "showbackground": true,
            "ticks": "",
            "zerolinecolor": "#C8D4E3",
            "gridwidth": 2
           },
           "zaxis": {
            "backgroundcolor": "rgb(17,17,17)",
            "gridcolor": "#506784",
            "linecolor": "#506784",
            "showbackground": true,
            "ticks": "",
            "zerolinecolor": "#C8D4E3",
            "gridwidth": 2
           }
          },
          "shapedefaults": {
           "line": {
            "color": "#f2f5fa"
           }
          },
          "annotationdefaults": {
           "arrowcolor": "#f2f5fa",
           "arrowhead": 0,
           "arrowwidth": 1
          },
          "geo": {
           "bgcolor": "rgb(17,17,17)",
           "landcolor": "rgb(17,17,17)",
           "subunitcolor": "#506784",
           "showland": true,
           "showlakes": true,
           "lakecolor": "rgb(17,17,17)"
          },
          "title": {
           "x": 0.05
          },
          "updatemenudefaults": {
           "bgcolor": "#506784",
           "borderwidth": 0
          },
          "sliderdefaults": {
           "bgcolor": "#C8D4E3",
           "borderwidth": 1,
           "bordercolor": "rgb(17,17,17)",
           "tickwidth": 0
          },
          "mapbox": {
           "style": "dark"
          }
         }
        },
        "xaxis": {
         "anchor": "y",
         "domain": [
          0.0,
          1.0
         ]
        },
        "yaxis": {
         "anchor": "x",
         "domain": [
          0.0,
          1.0
         ],
         "title": {
          "text": "Cost"
         }
        },
        "legend": {
         "tracegroupgap": 0
        },
        "title": {
         "text": "Box plot for Trek Costs (Outliers Removed)"
        },
        "boxmode": "group"
       },
       "config": {
        "plotlyServerURL": "https://plot.ly"
       }
      },
      "text/html": [
       "<div>                            <div id=\"ea135673-7053-4f9d-a84c-c1e307824536\" class=\"plotly-graph-div\" style=\"height:525px; width:100%;\"></div>            <script type=\"text/javascript\">                require([\"plotly\"], function(Plotly) {                    window.PLOTLYENV=window.PLOTLYENV || {};                                    if (document.getElementById(\"ea135673-7053-4f9d-a84c-c1e307824536\")) {                    Plotly.newPlot(                        \"ea135673-7053-4f9d-a84c-c1e307824536\",                        [{\"alignmentgroup\":\"True\",\"customdata\":[[\"Everest Base Camp Trek\",16],[\"Everest Base Camp Short Trek\",14],[\"Everest Base Camp Trek for Seniors\",20],[\"Everest Chola Pass Trek\",19],[\"Gokyo Lake Renjo La Pass Trek\",16],[\"Everest High Passes Trek\",22],[\"Short Everest Trek\",7],[\"Everest Panorama Trek\",10],[\"Everest View Trek\",9],[\"Everest Base Camp Trek with Chola and Renjo La Pass\",21],[\"Annapurna Base Camp Trek\",14],[\"Annapurna Base Camp Short Trek\",11],[\"Instant Annapurna Base Camp Trek\",9],[\"Annapurna Base Camp Heli Trek\",9],[\"Mardi Himal Trek\",9],[\"Mardi Himal Trekking\",8],[\"Classic Annapurna Circuit Trek\",18],[\"Annapurna Circuit Trek\",14],[\"Annapurna Circuit Short Trek\",12],[\"Annapurna Luxury Trek\",9],[\"Annapurna Panorama Trek\",9],[\"Annapurna Tilicho Lake Trek\",17],[\"Manaslu Circuit Trek\",15],[\"Manaslu Circuit Trekking\",14],[\"Tsum Valley with Manaslu Trek\",20],[\"Langtang Valley Trek\",10],[\"Langtang Gosaikunda Trek\",16],[\"Tamang Heritage Trek\",14],[\"Tamang Heritage Trail\",8],[\"Helambu Trek\",9],[\"Annapurna Base Camp Trek\",11],[\"Everest Base Camp Trek for Youths\",14],[\"Everest Base Camp Short Trek\",14],[\"Everest Base Camp Trek\",16],[\"Annapurna Circuit Trek\",17],[\"Everest Base Camp Luxury Lodge Trek\",15],[\"Everest Base Camp Trek via Gokyo Lakes and Cho La Pass\",18],[\"Upper Mustang Trek\",17],[\"Everest Advanced Base Camp Trek from Tibet\",18],[\"Gokyo Lakes and Gokyo Ri Trek\",14],[\"Mardi Himal Trek\",10],[\"Manaslu Circuit Trek\",18],[\"Langtang Valley Trek\",11],[\"Annapurna Sanctuary Trek\",14],[\"Rara Lake Trek\",15],[\"Everest High Passes Trek\",20],[\"Kanchenjunga Circuit Trek\",25],[\"Everest View Trek\",12],[\"Tsum Valley Trek\",19],[\"The Royal Trek\",9],[\"Makalu Base Camp Trek\",22],[\"Langtang Gosainkunda and Helambu Trek\",17],[\"Nar Phu Valley Trek\",19],[\"Annapurna Circle Trek\",14],[\"Everest Kangshung Face Trek\",21],[\"Tsum Valley and Manaslu Trek\",27],[\"Khopra Ridge Community Trek\",13],[\"Nepal Experience Tour\",12],[\"Annapurna Circuit Trek with Tilicho Lake and Poon Hill\",20],[\"Annapurna With Tilicho Lake Trek\",17],[\"Langtang Valley Trek with Ganja la Pass\",14],[\"Tamang Heritage Trek\",14],[\"Manaslu and Annapurna Trek with Tilicho Lake\",25],[\"Nepal Trekking and Everest Himalaya Heli Tour\",7],[\"Nepal Hiking and Culture Tour\",8],[\"Annapurna Sunrise and Everest View Trek\",17],[\"Tenzing Hillary Everest Marathon\",20],[\"Everest Base Camp Trek\",16],[\"Everest Kalapathar Trekking\",15],[\"Everest Panorama Trek\",10],[\"Everest Base Camp Trek via Gokyo Lake\",19],[\"Gokyo Lake Trek\",13],[\"Annapurna Circuit Trek\",19],[\"Annapurna Base Camp Trek\",16],[\"Manaslu Circuit Trek\",17],[\"Annapurna Base Camp Trek\",14],[\"Annapurna Base Camp Short Trek\",11],[\"Instant Annapurna Base Camp Trek\",9],[\"Annapurna Base Camp Heli Trek\",9],[\"Mardi Himal Trek\",9],[\"Mardi Himal Trekking\",8],[\"Classic Annapurna Circuit Trek\",18],[\"Annapurna Circuit Trek\",14],[\"Annapurna Circuit Short Trek\",12],[\"Annapurna Luxury Trek\",9],[\"Annapurna Panorama Trek\",9],[\"Annapurna Tilicho Lake Trek\",17],[\"Manaslu Circuit Trek\",15],[\"Manaslu Circuit Trekking\",14],[\"Tsum Valley with Manaslu Trek\",20],[\"Langtang Valley Trek\",10],[\"Langtang Gosaikunda Trek\",16],[\"Tamang Heritage Trek\",14],[\"Tamang Heritage Trail\",8],[\"Helambu Trek\",9],[\"Annapurna Base Camp Trek\",11],[\"Everest Base Camp Trek for Youths\",14],[\"Everest Base Camp Short Trek\",14],[\"Everest Base Camp Trek\",16],[\"Annapurna Circuit Trek\",17],[\"Everest Base Camp Luxury Lodge Trek\",15],[\"Everest Base Camp Trek via Gokyo Lakes and Cho La Pass\",18],[\"Upper Mustang Trek\",17],[\"Everest Advanced Base Camp Trek from Tibet\",18],[\"Gokyo Lakes and Gokyo Ri Trek\",14],[\"Mardi Himal Trek\",10],[\"Manaslu Circuit Trek\",18],[\"Langtang Valley Trek\",11],[\"Annapurna Sanctuary Trek\",14],[\"Rara Lake Trek\",15],[\"Everest High Passes Trek\",20],[\"Kanchenjunga Circuit Trek\",25],[\"Everest View Trek\",12],[\"Tsum Valley Trek\",19],[\"The Royal Trek\",9],[\"Makalu Base Camp Trek\",22],[\"Langtang Gosainkunda and Helambu Trek\",17],[\"Nar Phu Valley Trek\",19],[\"Annapurna Circle Trek\",14],[\"Everest Kangshung Face Trek\",21],[\"Tsum Valley and Manaslu Trek\",27],[\"Khopra Ridge Community Trek\",13],[\"Nepal Experience Tour\",12],[\"Annapurna Circuit Trek with Tilicho Lake and Poon Hill\",20],[\"Annapurna With Tilicho Lake Trek\",17],[\"Langtang Valley Trek with Ganja la Pass\",14],[\"Tamang Heritage Trek\",14],[\"Manaslu and Annapurna Trek with Tilicho Lake\",25],[\"Nepal Trekking and Everest Himalaya Heli Tour\",7],[\"Nepal Hiking and Culture Tour\",8],[\"Annapurna Sunrise and Everest View Trek\",17],[\"Tenzing Hillary Everest Marathon\",20],[\"Everest Base Camp Trek\",16],[\"Everest Kalapathar Trekking\",15],[\"Everest Panorama Trek\",10],[\"Everest Base Camp Trek via Gokyo Lake\",19],[\"Gokyo Lake Trek\",13],[\"Annapurna Circuit Trek\",19],[\"Annapurna Base Camp Trek\",16],[\"Manaslu Circuit Trek\",17],[\"Annapurna Base Camp Trek\",14],[\"Annapurna Base Camp Short Trek\",11],[\"Instant Annapurna Base Camp Trek\",9],[\"Annapurna Base Camp Heli Trek\",9],[\"Mardi Himal Trek\",9],[\"Mardi Himal Trekking\",8],[\"Classic Annapurna Circuit Trek\",18],[\"Annapurna Circuit Trek\",14],[\"Annapurna Circuit Short Trek\",12],[\"Annapurna Luxury Trek\",9],[\"Annapurna Panorama Trek\",9],[\"Annapurna Tilicho Lake Trek\",17],[\"Manaslu Circuit Trek\",15],[\"Manaslu Circuit Trekking\",14],[\"Tsum Valley with Manaslu Trek\",20],[\"Langtang Valley Trek\",10],[\"Langtang Gosaikunda Trek\",16],[\"Tamang Heritage Trek\",14],[\"Tamang Heritage Trail\",8],[\"Helambu Trek\",9],[\"Annapurna Base Camp Trek\",11],[\"Everest Base Camp Trek for Youths\",14],[\"Everest Base Camp Short Trek\",14],[\"Everest Base Camp Trek\",16],[\"Annapurna Circuit Trek\",17],[\"Everest Base Camp Luxury Lodge Trek\",15],[\"Everest Base Camp Trek via Gokyo Lakes and Cho La Pass\",18],[\"Upper Mustang Trek\",17],[\"Everest Advanced Base Camp Trek from Tibet\",18],[\"Gokyo Lakes and Gokyo Ri Trek\",14],[\"Mardi Himal Trek\",10],[\"Manaslu Circuit Trek\",18],[\"Langtang Valley Trek\",11],[\"Annapurna Sanctuary Trek\",14],[\"Rara Lake Trek\",15],[\"Everest High Passes Trek\",20],[\"Kanchenjunga Circuit Trek\",25],[\"Everest View Trek\",12],[\"Tsum Valley Trek\",19],[\"The Royal Trek\",9],[\"Makalu Base Camp Trek\",22],[\"Langtang Gosainkunda and Helambu Trek\",17],[\"Nar Phu Valley Trek\",19],[\"Annapurna Circle Trek\",14],[\"Everest Kangshung Face Trek\",21],[\"Tsum Valley and Manaslu Trek\",27],[\"Khopra Ridge Community Trek\",13],[\"Nepal Experience Tour\",12],[\"Annapurna Circuit Trek with Tilicho Lake and Poon Hill\",20],[\"Annapurna With Tilicho Lake Trek\",17],[\"Langtang Valley Trek with Ganja la Pass\",14],[\"Tamang Heritage Trek\",14],[\"Manaslu and Annapurna Trek with Tilicho Lake\",25],[\"Nepal Trekking and Everest Himalaya Heli Tour\",7],[\"Nepal Hiking and Culture Tour\",8],[\"Annapurna Sunrise and Everest View Trek\",17],[\"Tenzing Hillary Everest Marathon\",20],[\"Everest Base Camp Trek\",16],[\"Everest Kalapathar Trekking\",15],[\"Everest Panorama Trek\",10],[\"Everest Base Camp Trek via Gokyo Lake\",19],[\"Gokyo Lake Trek\",13],[\"Annapurna Circuit Trek\",19],[\"Annapurna Base Camp Trek\",16],[\"Manaslu Circuit Trek\",17],[\"Annapurna Base Camp Trek\",14],[\"Annapurna Base Camp Short Trek\",11],[\"Instant Annapurna Base Camp Trek\",9],[\"Annapurna Base Camp Heli Trek\",9],[\"Mardi Himal Trek\",9],[\"Mardi Himal Trekking\",8],[\"Classic Annapurna Circuit Trek\",18],[\"Annapurna Circuit Trek\",14],[\"Annapurna Circuit Short Trek\",12],[\"Annapurna Luxury Trek\",9],[\"Annapurna Panorama Trek\",9],[\"Annapurna Tilicho Lake Trek\",17],[\"Manaslu Circuit Trek\",15],[\"Manaslu Circuit Trekking\",14],[\"Tsum Valley with Manaslu Trek\",20],[\"Langtang Valley Trek\",10],[\"Langtang Gosaikunda Trek\",16],[\"Tamang Heritage Trek\",14],[\"Tamang Heritage Trail\",8],[\"Helambu Trek\",9],[\"Annapurna Base Camp Trek\",11],[\"Everest Base Camp Trek for Youths\",14],[\"Everest Base Camp Short Trek\",14],[\"Everest Base Camp Trek\",16],[\"Annapurna Circuit Trek\",17],[\"Everest Base Camp Luxury Lodge Trek\",15],[\"Everest Base Camp Trek via Gokyo Lakes and Cho La Pass\",18],[\"Upper Mustang Trek\",17],[\"Everest Advanced Base Camp Trek from Tibet\",18],[\"Gokyo Lakes and Gokyo Ri Trek\",14],[\"Mardi Himal Trek\",10],[\"Manaslu Circuit Trek\",18],[\"Langtang Valley Trek\",11],[\"Annapurna Sanctuary Trek\",14],[\"Rara Lake Trek\",15],[\"Everest High Passes Trek\",20],[\"Kanchenjunga Circuit Trek\",25],[\"Everest View Trek\",12],[\"Tsum Valley Trek\",19],[\"The Royal Trek\",9],[\"Makalu Base Camp Trek\",22],[\"Langtang Gosainkunda and Helambu Trek\",17],[\"Nar Phu Valley Trek\",19],[\"Annapurna Circle Trek\",14],[\"Everest Kangshung Face Trek\",21],[\"Tsum Valley and Manaslu Trek\",27],[\"Khopra Ridge Community Trek\",13],[\"Nepal Experience Tour\",12],[\"Annapurna Circuit Trek with Tilicho Lake and Poon Hill\",20],[\"Annapurna With Tilicho Lake Trek\",17],[\"Langtang Valley Trek with Ganja la Pass\",14],[\"Tamang Heritage Trek\",14],[\"Manaslu and Annapurna Trek with Tilicho Lake\",25],[\"Nepal Trekking and Everest Himalaya Heli Tour\",7],[\"Nepal Hiking and Culture Tour\",8],[\"Annapurna Sunrise and Everest View Trek\",17],[\"Tenzing Hillary Everest Marathon\",20],[\"Everest Base Camp Trek\",16],[\"Everest Kalapathar Trekking\",15],[\"Everest Panorama Trek\",10],[\"Everest Base Camp Trek via Gokyo Lake\",19],[\"Gokyo Lake Trek\",13],[\"Annapurna Circuit Trek\",19],[\"Annapurna Base Camp Trek\",16],[\"Manaslu Circuit Trek\",17],[\"Annapurna Base Camp Trek\",14],[\"Annapurna Base Camp Short Trek\",11],[\"Instant Annapurna Base Camp Trek\",9],[\"Annapurna Base Camp Heli Trek\",9],[\"Mardi Himal Trek\",9],[\"Mardi Himal Trekking\",8],[\"Classic Annapurna Circuit Trek\",18],[\"Annapurna Circuit Trek\",14],[\"Annapurna Circuit Short Trek\",12],[\"Annapurna Luxury Trek\",9],[\"Annapurna Panorama Trek\",9],[\"Annapurna Tilicho Lake Trek\",17],[\"Manaslu Circuit Trek\",15],[\"Manaslu Circuit Trekking\",14],[\"Tsum Valley with Manaslu Trek\",20],[\"Langtang Valley Trek\",10],[\"Langtang Gosaikunda Trek\",16],[\"Tamang Heritage Trek\",14],[\"Tamang Heritage Trail\",8],[\"Helambu Trek\",9],[\"Annapurna Base Camp Trek\",11],[\"Everest Base Camp Trek for Youths\",14],[\"Everest Base Camp Short Trek\",14],[\"Everest Base Camp Trek\",16],[\"Annapurna Circuit Trek\",17],[\"Everest Base Camp Luxury Lodge Trek\",15],[\"Everest Base Camp Trek via Gokyo Lakes and Cho La Pass\",18],[\"Upper Mustang Trek\",17],[\"Everest Advanced Base Camp Trek from Tibet\",18],[\"Gokyo Lakes and Gokyo Ri Trek\",14],[\"Mardi Himal Trek\",10],[\"Manaslu Circuit Trek\",18],[\"Langtang Valley Trek\",11],[\"Annapurna Sanctuary Trek\",14],[\"Rara Lake Trek\",15],[\"Everest High Passes Trek\",20],[\"Kanchenjunga Circuit Trek\",25],[\"Everest View Trek\",12],[\"Tsum Valley Trek\",19],[\"The Royal Trek\",9],[\"Makalu Base Camp Trek\",22],[\"Langtang Gosainkunda and Helambu Trek\",17],[\"Nar Phu Valley Trek\",19],[\"Annapurna Circle Trek\",14],[\"Everest Kangshung Face Trek\",21],[\"Tsum Valley and Manaslu Trek\",27],[\"Khopra Ridge Community Trek\",13],[\"Nepal Experience Tour\",12],[\"Annapurna Circuit Trek with Tilicho Lake and Poon Hill\",20],[\"Annapurna With Tilicho Lake Trek\",17],[\"Langtang Valley Trek with Ganja la Pass\",14],[\"Tamang Heritage Trek\",14],[\"Manaslu and Annapurna Trek with Tilicho Lake\",25],[\"Nepal Trekking and Everest Himalaya Heli Tour\",7],[\"Nepal Hiking and Culture Tour\",8],[\"Annapurna Sunrise and Everest View Trek\",17],[\"Tenzing Hillary Everest Marathon\",20],[\"Everest Base Camp Trek\",16],[\"Everest Kalapathar Trekking\",15],[\"Everest Panorama Trek\",10],[\"Everest Base Camp Trek via Gokyo Lake\",19],[\"Gokyo Lake Trek\",13],[\"Annapurna Circuit Trek\",19],[\"Annapurna Base Camp Trek\",16],[\"Manaslu Circuit Trek\",17]],\"hovertemplate\":\"Cost=%{y}\\u003cbr\\u003eTrek=%{customdata[0]}\\u003cbr\\u003eTime=%{customdata[1]}\\u003cextra\\u003e\\u003c\\u002fextra\\u003e\",\"legendgroup\":\"\",\"marker\":{\"color\":\"#636efa\"},\"name\":\"\",\"notched\":false,\"offsetgroup\":\"\",\"orientation\":\"v\",\"showlegend\":false,\"x0\":\" \",\"xaxis\":\"x\",\"y\":[1420.0,1295.0,1800.0,1720.0,1450.0,1950.0,1060.0,1150.0,1100.0,1900.0,1090.0,1090.0,980.0,1750.0,850.0,850.0,1350.0,1250.0,1250.0,1450.0,860.0,1450.0,1450.0,1380.0,1850.0,750.0,1180.0,920.0,750.0,780.0,1499.0,1750.0,1499.0,1499.0,1499.0,1499.0,1499.0,1499.0,1499.0,1499.0,1499.0,1499.0,1499.0,1499.0,1499.0,1499.0,1499.0,1499.0,1499.0,1499.0,1499.0,1499.0,1499.0,1499.0,1499.0,1499.0,1499.0,1499.0,1499.0,1499.0,1499.0,1499.0,1499.0,1499.0,1499.0,1499.0,1499.0,1450.0,1390.0,1040.0,1530.0,1190.0,1100.0,1090.0,1190.0,1090.0,1090.0,980.0,1750.0,850.0,850.0,1350.0,1250.0,1250.0,1450.0,860.0,1450.0,1450.0,1380.0,1850.0,750.0,1180.0,920.0,750.0,780.0,1499.0,1750.0,1499.0,1499.0,1499.0,1499.0,1499.0,1499.0,1499.0,1499.0,1499.0,1499.0,1499.0,1499.0,1499.0,1499.0,1499.0,1499.0,1499.0,1499.0,1499.0,1499.0,1499.0,1499.0,1499.0,1499.0,1499.0,1499.0,1499.0,1499.0,1499.0,1499.0,1499.0,1499.0,1499.0,1499.0,1499.0,1450.0,1390.0,1040.0,1530.0,1190.0,1100.0,1090.0,1190.0,1090.0,1090.0,980.0,1750.0,850.0,850.0,1350.0,1250.0,1250.0,1450.0,860.0,1450.0,1450.0,1380.0,1850.0,750.0,1180.0,920.0,750.0,780.0,1499.0,1750.0,1499.0,1499.0,1499.0,1499.0,1499.0,1499.0,1499.0,1499.0,1499.0,1499.0,1499.0,1499.0,1499.0,1499.0,1499.0,1499.0,1499.0,1499.0,1499.0,1499.0,1499.0,1499.0,1499.0,1499.0,1499.0,1499.0,1499.0,1499.0,1499.0,1499.0,1499.0,1499.0,1499.0,1499.0,1499.0,1450.0,1390.0,1040.0,1530.0,1190.0,1100.0,1090.0,1190.0,1090.0,1090.0,980.0,1750.0,850.0,850.0,1350.0,1250.0,1250.0,1450.0,860.0,1450.0,1450.0,1380.0,1850.0,750.0,1180.0,920.0,750.0,780.0,1499.0,1750.0,1499.0,1499.0,1499.0,1499.0,1499.0,1499.0,1499.0,1499.0,1499.0,1499.0,1499.0,1499.0,1499.0,1499.0,1499.0,1499.0,1499.0,1499.0,1499.0,1499.0,1499.0,1499.0,1499.0,1499.0,1499.0,1499.0,1499.0,1499.0,1499.0,1499.0,1499.0,1499.0,1499.0,1499.0,1499.0,1450.0,1390.0,1040.0,1530.0,1190.0,1100.0,1090.0,1190.0,1090.0,1090.0,980.0,1750.0,850.0,850.0,1350.0,1250.0,1250.0,1450.0,860.0,1450.0,1450.0,1380.0,1850.0,750.0,1180.0,920.0,750.0,780.0,1499.0,1750.0,1499.0,1499.0,1499.0,1499.0,1499.0,1499.0,1499.0,1499.0,1499.0,1499.0,1499.0,1499.0,1499.0,1499.0,1499.0,1499.0,1499.0,1499.0,1499.0,1499.0,1499.0,1499.0,1499.0,1499.0,1499.0,1499.0,1499.0,1499.0,1499.0,1499.0,1499.0,1499.0,1499.0,1499.0,1499.0,1450.0,1390.0,1040.0,1530.0,1190.0,1100.0,1090.0,1190.0],\"y0\":\" \",\"yaxis\":\"y\",\"type\":\"box\"}],                        {\"template\":{\"data\":{\"histogram2dcontour\":[{\"type\":\"histogram2dcontour\",\"colorbar\":{\"outlinewidth\":0,\"ticks\":\"\"},\"colorscale\":[[0.0,\"#0d0887\"],[0.1111111111111111,\"#46039f\"],[0.2222222222222222,\"#7201a8\"],[0.3333333333333333,\"#9c179e\"],[0.4444444444444444,\"#bd3786\"],[0.5555555555555556,\"#d8576b\"],[0.6666666666666666,\"#ed7953\"],[0.7777777777777778,\"#fb9f3a\"],[0.8888888888888888,\"#fdca26\"],[1.0,\"#f0f921\"]]}],\"choropleth\":[{\"type\":\"choropleth\",\"colorbar\":{\"outlinewidth\":0,\"ticks\":\"\"}}],\"histogram2d\":[{\"type\":\"histogram2d\",\"colorbar\":{\"outlinewidth\":0,\"ticks\":\"\"},\"colorscale\":[[0.0,\"#0d0887\"],[0.1111111111111111,\"#46039f\"],[0.2222222222222222,\"#7201a8\"],[0.3333333333333333,\"#9c179e\"],[0.4444444444444444,\"#bd3786\"],[0.5555555555555556,\"#d8576b\"],[0.6666666666666666,\"#ed7953\"],[0.7777777777777778,\"#fb9f3a\"],[0.8888888888888888,\"#fdca26\"],[1.0,\"#f0f921\"]]}],\"heatmap\":[{\"type\":\"heatmap\",\"colorbar\":{\"outlinewidth\":0,\"ticks\":\"\"},\"colorscale\":[[0.0,\"#0d0887\"],[0.1111111111111111,\"#46039f\"],[0.2222222222222222,\"#7201a8\"],[0.3333333333333333,\"#9c179e\"],[0.4444444444444444,\"#bd3786\"],[0.5555555555555556,\"#d8576b\"],[0.6666666666666666,\"#ed7953\"],[0.7777777777777778,\"#fb9f3a\"],[0.8888888888888888,\"#fdca26\"],[1.0,\"#f0f921\"]]}],\"heatmapgl\":[{\"type\":\"heatmapgl\",\"colorbar\":{\"outlinewidth\":0,\"ticks\":\"\"},\"colorscale\":[[0.0,\"#0d0887\"],[0.1111111111111111,\"#46039f\"],[0.2222222222222222,\"#7201a8\"],[0.3333333333333333,\"#9c179e\"],[0.4444444444444444,\"#bd3786\"],[0.5555555555555556,\"#d8576b\"],[0.6666666666666666,\"#ed7953\"],[0.7777777777777778,\"#fb9f3a\"],[0.8888888888888888,\"#fdca26\"],[1.0,\"#f0f921\"]]}],\"contourcarpet\":[{\"type\":\"contourcarpet\",\"colorbar\":{\"outlinewidth\":0,\"ticks\":\"\"}}],\"contour\":[{\"type\":\"contour\",\"colorbar\":{\"outlinewidth\":0,\"ticks\":\"\"},\"colorscale\":[[0.0,\"#0d0887\"],[0.1111111111111111,\"#46039f\"],[0.2222222222222222,\"#7201a8\"],[0.3333333333333333,\"#9c179e\"],[0.4444444444444444,\"#bd3786\"],[0.5555555555555556,\"#d8576b\"],[0.6666666666666666,\"#ed7953\"],[0.7777777777777778,\"#fb9f3a\"],[0.8888888888888888,\"#fdca26\"],[1.0,\"#f0f921\"]]}],\"surface\":[{\"type\":\"surface\",\"colorbar\":{\"outlinewidth\":0,\"ticks\":\"\"},\"colorscale\":[[0.0,\"#0d0887\"],[0.1111111111111111,\"#46039f\"],[0.2222222222222222,\"#7201a8\"],[0.3333333333333333,\"#9c179e\"],[0.4444444444444444,\"#bd3786\"],[0.5555555555555556,\"#d8576b\"],[0.6666666666666666,\"#ed7953\"],[0.7777777777777778,\"#fb9f3a\"],[0.8888888888888888,\"#fdca26\"],[1.0,\"#f0f921\"]]}],\"mesh3d\":[{\"type\":\"mesh3d\",\"colorbar\":{\"outlinewidth\":0,\"ticks\":\"\"}}],\"scatter\":[{\"marker\":{\"line\":{\"color\":\"#283442\"}},\"type\":\"scatter\"}],\"parcoords\":[{\"type\":\"parcoords\",\"line\":{\"colorbar\":{\"outlinewidth\":0,\"ticks\":\"\"}}}],\"scatterpolargl\":[{\"type\":\"scatterpolargl\",\"marker\":{\"colorbar\":{\"outlinewidth\":0,\"ticks\":\"\"}}}],\"bar\":[{\"error_x\":{\"color\":\"#f2f5fa\"},\"error_y\":{\"color\":\"#f2f5fa\"},\"marker\":{\"line\":{\"color\":\"rgb(17,17,17)\",\"width\":0.5},\"pattern\":{\"fillmode\":\"overlay\",\"size\":10,\"solidity\":0.2}},\"type\":\"bar\"}],\"scattergeo\":[{\"type\":\"scattergeo\",\"marker\":{\"colorbar\":{\"outlinewidth\":0,\"ticks\":\"\"}}}],\"scatterpolar\":[{\"type\":\"scatterpolar\",\"marker\":{\"colorbar\":{\"outlinewidth\":0,\"ticks\":\"\"}}}],\"histogram\":[{\"marker\":{\"pattern\":{\"fillmode\":\"overlay\",\"size\":10,\"solidity\":0.2}},\"type\":\"histogram\"}],\"scattergl\":[{\"marker\":{\"line\":{\"color\":\"#283442\"}},\"type\":\"scattergl\"}],\"scatter3d\":[{\"type\":\"scatter3d\",\"line\":{\"colorbar\":{\"outlinewidth\":0,\"ticks\":\"\"}},\"marker\":{\"colorbar\":{\"outlinewidth\":0,\"ticks\":\"\"}}}],\"scattermapbox\":[{\"type\":\"scattermapbox\",\"marker\":{\"colorbar\":{\"outlinewidth\":0,\"ticks\":\"\"}}}],\"scatterternary\":[{\"type\":\"scatterternary\",\"marker\":{\"colorbar\":{\"outlinewidth\":0,\"ticks\":\"\"}}}],\"scattercarpet\":[{\"type\":\"scattercarpet\",\"marker\":{\"colorbar\":{\"outlinewidth\":0,\"ticks\":\"\"}}}],\"carpet\":[{\"aaxis\":{\"endlinecolor\":\"#A2B1C6\",\"gridcolor\":\"#506784\",\"linecolor\":\"#506784\",\"minorgridcolor\":\"#506784\",\"startlinecolor\":\"#A2B1C6\"},\"baxis\":{\"endlinecolor\":\"#A2B1C6\",\"gridcolor\":\"#506784\",\"linecolor\":\"#506784\",\"minorgridcolor\":\"#506784\",\"startlinecolor\":\"#A2B1C6\"},\"type\":\"carpet\"}],\"table\":[{\"cells\":{\"fill\":{\"color\":\"#506784\"},\"line\":{\"color\":\"rgb(17,17,17)\"}},\"header\":{\"fill\":{\"color\":\"#2a3f5f\"},\"line\":{\"color\":\"rgb(17,17,17)\"}},\"type\":\"table\"}],\"barpolar\":[{\"marker\":{\"line\":{\"color\":\"rgb(17,17,17)\",\"width\":0.5},\"pattern\":{\"fillmode\":\"overlay\",\"size\":10,\"solidity\":0.2}},\"type\":\"barpolar\"}],\"pie\":[{\"automargin\":true,\"type\":\"pie\"}]},\"layout\":{\"autotypenumbers\":\"strict\",\"colorway\":[\"#636efa\",\"#EF553B\",\"#00cc96\",\"#ab63fa\",\"#FFA15A\",\"#19d3f3\",\"#FF6692\",\"#B6E880\",\"#FF97FF\",\"#FECB52\"],\"font\":{\"color\":\"#f2f5fa\"},\"hovermode\":\"closest\",\"hoverlabel\":{\"align\":\"left\"},\"paper_bgcolor\":\"rgb(17,17,17)\",\"plot_bgcolor\":\"rgb(17,17,17)\",\"polar\":{\"bgcolor\":\"rgb(17,17,17)\",\"angularaxis\":{\"gridcolor\":\"#506784\",\"linecolor\":\"#506784\",\"ticks\":\"\"},\"radialaxis\":{\"gridcolor\":\"#506784\",\"linecolor\":\"#506784\",\"ticks\":\"\"}},\"ternary\":{\"bgcolor\":\"rgb(17,17,17)\",\"aaxis\":{\"gridcolor\":\"#506784\",\"linecolor\":\"#506784\",\"ticks\":\"\"},\"baxis\":{\"gridcolor\":\"#506784\",\"linecolor\":\"#506784\",\"ticks\":\"\"},\"caxis\":{\"gridcolor\":\"#506784\",\"linecolor\":\"#506784\",\"ticks\":\"\"}},\"coloraxis\":{\"colorbar\":{\"outlinewidth\":0,\"ticks\":\"\"}},\"colorscale\":{\"sequential\":[[0.0,\"#0d0887\"],[0.1111111111111111,\"#46039f\"],[0.2222222222222222,\"#7201a8\"],[0.3333333333333333,\"#9c179e\"],[0.4444444444444444,\"#bd3786\"],[0.5555555555555556,\"#d8576b\"],[0.6666666666666666,\"#ed7953\"],[0.7777777777777778,\"#fb9f3a\"],[0.8888888888888888,\"#fdca26\"],[1.0,\"#f0f921\"]],\"sequentialminus\":[[0.0,\"#0d0887\"],[0.1111111111111111,\"#46039f\"],[0.2222222222222222,\"#7201a8\"],[0.3333333333333333,\"#9c179e\"],[0.4444444444444444,\"#bd3786\"],[0.5555555555555556,\"#d8576b\"],[0.6666666666666666,\"#ed7953\"],[0.7777777777777778,\"#fb9f3a\"],[0.8888888888888888,\"#fdca26\"],[1.0,\"#f0f921\"]],\"diverging\":[[0,\"#8e0152\"],[0.1,\"#c51b7d\"],[0.2,\"#de77ae\"],[0.3,\"#f1b6da\"],[0.4,\"#fde0ef\"],[0.5,\"#f7f7f7\"],[0.6,\"#e6f5d0\"],[0.7,\"#b8e186\"],[0.8,\"#7fbc41\"],[0.9,\"#4d9221\"],[1,\"#276419\"]]},\"xaxis\":{\"gridcolor\":\"#283442\",\"linecolor\":\"#506784\",\"ticks\":\"\",\"title\":{\"standoff\":15},\"zerolinecolor\":\"#283442\",\"automargin\":true,\"zerolinewidth\":2},\"yaxis\":{\"gridcolor\":\"#283442\",\"linecolor\":\"#506784\",\"ticks\":\"\",\"title\":{\"standoff\":15},\"zerolinecolor\":\"#283442\",\"automargin\":true,\"zerolinewidth\":2},\"scene\":{\"xaxis\":{\"backgroundcolor\":\"rgb(17,17,17)\",\"gridcolor\":\"#506784\",\"linecolor\":\"#506784\",\"showbackground\":true,\"ticks\":\"\",\"zerolinecolor\":\"#C8D4E3\",\"gridwidth\":2},\"yaxis\":{\"backgroundcolor\":\"rgb(17,17,17)\",\"gridcolor\":\"#506784\",\"linecolor\":\"#506784\",\"showbackground\":true,\"ticks\":\"\",\"zerolinecolor\":\"#C8D4E3\",\"gridwidth\":2},\"zaxis\":{\"backgroundcolor\":\"rgb(17,17,17)\",\"gridcolor\":\"#506784\",\"linecolor\":\"#506784\",\"showbackground\":true,\"ticks\":\"\",\"zerolinecolor\":\"#C8D4E3\",\"gridwidth\":2}},\"shapedefaults\":{\"line\":{\"color\":\"#f2f5fa\"}},\"annotationdefaults\":{\"arrowcolor\":\"#f2f5fa\",\"arrowhead\":0,\"arrowwidth\":1},\"geo\":{\"bgcolor\":\"rgb(17,17,17)\",\"landcolor\":\"rgb(17,17,17)\",\"subunitcolor\":\"#506784\",\"showland\":true,\"showlakes\":true,\"lakecolor\":\"rgb(17,17,17)\"},\"title\":{\"x\":0.05},\"updatemenudefaults\":{\"bgcolor\":\"#506784\",\"borderwidth\":0},\"sliderdefaults\":{\"bgcolor\":\"#C8D4E3\",\"borderwidth\":1,\"bordercolor\":\"rgb(17,17,17)\",\"tickwidth\":0},\"mapbox\":{\"style\":\"dark\"}}},\"xaxis\":{\"anchor\":\"y\",\"domain\":[0.0,1.0]},\"yaxis\":{\"anchor\":\"x\",\"domain\":[0.0,1.0],\"title\":{\"text\":\"Cost\"}},\"legend\":{\"tracegroupgap\":0},\"title\":{\"text\":\"Box plot for Trek Costs (Outliers Removed)\"},\"boxmode\":\"group\"},                        {\"responsive\": true}                    ).then(function(){\n",
       "                            \n",
       "var gd = document.getElementById('ea135673-7053-4f9d-a84c-c1e307824536');\n",
       "var x = new MutationObserver(function (mutations, observer) {{\n",
       "        var display = window.getComputedStyle(gd).display;\n",
       "        if (!display || display === 'none') {{\n",
       "            console.log([gd, 'removed!']);\n",
       "            Plotly.purge(gd);\n",
       "            observer.disconnect();\n",
       "        }}\n",
       "}});\n",
       "\n",
       "// Listen for the removal of the full notebook cells\n",
       "var notebookContainer = gd.closest('#notebook-container');\n",
       "if (notebookContainer) {{\n",
       "    x.observe(notebookContainer, {childList: true});\n",
       "}}\n",
       "\n",
       "// Listen for the clearing of the current output cell\n",
       "var outputEl = gd.closest('.output');\n",
       "if (outputEl) {{\n",
       "    x.observe(outputEl, {childList: true});\n",
       "}}\n",
       "\n",
       "                        })                };                });            </script>        </div>"
      ]
     },
     "metadata": {},
     "output_type": "display_data"
    }
   ],
   "execution_count": 119
  },
  {
   "metadata": {
    "ExecuteTime": {
     "end_time": "2024-10-15T06:28:57.113322Z",
     "start_time": "2024-10-15T06:28:57.105600Z"
    }
   },
   "cell_type": "code",
   "source": [
    "# Create a new column 'Health_Issue' where 1 indicates an incident and 0 indicates 'None'\n",
    "df['Health_Issue'] = df['Health Incidents'].apply(lambda x: 0 if pd.isna(x) or x.strip().lower() == 'none' else 1)\n",
    "\n",
    "# Display the relevant columns to verify\n",
    "df[['Health Incidents', 'Health_Issue']].head()"
   ],
   "id": "dab6c4f626040015",
   "outputs": [
    {
     "data": {
      "text/plain": [
       "  Health Incidents  Health_Issue\n",
       "0              NaN             0\n",
       "1              NaN             0\n",
       "2              NaN             0\n",
       "3              NaN             0\n",
       "4     Minor Injury             1"
      ],
      "text/html": [
       "<div>\n",
       "<style scoped>\n",
       "    .dataframe tbody tr th:only-of-type {\n",
       "        vertical-align: middle;\n",
       "    }\n",
       "\n",
       "    .dataframe tbody tr th {\n",
       "        vertical-align: top;\n",
       "    }\n",
       "\n",
       "    .dataframe thead th {\n",
       "        text-align: right;\n",
       "    }\n",
       "</style>\n",
       "<table border=\"1\" class=\"dataframe\">\n",
       "  <thead>\n",
       "    <tr style=\"text-align: right;\">\n",
       "      <th></th>\n",
       "      <th>Health Incidents</th>\n",
       "      <th>Health_Issue</th>\n",
       "    </tr>\n",
       "  </thead>\n",
       "  <tbody>\n",
       "    <tr>\n",
       "      <th>0</th>\n",
       "      <td>NaN</td>\n",
       "      <td>0</td>\n",
       "    </tr>\n",
       "    <tr>\n",
       "      <th>1</th>\n",
       "      <td>NaN</td>\n",
       "      <td>0</td>\n",
       "    </tr>\n",
       "    <tr>\n",
       "      <th>2</th>\n",
       "      <td>NaN</td>\n",
       "      <td>0</td>\n",
       "    </tr>\n",
       "    <tr>\n",
       "      <th>3</th>\n",
       "      <td>NaN</td>\n",
       "      <td>0</td>\n",
       "    </tr>\n",
       "    <tr>\n",
       "      <th>4</th>\n",
       "      <td>Minor Injury</td>\n",
       "      <td>1</td>\n",
       "    </tr>\n",
       "  </tbody>\n",
       "</table>\n",
       "</div>"
      ]
     },
     "execution_count": 120,
     "metadata": {},
     "output_type": "execute_result"
    }
   ],
   "execution_count": 120
  },
  {
   "metadata": {
    "ExecuteTime": {
     "end_time": "2024-10-15T06:28:57.241006Z",
     "start_time": "2024-10-15T06:28:57.232687Z"
    }
   },
   "cell_type": "code",
   "source": [
    "# Example mapping dictionary for weather conditions\n",
    "weather_mapping = {\n",
    "    'clear': 0,\n",
    "    'cloudy': 1,\n",
    "    'rainy': 2,\n",
    "    'snowy': 3,\n",
    "}\n",
    "# Calculate the mode of the 'Weather Conditions' column\n",
    "weather_mode = df['Weather Conditions'].mode()[0]  # Get the most frequent weather condition\n",
    "\n",
    "# Replace NaN values in 'Weather Conditions' with the mode\n",
    "df['Weather Conditions'].fillna(weather_mode, inplace=True)\n",
    "\n",
    "# Map the values in the 'Weather Conditions' column, ensuring lower case and stripping whitespace\n",
    "df['Weather Conditions'] = df['Weather Conditions'].str.strip().str.lower().map(weather_mapping)\n",
    "\n",
    "# Handle any NaN values that might arise from the mapping process (like 'Unknown')\n",
    "df['Weather Conditions'].fillna(-1, inplace=True)  # Use -1 for unmapped values"
   ],
   "id": "479ba2ec2e4655d3",
   "outputs": [
    {
     "name": "stderr",
     "output_type": "stream",
     "text": [
      "C:\\Users\\supre\\AppData\\Local\\Temp\\ipykernel_3608\\2072188650.py:12: FutureWarning:\n",
      "\n",
      "A value is trying to be set on a copy of a DataFrame or Series through chained assignment using an inplace method.\n",
      "The behavior will change in pandas 3.0. This inplace method will never work because the intermediate object on which we are setting values always behaves as a copy.\n",
      "\n",
      "For example, when doing 'df[col].method(value, inplace=True)', try using 'df.method({col: value}, inplace=True)' or df[col] = df[col].method(value) instead, to perform the operation inplace on the original object.\n",
      "\n",
      "\n",
      "\n",
      "C:\\Users\\supre\\AppData\\Local\\Temp\\ipykernel_3608\\2072188650.py:18: FutureWarning:\n",
      "\n",
      "A value is trying to be set on a copy of a DataFrame or Series through chained assignment using an inplace method.\n",
      "The behavior will change in pandas 3.0. This inplace method will never work because the intermediate object on which we are setting values always behaves as a copy.\n",
      "\n",
      "For example, when doing 'df[col].method(value, inplace=True)', try using 'df.method({col: value}, inplace=True)' or df[col] = df[col].method(value) instead, to perform the operation inplace on the original object.\n",
      "\n",
      "\n",
      "\n"
     ]
    }
   ],
   "execution_count": 121
  },
  {
   "metadata": {
    "ExecuteTime": {
     "end_time": "2024-10-15T06:28:57.337250Z",
     "start_time": "2024-10-15T06:28:57.329026Z"
    }
   },
   "cell_type": "code",
   "source": "print(df['Weather Conditions'].value_counts())",
   "id": "e7a28467b3e65412",
   "outputs": [
    {
     "name": "stdout",
     "output_type": "stream",
     "text": [
      "Weather Conditions\n",
      "0    172\n",
      "3     73\n",
      "1     70\n",
      "2     68\n",
      "Name: count, dtype: int64\n"
     ]
    }
   ],
   "execution_count": 122
  },
  {
   "metadata": {
    "ExecuteTime": {
     "end_time": "2024-10-15T06:28:57.494345Z",
     "start_time": "2024-10-15T06:28:57.488605Z"
    }
   },
   "cell_type": "code",
   "source": [
    "# Calculate the mode of the \"Trekking Group size\" column\n",
    "mode_value = df['Trekking Group Size'].mode()[0]\n",
    "# Fill the null values with the mode\n",
    "df['Trekking Group Size'].fillna(mode_value, inplace=True)"
   ],
   "id": "768481f9536cfeae",
   "outputs": [
    {
     "name": "stderr",
     "output_type": "stream",
     "text": [
      "C:\\Users\\supre\\AppData\\Local\\Temp\\ipykernel_3608\\1940038514.py:4: FutureWarning:\n",
      "\n",
      "A value is trying to be set on a copy of a DataFrame or Series through chained assignment using an inplace method.\n",
      "The behavior will change in pandas 3.0. This inplace method will never work because the intermediate object on which we are setting values always behaves as a copy.\n",
      "\n",
      "For example, when doing 'df[col].method(value, inplace=True)', try using 'df.method({col: value}, inplace=True)' or df[col] = df[col].method(value) instead, to perform the operation inplace on the original object.\n",
      "\n",
      "\n",
      "\n"
     ]
    }
   ],
   "execution_count": 123
  },
  {
   "metadata": {
    "ExecuteTime": {
     "end_time": "2024-10-15T06:28:57.669606Z",
     "start_time": "2024-10-15T06:28:57.662162Z"
    }
   },
   "cell_type": "code",
   "source": [
    "# Convert the 'Trekking Group Size' column to integers\n",
    "df['Trekking Group Size'] = df['Trekking Group Size'].astype(int)"
   ],
   "id": "1675868d211c4e00",
   "outputs": [],
   "execution_count": 124
  },
  {
   "metadata": {
    "ExecuteTime": {
     "end_time": "2024-10-15T06:28:57.745579Z",
     "start_time": "2024-10-15T06:28:57.732259Z"
    }
   },
   "cell_type": "code",
   "source": [
    "# Display the updated DataFrame\n",
    "print(df)"
   ],
   "id": "748077bf255b6b77",
   "outputs": [
    {
     "name": "stdout",
     "output_type": "stream",
     "text": [
      "                                    Trek    Cost  Time     Trip Grade  \\\n",
      "0                 Everest Base Camp Trek  1420.0    16       Moderate   \n",
      "1           Everest Base Camp Short Trek  1295.0    14       Moderate   \n",
      "2    Everest Base Camp Heli Shuttle Trek  2000.0    12       Moderate   \n",
      "3            Everest Base Camp Heli Trek  3300.0    11       Moderate   \n",
      "4     Everest Base Camp Trek for Seniors  1800.0    20       Moderate   \n",
      "..                                   ...     ...   ...            ...   \n",
      "378             Ghorepani Poon Hill Trek   450.0    10           Easy   \n",
      "379                   Upper Mustang Trek  2100.0    17  Moderate-Hard   \n",
      "380                     Mardi Himal Trek   590.0     9  Easy-Moderate   \n",
      "381             Langtang Valley Trekking   690.0    11       Moderate   \n",
      "382                 Manaslu Circuit Trek  1190.0    17  Moderate-Hard   \n",
      "\n",
      "     Max Altitude Accomodation Date of Travel     Sex  Age FrequentFlyer  ...  \\\n",
      "0            5545   Guesthouse     2022-09-13   Other   31            No  ...   \n",
      "1            5545   Guesthouse     2021-09-04  Female   31            No  ...   \n",
      "2            5545   Guesthouse     2021-01-25  Female   34            No  ...   \n",
      "3            5545   Guesthouse     2022-01-28   Other   28            No  ...   \n",
      "4            5545   Guesthouse     2021-10-21   Other   28           Yes  ...   \n",
      "..            ...          ...            ...     ...  ...           ...  ...   \n",
      "378          3210   Guesthouse     2022-08-09    Male   25           Yes  ...   \n",
      "379          4200   Guesthouse     2022-09-09  Female   27           Yes  ...   \n",
      "380          4500   Guesthouse     2021-05-04   Other   28            No  ...   \n",
      "381          4773   Guesthouse     2021-01-13  Female   29            No  ...   \n",
      "382          5220   Guesthouse     2025-05-13  Female   31           Yes  ...   \n",
      "\n",
      "     Weather Conditions  Trekking Group Size Guide/No Guide Equipment Used  \\\n",
      "0                     0                   10              1          Poles   \n",
      "1                     0                   12              1            NaN   \n",
      "2                     3                   12              1         Oxygen   \n",
      "3                     0                    5              1          Poles   \n",
      "4                     1                    6              0            NaN   \n",
      "..                  ...                  ...            ...            ...   \n",
      "378                   0                    5              1          Poles   \n",
      "379                   1                    6              0            NaN   \n",
      "380                   0                   10              1          Poles   \n",
      "381                   2                    8              0            NaN   \n",
      "382                   3                   12              1         Oxygen   \n",
      "\n",
      "     Purpose of Travel   Health Incidents  Review/Satisfaction  \\\n",
      "0              Leisure                NaN                  4.5   \n",
      "1                  NaN                NaN                  4.0   \n",
      "2              Charity                NaN                  5.0   \n",
      "3              Leisure                NaN                  4.0   \n",
      "4            Adventure       Minor Injury                  3.5   \n",
      "..                 ...                ...                  ...   \n",
      "378            Leisure                NaN                  4.0   \n",
      "379          Adventure       Minor Injury                  3.5   \n",
      "380            Leisure                NaN                  4.5   \n",
      "381          Adventure  Altitude Sickness                  3.0   \n",
      "382            Charity                NaN                  5.0   \n",
      "\n",
      "    Best Travel Time Trip Grade Numeric Health_Issue  \n",
      "0    Spring - Autumn                  3            0  \n",
      "1    Spring - Autumn                  3            0  \n",
      "2    Spring - Autumn                  3            0  \n",
      "3    Spring - Autumn                  3            0  \n",
      "4    Spring - Autumn                  3            1  \n",
      "..               ...                ...          ...  \n",
      "378  Winter - Autumn                  0            0  \n",
      "379  Winter - Autumn                  4            1  \n",
      "380  Winter - Autumn                  2            0  \n",
      "381  Winter - Autumn                  3            1  \n",
      "382  Winter - Autumn                  4            0  \n",
      "\n",
      "[383 rows x 24 columns]\n"
     ]
    }
   ],
   "execution_count": 125
  },
  {
   "metadata": {
    "ExecuteTime": {
     "end_time": "2024-10-15T06:28:57.786176Z",
     "start_time": "2024-10-15T06:28:57.779731Z"
    }
   },
   "cell_type": "code",
   "source": [
    "# mapping the fitness level\n",
    "fitness_mapping = {\n",
    "    'Beginner': 0,\n",
    "    'Intermediate': 1,\n",
    "    'Advanced': 2\n",
    "}\n",
    "# Map the 'Fitness Level' column\n",
    "df['Fitness Level'] = df['Fitness Level'].map(fitness_mapping)"
   ],
   "id": "10937bead9eedde9",
   "outputs": [],
   "execution_count": 126
  },
  {
   "metadata": {
    "ExecuteTime": {
     "end_time": "2024-10-15T06:28:57.833990Z",
     "start_time": "2024-10-15T06:28:57.828842Z"
    }
   },
   "cell_type": "code",
   "source": [
    "#nan value in the 'Fitness Level' column should be filled with the mode\n",
    "mode_value = df['Fitness Level'].mode()[0]\n",
    "df['Fitness Level'].fillna(mode_value, inplace=True)"
   ],
   "id": "8ffbe149ee891ae8",
   "outputs": [
    {
     "name": "stderr",
     "output_type": "stream",
     "text": [
      "C:\\Users\\supre\\AppData\\Local\\Temp\\ipykernel_3608\\1388618134.py:3: FutureWarning:\n",
      "\n",
      "A value is trying to be set on a copy of a DataFrame or Series through chained assignment using an inplace method.\n",
      "The behavior will change in pandas 3.0. This inplace method will never work because the intermediate object on which we are setting values always behaves as a copy.\n",
      "\n",
      "For example, when doing 'df[col].method(value, inplace=True)', try using 'df.method({col: value}, inplace=True)' or df[col] = df[col].method(value) instead, to perform the operation inplace on the original object.\n",
      "\n",
      "\n",
      "\n"
     ]
    }
   ],
   "execution_count": 127
  },
  {
   "metadata": {
    "ExecuteTime": {
     "end_time": "2024-10-15T06:28:57.872715Z",
     "start_time": "2024-10-15T06:28:57.863733Z"
    }
   },
   "cell_type": "code",
   "source": "df['Fitness Level'].value_counts()",
   "id": "6e0118dc424a7389",
   "outputs": [
    {
     "data": {
      "text/plain": [
       "Fitness Level\n",
       "0.0    176\n",
       "1.0    134\n",
       "2.0     73\n",
       "Name: count, dtype: int64"
      ]
     },
     "execution_count": 128,
     "metadata": {},
     "output_type": "execute_result"
    }
   ],
   "execution_count": 128
  },
  {
   "metadata": {
    "ExecuteTime": {
     "end_time": "2024-10-15T06:28:57.911603Z",
     "start_time": "2024-10-15T06:28:57.908526Z"
    }
   },
   "cell_type": "code",
   "source": [
    "# download the cleaned dataset\n",
    "# df.to_csv('Nepali_Trekking_cleaned.csv', index=False)"
   ],
   "id": "d4a56eb29b63c514",
   "outputs": [],
   "execution_count": 129
  },
  {
   "metadata": {},
   "cell_type": "markdown",
   "source": "Visualization and Analysis",
   "id": "d91f0ed22bb3a8f1"
  },
  {
   "metadata": {
    "ExecuteTime": {
     "end_time": "2024-10-15T06:28:58.248950Z",
     "start_time": "2024-10-15T06:28:57.965671Z"
    }
   },
   "cell_type": "code",
   "source": [
    " # Plot the distribution of 'Cost'\n",
    "plt.figure(figsize=(10, 6))\n",
    "sns.histplot(df_no_outliers['Cost'], kde=True)\n",
    "plt.title('Distribution of Trek Costs')\n",
    "plt.xlabel('Cost')\n",
    "plt.ylabel('Frequency')\n",
    "plt.show()"
   ],
   "id": "da22b90ce2f3bf58",
   "outputs": [
    {
     "data": {
      "text/plain": [
       "<Figure size 1000x600 with 1 Axes>"
      ],
      "image/png": "[encoded data removed]"
     },
     "metadata": {},
     "output_type": "display_data"
    }
   ],
   "execution_count": 130
  },
  {
   "metadata": {
    "ExecuteTime": {
     "end_time": "2024-10-15T06:28:58.313186Z",
     "start_time": "2024-10-15T06:28:58.252932Z"
    }
   },
   "cell_type": "code",
   "source": [
    "# visualization based on trek and best travel time\n",
    "fig = px.histogram(df, x='Trek', color='Best Travel Time', title='Trek Count by Best Travel Time')\n",
    "fig.show()"
   ],
   "id": "f6cb423cc2cc8376",
   "outputs": [
    {
     "data": {
      "application/vnd.plotly.v1+json": {
       "data": [
        {
         "alignmentgroup": "True",
         "bingroup": "x",
         "hovertemplate": "Best Travel Time=Spring - Autumn<br>Trek=%{x}<br>count=%{y}<extra></extra>",
         "legendgroup": "Spring - Autumn",
         "marker": {
          "color": "#636efa",
          "pattern": {
           "shape": ""
          }
         },
         "name": "Spring - Autumn",
         "offsetgroup": "Spring - Autumn",
         "orientation": "v",
         "showlegend": true,
         "x": [
          "Everest Base Camp Trek",
          "Everest Base Camp Short Trek",
          "Everest Base Camp Heli Shuttle Trek",
          "Everest Base Camp Heli Trek",
          "Everest Base Camp Trek for Seniors",
          "Everest Chola Pass Trek",
          "Gokyo Lake Renjo La Pass Trek",
          "Everest High Passes Trek",
          "Short Everest Trek",
          "Luxury Everest Base Camp Heli Trek",
          "Everest Base Camp Trek with Chola and Renjo La Pass",
          "Annapurna Base Camp Trek",
          "Annapurna Base Camp Short Trek",
          "Instant Annapurna Base Camp Trek",
          "Annapurna Base Camp Heli Trek",
          "Mardi Himal Trek",
          "Mardi Himal Trekking",
          "Classic Annapurna Circuit Trek",
          "Annapurna Circuit Trek",
          "Annapurna Circuit Short Trek",
          "Annapurna Luxury Trek",
          "Annapurna Tilicho Lake Trek",
          "Manaslu Circuit Trek",
          "Manaslu Circuit Trekking",
          "Tsum Valley with Manaslu Trek",
          "Upper Mustang Trek",
          "Upper Mustang Tiji Festival Trek",
          "Langtang Valley Trek",
          "Langtang Gosaikunda Trek",
          "Tamang Heritage Trek",
          "Annapurna Base Camp Trek",
          "Annapurna Base Camp Short Trek",
          "Instant Annapurna Base Camp Trek",
          "Annapurna Base Camp Heli Trek",
          "Mardi Himal Trek",
          "Mardi Himal Trekking",
          "Classic Annapurna Circuit Trek",
          "Annapurna Circuit Trek",
          "Annapurna Circuit Short Trek",
          "Annapurna Luxury Trek",
          "Annapurna Tilicho Lake Trek",
          "Manaslu Circuit Trek",
          "Manaslu Circuit Trekking",
          "Tsum Valley with Manaslu Trek",
          "Upper Mustang Trek",
          "Upper Mustang Tiji Festival Trek",
          "Langtang Valley Trek",
          "Langtang Gosaikunda Trek",
          "Tamang Heritage Trek",
          "Annapurna Base Camp Trek",
          "Annapurna Base Camp Short Trek",
          "Instant Annapurna Base Camp Trek",
          "Annapurna Base Camp Heli Trek",
          "Mardi Himal Trek",
          "Mardi Himal Trekking",
          "Classic Annapurna Circuit Trek",
          "Annapurna Circuit Trek",
          "Annapurna Circuit Short Trek",
          "Annapurna Luxury Trek",
          "Annapurna Tilicho Lake Trek",
          "Manaslu Circuit Trek",
          "Manaslu Circuit Trekking",
          "Tsum Valley with Manaslu Trek",
          "Upper Mustang Trek",
          "Upper Mustang Tiji Festival Trek",
          "Langtang Valley Trek",
          "Langtang Gosaikunda Trek",
          "Tamang Heritage Trek",
          "Annapurna Base Camp Trek",
          "Annapurna Base Camp Short Trek",
          "Instant Annapurna Base Camp Trek",
          "Annapurna Base Camp Heli Trek",
          "Mardi Himal Trek",
          "Mardi Himal Trekking",
          "Classic Annapurna Circuit Trek",
          "Annapurna Circuit Trek",
          "Annapurna Circuit Short Trek",
          "Annapurna Luxury Trek",
          "Annapurna Tilicho Lake Trek",
          "Manaslu Circuit Trek",
          "Manaslu Circuit Trekking",
          "Tsum Valley with Manaslu Trek",
          "Upper Mustang Trek",
          "Upper Mustang Tiji Festival Trek",
          "Langtang Valley Trek",
          "Langtang Gosaikunda Trek",
          "Tamang Heritage Trek",
          "Annapurna Base Camp Trek",
          "Annapurna Base Camp Short Trek",
          "Instant Annapurna Base Camp Trek",
          "Annapurna Base Camp Heli Trek",
          "Mardi Himal Trek",
          "Mardi Himal Trekking",
          "Classic Annapurna Circuit Trek",
          "Annapurna Circuit Trek",
          "Annapurna Circuit Short Trek",
          "Annapurna Luxury Trek",
          "Annapurna Tilicho Lake Trek",
          "Manaslu Circuit Trek",
          "Manaslu Circuit Trekking",
          "Tsum Valley with Manaslu Trek",
          "Upper Mustang Trek",
          "Upper Mustang Tiji Festival Trek",
          "Langtang Valley Trek",
          "Langtang Gosaikunda Trek",
          "Tamang Heritage Trek"
         ],
         "xaxis": "x",
         "yaxis": "y",
         "type": "histogram"
        },
        {
         "alignmentgroup": "True",
         "bingroup": "x",
         "hovertemplate": "Best Travel Time=Winter - Autumn<br>Trek=%{x}<br>count=%{y}<extra></extra>",
         "legendgroup": "Winter - Autumn",
         "marker": {
          "color": "#EF553B",
          "pattern": {
           "shape": ""
          }
         },
         "name": "Winter - Autumn",
         "offsetgroup": "Winter - Autumn",
         "orientation": "v",
         "showlegend": true,
         "x": [
          "Everest Panorama Trek",
          "Everest View Trek",
          "Annapurna Panorama Trek",
          "Short Annapurna Trek",
          "Tamang Heritage Trail",
          "Helambu Trek",
          "Annapurna Base Camp Trek",
          "Everest Base Camp Trek for Youths",
          "Everest Base Camp Short Trek",
          "Everest Base Camp Trek",
          "Annapurna Circuit Trek",
          "Everest Base Camp Luxury Lodge Trek",
          "Everest Base Camp Trek via Gokyo Lakes and Cho La Pass",
          "Upper Mustang Trek",
          "Everest Advanced Base Camp Trek from Tibet",
          "Gokyo Lakes and Gokyo Ri Trek",
          "Mardi Himal Trek",
          "Manaslu Circuit Trek",
          "Langtang Valley Trek",
          "Annapurna Sanctuary Trek",
          "Rara Lake Trek",
          "Everest High Passes Trek",
          "Kanchenjunga Circuit Trek",
          "Everest View Trek",
          "Tsum Valley Trek",
          "The Royal Trek",
          "Makalu Base Camp Trek",
          "Langtang Gosainkunda and Helambu Trek",
          "Nar Phu Valley Trek",
          "Annapurna Circle Trek",
          "Everest Kangshung Face Trek",
          "Tsum Valley and Manaslu Trek",
          "Khopra Ridge Community Trek",
          "Nepal Experience Tour",
          "Annapurna Circuit Trek with Tilicho Lake and Poon Hill",
          "Annapurna With Tilicho Lake Trek",
          "Langtang Valley Trek with Ganja la Pass",
          "Tamang Heritage Trek",
          "Manaslu and Annapurna Trek with Tilicho Lake",
          "Nepal Trekking and Everest Himalaya Heli Tour",
          "Nepal Hiking and Culture Tour",
          "Annapurna Sunrise and Everest View Trek",
          "Tenzing Hillary Everest Marathon",
          "Everest Base Camp Trek",
          "Everest Kalapathar Trekking",
          "Everest Panorama Trek",
          "Everest Base Camp Trek via Gokyo Lake",
          "Gokyo Lake Trek",
          "Everest Base Camp Heli Trek",
          "Annapurna Circuit Trek",
          "Annapurna Base Camp Trek",
          "Ghorepani Poon Hill Trek",
          "Upper Mustang Trek",
          "Mardi Himal Trek",
          "Langtang Valley Trekking",
          "Manaslu Circuit Trek",
          "Annapurna Panorama Trek",
          "Short Annapurna Trek",
          "Tamang Heritage Trail",
          "Helambu Trek",
          "Annapurna Base Camp Trek",
          "Everest Base Camp Trek for Youths",
          "Everest Base Camp Short Trek",
          "Everest Base Camp Trek",
          "Annapurna Circuit Trek",
          "Everest Base Camp Luxury Lodge Trek",
          "Everest Base Camp Trek via Gokyo Lakes and Cho La Pass",
          "Upper Mustang Trek",
          "Everest Advanced Base Camp Trek from Tibet",
          "Gokyo Lakes and Gokyo Ri Trek",
          "Mardi Himal Trek",
          "Manaslu Circuit Trek",
          "Langtang Valley Trek",
          "Annapurna Sanctuary Trek",
          "Rara Lake Trek",
          "Everest High Passes Trek",
          "Kanchenjunga Circuit Trek",
          "Everest View Trek",
          "Tsum Valley Trek",
          "The Royal Trek",
          "Makalu Base Camp Trek",
          "Langtang Gosainkunda and Helambu Trek",
          "Nar Phu Valley Trek",
          "Annapurna Circle Trek",
          "Everest Kangshung Face Trek",
          "Tsum Valley and Manaslu Trek",
          "Khopra Ridge Community Trek",
          "Nepal Experience Tour",
          "Annapurna Circuit Trek with Tilicho Lake and Poon Hill",
          "Annapurna With Tilicho Lake Trek",
          "Langtang Valley Trek with Ganja la Pass",
          "Tamang Heritage Trek",
          "Manaslu and Annapurna Trek with Tilicho Lake",
          "Nepal Trekking and Everest Himalaya Heli Tour",
          "Nepal Hiking and Culture Tour",
          "Annapurna Sunrise and Everest View Trek",
          "Tenzing Hillary Everest Marathon",
          "Everest Base Camp Trek",
          "Everest Kalapathar Trekking",
          "Everest Panorama Trek",
          "Everest Base Camp Trek via Gokyo Lake",
          "Gokyo Lake Trek",
          "Everest Base Camp Heli Trek",
          "Annapurna Circuit Trek",
          "Annapurna Base Camp Trek",
          "Ghorepani Poon Hill Trek",
          "Upper Mustang Trek",
          "Mardi Himal Trek",
          "Langtang Valley Trekking",
          "Manaslu Circuit Trek",
          "Annapurna Panorama Trek",
          "Short Annapurna Trek",
          "Tamang Heritage Trail",
          "Helambu Trek",
          "Annapurna Base Camp Trek",
          "Everest Base Camp Trek for Youths",
          "Everest Base Camp Short Trek",
          "Everest Base Camp Trek",
          "Annapurna Circuit Trek",
          "Everest Base Camp Luxury Lodge Trek",
          "Everest Base Camp Trek via Gokyo Lakes and Cho La Pass",
          "Upper Mustang Trek",
          "Everest Advanced Base Camp Trek from Tibet",
          "Gokyo Lakes and Gokyo Ri Trek",
          "Mardi Himal Trek",
          "Manaslu Circuit Trek",
          "Langtang Valley Trek",
          "Annapurna Sanctuary Trek",
          "Rara Lake Trek",
          "Everest High Passes Trek",
          "Kanchenjunga Circuit Trek",
          "Everest View Trek",
          "Tsum Valley Trek",
          "The Royal Trek",
          "Makalu Base Camp Trek",
          "Langtang Gosainkunda and Helambu Trek",
          "Nar Phu Valley Trek",
          "Annapurna Circle Trek",
          "Everest Kangshung Face Trek",
          "Tsum Valley and Manaslu Trek",
          "Khopra Ridge Community Trek",
          "Nepal Experience Tour",
          "Annapurna Circuit Trek with Tilicho Lake and Poon Hill",
          "Annapurna With Tilicho Lake Trek",
          "Langtang Valley Trek with Ganja la Pass",
          "Tamang Heritage Trek",
          "Manaslu and Annapurna Trek with Tilicho Lake",
          "Nepal Trekking and Everest Himalaya Heli Tour",
          "Nepal Hiking and Culture Tour",
          "Annapurna Sunrise and Everest View Trek",
          "Tenzing Hillary Everest Marathon",
          "Everest Base Camp Trek",
          "Everest Kalapathar Trekking",
          "Everest Panorama Trek",
          "Everest Base Camp Trek via Gokyo Lake",
          "Gokyo Lake Trek",
          "Everest Base Camp Heli Trek",
          "Annapurna Circuit Trek",
          "Annapurna Base Camp Trek",
          "Ghorepani Poon Hill Trek",
          "Upper Mustang Trek",
          "Mardi Himal Trek",
          "Langtang Valley Trekking",
          "Manaslu Circuit Trek",
          "Annapurna Panorama Trek",
          "Short Annapurna Trek",
          "Tamang Heritage Trail",
          "Helambu Trek",
          "Annapurna Base Camp Trek",
          "Everest Base Camp Trek for Youths",
          "Everest Base Camp Short Trek",
          "Everest Base Camp Trek",
          "Annapurna Circuit Trek",
          "Everest Base Camp Luxury Lodge Trek",
          "Everest Base Camp Trek via Gokyo Lakes and Cho La Pass",
          "Upper Mustang Trek",
          "Everest Advanced Base Camp Trek from Tibet",
          "Gokyo Lakes and Gokyo Ri Trek",
          "Mardi Himal Trek",
          "Manaslu Circuit Trek",
          "Langtang Valley Trek",
          "Annapurna Sanctuary Trek",
          "Rara Lake Trek",
          "Everest High Passes Trek",
          "Kanchenjunga Circuit Trek",
          "Everest View Trek",
          "Tsum Valley Trek",
          "The Royal Trek",
          "Makalu Base Camp Trek",
          "Langtang Gosainkunda and Helambu Trek",
          "Nar Phu Valley Trek",
          "Annapurna Circle Trek",
          "Everest Kangshung Face Trek",
          "Tsum Valley and Manaslu Trek",
          "Khopra Ridge Community Trek",
          "Nepal Experience Tour",
          "Annapurna Circuit Trek with Tilicho Lake and Poon Hill",
          "Annapurna With Tilicho Lake Trek",
          "Langtang Valley Trek with Ganja la Pass",
          "Tamang Heritage Trek",
          "Manaslu and Annapurna Trek with Tilicho Lake",
          "Nepal Trekking and Everest Himalaya Heli Tour",
          "Nepal Hiking and Culture Tour",
          "Annapurna Sunrise and Everest View Trek",
          "Tenzing Hillary Everest Marathon",
          "Everest Base Camp Trek",
          "Everest Kalapathar Trekking",
          "Everest Panorama Trek",
          "Everest Base Camp Trek via Gokyo Lake",
          "Gokyo Lake Trek",
          "Everest Base Camp Heli Trek",
          "Annapurna Circuit Trek",
          "Annapurna Base Camp Trek",
          "Ghorepani Poon Hill Trek",
          "Upper Mustang Trek",
          "Mardi Himal Trek",
          "Langtang Valley Trekking",
          "Manaslu Circuit Trek",
          "Annapurna Panorama Trek",
          "Short Annapurna Trek",
          "Tamang Heritage Trail",
          "Helambu Trek",
          "Annapurna Base Camp Trek",
          "Everest Base Camp Trek for Youths",
          "Everest Base Camp Short Trek",
          "Everest Base Camp Trek",
          "Annapurna Circuit Trek",
          "Everest Base Camp Luxury Lodge Trek",
          "Everest Base Camp Trek via Gokyo Lakes and Cho La Pass",
          "Upper Mustang Trek",
          "Everest Advanced Base Camp Trek from Tibet",
          "Gokyo Lakes and Gokyo Ri Trek",
          "Mardi Himal Trek",
          "Manaslu Circuit Trek",
          "Langtang Valley Trek",
          "Annapurna Sanctuary Trek",
          "Rara Lake Trek",
          "Everest High Passes Trek",
          "Kanchenjunga Circuit Trek",
          "Everest View Trek",
          "Tsum Valley Trek",
          "The Royal Trek",
          "Makalu Base Camp Trek",
          "Langtang Gosainkunda and Helambu Trek",
          "Nar Phu Valley Trek",
          "Annapurna Circle Trek",
          "Everest Kangshung Face Trek",
          "Tsum Valley and Manaslu Trek",
          "Khopra Ridge Community Trek",
          "Nepal Experience Tour",
          "Annapurna Circuit Trek with Tilicho Lake and Poon Hill",
          "Annapurna With Tilicho Lake Trek",
          "Langtang Valley Trek with Ganja la Pass",
          "Tamang Heritage Trek",
          "Manaslu and Annapurna Trek with Tilicho Lake",
          "Nepal Trekking and Everest Himalaya Heli Tour",
          "Nepal Hiking and Culture Tour",
          "Annapurna Sunrise and Everest View Trek",
          "Tenzing Hillary Everest Marathon",
          "Everest Base Camp Trek",
          "Everest Kalapathar Trekking",
          "Everest Panorama Trek",
          "Everest Base Camp Trek via Gokyo Lake",
          "Gokyo Lake Trek",
          "Everest Base Camp Heli Trek",
          "Annapurna Circuit Trek",
          "Annapurna Base Camp Trek",
          "Ghorepani Poon Hill Trek",
          "Upper Mustang Trek",
          "Mardi Himal Trek",
          "Langtang Valley Trekking",
          "Manaslu Circuit Trek"
         ],
         "xaxis": "x",
         "yaxis": "y",
         "type": "histogram"
        },
        {
         "alignmentgroup": "True",
         "bingroup": "x",
         "hovertemplate": "Best Travel Time=Autumn - Autumn<br>Trek=%{x}<br>count=%{y}<extra></extra>",
         "legendgroup": "Autumn - Autumn",
         "marker": {
          "color": "#00cc96",
          "pattern": {
           "shape": ""
          }
         },
         "name": "Autumn - Autumn",
         "offsetgroup": "Autumn - Autumn",
         "orientation": "v",
         "showlegend": true,
         "x": [
          "Upper Mustang Trek with Yara",
          "Upper Mustang Trek with Yara",
          "Upper Mustang Trek with Yara",
          "Upper Mustang Trek with Yara",
          "Upper Mustang Trek with Yara"
         ],
         "xaxis": "x",
         "yaxis": "y",
         "type": "histogram"
        }
       ],
       "layout": {
        "template": {
         "data": {
          "histogram2dcontour": [
           {
            "type": "histogram2dcontour",
            "colorbar": {
             "outlinewidth": 0,
             "ticks": ""
            },
            "colorscale": [
             [
              0.0,
              "#0d0887"
             ],
             [
              0.1111111111111111,
              "#46039f"
             ],
             [
              0.2222222222222222,
              "#7201a8"
             ],
             [
              0.3333333333333333,
              "#9c179e"
             ],
             [
              0.4444444444444444,
              "#bd3786"
             ],
             [
              0.5555555555555556,
              "#d8576b"
             ],
             [
              0.6666666666666666,
              "#ed7953"
             ],
             [
              0.7777777777777778,
              "#fb9f3a"
             ],
             [
              0.8888888888888888,
              "#fdca26"
             ],
             [
              1.0,
              "#f0f921"
             ]
            ]
           }
          ],
          "choropleth": [
           {
            "type": "choropleth",
            "colorbar": {
             "outlinewidth": 0,
             "ticks": ""
            }
           }
          ],
          "histogram2d": [
           {
            "type": "histogram2d",
            "colorbar": {
             "outlinewidth": 0,
             "ticks": ""
            },
            "colorscale": [
             [
              0.0,
              "#0d0887"
             ],
             [
              0.1111111111111111,
              "#46039f"
             ],
             [
              0.2222222222222222,
              "#7201a8"
             ],
             [
              0.3333333333333333,
              "#9c179e"
             ],
             [
              0.4444444444444444,
              "#bd3786"
             ],
             [
              0.5555555555555556,
              "#d8576b"
             ],
             [
              0.6666666666666666,
              "#ed7953"
             ],
             [
              0.7777777777777778,
              "#fb9f3a"
             ],
             [
              0.8888888888888888,
              "#fdca26"
             ],
             [
              1.0,
              "#f0f921"
             ]
            ]
           }
          ],
          "heatmap": [
           {
            "type": "heatmap",
            "colorbar": {
             "outlinewidth": 0,
             "ticks": ""
            },
            "colorscale": [
             [
              0.0,
              "#0d0887"
             ],
             [
              0.1111111111111111,
              "#46039f"
             ],
             [
              0.2222222222222222,
              "#7201a8"
             ],
             [
              0.3333333333333333,
              "#9c179e"
             ],
             [
              0.4444444444444444,
              "#bd3786"
             ],
             [
              0.5555555555555556,
              "#d8576b"
             ],
             [
              0.6666666666666666,
              "#ed7953"
             ],
             [
              0.7777777777777778,
              "#fb9f3a"
             ],
             [
              0.8888888888888888,
              "#fdca26"
             ],
             [
              1.0,
              "#f0f921"
             ]
            ]
           }
          ],
          "heatmapgl": [
           {
            "type": "heatmapgl",
            "colorbar": {
             "outlinewidth": 0,
             "ticks": ""
            },
            "colorscale": [
             [
              0.0,
              "#0d0887"
             ],
             [
              0.1111111111111111,
              "#46039f"
             ],
             [
              0.2222222222222222,
              "#7201a8"
             ],
             [
              0.3333333333333333,
              "#9c179e"
             ],
             [
              0.4444444444444444,
              "#bd3786"
             ],
             [
              0.5555555555555556,
              "#d8576b"
             ],
             [
              0.6666666666666666,
              "#ed7953"
             ],
             [
              0.7777777777777778,
              "#fb9f3a"
             ],
             [
              0.8888888888888888,
              "#fdca26"
             ],
             [
              1.0,
              "#f0f921"
             ]
            ]
           }
          ],
          "contourcarpet": [
           {
            "type": "contourcarpet",
            "colorbar": {
             "outlinewidth": 0,
             "ticks": ""
            }
           }
          ],
          "contour": [
           {
            "type": "contour",
            "colorbar": {
             "outlinewidth": 0,
             "ticks": ""
            },
            "colorscale": [
             [
              0.0,
              "#0d0887"
             ],
             [
              0.1111111111111111,
              "#46039f"
             ],
             [
              0.2222222222222222,
              "#7201a8"
             ],
             [
              0.3333333333333333,
              "#9c179e"
             ],
             [
              0.4444444444444444,
              "#bd3786"
             ],
             [
              0.5555555555555556,
              "#d8576b"
             ],
             [
              0.6666666666666666,
              "#ed7953"
             ],
             [
              0.7777777777777778,
              "#fb9f3a"
             ],
             [
              0.8888888888888888,
              "#fdca26"
             ],
             [
              1.0,
              "#f0f921"
             ]
            ]
           }
          ],
          "surface": [
           {
            "type": "surface",
            "colorbar": {
             "outlinewidth": 0,
             "ticks": ""
            },
            "colorscale": [
             [
              0.0,
              "#0d0887"
             ],
             [
              0.1111111111111111,
              "#46039f"
             ],
             [
              0.2222222222222222,
              "#7201a8"
             ],
             [
              0.3333333333333333,
              "#9c179e"
             ],
             [
              0.4444444444444444,
              "#bd3786"
             ],
             [
              0.5555555555555556,
              "#d8576b"
             ],
             [
              0.6666666666666666,
              "#ed7953"
             ],
             [
              0.7777777777777778,
              "#fb9f3a"
             ],
             [
              0.8888888888888888,
              "#fdca26"
             ],
             [
              1.0,
              "#f0f921"
             ]
            ]
           }
          ],
          "mesh3d": [
           {
            "type": "mesh3d",
            "colorbar": {
             "outlinewidth": 0,
             "ticks": ""
            }
           }
          ],
          "scatter": [
           {
            "marker": {
             "line": {
              "color": "#283442"
             }
            },
            "type": "scatter"
           }
          ],
          "parcoords": [
           {
            "type": "parcoords",
            "line": {
             "colorbar": {
              "outlinewidth": 0,
              "ticks": ""
             }
            }
           }
          ],
          "scatterpolargl": [
           {
            "type": "scatterpolargl",
            "marker": {
             "colorbar": {
              "outlinewidth": 0,
              "ticks": ""
             }
            }
           }
          ],
          "bar": [
           {
            "error_x": {
             "color": "#f2f5fa"
            },
            "error_y": {
             "color": "#f2f5fa"
            },
            "marker": {
             "line": {
              "color": "rgb(17,17,17)",
              "width": 0.5
             },
             "pattern": {
              "fillmode": "overlay",
              "size": 10,
              "solidity": 0.2
             }
            },
            "type": "bar"
           }
          ],
          "scattergeo": [
           {
            "type": "scattergeo",
            "marker": {
             "colorbar": {
              "outlinewidth": 0,
              "ticks": ""
             }
            }
           }
          ],
          "scatterpolar": [
           {
            "type": "scatterpolar",
            "marker": {
             "colorbar": {
              "outlinewidth": 0,
              "ticks": ""
             }
            }
           }
          ],
          "histogram": [
           {
            "marker": {
             "pattern": {
              "fillmode": "overlay",
              "size": 10,
              "solidity": 0.2
             }
            },
            "type": "histogram"
           }
          ],
          "scattergl": [
           {
            "marker": {
             "line": {
              "color": "#283442"
             }
            },
            "type": "scattergl"
           }
          ],
          "scatter3d": [
           {
            "type": "scatter3d",
            "line": {
             "colorbar": {
              "outlinewidth": 0,
              "ticks": ""
             }
            },
            "marker": {
             "colorbar": {
              "outlinewidth": 0,
              "ticks": ""
             }
            }
           }
          ],
          "scattermapbox": [
           {
            "type": "scattermapbox",
            "marker": {
             "colorbar": {
              "outlinewidth": 0,
              "ticks": ""
             }
            }
           }
          ],
          "scatterternary": [
           {
            "type": "scatterternary",
            "marker": {
             "colorbar": {
              "outlinewidth": 0,
              "ticks": ""
             }
            }
           }
          ],
          "scattercarpet": [
           {
            "type": "scattercarpet",
            "marker": {
             "colorbar": {
              "outlinewidth": 0,
              "ticks": ""
             }
            }
           }
          ],
          "carpet": [
           {
            "aaxis": {
             "endlinecolor": "#A2B1C6",
             "gridcolor": "#506784",
             "linecolor": "#506784",
             "minorgridcolor": "#506784",
             "startlinecolor": "#A2B1C6"
            },
            "baxis": {
             "endlinecolor": "#A2B1C6",
             "gridcolor": "#506784",
             "linecolor": "#506784",
             "minorgridcolor": "#506784",
             "startlinecolor": "#A2B1C6"
            },
            "type": "carpet"
           }
          ],
          "table": [
           {
            "cells": {
             "fill": {
              "color": "#506784"
             },
             "line": {
              "color": "rgb(17,17,17)"
             }
            },
            "header": {
             "fill": {
              "color": "#2a3f5f"
             },
             "line": {
              "color": "rgb(17,17,17)"
             }
            },
            "type": "table"
           }
          ],
          "barpolar": [
           {
            "marker": {
             "line": {
              "color": "rgb(17,17,17)",
              "width": 0.5
             },
             "pattern": {
              "fillmode": "overlay",
              "size": 10,
              "solidity": 0.2
             }
            },
            "type": "barpolar"
           }
          ],
          "pie": [
           {
            "automargin": true,
            "type": "pie"
           }
          ]
         },
         "layout": {
          "autotypenumbers": "strict",
          "colorway": [
           "#636efa",
           "#EF553B",
           "#00cc96",
           "#ab63fa",
           "#FFA15A",
           "#19d3f3",
           "#FF6692",
           "#B6E880",
           "#FF97FF",
           "#FECB52"
          ],
          "font": {
           "color": "#f2f5fa"
          },
          "hovermode": "closest",
          "hoverlabel": {
           "align": "left"
          },
          "paper_bgcolor": "rgb(17,17,17)",
          "plot_bgcolor": "rgb(17,17,17)",
          "polar": {
           "bgcolor": "rgb(17,17,17)",
           "angularaxis": {
            "gridcolor": "#506784",
            "linecolor": "#506784",
            "ticks": ""
           },
           "radialaxis": {
            "gridcolor": "#506784",
            "linecolor": "#506784",
            "ticks": ""
           }
          },
          "ternary": {
           "bgcolor": "rgb(17,17,17)",
           "aaxis": {
            "gridcolor": "#506784",
            "linecolor": "#506784",
            "ticks": ""
           },
           "baxis": {
            "gridcolor": "#506784",
            "linecolor": "#506784",
            "ticks": ""
           },
           "caxis": {
            "gridcolor": "#506784",
            "linecolor": "#506784",
            "ticks": ""
           }
          },
          "coloraxis": {
           "colorbar": {
            "outlinewidth": 0,
            "ticks": ""
           }
          },
          "colorscale": {
           "sequential": [
            [
             0.0,
             "#0d0887"
            ],
            [
             0.1111111111111111,
             "#46039f"
            ],
            [
             0.2222222222222222,
             "#7201a8"
            ],
            [
             0.3333333333333333,
             "#9c179e"
            ],
            [
             0.4444444444444444,
             "#bd3786"
            ],
            [
             0.5555555555555556,
             "#d8576b"
            ],
            [
             0.6666666666666666,
             "#ed7953"
            ],
            [
             0.7777777777777778,
             "#fb9f3a"
            ],
            [
             0.8888888888888888,
             "#fdca26"
            ],
            [
             1.0,
             "#f0f921"
            ]
           ],
           "sequentialminus": [
            [
             0.0,
             "#0d0887"
            ],
            [
             0.1111111111111111,
             "#46039f"
            ],
            [
             0.2222222222222222,
             "#7201a8"
            ],
            [
             0.3333333333333333,
             "#9c179e"
            ],
            [
             0.4444444444444444,
             "#bd3786"
            ],
            [
             0.5555555555555556,
             "#d8576b"
            ],
            [
             0.6666666666666666,
             "#ed7953"
            ],
            [
             0.7777777777777778,
             "#fb9f3a"
            ],
            [
             0.8888888888888888,
             "#fdca26"
            ],
            [
             1.0,
             "#f0f921"
            ]
           ],
           "diverging": [
            [
             0,
             "#8e0152"
            ],
            [
             0.1,
             "#c51b7d"
            ],
            [
             0.2,
             "#de77ae"
            ],
            [
             0.3,
             "#f1b6da"
            ],
            [
             0.4,
             "#fde0ef"
            ],
            [
             0.5,
             "#f7f7f7"
            ],
            [
             0.6,
             "#e6f5d0"
            ],
            [
             0.7,
             "#b8e186"
            ],
            [
             0.8,
             "#7fbc41"
            ],
            [
             0.9,
             "#4d9221"
            ],
            [
             1,
             "#276419"
            ]
           ]
          },
          "xaxis": {
           "gridcolor": "#283442",
           "linecolor": "#506784",
           "ticks": "",
           "title": {
            "standoff": 15
           },
           "zerolinecolor": "#283442",
           "automargin": true,
           "zerolinewidth": 2
          },
          "yaxis": {
           "gridcolor": "#283442",
           "linecolor": "#506784",
           "ticks": "",
           "title": {
            "standoff": 15
           },
           "zerolinecolor": "#283442",
           "automargin": true,
           "zerolinewidth": 2
          },
          "scene": {
           "xaxis": {
            "backgroundcolor": "rgb(17,17,17)",
            "gridcolor": "#506784",
            "linecolor": "#506784",
            "showbackground": true,
            "ticks": "",
            "zerolinecolor": "#C8D4E3",
            "gridwidth": 2
           },
           "yaxis": {
            "backgroundcolor": "rgb(17,17,17)",
            "gridcolor": "#506784",
            "linecolor": "#506784",
            "showbackground": true,
            "ticks": "",
            "zerolinecolor": "#C8D4E3",
            "gridwidth": 2
           },
           "zaxis": {
            "backgroundcolor": "rgb(17,17,17)",
            "gridcolor": "#506784",
            "linecolor": "#506784",
            "showbackground": true,
            "ticks": "",
            "zerolinecolor": "#C8D4E3",
            "gridwidth": 2
           }
          },
          "shapedefaults": {
           "line": {
            "color": "#f2f5fa"
           }
          },
          "annotationdefaults": {
           "arrowcolor": "#f2f5fa",
           "arrowhead": 0,
           "arrowwidth": 1
          },
          "geo": {
           "bgcolor": "rgb(17,17,17)",
           "landcolor": "rgb(17,17,17)",
           "subunitcolor": "#506784",
           "showland": true,
           "showlakes": true,
           "lakecolor": "rgb(17,17,17)"
          },
          "title": {
           "x": 0.05
          },
          "updatemenudefaults": {
           "bgcolor": "#506784",
           "borderwidth": 0
          },
          "sliderdefaults": {
           "bgcolor": "#C8D4E3",
           "borderwidth": 1,
           "bordercolor": "rgb(17,17,17)",
           "tickwidth": 0
          },
          "mapbox": {
           "style": "dark"
          }
         }
        },
        "xaxis": {
         "anchor": "y",
         "domain": [
          0.0,
          1.0
         ],
         "title": {
          "text": "Trek"
         }
        },
        "yaxis": {
         "anchor": "x",
         "domain": [
          0.0,
          1.0
         ],
         "title": {
          "text": "count"
         }
        },
        "legend": {
         "title": {
          "text": "Best Travel Time"
         },
         "tracegroupgap": 0
        },
        "title": {
         "text": "Trek Count by Best Travel Time"
        },
        "barmode": "relative"
       },
       "config": {
        "plotlyServerURL": "https://plot.ly"
       }
      },
      "text/html": [
       "<div>                            <div id=\"138626fe-34ae-4cdd-98aa-ee71fb96f3f7\" class=\"plotly-graph-div\" style=\"height:525px; width:100%;\"></div>            <script type=\"text/javascript\">                require([\"plotly\"], function(Plotly) {                    window.PLOTLYENV=window.PLOTLYENV || {};                                    if (document.getElementById(\"138626fe-34ae-4cdd-98aa-ee71fb96f3f7\")) {                    Plotly.newPlot(                        \"138626fe-34ae-4cdd-98aa-ee71fb96f3f7\",                        [{\"alignmentgroup\":\"True\",\"bingroup\":\"x\",\"hovertemplate\":\"Best Travel Time=Spring - Autumn\\u003cbr\\u003eTrek=%{x}\\u003cbr\\u003ecount=%{y}\\u003cextra\\u003e\\u003c\\u002fextra\\u003e\",\"legendgroup\":\"Spring - Autumn\",\"marker\":{\"color\":\"#636efa\",\"pattern\":{\"shape\":\"\"}},\"name\":\"Spring - Autumn\",\"offsetgroup\":\"Spring - Autumn\",\"orientation\":\"v\",\"showlegend\":true,\"x\":[\"Everest Base Camp Trek\",\"Everest Base Camp Short Trek\",\"Everest Base Camp Heli Shuttle Trek\",\"Everest Base Camp Heli Trek\",\"Everest Base Camp Trek for Seniors\",\"Everest Chola Pass Trek\",\"Gokyo Lake Renjo La Pass Trek\",\"Everest High Passes Trek\",\"Short Everest Trek\",\"Luxury Everest Base Camp Heli Trek\",\"Everest Base Camp Trek with Chola and Renjo La Pass\",\"Annapurna Base Camp Trek\",\"Annapurna Base Camp Short Trek\",\"Instant Annapurna Base Camp Trek\",\"Annapurna Base Camp Heli Trek\",\"Mardi Himal Trek\",\"Mardi Himal Trekking\",\"Classic Annapurna Circuit Trek\",\"Annapurna Circuit Trek\",\"Annapurna Circuit Short Trek\",\"Annapurna Luxury Trek\",\"Annapurna Tilicho Lake Trek\",\"Manaslu Circuit Trek\",\"Manaslu Circuit Trekking\",\"Tsum Valley with Manaslu Trek\",\"Upper Mustang Trek\",\"Upper Mustang Tiji Festival Trek\",\"Langtang Valley Trek\",\"Langtang Gosaikunda Trek\",\"Tamang Heritage Trek\",\"Annapurna Base Camp Trek\",\"Annapurna Base Camp Short Trek\",\"Instant Annapurna Base Camp Trek\",\"Annapurna Base Camp Heli Trek\",\"Mardi Himal Trek\",\"Mardi Himal Trekking\",\"Classic Annapurna Circuit Trek\",\"Annapurna Circuit Trek\",\"Annapurna Circuit Short Trek\",\"Annapurna Luxury Trek\",\"Annapurna Tilicho Lake Trek\",\"Manaslu Circuit Trek\",\"Manaslu Circuit Trekking\",\"Tsum Valley with Manaslu Trek\",\"Upper Mustang Trek\",\"Upper Mustang Tiji Festival Trek\",\"Langtang Valley Trek\",\"Langtang Gosaikunda Trek\",\"Tamang Heritage Trek\",\"Annapurna Base Camp Trek\",\"Annapurna Base Camp Short Trek\",\"Instant Annapurna Base Camp Trek\",\"Annapurna Base Camp Heli Trek\",\"Mardi Himal Trek\",\"Mardi Himal Trekking\",\"Classic Annapurna Circuit Trek\",\"Annapurna Circuit Trek\",\"Annapurna Circuit Short Trek\",\"Annapurna Luxury Trek\",\"Annapurna Tilicho Lake Trek\",\"Manaslu Circuit Trek\",\"Manaslu Circuit Trekking\",\"Tsum Valley with Manaslu Trek\",\"Upper Mustang Trek\",\"Upper Mustang Tiji Festival Trek\",\"Langtang Valley Trek\",\"Langtang Gosaikunda Trek\",\"Tamang Heritage Trek\",\"Annapurna Base Camp Trek\",\"Annapurna Base Camp Short Trek\",\"Instant Annapurna Base Camp Trek\",\"Annapurna Base Camp Heli Trek\",\"Mardi Himal Trek\",\"Mardi Himal Trekking\",\"Classic Annapurna Circuit Trek\",\"Annapurna Circuit Trek\",\"Annapurna Circuit Short Trek\",\"Annapurna Luxury Trek\",\"Annapurna Tilicho Lake Trek\",\"Manaslu Circuit Trek\",\"Manaslu Circuit Trekking\",\"Tsum Valley with Manaslu Trek\",\"Upper Mustang Trek\",\"Upper Mustang Tiji Festival Trek\",\"Langtang Valley Trek\",\"Langtang Gosaikunda Trek\",\"Tamang Heritage Trek\",\"Annapurna Base Camp Trek\",\"Annapurna Base Camp Short Trek\",\"Instant Annapurna Base Camp Trek\",\"Annapurna Base Camp Heli Trek\",\"Mardi Himal Trek\",\"Mardi Himal Trekking\",\"Classic Annapurna Circuit Trek\",\"Annapurna Circuit Trek\",\"Annapurna Circuit Short Trek\",\"Annapurna Luxury Trek\",\"Annapurna Tilicho Lake Trek\",\"Manaslu Circuit Trek\",\"Manaslu Circuit Trekking\",\"Tsum Valley with Manaslu Trek\",\"Upper Mustang Trek\",\"Upper Mustang Tiji Festival Trek\",\"Langtang Valley Trek\",\"Langtang Gosaikunda Trek\",\"Tamang Heritage Trek\"],\"xaxis\":\"x\",\"yaxis\":\"y\",\"type\":\"histogram\"},{\"alignmentgroup\":\"True\",\"bingroup\":\"x\",\"hovertemplate\":\"Best Travel Time=Winter - Autumn\\u003cbr\\u003eTrek=%{x}\\u003cbr\\u003ecount=%{y}\\u003cextra\\u003e\\u003c\\u002fextra\\u003e\",\"legendgroup\":\"Winter - Autumn\",\"marker\":{\"color\":\"#EF553B\",\"pattern\":{\"shape\":\"\"}},\"name\":\"Winter - Autumn\",\"offsetgroup\":\"Winter - Autumn\",\"orientation\":\"v\",\"showlegend\":true,\"x\":[\"Everest Panorama Trek\",\"Everest View Trek\",\"Annapurna Panorama Trek\",\"Short Annapurna Trek\",\"Tamang Heritage Trail\",\"Helambu Trek\",\"Annapurna Base Camp Trek\",\"Everest Base Camp Trek for Youths\",\"Everest Base Camp Short Trek\",\"Everest Base Camp Trek\",\"Annapurna Circuit Trek\",\"Everest Base Camp Luxury Lodge Trek\",\"Everest Base Camp Trek via Gokyo Lakes and Cho La Pass\",\"Upper Mustang Trek\",\"Everest Advanced Base Camp Trek from Tibet\",\"Gokyo Lakes and Gokyo Ri Trek\",\"Mardi Himal Trek\",\"Manaslu Circuit Trek\",\"Langtang Valley Trek\",\"Annapurna Sanctuary Trek\",\"Rara Lake Trek\",\"Everest High Passes Trek\",\"Kanchenjunga Circuit Trek\",\"Everest View Trek\",\"Tsum Valley Trek\",\"The Royal Trek\",\"Makalu Base Camp Trek\",\"Langtang Gosainkunda and Helambu Trek\",\"Nar Phu Valley Trek\",\"Annapurna Circle Trek\",\"Everest Kangshung Face Trek\",\"Tsum Valley and Manaslu Trek\",\"Khopra Ridge Community Trek\",\"Nepal Experience Tour\",\"Annapurna Circuit Trek with Tilicho Lake and Poon Hill\",\"Annapurna With Tilicho Lake Trek\",\"Langtang Valley Trek with Ganja la Pass\",\"Tamang Heritage Trek\",\"Manaslu and Annapurna Trek with Tilicho Lake\",\"Nepal Trekking and Everest Himalaya Heli Tour\",\"Nepal Hiking and Culture Tour\",\"Annapurna Sunrise and Everest View Trek\",\"Tenzing Hillary Everest Marathon\",\"Everest Base Camp Trek\",\"Everest Kalapathar Trekking\",\"Everest Panorama Trek\",\"Everest Base Camp Trek via Gokyo Lake\",\"Gokyo Lake Trek\",\"Everest Base Camp Heli Trek\",\"Annapurna Circuit Trek\",\"Annapurna Base Camp Trek\",\"Ghorepani Poon Hill Trek\",\"Upper Mustang Trek\",\"Mardi Himal Trek\",\"Langtang Valley Trekking\",\"Manaslu Circuit Trek\",\"Annapurna Panorama Trek\",\"Short Annapurna Trek\",\"Tamang Heritage Trail\",\"Helambu Trek\",\"Annapurna Base Camp Trek\",\"Everest Base Camp Trek for Youths\",\"Everest Base Camp Short Trek\",\"Everest Base Camp Trek\",\"Annapurna Circuit Trek\",\"Everest Base Camp Luxury Lodge Trek\",\"Everest Base Camp Trek via Gokyo Lakes and Cho La Pass\",\"Upper Mustang Trek\",\"Everest Advanced Base Camp Trek from Tibet\",\"Gokyo Lakes and Gokyo Ri Trek\",\"Mardi Himal Trek\",\"Manaslu Circuit Trek\",\"Langtang Valley Trek\",\"Annapurna Sanctuary Trek\",\"Rara Lake Trek\",\"Everest High Passes Trek\",\"Kanchenjunga Circuit Trek\",\"Everest View Trek\",\"Tsum Valley Trek\",\"The Royal Trek\",\"Makalu Base Camp Trek\",\"Langtang Gosainkunda and Helambu Trek\",\"Nar Phu Valley Trek\",\"Annapurna Circle Trek\",\"Everest Kangshung Face Trek\",\"Tsum Valley and Manaslu Trek\",\"Khopra Ridge Community Trek\",\"Nepal Experience Tour\",\"Annapurna Circuit Trek with Tilicho Lake and Poon Hill\",\"Annapurna With Tilicho Lake Trek\",\"Langtang Valley Trek with Ganja la Pass\",\"Tamang Heritage Trek\",\"Manaslu and Annapurna Trek with Tilicho Lake\",\"Nepal Trekking and Everest Himalaya Heli Tour\",\"Nepal Hiking and Culture Tour\",\"Annapurna Sunrise and Everest View Trek\",\"Tenzing Hillary Everest Marathon\",\"Everest Base Camp Trek\",\"Everest Kalapathar Trekking\",\"Everest Panorama Trek\",\"Everest Base Camp Trek via Gokyo Lake\",\"Gokyo Lake Trek\",\"Everest Base Camp Heli Trek\",\"Annapurna Circuit Trek\",\"Annapurna Base Camp Trek\",\"Ghorepani Poon Hill Trek\",\"Upper Mustang Trek\",\"Mardi Himal Trek\",\"Langtang Valley Trekking\",\"Manaslu Circuit Trek\",\"Annapurna Panorama Trek\",\"Short Annapurna Trek\",\"Tamang Heritage Trail\",\"Helambu Trek\",\"Annapurna Base Camp Trek\",\"Everest Base Camp Trek for Youths\",\"Everest Base Camp Short Trek\",\"Everest Base Camp Trek\",\"Annapurna Circuit Trek\",\"Everest Base Camp Luxury Lodge Trek\",\"Everest Base Camp Trek via Gokyo Lakes and Cho La Pass\",\"Upper Mustang Trek\",\"Everest Advanced Base Camp Trek from Tibet\",\"Gokyo Lakes and Gokyo Ri Trek\",\"Mardi Himal Trek\",\"Manaslu Circuit Trek\",\"Langtang Valley Trek\",\"Annapurna Sanctuary Trek\",\"Rara Lake Trek\",\"Everest High Passes Trek\",\"Kanchenjunga Circuit Trek\",\"Everest View Trek\",\"Tsum Valley Trek\",\"The Royal Trek\",\"Makalu Base Camp Trek\",\"Langtang Gosainkunda and Helambu Trek\",\"Nar Phu Valley Trek\",\"Annapurna Circle Trek\",\"Everest Kangshung Face Trek\",\"Tsum Valley and Manaslu Trek\",\"Khopra Ridge Community Trek\",\"Nepal Experience Tour\",\"Annapurna Circuit Trek with Tilicho Lake and Poon Hill\",\"Annapurna With Tilicho Lake Trek\",\"Langtang Valley Trek with Ganja la Pass\",\"Tamang Heritage Trek\",\"Manaslu and Annapurna Trek with Tilicho Lake\",\"Nepal Trekking and Everest Himalaya Heli Tour\",\"Nepal Hiking and Culture Tour\",\"Annapurna Sunrise and Everest View Trek\",\"Tenzing Hillary Everest Marathon\",\"Everest Base Camp Trek\",\"Everest Kalapathar Trekking\",\"Everest Panorama Trek\",\"Everest Base Camp Trek via Gokyo Lake\",\"Gokyo Lake Trek\",\"Everest Base Camp Heli Trek\",\"Annapurna Circuit Trek\",\"Annapurna Base Camp Trek\",\"Ghorepani Poon Hill Trek\",\"Upper Mustang Trek\",\"Mardi Himal Trek\",\"Langtang Valley Trekking\",\"Manaslu Circuit Trek\",\"Annapurna Panorama Trek\",\"Short Annapurna Trek\",\"Tamang Heritage Trail\",\"Helambu Trek\",\"Annapurna Base Camp Trek\",\"Everest Base Camp Trek for Youths\",\"Everest Base Camp Short Trek\",\"Everest Base Camp Trek\",\"Annapurna Circuit Trek\",\"Everest Base Camp Luxury Lodge Trek\",\"Everest Base Camp Trek via Gokyo Lakes and Cho La Pass\",\"Upper Mustang Trek\",\"Everest Advanced Base Camp Trek from Tibet\",\"Gokyo Lakes and Gokyo Ri Trek\",\"Mardi Himal Trek\",\"Manaslu Circuit Trek\",\"Langtang Valley Trek\",\"Annapurna Sanctuary Trek\",\"Rara Lake Trek\",\"Everest High Passes Trek\",\"Kanchenjunga Circuit Trek\",\"Everest View Trek\",\"Tsum Valley Trek\",\"The Royal Trek\",\"Makalu Base Camp Trek\",\"Langtang Gosainkunda and Helambu Trek\",\"Nar Phu Valley Trek\",\"Annapurna Circle Trek\",\"Everest Kangshung Face Trek\",\"Tsum Valley and Manaslu Trek\",\"Khopra Ridge Community Trek\",\"Nepal Experience Tour\",\"Annapurna Circuit Trek with Tilicho Lake and Poon Hill\",\"Annapurna With Tilicho Lake Trek\",\"Langtang Valley Trek with Ganja la Pass\",\"Tamang Heritage Trek\",\"Manaslu and Annapurna Trek with Tilicho Lake\",\"Nepal Trekking and Everest Himalaya Heli Tour\",\"Nepal Hiking and Culture Tour\",\"Annapurna Sunrise and Everest View Trek\",\"Tenzing Hillary Everest Marathon\",\"Everest Base Camp Trek\",\"Everest Kalapathar Trekking\",\"Everest Panorama Trek\",\"Everest Base Camp Trek via Gokyo Lake\",\"Gokyo Lake Trek\",\"Everest Base Camp Heli Trek\",\"Annapurna Circuit Trek\",\"Annapurna Base Camp Trek\",\"Ghorepani Poon Hill Trek\",\"Upper Mustang Trek\",\"Mardi Himal Trek\",\"Langtang Valley Trekking\",\"Manaslu Circuit Trek\",\"Annapurna Panorama Trek\",\"Short Annapurna Trek\",\"Tamang Heritage Trail\",\"Helambu Trek\",\"Annapurna Base Camp Trek\",\"Everest Base Camp Trek for Youths\",\"Everest Base Camp Short Trek\",\"Everest Base Camp Trek\",\"Annapurna Circuit Trek\",\"Everest Base Camp Luxury Lodge Trek\",\"Everest Base Camp Trek via Gokyo Lakes and Cho La Pass\",\"Upper Mustang Trek\",\"Everest Advanced Base Camp Trek from Tibet\",\"Gokyo Lakes and Gokyo Ri Trek\",\"Mardi Himal Trek\",\"Manaslu Circuit Trek\",\"Langtang Valley Trek\",\"Annapurna Sanctuary Trek\",\"Rara Lake Trek\",\"Everest High Passes Trek\",\"Kanchenjunga Circuit Trek\",\"Everest View Trek\",\"Tsum Valley Trek\",\"The Royal Trek\",\"Makalu Base Camp Trek\",\"Langtang Gosainkunda and Helambu Trek\",\"Nar Phu Valley Trek\",\"Annapurna Circle Trek\",\"Everest Kangshung Face Trek\",\"Tsum Valley and Manaslu Trek\",\"Khopra Ridge Community Trek\",\"Nepal Experience Tour\",\"Annapurna Circuit Trek with Tilicho Lake and Poon Hill\",\"Annapurna With Tilicho Lake Trek\",\"Langtang Valley Trek with Ganja la Pass\",\"Tamang Heritage Trek\",\"Manaslu and Annapurna Trek with Tilicho Lake\",\"Nepal Trekking and Everest Himalaya Heli Tour\",\"Nepal Hiking and Culture Tour\",\"Annapurna Sunrise and Everest View Trek\",\"Tenzing Hillary Everest Marathon\",\"Everest Base Camp Trek\",\"Everest Kalapathar Trekking\",\"Everest Panorama Trek\",\"Everest Base Camp Trek via Gokyo Lake\",\"Gokyo Lake Trek\",\"Everest Base Camp Heli Trek\",\"Annapurna Circuit Trek\",\"Annapurna Base Camp Trek\",\"Ghorepani Poon Hill Trek\",\"Upper Mustang Trek\",\"Mardi Himal Trek\",\"Langtang Valley Trekking\",\"Manaslu Circuit Trek\"],\"xaxis\":\"x\",\"yaxis\":\"y\",\"type\":\"histogram\"},{\"alignmentgroup\":\"True\",\"bingroup\":\"x\",\"hovertemplate\":\"Best Travel Time=Autumn - Autumn\\u003cbr\\u003eTrek=%{x}\\u003cbr\\u003ecount=%{y}\\u003cextra\\u003e\\u003c\\u002fextra\\u003e\",\"legendgroup\":\"Autumn - Autumn\",\"marker\":{\"color\":\"#00cc96\",\"pattern\":{\"shape\":\"\"}},\"name\":\"Autumn - Autumn\",\"offsetgroup\":\"Autumn - Autumn\",\"orientation\":\"v\",\"showlegend\":true,\"x\":[\"Upper Mustang Trek with Yara\",\"Upper Mustang Trek with Yara\",\"Upper Mustang Trek with Yara\",\"Upper Mustang Trek with Yara\",\"Upper Mustang Trek with Yara\"],\"xaxis\":\"x\",\"yaxis\":\"y\",\"type\":\"histogram\"}],                        {\"template\":{\"data\":{\"histogram2dcontour\":[{\"type\":\"histogram2dcontour\",\"colorbar\":{\"outlinewidth\":0,\"ticks\":\"\"},\"colorscale\":[[0.0,\"#0d0887\"],[0.1111111111111111,\"#46039f\"],[0.2222222222222222,\"#7201a8\"],[0.3333333333333333,\"#9c179e\"],[0.4444444444444444,\"#bd3786\"],[0.5555555555555556,\"#d8576b\"],[0.6666666666666666,\"#ed7953\"],[0.7777777777777778,\"#fb9f3a\"],[0.8888888888888888,\"#fdca26\"],[1.0,\"#f0f921\"]]}],\"choropleth\":[{\"type\":\"choropleth\",\"colorbar\":{\"outlinewidth\":0,\"ticks\":\"\"}}],\"histogram2d\":[{\"type\":\"histogram2d\",\"colorbar\":{\"outlinewidth\":0,\"ticks\":\"\"},\"colorscale\":[[0.0,\"#0d0887\"],[0.1111111111111111,\"#46039f\"],[0.2222222222222222,\"#7201a8\"],[0.3333333333333333,\"#9c179e\"],[0.4444444444444444,\"#bd3786\"],[0.5555555555555556,\"#d8576b\"],[0.6666666666666666,\"#ed7953\"],[0.7777777777777778,\"#fb9f3a\"],[0.8888888888888888,\"#fdca26\"],[1.0,\"#f0f921\"]]}],\"heatmap\":[{\"type\":\"heatmap\",\"colorbar\":{\"outlinewidth\":0,\"ticks\":\"\"},\"colorscale\":[[0.0,\"#0d0887\"],[0.1111111111111111,\"#46039f\"],[0.2222222222222222,\"#7201a8\"],[0.3333333333333333,\"#9c179e\"],[0.4444444444444444,\"#bd3786\"],[0.5555555555555556,\"#d8576b\"],[0.6666666666666666,\"#ed7953\"],[0.7777777777777778,\"#fb9f3a\"],[0.8888888888888888,\"#fdca26\"],[1.0,\"#f0f921\"]]}],\"heatmapgl\":[{\"type\":\"heatmapgl\",\"colorbar\":{\"outlinewidth\":0,\"ticks\":\"\"},\"colorscale\":[[0.0,\"#0d0887\"],[0.1111111111111111,\"#46039f\"],[0.2222222222222222,\"#7201a8\"],[0.3333333333333333,\"#9c179e\"],[0.4444444444444444,\"#bd3786\"],[0.5555555555555556,\"#d8576b\"],[0.6666666666666666,\"#ed7953\"],[0.7777777777777778,\"#fb9f3a\"],[0.8888888888888888,\"#fdca26\"],[1.0,\"#f0f921\"]]}],\"contourcarpet\":[{\"type\":\"contourcarpet\",\"colorbar\":{\"outlinewidth\":0,\"ticks\":\"\"}}],\"contour\":[{\"type\":\"contour\",\"colorbar\":{\"outlinewidth\":0,\"ticks\":\"\"},\"colorscale\":[[0.0,\"#0d0887\"],[0.1111111111111111,\"#46039f\"],[0.2222222222222222,\"#7201a8\"],[0.3333333333333333,\"#9c179e\"],[0.4444444444444444,\"#bd3786\"],[0.5555555555555556,\"#d8576b\"],[0.6666666666666666,\"#ed7953\"],[0.7777777777777778,\"#fb9f3a\"],[0.8888888888888888,\"#fdca26\"],[1.0,\"#f0f921\"]]}],\"surface\":[{\"type\":\"surface\",\"colorbar\":{\"outlinewidth\":0,\"ticks\":\"\"},\"colorscale\":[[0.0,\"#0d0887\"],[0.1111111111111111,\"#46039f\"],[0.2222222222222222,\"#7201a8\"],[0.3333333333333333,\"#9c179e\"],[0.4444444444444444,\"#bd3786\"],[0.5555555555555556,\"#d8576b\"],[0.6666666666666666,\"#ed7953\"],[0.7777777777777778,\"#fb9f3a\"],[0.8888888888888888,\"#fdca26\"],[1.0,\"#f0f921\"]]}],\"mesh3d\":[{\"type\":\"mesh3d\",\"colorbar\":{\"outlinewidth\":0,\"ticks\":\"\"}}],\"scatter\":[{\"marker\":{\"line\":{\"color\":\"#283442\"}},\"type\":\"scatter\"}],\"parcoords\":[{\"type\":\"parcoords\",\"line\":{\"colorbar\":{\"outlinewidth\":0,\"ticks\":\"\"}}}],\"scatterpolargl\":[{\"type\":\"scatterpolargl\",\"marker\":{\"colorbar\":{\"outlinewidth\":0,\"ticks\":\"\"}}}],\"bar\":[{\"error_x\":{\"color\":\"#f2f5fa\"},\"error_y\":{\"color\":\"#f2f5fa\"},\"marker\":{\"line\":{\"color\":\"rgb(17,17,17)\",\"width\":0.5},\"pattern\":{\"fillmode\":\"overlay\",\"size\":10,\"solidity\":0.2}},\"type\":\"bar\"}],\"scattergeo\":[{\"type\":\"scattergeo\",\"marker\":{\"colorbar\":{\"outlinewidth\":0,\"ticks\":\"\"}}}],\"scatterpolar\":[{\"type\":\"scatterpolar\",\"marker\":{\"colorbar\":{\"outlinewidth\":0,\"ticks\":\"\"}}}],\"histogram\":[{\"marker\":{\"pattern\":{\"fillmode\":\"overlay\",\"size\":10,\"solidity\":0.2}},\"type\":\"histogram\"}],\"scattergl\":[{\"marker\":{\"line\":{\"color\":\"#283442\"}},\"type\":\"scattergl\"}],\"scatter3d\":[{\"type\":\"scatter3d\",\"line\":{\"colorbar\":{\"outlinewidth\":0,\"ticks\":\"\"}},\"marker\":{\"colorbar\":{\"outlinewidth\":0,\"ticks\":\"\"}}}],\"scattermapbox\":[{\"type\":\"scattermapbox\",\"marker\":{\"colorbar\":{\"outlinewidth\":0,\"ticks\":\"\"}}}],\"scatterternary\":[{\"type\":\"scatterternary\",\"marker\":{\"colorbar\":{\"outlinewidth\":0,\"ticks\":\"\"}}}],\"scattercarpet\":[{\"type\":\"scattercarpet\",\"marker\":{\"colorbar\":{\"outlinewidth\":0,\"ticks\":\"\"}}}],\"carpet\":[{\"aaxis\":{\"endlinecolor\":\"#A2B1C6\",\"gridcolor\":\"#506784\",\"linecolor\":\"#506784\",\"minorgridcolor\":\"#506784\",\"startlinecolor\":\"#A2B1C6\"},\"baxis\":{\"endlinecolor\":\"#A2B1C6\",\"gridcolor\":\"#506784\",\"linecolor\":\"#506784\",\"minorgridcolor\":\"#506784\",\"startlinecolor\":\"#A2B1C6\"},\"type\":\"carpet\"}],\"table\":[{\"cells\":{\"fill\":{\"color\":\"#506784\"},\"line\":{\"color\":\"rgb(17,17,17)\"}},\"header\":{\"fill\":{\"color\":\"#2a3f5f\"},\"line\":{\"color\":\"rgb(17,17,17)\"}},\"type\":\"table\"}],\"barpolar\":[{\"marker\":{\"line\":{\"color\":\"rgb(17,17,17)\",\"width\":0.5},\"pattern\":{\"fillmode\":\"overlay\",\"size\":10,\"solidity\":0.2}},\"type\":\"barpolar\"}],\"pie\":[{\"automargin\":true,\"type\":\"pie\"}]},\"layout\":{\"autotypenumbers\":\"strict\",\"colorway\":[\"#636efa\",\"#EF553B\",\"#00cc96\",\"#ab63fa\",\"#FFA15A\",\"#19d3f3\",\"#FF6692\",\"#B6E880\",\"#FF97FF\",\"#FECB52\"],\"font\":{\"color\":\"#f2f5fa\"},\"hovermode\":\"closest\",\"hoverlabel\":{\"align\":\"left\"},\"paper_bgcolor\":\"rgb(17,17,17)\",\"plot_bgcolor\":\"rgb(17,17,17)\",\"polar\":{\"bgcolor\":\"rgb(17,17,17)\",\"angularaxis\":{\"gridcolor\":\"#506784\",\"linecolor\":\"#506784\",\"ticks\":\"\"},\"radialaxis\":{\"gridcolor\":\"#506784\",\"linecolor\":\"#506784\",\"ticks\":\"\"}},\"ternary\":{\"bgcolor\":\"rgb(17,17,17)\",\"aaxis\":{\"gridcolor\":\"#506784\",\"linecolor\":\"#506784\",\"ticks\":\"\"},\"baxis\":{\"gridcolor\":\"#506784\",\"linecolor\":\"#506784\",\"ticks\":\"\"},\"caxis\":{\"gridcolor\":\"#506784\",\"linecolor\":\"#506784\",\"ticks\":\"\"}},\"coloraxis\":{\"colorbar\":{\"outlinewidth\":0,\"ticks\":\"\"}},\"colorscale\":{\"sequential\":[[0.0,\"#0d0887\"],[0.1111111111111111,\"#46039f\"],[0.2222222222222222,\"#7201a8\"],[0.3333333333333333,\"#9c179e\"],[0.4444444444444444,\"#bd3786\"],[0.5555555555555556,\"#d8576b\"],[0.6666666666666666,\"#ed7953\"],[0.7777777777777778,\"#fb9f3a\"],[0.8888888888888888,\"#fdca26\"],[1.0,\"#f0f921\"]],\"sequentialminus\":[[0.0,\"#0d0887\"],[0.1111111111111111,\"#46039f\"],[0.2222222222222222,\"#7201a8\"],[0.3333333333333333,\"#9c179e\"],[0.4444444444444444,\"#bd3786\"],[0.5555555555555556,\"#d8576b\"],[0.6666666666666666,\"#ed7953\"],[0.7777777777777778,\"#fb9f3a\"],[0.8888888888888888,\"#fdca26\"],[1.0,\"#f0f921\"]],\"diverging\":[[0,\"#8e0152\"],[0.1,\"#c51b7d\"],[0.2,\"#de77ae\"],[0.3,\"#f1b6da\"],[0.4,\"#fde0ef\"],[0.5,\"#f7f7f7\"],[0.6,\"#e6f5d0\"],[0.7,\"#b8e186\"],[0.8,\"#7fbc41\"],[0.9,\"#4d9221\"],[1,\"#276419\"]]},\"xaxis\":{\"gridcolor\":\"#283442\",\"linecolor\":\"#506784\",\"ticks\":\"\",\"title\":{\"standoff\":15},\"zerolinecolor\":\"#283442\",\"automargin\":true,\"zerolinewidth\":2},\"yaxis\":{\"gridcolor\":\"#283442\",\"linecolor\":\"#506784\",\"ticks\":\"\",\"title\":{\"standoff\":15},\"zerolinecolor\":\"#283442\",\"automargin\":true,\"zerolinewidth\":2},\"scene\":{\"xaxis\":{\"backgroundcolor\":\"rgb(17,17,17)\",\"gridcolor\":\"#506784\",\"linecolor\":\"#506784\",\"showbackground\":true,\"ticks\":\"\",\"zerolinecolor\":\"#C8D4E3\",\"gridwidth\":2},\"yaxis\":{\"backgroundcolor\":\"rgb(17,17,17)\",\"gridcolor\":\"#506784\",\"linecolor\":\"#506784\",\"showbackground\":true,\"ticks\":\"\",\"zerolinecolor\":\"#C8D4E3\",\"gridwidth\":2},\"zaxis\":{\"backgroundcolor\":\"rgb(17,17,17)\",\"gridcolor\":\"#506784\",\"linecolor\":\"#506784\",\"showbackground\":true,\"ticks\":\"\",\"zerolinecolor\":\"#C8D4E3\",\"gridwidth\":2}},\"shapedefaults\":{\"line\":{\"color\":\"#f2f5fa\"}},\"annotationdefaults\":{\"arrowcolor\":\"#f2f5fa\",\"arrowhead\":0,\"arrowwidth\":1},\"geo\":{\"bgcolor\":\"rgb(17,17,17)\",\"landcolor\":\"rgb(17,17,17)\",\"subunitcolor\":\"#506784\",\"showland\":true,\"showlakes\":true,\"lakecolor\":\"rgb(17,17,17)\"},\"title\":{\"x\":0.05},\"updatemenudefaults\":{\"bgcolor\":\"#506784\",\"borderwidth\":0},\"sliderdefaults\":{\"bgcolor\":\"#C8D4E3\",\"borderwidth\":1,\"bordercolor\":\"rgb(17,17,17)\",\"tickwidth\":0},\"mapbox\":{\"style\":\"dark\"}}},\"xaxis\":{\"anchor\":\"y\",\"domain\":[0.0,1.0],\"title\":{\"text\":\"Trek\"}},\"yaxis\":{\"anchor\":\"x\",\"domain\":[0.0,1.0],\"title\":{\"text\":\"count\"}},\"legend\":{\"title\":{\"text\":\"Best Travel Time\"},\"tracegroupgap\":0},\"title\":{\"text\":\"Trek Count by Best Travel Time\"},\"barmode\":\"relative\"},                        {\"responsive\": true}                    ).then(function(){\n",
       "                            \n",
       "var gd = document.getElementById('138626fe-34ae-4cdd-98aa-ee71fb96f3f7');\n",
       "var x = new MutationObserver(function (mutations, observer) {{\n",
       "        var display = window.getComputedStyle(gd).display;\n",
       "        if (!display || display === 'none') {{\n",
       "            console.log([gd, 'removed!']);\n",
       "            Plotly.purge(gd);\n",
       "            observer.disconnect();\n",
       "        }}\n",
       "}});\n",
       "\n",
       "// Listen for the removal of the full notebook cells\n",
       "var notebookContainer = gd.closest('#notebook-container');\n",
       "if (notebookContainer) {{\n",
       "    x.observe(notebookContainer, {childList: true});\n",
       "}}\n",
       "\n",
       "// Listen for the clearing of the current output cell\n",
       "var outputEl = gd.closest('.output');\n",
       "if (outputEl) {{\n",
       "    x.observe(outputEl, {childList: true});\n",
       "}}\n",
       "\n",
       "                        })                };                });            </script>        </div>"
      ]
     },
     "metadata": {},
     "output_type": "display_data"
    }
   ],
   "execution_count": 131
  },
  {
   "metadata": {
    "ExecuteTime": {
     "end_time": "2024-10-15T06:28:58.635185Z",
     "start_time": "2024-10-15T06:28:58.316309Z"
    }
   },
   "cell_type": "code",
   "source": [
    "# Plot the distribution of 'Time' (Duration of Trek)\n",
    "plt.figure(figsize=(10, 6))\n",
    "sns.histplot(df['Time'], kde=True)\n",
    "plt.title('Distribution of Trek Durations')\n",
    "plt.xlabel('Time (Days)')\n",
    "plt.ylabel('Frequency')\n",
    "plt.show()"
   ],
   "id": "e9e4ca07b1851a04",
   "outputs": [
    {
     "data": {
      "text/plain": [
       "<Figure size 1000x600 with 1 Axes>"
      ],
      "image/png": "[encoded data removed]"
     },
     "metadata": {},
     "output_type": "display_data"
    }
   ],
   "execution_count": 132
  },
  {
   "metadata": {
    "ExecuteTime": {
     "end_time": "2024-10-15T06:28:58.818558Z",
     "start_time": "2024-10-15T06:28:58.639730Z"
    }
   },
   "cell_type": "code",
   "source": [
    "#plot the trek according to the ratings \n",
    "fig = px.scatter(df, x='Review/Satisfaction', y='Cost', color='Trek', title='Trek Ratings vs. Cost')\n",
    "fig.show()"
   ],
   "id": "7cd5fa2da320ffc7",
   "outputs": [
    {
     "data": {
      "application/vnd.plotly.v1+json": {
       "data": [
        {
         "hovertemplate": "Trek=Everest Base Camp Trek<br>Review/Satisfaction=%{x}<br>Cost=%{y}<extra></extra>",
         "legendgroup": "Everest Base Camp Trek",
         "marker": {
          "color": "#636efa",
          "symbol": "circle"
         },
         "mode": "markers",
         "name": "Everest Base Camp Trek",
         "orientation": "v",
         "showlegend": true,
         "x": [
          4.5,
          4.5,
          3.5,
          3.5,
          4.0,
          4.0,
          5.0,
          5.0,
          3.0,
          3.0,
          4.0
         ],
         "xaxis": "x",
         "y": [
          1420.0,
          1499.0,
          1450.0,
          1499.0,
          1450.0,
          1499.0,
          1450.0,
          1499.0,
          1450.0,
          1499.0,
          1450.0
         ],
         "yaxis": "y",
         "type": "scatter"
        },
        {
         "hovertemplate": "Trek=Everest Base Camp Short Trek<br>Review/Satisfaction=%{x}<br>Cost=%{y}<extra></extra>",
         "legendgroup": "Everest Base Camp Short Trek",
         "marker": {
          "color": "#EF553B",
          "symbol": "circle"
         },
         "mode": "markers",
         "name": "Everest Base Camp Short Trek",
         "orientation": "v",
         "showlegend": true,
         "x": [
          4.0,
          3.5,
          4.0,
          5.0,
          3.0,
          4.5
         ],
         "xaxis": "x",
         "y": [
          1295.0,
          1499.0,
          1499.0,
          1499.0,
          1499.0,
          1499.0
         ],
         "yaxis": "y",
         "type": "scatter"
        },
        {
         "hovertemplate": "Trek=Everest Base Camp Heli Shuttle Trek<br>Review/Satisfaction=%{x}<br>Cost=%{y}<extra></extra>",
         "legendgroup": "Everest Base Camp Heli Shuttle Trek",
         "marker": {
          "color": "#00cc96",
          "symbol": "circle"
         },
         "mode": "markers",
         "name": "Everest Base Camp Heli Shuttle Trek",
         "orientation": "v",
         "showlegend": true,
         "x": [
          5.0
         ],
         "xaxis": "x",
         "y": [
          2000.0
         ],
         "yaxis": "y",
         "type": "scatter"
        },
        {
         "hovertemplate": "Trek=Everest Base Camp Heli Trek<br>Review/Satisfaction=%{x}<br>Cost=%{y}<extra></extra>",
         "legendgroup": "Everest Base Camp Heli Trek",
         "marker": {
          "color": "#ab63fa",
          "symbol": "circle"
         },
         "mode": "markers",
         "name": "Everest Base Camp Heli Trek",
         "orientation": "v",
         "showlegend": true,
         "x": [
          4.0,
          3.5,
          4.0,
          5.0,
          4.0,
          4.5
         ],
         "xaxis": "x",
         "y": [
          3300.0,
          3600.0,
          3600.0,
          3600.0,
          3600.0,
          3600.0
         ],
         "yaxis": "y",
         "type": "scatter"
        },
        {
         "hovertemplate": "Trek=Everest Base Camp Trek for Seniors<br>Review/Satisfaction=%{x}<br>Cost=%{y}<extra></extra>",
         "legendgroup": "Everest Base Camp Trek for Seniors",
         "marker": {
          "color": "#FFA15A",
          "symbol": "circle"
         },
         "mode": "markers",
         "name": "Everest Base Camp Trek for Seniors",
         "orientation": "v",
         "showlegend": true,
         "x": [
          3.5
         ],
         "xaxis": "x",
         "y": [
          1800.0
         ],
         "yaxis": "y",
         "type": "scatter"
        },
        {
         "hovertemplate": "Trek=Everest Chola Pass Trek<br>Review/Satisfaction=%{x}<br>Cost=%{y}<extra></extra>",
         "legendgroup": "Everest Chola Pass Trek",
         "marker": {
          "color": "#19d3f3",
          "symbol": "circle"
         },
         "mode": "markers",
         "name": "Everest Chola Pass Trek",
         "orientation": "v",
         "showlegend": true,
         "x": [
          4.5
         ],
         "xaxis": "x",
         "y": [
          1720.0
         ],
         "yaxis": "y",
         "type": "scatter"
        },
        {
         "hovertemplate": "Trek=Gokyo Lake Renjo La Pass Trek<br>Review/Satisfaction=%{x}<br>Cost=%{y}<extra></extra>",
         "legendgroup": "Gokyo Lake Renjo La Pass Trek",
         "marker": {
          "color": "#FF6692",
          "symbol": "circle"
         },
         "mode": "markers",
         "name": "Gokyo Lake Renjo La Pass Trek",
         "orientation": "v",
         "showlegend": true,
         "x": [
          4.0
         ],
         "xaxis": "x",
         "y": [
          1450.0
         ],
         "yaxis": "y",
         "type": "scatter"
        },
        {
         "hovertemplate": "Trek=Everest High Passes Trek<br>Review/Satisfaction=%{x}<br>Cost=%{y}<extra></extra>",
         "legendgroup": "Everest High Passes Trek",
         "marker": {
          "color": "#B6E880",
          "symbol": "circle"
         },
         "mode": "markers",
         "name": "Everest High Passes Trek",
         "orientation": "v",
         "showlegend": true,
         "x": [
          5.0,
          4.0,
          3.0,
          4.0,
          4.0,
          4.0
         ],
         "xaxis": "x",
         "y": [
          1950.0,
          1499.0,
          1499.0,
          1499.0,
          1499.0,
          1499.0
         ],
         "yaxis": "y",
         "type": "scatter"
        },
        {
         "hovertemplate": "Trek=Short Everest Trek<br>Review/Satisfaction=%{x}<br>Cost=%{y}<extra></extra>",
         "legendgroup": "Short Everest Trek",
         "marker": {
          "color": "#FF97FF",
          "symbol": "circle"
         },
         "mode": "markers",
         "name": "Short Everest Trek",
         "orientation": "v",
         "showlegend": true,
         "x": [
          4.0
         ],
         "xaxis": "x",
         "y": [
          1060.0
         ],
         "yaxis": "y",
         "type": "scatter"
        },
        {
         "hovertemplate": "Trek=Everest Panorama Trek<br>Review/Satisfaction=%{x}<br>Cost=%{y}<extra></extra>",
         "legendgroup": "Everest Panorama Trek",
         "marker": {
          "color": "#FECB52",
          "symbol": "circle"
         },
         "mode": "markers",
         "name": "Everest Panorama Trek",
         "orientation": "v",
         "showlegend": true,
         "x": [
          3.5,
          3.0,
          4.5,
          3.5,
          4.0,
          5.0
         ],
         "xaxis": "x",
         "y": [
          1150.0,
          1040.0,
          1040.0,
          1040.0,
          1040.0,
          1040.0
         ],
         "yaxis": "y",
         "type": "scatter"
        },
        {
         "hovertemplate": "Trek=Everest View Trek<br>Review/Satisfaction=%{x}<br>Cost=%{y}<extra></extra>",
         "legendgroup": "Everest View Trek",
         "marker": {
          "color": "#636efa",
          "symbol": "circle"
         },
         "mode": "markers",
         "name": "Everest View Trek",
         "orientation": "v",
         "showlegend": true,
         "x": [
          4.5,
          3.5,
          4.0,
          5.0,
          3.0,
          4.5
         ],
         "xaxis": "x",
         "y": [
          1100.0,
          1499.0,
          1499.0,
          1499.0,
          1499.0,
          1499.0
         ],
         "yaxis": "y",
         "type": "scatter"
        },
        {
         "hovertemplate": "Trek=Luxury Everest Base Camp Heli Trek<br>Review/Satisfaction=%{x}<br>Cost=%{y}<extra></extra>",
         "legendgroup": "Luxury Everest Base Camp Heli Trek",
         "marker": {
          "color": "#EF553B",
          "symbol": "circle"
         },
         "mode": "markers",
         "name": "Luxury Everest Base Camp Heli Trek",
         "orientation": "v",
         "showlegend": true,
         "x": [
          3.0
         ],
         "xaxis": "x",
         "y": [
          4200.0
         ],
         "yaxis": "y",
         "type": "scatter"
        },
        {
         "hovertemplate": "Trek=Everest Base Camp Trek with Chola and Renjo La Pass<br>Review/Satisfaction=%{x}<br>Cost=%{y}<extra></extra>",
         "legendgroup": "Everest Base Camp Trek with Chola and Renjo La Pass",
         "marker": {
          "color": "#00cc96",
          "symbol": "circle"
         },
         "mode": "markers",
         "name": "Everest Base Camp Trek with Chola and Renjo La Pass",
         "orientation": "v",
         "showlegend": true,
         "x": [
          5.0
         ],
         "xaxis": "x",
         "y": [
          1900.0
         ],
         "yaxis": "y",
         "type": "scatter"
        },
        {
         "hovertemplate": "Trek=Annapurna Base Camp Trek<br>Review/Satisfaction=%{x}<br>Cost=%{y}<extra></extra>",
         "legendgroup": "Annapurna Base Camp Trek",
         "marker": {
          "color": "#ab63fa",
          "symbol": "circle"
         },
         "mode": "markers",
         "name": "Annapurna Base Camp Trek",
         "orientation": "v",
         "showlegend": true,
         "x": [
          4.0,
          4.0,
          3.0,
          5.0,
          3.0,
          4.0,
          3.0,
          4.5,
          3.5,
          4.5,
          3.5,
          4.0,
          3.5,
          4.0,
          5.0
         ],
         "xaxis": "x",
         "y": [
          1090.0,
          1499.0,
          1090.0,
          1090.0,
          1499.0,
          1090.0,
          1090.0,
          1499.0,
          1090.0,
          1090.0,
          1499.0,
          1090.0,
          1090.0,
          1499.0,
          1090.0
         ],
         "yaxis": "y",
         "type": "scatter"
        },
        {
         "hovertemplate": "Trek=Annapurna Base Camp Short Trek<br>Review/Satisfaction=%{x}<br>Cost=%{y}<extra></extra>",
         "legendgroup": "Annapurna Base Camp Short Trek",
         "marker": {
          "color": "#FFA15A",
          "symbol": "circle"
         },
         "mode": "markers",
         "name": "Annapurna Base Camp Short Trek",
         "orientation": "v",
         "showlegend": true,
         "x": [
          3.5,
          4.0,
          5.0,
          3.0,
          4.5
         ],
         "xaxis": "x",
         "y": [
          1090.0,
          1090.0,
          1090.0,
          1090.0,
          1090.0
         ],
         "yaxis": "y",
         "type": "scatter"
        },
        {
         "hovertemplate": "Trek=Instant Annapurna Base Camp Trek<br>Review/Satisfaction=%{x}<br>Cost=%{y}<extra></extra>",
         "legendgroup": "Instant Annapurna Base Camp Trek",
         "marker": {
          "color": "#19d3f3",
          "symbol": "circle"
         },
         "mode": "markers",
         "name": "Instant Annapurna Base Camp Trek",
         "orientation": "v",
         "showlegend": true,
         "x": [
          4.5,
          3.5,
          4.0,
          5.0,
          3.0
         ],
         "xaxis": "x",
         "y": [
          980.0,
          980.0,
          980.0,
          980.0,
          980.0
         ],
         "yaxis": "y",
         "type": "scatter"
        },
        {
         "hovertemplate": "Trek=Annapurna Base Camp Heli Trek<br>Review/Satisfaction=%{x}<br>Cost=%{y}<extra></extra>",
         "legendgroup": "Annapurna Base Camp Heli Trek",
         "marker": {
          "color": "#FF6692",
          "symbol": "circle"
         },
         "mode": "markers",
         "name": "Annapurna Base Camp Heli Trek",
         "orientation": "v",
         "showlegend": true,
         "x": [
          3.0,
          4.0,
          3.5,
          4.0,
          5.0
         ],
         "xaxis": "x",
         "y": [
          1750.0,
          1750.0,
          1750.0,
          1750.0,
          1750.0
         ],
         "yaxis": "y",
         "type": "scatter"
        },
        {
         "hovertemplate": "Trek=Mardi Himal Trek<br>Review/Satisfaction=%{x}<br>Cost=%{y}<extra></extra>",
         "legendgroup": "Mardi Himal Trek",
         "marker": {
          "color": "#B6E880",
          "symbol": "circle"
         },
         "mode": "markers",
         "name": "Mardi Himal Trek",
         "orientation": "v",
         "showlegend": true,
         "x": [
          5.0,
          5.0,
          3.5,
          3.0,
          3.0,
          4.0,
          4.5,
          4.5,
          5.0,
          3.5,
          3.5,
          3.0,
          4.0,
          4.0,
          4.5
         ],
         "xaxis": "x",
         "y": [
          850.0,
          1499.0,
          590.0,
          850.0,
          1499.0,
          590.0,
          850.0,
          1499.0,
          590.0,
          850.0,
          1499.0,
          590.0,
          850.0,
          1499.0,
          590.0
         ],
         "yaxis": "y",
         "type": "scatter"
        },
        {
         "hovertemplate": "Trek=Mardi Himal Trekking<br>Review/Satisfaction=%{x}<br>Cost=%{y}<extra></extra>",
         "legendgroup": "Mardi Himal Trekking",
         "marker": {
          "color": "#FF97FF",
          "symbol": "circle"
         },
         "mode": "markers",
         "name": "Mardi Himal Trekking",
         "orientation": "v",
         "showlegend": true,
         "x": [
          4.0,
          5.0,
          3.0,
          4.0,
          3.5
         ],
         "xaxis": "x",
         "y": [
          850.0,
          850.0,
          850.0,
          850.0,
          850.0
         ],
         "yaxis": "y",
         "type": "scatter"
        },
        {
         "hovertemplate": "Trek=Classic Annapurna Circuit Trek<br>Review/Satisfaction=%{x}<br>Cost=%{y}<extra></extra>",
         "legendgroup": "Classic Annapurna Circuit Trek",
         "marker": {
          "color": "#FECB52",
          "symbol": "circle"
         },
         "mode": "markers",
         "name": "Classic Annapurna Circuit Trek",
         "orientation": "v",
         "showlegend": true,
         "x": [
          3.5,
          4.0,
          5.0,
          3.0,
          4.5
         ],
         "xaxis": "x",
         "y": [
          1350.0,
          1350.0,
          1350.0,
          1350.0,
          1350.0
         ],
         "yaxis": "y",
         "type": "scatter"
        },
        {
         "hovertemplate": "Trek=Annapurna Circuit Trek<br>Review/Satisfaction=%{x}<br>Cost=%{y}<extra></extra>",
         "legendgroup": "Annapurna Circuit Trek",
         "marker": {
          "color": "#636efa",
          "symbol": "circle"
         },
         "mode": "markers",
         "name": "Annapurna Circuit Trek",
         "orientation": "v",
         "showlegend": true,
         "x": [
          4.5,
          3.0,
          4.5,
          3.5,
          4.5,
          3.5,
          4.0,
          3.5,
          4.0,
          5.0,
          4.0,
          5.0,
          3.0,
          5.0,
          3.0
         ],
         "xaxis": "x",
         "y": [
          1250.0,
          1499.0,
          1100.0,
          1250.0,
          1499.0,
          1100.0,
          1250.0,
          1499.0,
          1100.0,
          1250.0,
          1499.0,
          1100.0,
          1250.0,
          1499.0,
          1100.0
         ],
         "yaxis": "y",
         "type": "scatter"
        },
        {
         "hovertemplate": "Trek=Annapurna Circuit Short Trek<br>Review/Satisfaction=%{x}<br>Cost=%{y}<extra></extra>",
         "legendgroup": "Annapurna Circuit Short Trek",
         "marker": {
          "color": "#EF553B",
          "symbol": "circle"
         },
         "mode": "markers",
         "name": "Annapurna Circuit Short Trek",
         "orientation": "v",
         "showlegend": true,
         "x": [
          3.0,
          4.5,
          3.5,
          4.0,
          5.0
         ],
         "xaxis": "x",
         "y": [
          1250.0,
          1250.0,
          1250.0,
          1250.0,
          1250.0
         ],
         "yaxis": "y",
         "type": "scatter"
        },
        {
         "hovertemplate": "Trek=Annapurna Luxury Trek<br>Review/Satisfaction=%{x}<br>Cost=%{y}<extra></extra>",
         "legendgroup": "Annapurna Luxury Trek",
         "marker": {
          "color": "#00cc96",
          "symbol": "circle"
         },
         "mode": "markers",
         "name": "Annapurna Luxury Trek",
         "orientation": "v",
         "showlegend": true,
         "x": [
          5.0,
          3.0,
          4.5,
          3.5,
          4.0
         ],
         "xaxis": "x",
         "y": [
          1450.0,
          1450.0,
          1450.0,
          1450.0,
          1450.0
         ],
         "yaxis": "y",
         "type": "scatter"
        },
        {
         "hovertemplate": "Trek=Annapurna Panorama Trek<br>Review/Satisfaction=%{x}<br>Cost=%{y}<extra></extra>",
         "legendgroup": "Annapurna Panorama Trek",
         "marker": {
          "color": "#ab63fa",
          "symbol": "circle"
         },
         "mode": "markers",
         "name": "Annapurna Panorama Trek",
         "orientation": "v",
         "showlegend": true,
         "x": [
          4.0,
          5.0,
          4.0,
          4.5,
          3.5
         ],
         "xaxis": "x",
         "y": [
          860.0,
          860.0,
          860.0,
          860.0,
          860.0
         ],
         "yaxis": "y",
         "type": "scatter"
        },
        {
         "hovertemplate": "Trek=Annapurna Tilicho Lake Trek<br>Review/Satisfaction=%{x}<br>Cost=%{y}<extra></extra>",
         "legendgroup": "Annapurna Tilicho Lake Trek",
         "marker": {
          "color": "#FFA15A",
          "symbol": "circle"
         },
         "mode": "markers",
         "name": "Annapurna Tilicho Lake Trek",
         "orientation": "v",
         "showlegend": true,
         "x": [
          3.5,
          4.0,
          5.0,
          3.0,
          4.5
         ],
         "xaxis": "x",
         "y": [
          1450.0,
          1450.0,
          1450.0,
          1450.0,
          1450.0
         ],
         "yaxis": "y",
         "type": "scatter"
        },
        {
         "hovertemplate": "Trek=Short Annapurna Trek<br>Review/Satisfaction=%{x}<br>Cost=%{y}<extra></extra>",
         "legendgroup": "Short Annapurna Trek",
         "marker": {
          "color": "#19d3f3",
          "symbol": "circle"
         },
         "mode": "markers",
         "name": "Short Annapurna Trek",
         "orientation": "v",
         "showlegend": true,
         "x": [
          4.5,
          3.5,
          4.0,
          5.0,
          3.0
         ],
         "xaxis": "x",
         "y": [
          590.0,
          590.0,
          590.0,
          590.0,
          590.0
         ],
         "yaxis": "y",
         "type": "scatter"
        },
        {
         "hovertemplate": "Trek=Manaslu Circuit Trek<br>Review/Satisfaction=%{x}<br>Cost=%{y}<extra></extra>",
         "legendgroup": "Manaslu Circuit Trek",
         "marker": {
          "color": "#FF6692",
          "symbol": "circle"
         },
         "mode": "markers",
         "name": "Manaslu Circuit Trek",
         "orientation": "v",
         "showlegend": true,
         "x": [
          3.0,
          4.0,
          3.0,
          4.5,
          5.0,
          4.5,
          3.5,
          3.0,
          3.5,
          4.0,
          4.5,
          4.0,
          5.0,
          3.5,
          5.0
         ],
         "xaxis": "x",
         "y": [
          1450.0,
          1499.0,
          1190.0,
          1450.0,
          1499.0,
          1190.0,
          1450.0,
          1499.0,
          1190.0,
          1450.0,
          1499.0,
          1190.0,
          1450.0,
          1499.0,
          1190.0
         ],
         "yaxis": "y",
         "type": "scatter"
        },
        {
         "hovertemplate": "Trek=Manaslu Circuit Trekking<br>Review/Satisfaction=%{x}<br>Cost=%{y}<extra></extra>",
         "legendgroup": "Manaslu Circuit Trekking",
         "marker": {
          "color": "#B6E880",
          "symbol": "circle"
         },
         "mode": "markers",
         "name": "Manaslu Circuit Trekking",
         "orientation": "v",
         "showlegend": true,
         "x": [
          5.0,
          3.0,
          4.5,
          3.5,
          4.0
         ],
         "xaxis": "x",
         "y": [
          1380.0,
          1380.0,
          1380.0,
          1380.0,
          1380.0
         ],
         "yaxis": "y",
         "type": "scatter"
        },
        {
         "hovertemplate": "Trek=Tsum Valley with Manaslu Trek<br>Review/Satisfaction=%{x}<br>Cost=%{y}<extra></extra>",
         "legendgroup": "Tsum Valley with Manaslu Trek",
         "marker": {
          "color": "#FF97FF",
          "symbol": "circle"
         },
         "mode": "markers",
         "name": "Tsum Valley with Manaslu Trek",
         "orientation": "v",
         "showlegend": true,
         "x": [
          4.0,
          5.0,
          4.0,
          4.0,
          4.0
         ],
         "xaxis": "x",
         "y": [
          1850.0,
          1850.0,
          1850.0,
          1850.0,
          1850.0
         ],
         "yaxis": "y",
         "type": "scatter"
        },
        {
         "hovertemplate": "Trek=Upper Mustang Trek<br>Review/Satisfaction=%{x}<br>Cost=%{y}<extra></extra>",
         "legendgroup": "Upper Mustang Trek",
         "marker": {
          "color": "#FECB52",
          "symbol": "circle"
         },
         "mode": "markers",
         "name": "Upper Mustang Trek",
         "orientation": "v",
         "showlegend": true,
         "x": [
          3.5,
          3.5,
          4.0,
          4.0,
          4.0,
          5.0,
          5.0,
          5.0,
          3.0,
          3.0,
          3.0,
          4.5,
          4.5,
          4.5,
          3.5
         ],
         "xaxis": "x",
         "y": [
          2150.0,
          1499.0,
          2100.0,
          2150.0,
          1499.0,
          2100.0,
          2150.0,
          1499.0,
          2100.0,
          2150.0,
          1499.0,
          2100.0,
          2150.0,
          1499.0,
          2100.0
         ],
         "yaxis": "y",
         "type": "scatter"
        },
        {
         "hovertemplate": "Trek=Upper Mustang Trek with Yara<br>Review/Satisfaction=%{x}<br>Cost=%{y}<extra></extra>",
         "legendgroup": "Upper Mustang Trek with Yara",
         "marker": {
          "color": "#636efa",
          "symbol": "circle"
         },
         "mode": "markers",
         "name": "Upper Mustang Trek with Yara",
         "orientation": "v",
         "showlegend": true,
         "x": [
          4.5,
          3.5,
          4.0,
          5.0,
          3.0
         ],
         "xaxis": "x",
         "y": [
          2300.0,
          2300.0,
          2300.0,
          2300.0,
          2300.0
         ],
         "yaxis": "y",
         "type": "scatter"
        },
        {
         "hovertemplate": "Trek=Upper Mustang Tiji Festival Trek<br>Review/Satisfaction=%{x}<br>Cost=%{y}<extra></extra>",
         "legendgroup": "Upper Mustang Tiji Festival Trek",
         "marker": {
          "color": "#EF553B",
          "symbol": "circle"
         },
         "mode": "markers",
         "name": "Upper Mustang Tiji Festival Trek",
         "orientation": "v",
         "showlegend": true,
         "x": [
          3.0,
          4.5,
          3.5,
          4.0,
          4.0
         ],
         "xaxis": "x",
         "y": [
          2150.0,
          2150.0,
          2150.0,
          2150.0,
          2150.0
         ],
         "yaxis": "y",
         "type": "scatter"
        },
        {
         "hovertemplate": "Trek=Langtang Valley Trek<br>Review/Satisfaction=%{x}<br>Cost=%{y}<extra></extra>",
         "legendgroup": "Langtang Valley Trek",
         "marker": {
          "color": "#00cc96",
          "symbol": "circle"
         },
         "mode": "markers",
         "name": "Langtang Valley Trek",
         "orientation": "v",
         "showlegend": true,
         "x": [
          5.0,
          3.5,
          3.0,
          4.0,
          4.5,
          5.0,
          3.5,
          3.0,
          4.0,
          4.5
         ],
         "xaxis": "x",
         "y": [
          750.0,
          1499.0,
          750.0,
          1499.0,
          750.0,
          1499.0,
          750.0,
          1499.0,
          750.0,
          1499.0
         ],
         "yaxis": "y",
         "type": "scatter"
        },
        {
         "hovertemplate": "Trek=Langtang Gosaikunda Trek<br>Review/Satisfaction=%{x}<br>Cost=%{y}<extra></extra>",
         "legendgroup": "Langtang Gosaikunda Trek",
         "marker": {
          "color": "#ab63fa",
          "symbol": "circle"
         },
         "mode": "markers",
         "name": "Langtang Gosaikunda Trek",
         "orientation": "v",
         "showlegend": true,
         "x": [
          4.0,
          5.0,
          3.0,
          4.5,
          3.5
         ],
         "xaxis": "x",
         "y": [
          1180.0,
          1180.0,
          1180.0,
          1180.0,
          1180.0
         ],
         "yaxis": "y",
         "type": "scatter"
        },
        {
         "hovertemplate": "Trek=Tamang Heritage Trek<br>Review/Satisfaction=%{x}<br>Cost=%{y}<extra></extra>",
         "legendgroup": "Tamang Heritage Trek",
         "marker": {
          "color": "#FFA15A",
          "symbol": "circle"
         },
         "mode": "markers",
         "name": "Tamang Heritage Trek",
         "orientation": "v",
         "showlegend": true,
         "x": [
          3.5,
          4.0,
          4.0,
          5.0,
          5.0,
          3.0,
          3.0,
          4.5,
          4.5,
          3.5
         ],
         "xaxis": "x",
         "y": [
          920.0,
          1499.0,
          920.0,
          1499.0,
          920.0,
          1499.0,
          920.0,
          1499.0,
          920.0,
          1499.0
         ],
         "yaxis": "y",
         "type": "scatter"
        },
        {
         "hovertemplate": "Trek=Tamang Heritage Trail<br>Review/Satisfaction=%{x}<br>Cost=%{y}<extra></extra>",
         "legendgroup": "Tamang Heritage Trail",
         "marker": {
          "color": "#19d3f3",
          "symbol": "circle"
         },
         "mode": "markers",
         "name": "Tamang Heritage Trail",
         "orientation": "v",
         "showlegend": true,
         "x": [
          4.5,
          3.5,
          4.0,
          5.0,
          3.0
         ],
         "xaxis": "x",
         "y": [
          750.0,
          750.0,
          750.0,
          750.0,
          750.0
         ],
         "yaxis": "y",
         "type": "scatter"
        },
        {
         "hovertemplate": "Trek=Helambu Trek<br>Review/Satisfaction=%{x}<br>Cost=%{y}<extra></extra>",
         "legendgroup": "Helambu Trek",
         "marker": {
          "color": "#FF6692",
          "symbol": "circle"
         },
         "mode": "markers",
         "name": "Helambu Trek",
         "orientation": "v",
         "showlegend": true,
         "x": [
          3.0,
          4.5,
          3.5,
          4.0,
          5.0
         ],
         "xaxis": "x",
         "y": [
          780.0,
          780.0,
          780.0,
          780.0,
          780.0
         ],
         "yaxis": "y",
         "type": "scatter"
        },
        {
         "hovertemplate": "Trek=Everest Base Camp Trek for Youths<br>Review/Satisfaction=%{x}<br>Cost=%{y}<extra></extra>",
         "legendgroup": "Everest Base Camp Trek for Youths",
         "marker": {
          "color": "#B6E880",
          "symbol": "circle"
         },
         "mode": "markers",
         "name": "Everest Base Camp Trek for Youths",
         "orientation": "v",
         "showlegend": true,
         "x": [
          4.0,
          5.0,
          3.0,
          4.5,
          3.5
         ],
         "xaxis": "x",
         "y": [
          1750.0,
          1750.0,
          1750.0,
          1750.0,
          1750.0
         ],
         "yaxis": "y",
         "type": "scatter"
        },
        {
         "hovertemplate": "Trek=Everest Base Camp Luxury Lodge Trek<br>Review/Satisfaction=%{x}<br>Cost=%{y}<extra></extra>",
         "legendgroup": "Everest Base Camp Luxury Lodge Trek",
         "marker": {
          "color": "#FF97FF",
          "symbol": "circle"
         },
         "mode": "markers",
         "name": "Everest Base Camp Luxury Lodge Trek",
         "orientation": "v",
         "showlegend": true,
         "x": [
          5.0,
          3.0,
          4.0,
          3.5,
          4.0
         ],
         "xaxis": "x",
         "y": [
          1499.0,
          1499.0,
          1499.0,
          1499.0,
          1499.0
         ],
         "yaxis": "y",
         "type": "scatter"
        },
        {
         "hovertemplate": "Trek=Everest Base Camp Trek via Gokyo Lakes and Cho La Pass<br>Review/Satisfaction=%{x}<br>Cost=%{y}<extra></extra>",
         "legendgroup": "Everest Base Camp Trek via Gokyo Lakes and Cho La Pass",
         "marker": {
          "color": "#FECB52",
          "symbol": "circle"
         },
         "mode": "markers",
         "name": "Everest Base Camp Trek via Gokyo Lakes and Cho La Pass",
         "orientation": "v",
         "showlegend": true,
         "x": [
          4.0,
          5.0,
          3.0,
          4.5,
          3.5
         ],
         "xaxis": "x",
         "y": [
          1499.0,
          1499.0,
          1499.0,
          1499.0,
          1499.0
         ],
         "yaxis": "y",
         "type": "scatter"
        },
        {
         "hovertemplate": "Trek=Everest Advanced Base Camp Trek from Tibet<br>Review/Satisfaction=%{x}<br>Cost=%{y}<extra></extra>",
         "legendgroup": "Everest Advanced Base Camp Trek from Tibet",
         "marker": {
          "color": "#636efa",
          "symbol": "circle"
         },
         "mode": "markers",
         "name": "Everest Advanced Base Camp Trek from Tibet",
         "orientation": "v",
         "showlegend": true,
         "x": [
          4.0,
          3.5,
          4.0,
          5.0,
          3.0
         ],
         "xaxis": "x",
         "y": [
          1499.0,
          1499.0,
          1499.0,
          1499.0,
          1499.0
         ],
         "yaxis": "y",
         "type": "scatter"
        },
        {
         "hovertemplate": "Trek=Gokyo Lakes and Gokyo Ri Trek<br>Review/Satisfaction=%{x}<br>Cost=%{y}<extra></extra>",
         "legendgroup": "Gokyo Lakes and Gokyo Ri Trek",
         "marker": {
          "color": "#EF553B",
          "symbol": "circle"
         },
         "mode": "markers",
         "name": "Gokyo Lakes and Gokyo Ri Trek",
         "orientation": "v",
         "showlegend": true,
         "x": [
          3.0,
          4.5,
          3.5,
          4.0,
          5.0
         ],
         "xaxis": "x",
         "y": [
          1499.0,
          1499.0,
          1499.0,
          1499.0,
          1499.0
         ],
         "yaxis": "y",
         "type": "scatter"
        },
        {
         "hovertemplate": "Trek=Annapurna Sanctuary Trek<br>Review/Satisfaction=%{x}<br>Cost=%{y}<extra></extra>",
         "legendgroup": "Annapurna Sanctuary Trek",
         "marker": {
          "color": "#00cc96",
          "symbol": "circle"
         },
         "mode": "markers",
         "name": "Annapurna Sanctuary Trek",
         "orientation": "v",
         "showlegend": true,
         "x": [
          4.5,
          4.0,
          4.0,
          5.0,
          4.0
         ],
         "xaxis": "x",
         "y": [
          1499.0,
          1499.0,
          1499.0,
          1499.0,
          1499.0
         ],
         "yaxis": "y",
         "type": "scatter"
        },
        {
         "hovertemplate": "Trek=Rara Lake Trek<br>Review/Satisfaction=%{x}<br>Cost=%{y}<extra></extra>",
         "legendgroup": "Rara Lake Trek",
         "marker": {
          "color": "#ab63fa",
          "symbol": "circle"
         },
         "mode": "markers",
         "name": "Rara Lake Trek",
         "orientation": "v",
         "showlegend": true,
         "x": [
          3.0,
          4.5,
          3.5,
          4.0,
          5.0
         ],
         "xaxis": "x",
         "y": [
          1499.0,
          1499.0,
          1499.0,
          1499.0,
          1499.0
         ],
         "yaxis": "y",
         "type": "scatter"
        },
        {
         "hovertemplate": "Trek=Kanchenjunga Circuit Trek<br>Review/Satisfaction=%{x}<br>Cost=%{y}<extra></extra>",
         "legendgroup": "Kanchenjunga Circuit Trek",
         "marker": {
          "color": "#FFA15A",
          "symbol": "circle"
         },
         "mode": "markers",
         "name": "Kanchenjunga Circuit Trek",
         "orientation": "v",
         "showlegend": true,
         "x": [
          4.0,
          5.0,
          3.0,
          4.5,
          3.5
         ],
         "xaxis": "x",
         "y": [
          1499.0,
          1499.0,
          1499.0,
          1499.0,
          1499.0
         ],
         "yaxis": "y",
         "type": "scatter"
        },
        {
         "hovertemplate": "Trek=Tsum Valley Trek<br>Review/Satisfaction=%{x}<br>Cost=%{y}<extra></extra>",
         "legendgroup": "Tsum Valley Trek",
         "marker": {
          "color": "#19d3f3",
          "symbol": "circle"
         },
         "mode": "markers",
         "name": "Tsum Valley Trek",
         "orientation": "v",
         "showlegend": true,
         "x": [
          4.5,
          3.5,
          4.0,
          5.0,
          3.0
         ],
         "xaxis": "x",
         "y": [
          1499.0,
          1499.0,
          1499.0,
          1499.0,
          1499.0
         ],
         "yaxis": "y",
         "type": "scatter"
        },
        {
         "hovertemplate": "Trek=The Royal Trek<br>Review/Satisfaction=%{x}<br>Cost=%{y}<extra></extra>",
         "legendgroup": "The Royal Trek",
         "marker": {
          "color": "#FF6692",
          "symbol": "circle"
         },
         "mode": "markers",
         "name": "The Royal Trek",
         "orientation": "v",
         "showlegend": true,
         "x": [
          3.0,
          4.5,
          3.5,
          4.0,
          5.0
         ],
         "xaxis": "x",
         "y": [
          1499.0,
          1499.0,
          1499.0,
          1499.0,
          1499.0
         ],
         "yaxis": "y",
         "type": "scatter"
        },
        {
         "hovertemplate": "Trek=Makalu Base Camp Trek<br>Review/Satisfaction=%{x}<br>Cost=%{y}<extra></extra>",
         "legendgroup": "Makalu Base Camp Trek",
         "marker": {
          "color": "#B6E880",
          "symbol": "circle"
         },
         "mode": "markers",
         "name": "Makalu Base Camp Trek",
         "orientation": "v",
         "showlegend": true,
         "x": [
          5.0,
          3.0,
          4.5,
          3.5,
          4.0
         ],
         "xaxis": "x",
         "y": [
          1499.0,
          1499.0,
          1499.0,
          1499.0,
          1499.0
         ],
         "yaxis": "y",
         "type": "scatter"
        },
        {
         "hovertemplate": "Trek=Langtang Gosainkunda and Helambu Trek<br>Review/Satisfaction=%{x}<br>Cost=%{y}<extra></extra>",
         "legendgroup": "Langtang Gosainkunda and Helambu Trek",
         "marker": {
          "color": "#FF97FF",
          "symbol": "circle"
         },
         "mode": "markers",
         "name": "Langtang Gosainkunda and Helambu Trek",
         "orientation": "v",
         "showlegend": true,
         "x": [
          4.0,
          5.0,
          3.0,
          4.5,
          4.0
         ],
         "xaxis": "x",
         "y": [
          1499.0,
          1499.0,
          1499.0,
          1499.0,
          1499.0
         ],
         "yaxis": "y",
         "type": "scatter"
        },
        {
         "hovertemplate": "Trek=Nar Phu Valley Trek<br>Review/Satisfaction=%{x}<br>Cost=%{y}<extra></extra>",
         "legendgroup": "Nar Phu Valley Trek",
         "marker": {
          "color": "#FECB52",
          "symbol": "circle"
         },
         "mode": "markers",
         "name": "Nar Phu Valley Trek",
         "orientation": "v",
         "showlegend": true,
         "x": [
          3.5,
          4.0,
          5.0,
          3.0,
          4.5
         ],
         "xaxis": "x",
         "y": [
          1499.0,
          1499.0,
          1499.0,
          1499.0,
          1499.0
         ],
         "yaxis": "y",
         "type": "scatter"
        },
        {
         "hovertemplate": "Trek=Annapurna Circle Trek<br>Review/Satisfaction=%{x}<br>Cost=%{y}<extra></extra>",
         "legendgroup": "Annapurna Circle Trek",
         "marker": {
          "color": "#636efa",
          "symbol": "circle"
         },
         "mode": "markers",
         "name": "Annapurna Circle Trek",
         "orientation": "v",
         "showlegend": true,
         "x": [
          4.5,
          3.5,
          4.0,
          5.0,
          3.0
         ],
         "xaxis": "x",
         "y": [
          1499.0,
          1499.0,
          1499.0,
          1499.0,
          1499.0
         ],
         "yaxis": "y",
         "type": "scatter"
        },
        {
         "hovertemplate": "Trek=Everest Kangshung Face Trek<br>Review/Satisfaction=%{x}<br>Cost=%{y}<extra></extra>",
         "legendgroup": "Everest Kangshung Face Trek",
         "marker": {
          "color": "#EF553B",
          "symbol": "circle"
         },
         "mode": "markers",
         "name": "Everest Kangshung Face Trek",
         "orientation": "v",
         "showlegend": true,
         "x": [
          3.0,
          4.5,
          3.5,
          4.0,
          5.0
         ],
         "xaxis": "x",
         "y": [
          1499.0,
          1499.0,
          1499.0,
          1499.0,
          1499.0
         ],
         "yaxis": "y",
         "type": "scatter"
        },
        {
         "hovertemplate": "Trek=Tsum Valley and Manaslu Trek<br>Review/Satisfaction=%{x}<br>Cost=%{y}<extra></extra>",
         "legendgroup": "Tsum Valley and Manaslu Trek",
         "marker": {
          "color": "#00cc96",
          "symbol": "circle"
         },
         "mode": "markers",
         "name": "Tsum Valley and Manaslu Trek",
         "orientation": "v",
         "showlegend": true,
         "x": [
          5.0,
          3.0,
          4.5,
          3.5,
          4.0
         ],
         "xaxis": "x",
         "y": [
          1499.0,
          1499.0,
          1499.0,
          1499.0,
          1499.0
         ],
         "yaxis": "y",
         "type": "scatter"
        },
        {
         "hovertemplate": "Trek=Khopra Ridge Community Trek<br>Review/Satisfaction=%{x}<br>Cost=%{y}<extra></extra>",
         "legendgroup": "Khopra Ridge Community Trek",
         "marker": {
          "color": "#ab63fa",
          "symbol": "circle"
         },
         "mode": "markers",
         "name": "Khopra Ridge Community Trek",
         "orientation": "v",
         "showlegend": true,
         "x": [
          4.0,
          5.0,
          3.0,
          4.5,
          3.5
         ],
         "xaxis": "x",
         "y": [
          1499.0,
          1499.0,
          1499.0,
          1499.0,
          1499.0
         ],
         "yaxis": "y",
         "type": "scatter"
        },
        {
         "hovertemplate": "Trek=Nepal Experience Tour<br>Review/Satisfaction=%{x}<br>Cost=%{y}<extra></extra>",
         "legendgroup": "Nepal Experience Tour",
         "marker": {
          "color": "#FFA15A",
          "symbol": "circle"
         },
         "mode": "markers",
         "name": "Nepal Experience Tour",
         "orientation": "v",
         "showlegend": true,
         "x": [
          3.5,
          4.0,
          5.0,
          3.0,
          4.5
         ],
         "xaxis": "x",
         "y": [
          1499.0,
          1499.0,
          1499.0,
          1499.0,
          1499.0
         ],
         "yaxis": "y",
         "type": "scatter"
        },
        {
         "hovertemplate": "Trek=Annapurna Circuit Trek with Tilicho Lake and Poon Hill<br>Review/Satisfaction=%{x}<br>Cost=%{y}<extra></extra>",
         "legendgroup": "Annapurna Circuit Trek with Tilicho Lake and Poon Hill",
         "marker": {
          "color": "#19d3f3",
          "symbol": "circle"
         },
         "mode": "markers",
         "name": "Annapurna Circuit Trek with Tilicho Lake and Poon Hill",
         "orientation": "v",
         "showlegend": true,
         "x": [
          4.0,
          3.5,
          4.0,
          5.0,
          3.0
         ],
         "xaxis": "x",
         "y": [
          1499.0,
          1499.0,
          1499.0,
          1499.0,
          1499.0
         ],
         "yaxis": "y",
         "type": "scatter"
        },
        {
         "hovertemplate": "Trek=Annapurna With Tilicho Lake Trek<br>Review/Satisfaction=%{x}<br>Cost=%{y}<extra></extra>",
         "legendgroup": "Annapurna With Tilicho Lake Trek",
         "marker": {
          "color": "#FF6692",
          "symbol": "circle"
         },
         "mode": "markers",
         "name": "Annapurna With Tilicho Lake Trek",
         "orientation": "v",
         "showlegend": true,
         "x": [
          3.0,
          4.0,
          3.5,
          4.0,
          5.0
         ],
         "xaxis": "x",
         "y": [
          1499.0,
          1499.0,
          1499.0,
          1499.0,
          1499.0
         ],
         "yaxis": "y",
         "type": "scatter"
        },
        {
         "hovertemplate": "Trek=Langtang Valley Trek with Ganja la Pass<br>Review/Satisfaction=%{x}<br>Cost=%{y}<extra></extra>",
         "legendgroup": "Langtang Valley Trek with Ganja la Pass",
         "marker": {
          "color": "#B6E880",
          "symbol": "circle"
         },
         "mode": "markers",
         "name": "Langtang Valley Trek with Ganja la Pass",
         "orientation": "v",
         "showlegend": true,
         "x": [
          5.0,
          3.0,
          4.5,
          3.5,
          4.0
         ],
         "xaxis": "x",
         "y": [
          1499.0,
          1499.0,
          1499.0,
          1499.0,
          1499.0
         ],
         "yaxis": "y",
         "type": "scatter"
        },
        {
         "hovertemplate": "Trek=Manaslu and Annapurna Trek with Tilicho Lake<br>Review/Satisfaction=%{x}<br>Cost=%{y}<extra></extra>",
         "legendgroup": "Manaslu and Annapurna Trek with Tilicho Lake",
         "marker": {
          "color": "#FF97FF",
          "symbol": "circle"
         },
         "mode": "markers",
         "name": "Manaslu and Annapurna Trek with Tilicho Lake",
         "orientation": "v",
         "showlegend": true,
         "x": [
          3.5,
          4.0,
          5.0,
          3.0,
          4.5
         ],
         "xaxis": "x",
         "y": [
          1499.0,
          1499.0,
          1499.0,
          1499.0,
          1499.0
         ],
         "yaxis": "y",
         "type": "scatter"
        },
        {
         "hovertemplate": "Trek=Nepal Trekking and Everest Himalaya Heli Tour<br>Review/Satisfaction=%{x}<br>Cost=%{y}<extra></extra>",
         "legendgroup": "Nepal Trekking and Everest Himalaya Heli Tour",
         "marker": {
          "color": "#FECB52",
          "symbol": "circle"
         },
         "mode": "markers",
         "name": "Nepal Trekking and Everest Himalaya Heli Tour",
         "orientation": "v",
         "showlegend": true,
         "x": [
          4.5,
          3.5,
          4.0,
          5.0,
          4.0
         ],
         "xaxis": "x",
         "y": [
          1499.0,
          1499.0,
          1499.0,
          1499.0,
          1499.0
         ],
         "yaxis": "y",
         "type": "scatter"
        },
        {
         "hovertemplate": "Trek=Nepal Hiking and Culture Tour<br>Review/Satisfaction=%{x}<br>Cost=%{y}<extra></extra>",
         "legendgroup": "Nepal Hiking and Culture Tour",
         "marker": {
          "color": "#636efa",
          "symbol": "circle"
         },
         "mode": "markers",
         "name": "Nepal Hiking and Culture Tour",
         "orientation": "v",
         "showlegend": true,
         "x": [
          3.0,
          4.5,
          3.5,
          4.0,
          5.0
         ],
         "xaxis": "x",
         "y": [
          1499.0,
          1499.0,
          1499.0,
          1499.0,
          1499.0
         ],
         "yaxis": "y",
         "type": "scatter"
        },
        {
         "hovertemplate": "Trek=Annapurna Sunrise and Everest View Trek<br>Review/Satisfaction=%{x}<br>Cost=%{y}<extra></extra>",
         "legendgroup": "Annapurna Sunrise and Everest View Trek",
         "marker": {
          "color": "#EF553B",
          "symbol": "circle"
         },
         "mode": "markers",
         "name": "Annapurna Sunrise and Everest View Trek",
         "orientation": "v",
         "showlegend": true,
         "x": [
          5.0,
          3.0,
          4.5,
          4.0,
          4.0
         ],
         "xaxis": "x",
         "y": [
          1499.0,
          1499.0,
          1499.0,
          1499.0,
          1499.0
         ],
         "yaxis": "y",
         "type": "scatter"
        },
        {
         "hovertemplate": "Trek=Tenzing Hillary Everest Marathon<br>Review/Satisfaction=%{x}<br>Cost=%{y}<extra></extra>",
         "legendgroup": "Tenzing Hillary Everest Marathon",
         "marker": {
          "color": "#00cc96",
          "symbol": "circle"
         },
         "mode": "markers",
         "name": "Tenzing Hillary Everest Marathon",
         "orientation": "v",
         "showlegend": true,
         "x": [
          4.0,
          5.0,
          4.0,
          4.5,
          3.5
         ],
         "xaxis": "x",
         "y": [
          1499.0,
          1499.0,
          1499.0,
          1499.0,
          1499.0
         ],
         "yaxis": "y",
         "type": "scatter"
        },
        {
         "hovertemplate": "Trek=Everest Kalapathar Trekking<br>Review/Satisfaction=%{x}<br>Cost=%{y}<extra></extra>",
         "legendgroup": "Everest Kalapathar Trekking",
         "marker": {
          "color": "#ab63fa",
          "symbol": "circle"
         },
         "mode": "markers",
         "name": "Everest Kalapathar Trekking",
         "orientation": "v",
         "showlegend": true,
         "x": [
          4.5,
          3.5,
          4.0,
          5.0,
          4.0
         ],
         "xaxis": "x",
         "y": [
          1390.0,
          1390.0,
          1390.0,
          1390.0,
          1390.0
         ],
         "yaxis": "y",
         "type": "scatter"
        },
        {
         "hovertemplate": "Trek=Everest Base Camp Trek via Gokyo Lake<br>Review/Satisfaction=%{x}<br>Cost=%{y}<extra></extra>",
         "legendgroup": "Everest Base Camp Trek via Gokyo Lake",
         "marker": {
          "color": "#FFA15A",
          "symbol": "circle"
         },
         "mode": "markers",
         "name": "Everest Base Camp Trek via Gokyo Lake",
         "orientation": "v",
         "showlegend": true,
         "x": [
          5.0,
          3.0,
          4.5,
          4.0,
          4.0
         ],
         "xaxis": "x",
         "y": [
          1530.0,
          1530.0,
          1530.0,
          1530.0,
          1530.0
         ],
         "yaxis": "y",
         "type": "scatter"
        },
        {
         "hovertemplate": "Trek=Gokyo Lake Trek<br>Review/Satisfaction=%{x}<br>Cost=%{y}<extra></extra>",
         "legendgroup": "Gokyo Lake Trek",
         "marker": {
          "color": "#19d3f3",
          "symbol": "circle"
         },
         "mode": "markers",
         "name": "Gokyo Lake Trek",
         "orientation": "v",
         "showlegend": true,
         "x": [
          4.0,
          5.0,
          3.0,
          4.5,
          3.5
         ],
         "xaxis": "x",
         "y": [
          1190.0,
          1190.0,
          1190.0,
          1190.0,
          1190.0
         ],
         "yaxis": "y",
         "type": "scatter"
        },
        {
         "hovertemplate": "Trek=Ghorepani Poon Hill Trek<br>Review/Satisfaction=%{x}<br>Cost=%{y}<extra></extra>",
         "legendgroup": "Ghorepani Poon Hill Trek",
         "marker": {
          "color": "#FF6692",
          "symbol": "circle"
         },
         "mode": "markers",
         "name": "Ghorepani Poon Hill Trek",
         "orientation": "v",
         "showlegend": true,
         "x": [
          5.0,
          3.0,
          4.5,
          3.5,
          4.0
         ],
         "xaxis": "x",
         "y": [
          450.0,
          450.0,
          450.0,
          450.0,
          450.0
         ],
         "yaxis": "y",
         "type": "scatter"
        },
        {
         "hovertemplate": "Trek=Langtang Valley Trekking<br>Review/Satisfaction=%{x}<br>Cost=%{y}<extra></extra>",
         "legendgroup": "Langtang Valley Trekking",
         "marker": {
          "color": "#B6E880",
          "symbol": "circle"
         },
         "mode": "markers",
         "name": "Langtang Valley Trekking",
         "orientation": "v",
         "showlegend": true,
         "x": [
          4.5,
          3.5,
          4.0,
          4.0,
          3.0
         ],
         "xaxis": "x",
         "y": [
          690.0,
          690.0,
          690.0,
          690.0,
          690.0
         ],
         "yaxis": "y",
         "type": "scatter"
        }
       ],
       "layout": {
        "template": {
         "data": {
          "histogram2dcontour": [
           {
            "type": "histogram2dcontour",
            "colorbar": {
             "outlinewidth": 0,
             "ticks": ""
            },
            "colorscale": [
             [
              0.0,
              "#0d0887"
             ],
             [
              0.1111111111111111,
              "#46039f"
             ],
             [
              0.2222222222222222,
              "#7201a8"
             ],
             [
              0.3333333333333333,
              "#9c179e"
             ],
             [
              0.4444444444444444,
              "#bd3786"
             ],
             [
              0.5555555555555556,
              "#d8576b"
             ],
             [
              0.6666666666666666,
              "#ed7953"
             ],
             [
              0.7777777777777778,
              "#fb9f3a"
             ],
             [
              0.8888888888888888,
              "#fdca26"
             ],
             [
              1.0,
              "#f0f921"
             ]
            ]
           }
          ],
          "choropleth": [
           {
            "type": "choropleth",
            "colorbar": {
             "outlinewidth": 0,
             "ticks": ""
            }
           }
          ],
          "histogram2d": [
           {
            "type": "histogram2d",
            "colorbar": {
             "outlinewidth": 0,
             "ticks": ""
            },
            "colorscale": [
             [
              0.0,
              "#0d0887"
             ],
             [
              0.1111111111111111,
              "#46039f"
             ],
             [
              0.2222222222222222,
              "#7201a8"
             ],
             [
              0.3333333333333333,
              "#9c179e"
             ],
             [
              0.4444444444444444,
              "#bd3786"
             ],
             [
              0.5555555555555556,
              "#d8576b"
             ],
             [
              0.6666666666666666,
              "#ed7953"
             ],
             [
              0.7777777777777778,
              "#fb9f3a"
             ],
             [
              0.8888888888888888,
              "#fdca26"
             ],
             [
              1.0,
              "#f0f921"
             ]
            ]
           }
          ],
          "heatmap": [
           {
            "type": "heatmap",
            "colorbar": {
             "outlinewidth": 0,
             "ticks": ""
            },
            "colorscale": [
             [
              0.0,
              "#0d0887"
             ],
             [
              0.1111111111111111,
              "#46039f"
             ],
             [
              0.2222222222222222,
              "#7201a8"
             ],
             [
              0.3333333333333333,
              "#9c179e"
             ],
             [
              0.4444444444444444,
              "#bd3786"
             ],
             [
              0.5555555555555556,
              "#d8576b"
             ],
             [
              0.6666666666666666,
              "#ed7953"
             ],
             [
              0.7777777777777778,
              "#fb9f3a"
             ],
             [
              0.8888888888888888,
              "#fdca26"
             ],
             [
              1.0,
              "#f0f921"
             ]
            ]
           }
          ],
          "heatmapgl": [
           {
            "type": "heatmapgl",
            "colorbar": {
             "outlinewidth": 0,
             "ticks": ""
            },
            "colorscale": [
             [
              0.0,
              "#0d0887"
             ],
             [
              0.1111111111111111,
              "#46039f"
             ],
             [
              0.2222222222222222,
              "#7201a8"
             ],
             [
              0.3333333333333333,
              "#9c179e"
             ],
             [
              0.4444444444444444,
              "#bd3786"
             ],
             [
              0.5555555555555556,
              "#d8576b"
             ],
             [
              0.6666666666666666,
              "#ed7953"
             ],
             [
              0.7777777777777778,
              "#fb9f3a"
             ],
             [
              0.8888888888888888,
              "#fdca26"
             ],
             [
              1.0,
              "#f0f921"
             ]
            ]
           }
          ],
          "contourcarpet": [
           {
            "type": "contourcarpet",
            "colorbar": {
             "outlinewidth": 0,
             "ticks": ""
            }
           }
          ],
          "contour": [
           {
            "type": "contour",
            "colorbar": {
             "outlinewidth": 0,
             "ticks": ""
            },
            "colorscale": [
             [
              0.0,
              "#0d0887"
             ],
             [
              0.1111111111111111,
              "#46039f"
             ],
             [
              0.2222222222222222,
              "#7201a8"
             ],
             [
              0.3333333333333333,
              "#9c179e"
             ],
             [
              0.4444444444444444,
              "#bd3786"
             ],
             [
              0.5555555555555556,
              "#d8576b"
             ],
             [
              0.6666666666666666,
              "#ed7953"
             ],
             [
              0.7777777777777778,
              "#fb9f3a"
             ],
             [
              0.8888888888888888,
              "#fdca26"
             ],
             [
              1.0,
              "#f0f921"
             ]
            ]
           }
          ],
          "surface": [
           {
            "type": "surface",
            "colorbar": {
             "outlinewidth": 0,
             "ticks": ""
            },
            "colorscale": [
             [
              0.0,
              "#0d0887"
             ],
             [
              0.1111111111111111,
              "#46039f"
             ],
             [
              0.2222222222222222,
              "#7201a8"
             ],
             [
              0.3333333333333333,
              "#9c179e"
             ],
             [
              0.4444444444444444,
              "#bd3786"
             ],
             [
              0.5555555555555556,
              "#d8576b"
             ],
             [
              0.6666666666666666,
              "#ed7953"
             ],
             [
              0.7777777777777778,
              "#fb9f3a"
             ],
             [
              0.8888888888888888,
              "#fdca26"
             ],
             [
              1.0,
              "#f0f921"
             ]
            ]
           }
          ],
          "mesh3d": [
           {
            "type": "mesh3d",
            "colorbar": {
             "outlinewidth": 0,
             "ticks": ""
            }
           }
          ],
          "scatter": [
           {
            "marker": {
             "line": {
              "color": "#283442"
             }
            },
            "type": "scatter"
           }
          ],
          "parcoords": [
           {
            "type": "parcoords",
            "line": {
             "colorbar": {
              "outlinewidth": 0,
              "ticks": ""
             }
            }
           }
          ],
          "scatterpolargl": [
           {
            "type": "scatterpolargl",
            "marker": {
             "colorbar": {
              "outlinewidth": 0,
              "ticks": ""
             }
            }
           }
          ],
          "bar": [
           {
            "error_x": {
             "color": "#f2f5fa"
            },
            "error_y": {
             "color": "#f2f5fa"
            },
            "marker": {
             "line": {
              "color": "rgb(17,17,17)",
              "width": 0.5
             },
             "pattern": {
              "fillmode": "overlay",
              "size": 10,
              "solidity": 0.2
             }
            },
            "type": "bar"
           }
          ],
          "scattergeo": [
           {
            "type": "scattergeo",
            "marker": {
             "colorbar": {
              "outlinewidth": 0,
              "ticks": ""
             }
            }
           }
          ],
          "scatterpolar": [
           {
            "type": "scatterpolar",
            "marker": {
             "colorbar": {
              "outlinewidth": 0,
              "ticks": ""
             }
            }
           }
          ],
          "histogram": [
           {
            "marker": {
             "pattern": {
              "fillmode": "overlay",
              "size": 10,
              "solidity": 0.2
             }
            },
            "type": "histogram"
           }
          ],
          "scattergl": [
           {
            "marker": {
             "line": {
              "color": "#283442"
             }
            },
            "type": "scattergl"
           }
          ],
          "scatter3d": [
           {
            "type": "scatter3d",
            "line": {
             "colorbar": {
              "outlinewidth": 0,
              "ticks": ""
             }
            },
            "marker": {
             "colorbar": {
              "outlinewidth": 0,
              "ticks": ""
             }
            }
           }
          ],
          "scattermapbox": [
           {
            "type": "scattermapbox",
            "marker": {
             "colorbar": {
              "outlinewidth": 0,
              "ticks": ""
             }
            }
           }
          ],
          "scatterternary": [
           {
            "type": "scatterternary",
            "marker": {
             "colorbar": {
              "outlinewidth": 0,
              "ticks": ""
             }
            }
           }
          ],
          "scattercarpet": [
           {
            "type": "scattercarpet",
            "marker": {
             "colorbar": {
              "outlinewidth": 0,
              "ticks": ""
             }
            }
           }
          ],
          "carpet": [
           {
            "aaxis": {
             "endlinecolor": "#A2B1C6",
             "gridcolor": "#506784",
             "linecolor": "#506784",
             "minorgridcolor": "#506784",
             "startlinecolor": "#A2B1C6"
            },
            "baxis": {
             "endlinecolor": "#A2B1C6",
             "gridcolor": "#506784",
             "linecolor": "#506784",
             "minorgridcolor": "#506784",
             "startlinecolor": "#A2B1C6"
            },
            "type": "carpet"
           }
          ],
          "table": [
           {
            "cells": {
             "fill": {
              "color": "#506784"
             },
             "line": {
              "color": "rgb(17,17,17)"
             }
            },
            "header": {
             "fill": {
              "color": "#2a3f5f"
             },
             "line": {
              "color": "rgb(17,17,17)"
             }
            },
            "type": "table"
           }
          ],
          "barpolar": [
           {
            "marker": {
             "line": {
              "color": "rgb(17,17,17)",
              "width": 0.5
             },
             "pattern": {
              "fillmode": "overlay",
              "size": 10,
              "solidity": 0.2
             }
            },
            "type": "barpolar"
           }
          ],
          "pie": [
           {
            "automargin": true,
            "type": "pie"
           }
          ]
         },
         "layout": {
          "autotypenumbers": "strict",
          "colorway": [
           "#636efa",
           "#EF553B",
           "#00cc96",
           "#ab63fa",
           "#FFA15A",
           "#19d3f3",
           "#FF6692",
           "#B6E880",
           "#FF97FF",
           "#FECB52"
          ],
          "font": {
           "color": "#f2f5fa"
          },
          "hovermode": "closest",
          "hoverlabel": {
           "align": "left"
          },
          "paper_bgcolor": "rgb(17,17,17)",
          "plot_bgcolor": "rgb(17,17,17)",
          "polar": {
           "bgcolor": "rgb(17,17,17)",
           "angularaxis": {
            "gridcolor": "#506784",
            "linecolor": "#506784",
            "ticks": ""
           },
           "radialaxis": {
            "gridcolor": "#506784",
            "linecolor": "#506784",
            "ticks": ""
           }
          },
          "ternary": {
           "bgcolor": "rgb(17,17,17)",
           "aaxis": {
            "gridcolor": "#506784",
            "linecolor": "#506784",
            "ticks": ""
           },
           "baxis": {
            "gridcolor": "#506784",
            "linecolor": "#506784",
            "ticks": ""
           },
           "caxis": {
            "gridcolor": "#506784",
            "linecolor": "#506784",
            "ticks": ""
           }
          },
          "coloraxis": {
           "colorbar": {
            "outlinewidth": 0,
            "ticks": ""
           }
          },
          "colorscale": {
           "sequential": [
            [
             0.0,
             "#0d0887"
            ],
            [
             0.1111111111111111,
             "#46039f"
            ],
            [
             0.2222222222222222,
             "#7201a8"
            ],
            [
             0.3333333333333333,
             "#9c179e"
            ],
            [
             0.4444444444444444,
             "#bd3786"
            ],
            [
             0.5555555555555556,
             "#d8576b"
            ],
            [
             0.6666666666666666,
             "#ed7953"
            ],
            [
             0.7777777777777778,
             "#fb9f3a"
            ],
            [
             0.8888888888888888,
             "#fdca26"
            ],
            [
             1.0,
             "#f0f921"
            ]
           ],
           "sequentialminus": [
            [
             0.0,
             "#0d0887"
            ],
            [
             0.1111111111111111,
             "#46039f"
            ],
            [
             0.2222222222222222,
             "#7201a8"
            ],
            [
             0.3333333333333333,
             "#9c179e"
            ],
            [
             0.4444444444444444,
             "#bd3786"
            ],
            [
             0.5555555555555556,
             "#d8576b"
            ],
            [
             0.6666666666666666,
             "#ed7953"
            ],
            [
             0.7777777777777778,
             "#fb9f3a"
            ],
            [
             0.8888888888888888,
             "#fdca26"
            ],
            [
             1.0,
             "#f0f921"
            ]
           ],
           "diverging": [
            [
             0,
             "#8e0152"
            ],
            [
             0.1,
             "#c51b7d"
            ],
            [
             0.2,
             "#de77ae"
            ],
            [
             0.3,
             "#f1b6da"
            ],
            [
             0.4,
             "#fde0ef"
            ],
            [
             0.5,
             "#f7f7f7"
            ],
            [
             0.6,
             "#e6f5d0"
            ],
            [
             0.7,
             "#b8e186"
            ],
            [
             0.8,
             "#7fbc41"
            ],
            [
             0.9,
             "#4d9221"
            ],
            [
             1,
             "#276419"
            ]
           ]
          },
          "xaxis": {
           "gridcolor": "#283442",
           "linecolor": "#506784",
           "ticks": "",
           "title": {
            "standoff": 15
           },
           "zerolinecolor": "#283442",
           "automargin": true,
           "zerolinewidth": 2
          },
          "yaxis": {
           "gridcolor": "#283442",
           "linecolor": "#506784",
           "ticks": "",
           "title": {
            "standoff": 15
           },
           "zerolinecolor": "#283442",
           "automargin": true,
           "zerolinewidth": 2
          },
          "scene": {
           "xaxis": {
            "backgroundcolor": "rgb(17,17,17)",
            "gridcolor": "#506784",
            "linecolor": "#506784",
            "showbackground": true,
            "ticks": "",
            "zerolinecolor": "#C8D4E3",
            "gridwidth": 2
           },
           "yaxis": {
            "backgroundcolor": "rgb(17,17,17)",
            "gridcolor": "#506784",
            "linecolor": "#506784",
            "showbackground": true,
            "ticks": "",
            "zerolinecolor": "#C8D4E3",
            "gridwidth": 2
           },
           "zaxis": {
            "backgroundcolor": "rgb(17,17,17)",
            "gridcolor": "#506784",
            "linecolor": "#506784",
            "showbackground": true,
            "ticks": "",
            "zerolinecolor": "#C8D4E3",
            "gridwidth": 2
           }
          },
          "shapedefaults": {
           "line": {
            "color": "#f2f5fa"
           }
          },
          "annotationdefaults": {
           "arrowcolor": "#f2f5fa",
           "arrowhead": 0,
           "arrowwidth": 1
          },
          "geo": {
           "bgcolor": "rgb(17,17,17)",
           "landcolor": "rgb(17,17,17)",
           "subunitcolor": "#506784",
           "showland": true,
           "showlakes": true,
           "lakecolor": "rgb(17,17,17)"
          },
          "title": {
           "x": 0.05
          },
          "updatemenudefaults": {
           "bgcolor": "#506784",
           "borderwidth": 0
          },
          "sliderdefaults": {
           "bgcolor": "#C8D4E3",
           "borderwidth": 1,
           "bordercolor": "rgb(17,17,17)",
           "tickwidth": 0
          },
          "mapbox": {
           "style": "dark"
          }
         }
        },
        "xaxis": {
         "anchor": "y",
         "domain": [
          0.0,
          1.0
         ],
         "title": {
          "text": "Review/Satisfaction"
         }
        },
        "yaxis": {
         "anchor": "x",
         "domain": [
          0.0,
          1.0
         ],
         "title": {
          "text": "Cost"
         }
        },
        "legend": {
         "title": {
          "text": "Trek"
         },
         "tracegroupgap": 0
        },
        "title": {
         "text": "Trek Ratings vs. Cost"
        }
       },
       "config": {
        "plotlyServerURL": "https://plot.ly"
       }
      },
      "text/html": [
       "<div>                            <div id=\"ffaaf72b-d915-4376-9ef7-fc31a4d29881\" class=\"plotly-graph-div\" style=\"height:525px; width:100%;\"></div>            <script type=\"text/javascript\">                require([\"plotly\"], function(Plotly) {                    window.PLOTLYENV=window.PLOTLYENV || {};                                    if (document.getElementById(\"ffaaf72b-d915-4376-9ef7-fc31a4d29881\")) {                    Plotly.newPlot(                        \"ffaaf72b-d915-4376-9ef7-fc31a4d29881\",                        [{\"hovertemplate\":\"Trek=Everest Base Camp Trek\\u003cbr\\u003eReview\\u002fSatisfaction=%{x}\\u003cbr\\u003eCost=%{y}\\u003cextra\\u003e\\u003c\\u002fextra\\u003e\",\"legendgroup\":\"Everest Base Camp Trek\",\"marker\":{\"color\":\"#636efa\",\"symbol\":\"circle\"},\"mode\":\"markers\",\"name\":\"Everest Base Camp Trek\",\"orientation\":\"v\",\"showlegend\":true,\"x\":[4.5,4.5,3.5,3.5,4.0,4.0,5.0,5.0,3.0,3.0,4.0],\"xaxis\":\"x\",\"y\":[1420.0,1499.0,1450.0,1499.0,1450.0,1499.0,1450.0,1499.0,1450.0,1499.0,1450.0],\"yaxis\":\"y\",\"type\":\"scatter\"},{\"hovertemplate\":\"Trek=Everest Base Camp Short Trek\\u003cbr\\u003eReview\\u002fSatisfaction=%{x}\\u003cbr\\u003eCost=%{y}\\u003cextra\\u003e\\u003c\\u002fextra\\u003e\",\"legendgroup\":\"Everest Base Camp Short Trek\",\"marker\":{\"color\":\"#EF553B\",\"symbol\":\"circle\"},\"mode\":\"markers\",\"name\":\"Everest Base Camp Short Trek\",\"orientation\":\"v\",\"showlegend\":true,\"x\":[4.0,3.5,4.0,5.0,3.0,4.5],\"xaxis\":\"x\",\"y\":[1295.0,1499.0,1499.0,1499.0,1499.0,1499.0],\"yaxis\":\"y\",\"type\":\"scatter\"},{\"hovertemplate\":\"Trek=Everest Base Camp Heli Shuttle Trek\\u003cbr\\u003eReview\\u002fSatisfaction=%{x}\\u003cbr\\u003eCost=%{y}\\u003cextra\\u003e\\u003c\\u002fextra\\u003e\",\"legendgroup\":\"Everest Base Camp Heli Shuttle Trek\",\"marker\":{\"color\":\"#00cc96\",\"symbol\":\"circle\"},\"mode\":\"markers\",\"name\":\"Everest Base Camp Heli Shuttle Trek\",\"orientation\":\"v\",\"showlegend\":true,\"x\":[5.0],\"xaxis\":\"x\",\"y\":[2000.0],\"yaxis\":\"y\",\"type\":\"scatter\"},{\"hovertemplate\":\"Trek=Everest Base Camp Heli Trek\\u003cbr\\u003eReview\\u002fSatisfaction=%{x}\\u003cbr\\u003eCost=%{y}\\u003cextra\\u003e\\u003c\\u002fextra\\u003e\",\"legendgroup\":\"Everest Base Camp Heli Trek\",\"marker\":{\"color\":\"#ab63fa\",\"symbol\":\"circle\"},\"mode\":\"markers\",\"name\":\"Everest Base Camp Heli Trek\",\"orientation\":\"v\",\"showlegend\":true,\"x\":[4.0,3.5,4.0,5.0,4.0,4.5],\"xaxis\":\"x\",\"y\":[3300.0,3600.0,3600.0,3600.0,3600.0,3600.0],\"yaxis\":\"y\",\"type\":\"scatter\"},{\"hovertemplate\":\"Trek=Everest Base Camp Trek for Seniors\\u003cbr\\u003eReview\\u002fSatisfaction=%{x}\\u003cbr\\u003eCost=%{y}\\u003cextra\\u003e\\u003c\\u002fextra\\u003e\",\"legendgroup\":\"Everest Base Camp Trek for Seniors\",\"marker\":{\"color\":\"#FFA15A\",\"symbol\":\"circle\"},\"mode\":\"markers\",\"name\":\"Everest Base Camp Trek for Seniors\",\"orientation\":\"v\",\"showlegend\":true,\"x\":[3.5],\"xaxis\":\"x\",\"y\":[1800.0],\"yaxis\":\"y\",\"type\":\"scatter\"},{\"hovertemplate\":\"Trek=Everest Chola Pass Trek\\u003cbr\\u003eReview\\u002fSatisfaction=%{x}\\u003cbr\\u003eCost=%{y}\\u003cextra\\u003e\\u003c\\u002fextra\\u003e\",\"legendgroup\":\"Everest Chola Pass Trek\",\"marker\":{\"color\":\"#19d3f3\",\"symbol\":\"circle\"},\"mode\":\"markers\",\"name\":\"Everest Chola Pass Trek\",\"orientation\":\"v\",\"showlegend\":true,\"x\":[4.5],\"xaxis\":\"x\",\"y\":[1720.0],\"yaxis\":\"y\",\"type\":\"scatter\"},{\"hovertemplate\":\"Trek=Gokyo Lake Renjo La Pass Trek\\u003cbr\\u003eReview\\u002fSatisfaction=%{x}\\u003cbr\\u003eCost=%{y}\\u003cextra\\u003e\\u003c\\u002fextra\\u003e\",\"legendgroup\":\"Gokyo Lake Renjo La Pass Trek\",\"marker\":{\"color\":\"#FF6692\",\"symbol\":\"circle\"},\"mode\":\"markers\",\"name\":\"Gokyo Lake Renjo La Pass Trek\",\"orientation\":\"v\",\"showlegend\":true,\"x\":[4.0],\"xaxis\":\"x\",\"y\":[1450.0],\"yaxis\":\"y\",\"type\":\"scatter\"},{\"hovertemplate\":\"Trek=Everest High Passes Trek\\u003cbr\\u003eReview\\u002fSatisfaction=%{x}\\u003cbr\\u003eCost=%{y}\\u003cextra\\u003e\\u003c\\u002fextra\\u003e\",\"legendgroup\":\"Everest High Passes Trek\",\"marker\":{\"color\":\"#B6E880\",\"symbol\":\"circle\"},\"mode\":\"markers\",\"name\":\"Everest High Passes Trek\",\"orientation\":\"v\",\"showlegend\":true,\"x\":[5.0,4.0,3.0,4.0,4.0,4.0],\"xaxis\":\"x\",\"y\":[1950.0,1499.0,1499.0,1499.0,1499.0,1499.0],\"yaxis\":\"y\",\"type\":\"scatter\"},{\"hovertemplate\":\"Trek=Short Everest Trek\\u003cbr\\u003eReview\\u002fSatisfaction=%{x}\\u003cbr\\u003eCost=%{y}\\u003cextra\\u003e\\u003c\\u002fextra\\u003e\",\"legendgroup\":\"Short Everest Trek\",\"marker\":{\"color\":\"#FF97FF\",\"symbol\":\"circle\"},\"mode\":\"markers\",\"name\":\"Short Everest Trek\",\"orientation\":\"v\",\"showlegend\":true,\"x\":[4.0],\"xaxis\":\"x\",\"y\":[1060.0],\"yaxis\":\"y\",\"type\":\"scatter\"},{\"hovertemplate\":\"Trek=Everest Panorama Trek\\u003cbr\\u003eReview\\u002fSatisfaction=%{x}\\u003cbr\\u003eCost=%{y}\\u003cextra\\u003e\\u003c\\u002fextra\\u003e\",\"legendgroup\":\"Everest Panorama Trek\",\"marker\":{\"color\":\"#FECB52\",\"symbol\":\"circle\"},\"mode\":\"markers\",\"name\":\"Everest Panorama Trek\",\"orientation\":\"v\",\"showlegend\":true,\"x\":[3.5,3.0,4.5,3.5,4.0,5.0],\"xaxis\":\"x\",\"y\":[1150.0,1040.0,1040.0,1040.0,1040.0,1040.0],\"yaxis\":\"y\",\"type\":\"scatter\"},{\"hovertemplate\":\"Trek=Everest View Trek\\u003cbr\\u003eReview\\u002fSatisfaction=%{x}\\u003cbr\\u003eCost=%{y}\\u003cextra\\u003e\\u003c\\u002fextra\\u003e\",\"legendgroup\":\"Everest View Trek\",\"marker\":{\"color\":\"#636efa\",\"symbol\":\"circle\"},\"mode\":\"markers\",\"name\":\"Everest View Trek\",\"orientation\":\"v\",\"showlegend\":true,\"x\":[4.5,3.5,4.0,5.0,3.0,4.5],\"xaxis\":\"x\",\"y\":[1100.0,1499.0,1499.0,1499.0,1499.0,1499.0],\"yaxis\":\"y\",\"type\":\"scatter\"},{\"hovertemplate\":\"Trek=Luxury Everest Base Camp Heli Trek\\u003cbr\\u003eReview\\u002fSatisfaction=%{x}\\u003cbr\\u003eCost=%{y}\\u003cextra\\u003e\\u003c\\u002fextra\\u003e\",\"legendgroup\":\"Luxury Everest Base Camp Heli Trek\",\"marker\":{\"color\":\"#EF553B\",\"symbol\":\"circle\"},\"mode\":\"markers\",\"name\":\"Luxury Everest Base Camp Heli Trek\",\"orientation\":\"v\",\"showlegend\":true,\"x\":[3.0],\"xaxis\":\"x\",\"y\":[4200.0],\"yaxis\":\"y\",\"type\":\"scatter\"},{\"hovertemplate\":\"Trek=Everest Base Camp Trek with Chola and Renjo La Pass\\u003cbr\\u003eReview\\u002fSatisfaction=%{x}\\u003cbr\\u003eCost=%{y}\\u003cextra\\u003e\\u003c\\u002fextra\\u003e\",\"legendgroup\":\"Everest Base Camp Trek with Chola and Renjo La Pass\",\"marker\":{\"color\":\"#00cc96\",\"symbol\":\"circle\"},\"mode\":\"markers\",\"name\":\"Everest Base Camp Trek with Chola and Renjo La Pass\",\"orientation\":\"v\",\"showlegend\":true,\"x\":[5.0],\"xaxis\":\"x\",\"y\":[1900.0],\"yaxis\":\"y\",\"type\":\"scatter\"},{\"hovertemplate\":\"Trek=Annapurna Base Camp Trek\\u003cbr\\u003eReview\\u002fSatisfaction=%{x}\\u003cbr\\u003eCost=%{y}\\u003cextra\\u003e\\u003c\\u002fextra\\u003e\",\"legendgroup\":\"Annapurna Base Camp Trek\",\"marker\":{\"color\":\"#ab63fa\",\"symbol\":\"circle\"},\"mode\":\"markers\",\"name\":\"Annapurna Base Camp Trek\",\"orientation\":\"v\",\"showlegend\":true,\"x\":[4.0,4.0,3.0,5.0,3.0,4.0,3.0,4.5,3.5,4.5,3.5,4.0,3.5,4.0,5.0],\"xaxis\":\"x\",\"y\":[1090.0,1499.0,1090.0,1090.0,1499.0,1090.0,1090.0,1499.0,1090.0,1090.0,1499.0,1090.0,1090.0,1499.0,1090.0],\"yaxis\":\"y\",\"type\":\"scatter\"},{\"hovertemplate\":\"Trek=Annapurna Base Camp Short Trek\\u003cbr\\u003eReview\\u002fSatisfaction=%{x}\\u003cbr\\u003eCost=%{y}\\u003cextra\\u003e\\u003c\\u002fextra\\u003e\",\"legendgroup\":\"Annapurna Base Camp Short Trek\",\"marker\":{\"color\":\"#FFA15A\",\"symbol\":\"circle\"},\"mode\":\"markers\",\"name\":\"Annapurna Base Camp Short Trek\",\"orientation\":\"v\",\"showlegend\":true,\"x\":[3.5,4.0,5.0,3.0,4.5],\"xaxis\":\"x\",\"y\":[1090.0,1090.0,1090.0,1090.0,1090.0],\"yaxis\":\"y\",\"type\":\"scatter\"},{\"hovertemplate\":\"Trek=Instant Annapurna Base Camp Trek\\u003cbr\\u003eReview\\u002fSatisfaction=%{x}\\u003cbr\\u003eCost=%{y}\\u003cextra\\u003e\\u003c\\u002fextra\\u003e\",\"legendgroup\":\"Instant Annapurna Base Camp Trek\",\"marker\":{\"color\":\"#19d3f3\",\"symbol\":\"circle\"},\"mode\":\"markers\",\"name\":\"Instant Annapurna Base Camp Trek\",\"orientation\":\"v\",\"showlegend\":true,\"x\":[4.5,3.5,4.0,5.0,3.0],\"xaxis\":\"x\",\"y\":[980.0,980.0,980.0,980.0,980.0],\"yaxis\":\"y\",\"type\":\"scatter\"},{\"hovertemplate\":\"Trek=Annapurna Base Camp Heli Trek\\u003cbr\\u003eReview\\u002fSatisfaction=%{x}\\u003cbr\\u003eCost=%{y}\\u003cextra\\u003e\\u003c\\u002fextra\\u003e\",\"legendgroup\":\"Annapurna Base Camp Heli Trek\",\"marker\":{\"color\":\"#FF6692\",\"symbol\":\"circle\"},\"mode\":\"markers\",\"name\":\"Annapurna Base Camp Heli Trek\",\"orientation\":\"v\",\"showlegend\":true,\"x\":[3.0,4.0,3.5,4.0,5.0],\"xaxis\":\"x\",\"y\":[1750.0,1750.0,1750.0,1750.0,1750.0],\"yaxis\":\"y\",\"type\":\"scatter\"},{\"hovertemplate\":\"Trek=Mardi Himal Trek\\u003cbr\\u003eReview\\u002fSatisfaction=%{x}\\u003cbr\\u003eCost=%{y}\\u003cextra\\u003e\\u003c\\u002fextra\\u003e\",\"legendgroup\":\"Mardi Himal Trek\",\"marker\":{\"color\":\"#B6E880\",\"symbol\":\"circle\"},\"mode\":\"markers\",\"name\":\"Mardi Himal Trek\",\"orientation\":\"v\",\"showlegend\":true,\"x\":[5.0,5.0,3.5,3.0,3.0,4.0,4.5,4.5,5.0,3.5,3.5,3.0,4.0,4.0,4.5],\"xaxis\":\"x\",\"y\":[850.0,1499.0,590.0,850.0,1499.0,590.0,850.0,1499.0,590.0,850.0,1499.0,590.0,850.0,1499.0,590.0],\"yaxis\":\"y\",\"type\":\"scatter\"},{\"hovertemplate\":\"Trek=Mardi Himal Trekking\\u003cbr\\u003eReview\\u002fSatisfaction=%{x}\\u003cbr\\u003eCost=%{y}\\u003cextra\\u003e\\u003c\\u002fextra\\u003e\",\"legendgroup\":\"Mardi Himal Trekking\",\"marker\":{\"color\":\"#FF97FF\",\"symbol\":\"circle\"},\"mode\":\"markers\",\"name\":\"Mardi Himal Trekking\",\"orientation\":\"v\",\"showlegend\":true,\"x\":[4.0,5.0,3.0,4.0,3.5],\"xaxis\":\"x\",\"y\":[850.0,850.0,850.0,850.0,850.0],\"yaxis\":\"y\",\"type\":\"scatter\"},{\"hovertemplate\":\"Trek=Classic Annapurna Circuit Trek\\u003cbr\\u003eReview\\u002fSatisfaction=%{x}\\u003cbr\\u003eCost=%{y}\\u003cextra\\u003e\\u003c\\u002fextra\\u003e\",\"legendgroup\":\"Classic Annapurna Circuit Trek\",\"marker\":{\"color\":\"#FECB52\",\"symbol\":\"circle\"},\"mode\":\"markers\",\"name\":\"Classic Annapurna Circuit Trek\",\"orientation\":\"v\",\"showlegend\":true,\"x\":[3.5,4.0,5.0,3.0,4.5],\"xaxis\":\"x\",\"y\":[1350.0,1350.0,1350.0,1350.0,1350.0],\"yaxis\":\"y\",\"type\":\"scatter\"},{\"hovertemplate\":\"Trek=Annapurna Circuit Trek\\u003cbr\\u003eReview\\u002fSatisfaction=%{x}\\u003cbr\\u003eCost=%{y}\\u003cextra\\u003e\\u003c\\u002fextra\\u003e\",\"legendgroup\":\"Annapurna Circuit Trek\",\"marker\":{\"color\":\"#636efa\",\"symbol\":\"circle\"},\"mode\":\"markers\",\"name\":\"Annapurna Circuit Trek\",\"orientation\":\"v\",\"showlegend\":true,\"x\":[4.5,3.0,4.5,3.5,4.5,3.5,4.0,3.5,4.0,5.0,4.0,5.0,3.0,5.0,3.0],\"xaxis\":\"x\",\"y\":[1250.0,1499.0,1100.0,1250.0,1499.0,1100.0,1250.0,1499.0,1100.0,1250.0,1499.0,1100.0,1250.0,1499.0,1100.0],\"yaxis\":\"y\",\"type\":\"scatter\"},{\"hovertemplate\":\"Trek=Annapurna Circuit Short Trek\\u003cbr\\u003eReview\\u002fSatisfaction=%{x}\\u003cbr\\u003eCost=%{y}\\u003cextra\\u003e\\u003c\\u002fextra\\u003e\",\"legendgroup\":\"Annapurna Circuit Short Trek\",\"marker\":{\"color\":\"#EF553B\",\"symbol\":\"circle\"},\"mode\":\"markers\",\"name\":\"Annapurna Circuit Short Trek\",\"orientation\":\"v\",\"showlegend\":true,\"x\":[3.0,4.5,3.5,4.0,5.0],\"xaxis\":\"x\",\"y\":[1250.0,1250.0,1250.0,1250.0,1250.0],\"yaxis\":\"y\",\"type\":\"scatter\"},{\"hovertemplate\":\"Trek=Annapurna Luxury Trek\\u003cbr\\u003eReview\\u002fSatisfaction=%{x}\\u003cbr\\u003eCost=%{y}\\u003cextra\\u003e\\u003c\\u002fextra\\u003e\",\"legendgroup\":\"Annapurna Luxury Trek\",\"marker\":{\"color\":\"#00cc96\",\"symbol\":\"circle\"},\"mode\":\"markers\",\"name\":\"Annapurna Luxury Trek\",\"orientation\":\"v\",\"showlegend\":true,\"x\":[5.0,3.0,4.5,3.5,4.0],\"xaxis\":\"x\",\"y\":[1450.0,1450.0,1450.0,1450.0,1450.0],\"yaxis\":\"y\",\"type\":\"scatter\"},{\"hovertemplate\":\"Trek=Annapurna Panorama Trek\\u003cbr\\u003eReview\\u002fSatisfaction=%{x}\\u003cbr\\u003eCost=%{y}\\u003cextra\\u003e\\u003c\\u002fextra\\u003e\",\"legendgroup\":\"Annapurna Panorama Trek\",\"marker\":{\"color\":\"#ab63fa\",\"symbol\":\"circle\"},\"mode\":\"markers\",\"name\":\"Annapurna Panorama Trek\",\"orientation\":\"v\",\"showlegend\":true,\"x\":[4.0,5.0,4.0,4.5,3.5],\"xaxis\":\"x\",\"y\":[860.0,860.0,860.0,860.0,860.0],\"yaxis\":\"y\",\"type\":\"scatter\"},{\"hovertemplate\":\"Trek=Annapurna Tilicho Lake Trek\\u003cbr\\u003eReview\\u002fSatisfaction=%{x}\\u003cbr\\u003eCost=%{y}\\u003cextra\\u003e\\u003c\\u002fextra\\u003e\",\"legendgroup\":\"Annapurna Tilicho Lake Trek\",\"marker\":{\"color\":\"#FFA15A\",\"symbol\":\"circle\"},\"mode\":\"markers\",\"name\":\"Annapurna Tilicho Lake Trek\",\"orientation\":\"v\",\"showlegend\":true,\"x\":[3.5,4.0,5.0,3.0,4.5],\"xaxis\":\"x\",\"y\":[1450.0,1450.0,1450.0,1450.0,1450.0],\"yaxis\":\"y\",\"type\":\"scatter\"},{\"hovertemplate\":\"Trek=Short Annapurna Trek\\u003cbr\\u003eReview\\u002fSatisfaction=%{x}\\u003cbr\\u003eCost=%{y}\\u003cextra\\u003e\\u003c\\u002fextra\\u003e\",\"legendgroup\":\"Short Annapurna Trek\",\"marker\":{\"color\":\"#19d3f3\",\"symbol\":\"circle\"},\"mode\":\"markers\",\"name\":\"Short Annapurna Trek\",\"orientation\":\"v\",\"showlegend\":true,\"x\":[4.5,3.5,4.0,5.0,3.0],\"xaxis\":\"x\",\"y\":[590.0,590.0,590.0,590.0,590.0],\"yaxis\":\"y\",\"type\":\"scatter\"},{\"hovertemplate\":\"Trek=Manaslu Circuit Trek\\u003cbr\\u003eReview\\u002fSatisfaction=%{x}\\u003cbr\\u003eCost=%{y}\\u003cextra\\u003e\\u003c\\u002fextra\\u003e\",\"legendgroup\":\"Manaslu Circuit Trek\",\"marker\":{\"color\":\"#FF6692\",\"symbol\":\"circle\"},\"mode\":\"markers\",\"name\":\"Manaslu Circuit Trek\",\"orientation\":\"v\",\"showlegend\":true,\"x\":[3.0,4.0,3.0,4.5,5.0,4.5,3.5,3.0,3.5,4.0,4.5,4.0,5.0,3.5,5.0],\"xaxis\":\"x\",\"y\":[1450.0,1499.0,1190.0,1450.0,1499.0,1190.0,1450.0,1499.0,1190.0,1450.0,1499.0,1190.0,1450.0,1499.0,1190.0],\"yaxis\":\"y\",\"type\":\"scatter\"},{\"hovertemplate\":\"Trek=Manaslu Circuit Trekking\\u003cbr\\u003eReview\\u002fSatisfaction=%{x}\\u003cbr\\u003eCost=%{y}\\u003cextra\\u003e\\u003c\\u002fextra\\u003e\",\"legendgroup\":\"Manaslu Circuit Trekking\",\"marker\":{\"color\":\"#B6E880\",\"symbol\":\"circle\"},\"mode\":\"markers\",\"name\":\"Manaslu Circuit Trekking\",\"orientation\":\"v\",\"showlegend\":true,\"x\":[5.0,3.0,4.5,3.5,4.0],\"xaxis\":\"x\",\"y\":[1380.0,1380.0,1380.0,1380.0,1380.0],\"yaxis\":\"y\",\"type\":\"scatter\"},{\"hovertemplate\":\"Trek=Tsum Valley with Manaslu Trek\\u003cbr\\u003eReview\\u002fSatisfaction=%{x}\\u003cbr\\u003eCost=%{y}\\u003cextra\\u003e\\u003c\\u002fextra\\u003e\",\"legendgroup\":\"Tsum Valley with Manaslu Trek\",\"marker\":{\"color\":\"#FF97FF\",\"symbol\":\"circle\"},\"mode\":\"markers\",\"name\":\"Tsum Valley with Manaslu Trek\",\"orientation\":\"v\",\"showlegend\":true,\"x\":[4.0,5.0,4.0,4.0,4.0],\"xaxis\":\"x\",\"y\":[1850.0,1850.0,1850.0,1850.0,1850.0],\"yaxis\":\"y\",\"type\":\"scatter\"},{\"hovertemplate\":\"Trek=Upper Mustang Trek\\u003cbr\\u003eReview\\u002fSatisfaction=%{x}\\u003cbr\\u003eCost=%{y}\\u003cextra\\u003e\\u003c\\u002fextra\\u003e\",\"legendgroup\":\"Upper Mustang Trek\",\"marker\":{\"color\":\"#FECB52\",\"symbol\":\"circle\"},\"mode\":\"markers\",\"name\":\"Upper Mustang Trek\",\"orientation\":\"v\",\"showlegend\":true,\"x\":[3.5,3.5,4.0,4.0,4.0,5.0,5.0,5.0,3.0,3.0,3.0,4.5,4.5,4.5,3.5],\"xaxis\":\"x\",\"y\":[2150.0,1499.0,2100.0,2150.0,1499.0,2100.0,2150.0,1499.0,2100.0,2150.0,1499.0,2100.0,2150.0,1499.0,2100.0],\"yaxis\":\"y\",\"type\":\"scatter\"},{\"hovertemplate\":\"Trek=Upper Mustang Trek with Yara\\u003cbr\\u003eReview\\u002fSatisfaction=%{x}\\u003cbr\\u003eCost=%{y}\\u003cextra\\u003e\\u003c\\u002fextra\\u003e\",\"legendgroup\":\"Upper Mustang Trek with Yara\",\"marker\":{\"color\":\"#636efa\",\"symbol\":\"circle\"},\"mode\":\"markers\",\"name\":\"Upper Mustang Trek with Yara\",\"orientation\":\"v\",\"showlegend\":true,\"x\":[4.5,3.5,4.0,5.0,3.0],\"xaxis\":\"x\",\"y\":[2300.0,2300.0,2300.0,2300.0,2300.0],\"yaxis\":\"y\",\"type\":\"scatter\"},{\"hovertemplate\":\"Trek=Upper Mustang Tiji Festival Trek\\u003cbr\\u003eReview\\u002fSatisfaction=%{x}\\u003cbr\\u003eCost=%{y}\\u003cextra\\u003e\\u003c\\u002fextra\\u003e\",\"legendgroup\":\"Upper Mustang Tiji Festival Trek\",\"marker\":{\"color\":\"#EF553B\",\"symbol\":\"circle\"},\"mode\":\"markers\",\"name\":\"Upper Mustang Tiji Festival Trek\",\"orientation\":\"v\",\"showlegend\":true,\"x\":[3.0,4.5,3.5,4.0,4.0],\"xaxis\":\"x\",\"y\":[2150.0,2150.0,2150.0,2150.0,2150.0],\"yaxis\":\"y\",\"type\":\"scatter\"},{\"hovertemplate\":\"Trek=Langtang Valley Trek\\u003cbr\\u003eReview\\u002fSatisfaction=%{x}\\u003cbr\\u003eCost=%{y}\\u003cextra\\u003e\\u003c\\u002fextra\\u003e\",\"legendgroup\":\"Langtang Valley Trek\",\"marker\":{\"color\":\"#00cc96\",\"symbol\":\"circle\"},\"mode\":\"markers\",\"name\":\"Langtang Valley Trek\",\"orientation\":\"v\",\"showlegend\":true,\"x\":[5.0,3.5,3.0,4.0,4.5,5.0,3.5,3.0,4.0,4.5],\"xaxis\":\"x\",\"y\":[750.0,1499.0,750.0,1499.0,750.0,1499.0,750.0,1499.0,750.0,1499.0],\"yaxis\":\"y\",\"type\":\"scatter\"},{\"hovertemplate\":\"Trek=Langtang Gosaikunda Trek\\u003cbr\\u003eReview\\u002fSatisfaction=%{x}\\u003cbr\\u003eCost=%{y}\\u003cextra\\u003e\\u003c\\u002fextra\\u003e\",\"legendgroup\":\"Langtang Gosaikunda Trek\",\"marker\":{\"color\":\"#ab63fa\",\"symbol\":\"circle\"},\"mode\":\"markers\",\"name\":\"Langtang Gosaikunda Trek\",\"orientation\":\"v\",\"showlegend\":true,\"x\":[4.0,5.0,3.0,4.5,3.5],\"xaxis\":\"x\",\"y\":[1180.0,1180.0,1180.0,1180.0,1180.0],\"yaxis\":\"y\",\"type\":\"scatter\"},{\"hovertemplate\":\"Trek=Tamang Heritage Trek\\u003cbr\\u003eReview\\u002fSatisfaction=%{x}\\u003cbr\\u003eCost=%{y}\\u003cextra\\u003e\\u003c\\u002fextra\\u003e\",\"legendgroup\":\"Tamang Heritage Trek\",\"marker\":{\"color\":\"#FFA15A\",\"symbol\":\"circle\"},\"mode\":\"markers\",\"name\":\"Tamang Heritage Trek\",\"orientation\":\"v\",\"showlegend\":true,\"x\":[3.5,4.0,4.0,5.0,5.0,3.0,3.0,4.5,4.5,3.5],\"xaxis\":\"x\",\"y\":[920.0,1499.0,920.0,1499.0,920.0,1499.0,920.0,1499.0,920.0,1499.0],\"yaxis\":\"y\",\"type\":\"scatter\"},{\"hovertemplate\":\"Trek=Tamang Heritage Trail\\u003cbr\\u003eReview\\u002fSatisfaction=%{x}\\u003cbr\\u003eCost=%{y}\\u003cextra\\u003e\\u003c\\u002fextra\\u003e\",\"legendgroup\":\"Tamang Heritage Trail\",\"marker\":{\"color\":\"#19d3f3\",\"symbol\":\"circle\"},\"mode\":\"markers\",\"name\":\"Tamang Heritage Trail\",\"orientation\":\"v\",\"showlegend\":true,\"x\":[4.5,3.5,4.0,5.0,3.0],\"xaxis\":\"x\",\"y\":[750.0,750.0,750.0,750.0,750.0],\"yaxis\":\"y\",\"type\":\"scatter\"},{\"hovertemplate\":\"Trek=Helambu Trek\\u003cbr\\u003eReview\\u002fSatisfaction=%{x}\\u003cbr\\u003eCost=%{y}\\u003cextra\\u003e\\u003c\\u002fextra\\u003e\",\"legendgroup\":\"Helambu Trek\",\"marker\":{\"color\":\"#FF6692\",\"symbol\":\"circle\"},\"mode\":\"markers\",\"name\":\"Helambu Trek\",\"orientation\":\"v\",\"showlegend\":true,\"x\":[3.0,4.5,3.5,4.0,5.0],\"xaxis\":\"x\",\"y\":[780.0,780.0,780.0,780.0,780.0],\"yaxis\":\"y\",\"type\":\"scatter\"},{\"hovertemplate\":\"Trek=Everest Base Camp Trek for Youths\\u003cbr\\u003eReview\\u002fSatisfaction=%{x}\\u003cbr\\u003eCost=%{y}\\u003cextra\\u003e\\u003c\\u002fextra\\u003e\",\"legendgroup\":\"Everest Base Camp Trek for Youths\",\"marker\":{\"color\":\"#B6E880\",\"symbol\":\"circle\"},\"mode\":\"markers\",\"name\":\"Everest Base Camp Trek for Youths\",\"orientation\":\"v\",\"showlegend\":true,\"x\":[4.0,5.0,3.0,4.5,3.5],\"xaxis\":\"x\",\"y\":[1750.0,1750.0,1750.0,1750.0,1750.0],\"yaxis\":\"y\",\"type\":\"scatter\"},{\"hovertemplate\":\"Trek=Everest Base Camp Luxury Lodge Trek\\u003cbr\\u003eReview\\u002fSatisfaction=%{x}\\u003cbr\\u003eCost=%{y}\\u003cextra\\u003e\\u003c\\u002fextra\\u003e\",\"legendgroup\":\"Everest Base Camp Luxury Lodge Trek\",\"marker\":{\"color\":\"#FF97FF\",\"symbol\":\"circle\"},\"mode\":\"markers\",\"name\":\"Everest Base Camp Luxury Lodge Trek\",\"orientation\":\"v\",\"showlegend\":true,\"x\":[5.0,3.0,4.0,3.5,4.0],\"xaxis\":\"x\",\"y\":[1499.0,1499.0,1499.0,1499.0,1499.0],\"yaxis\":\"y\",\"type\":\"scatter\"},{\"hovertemplate\":\"Trek=Everest Base Camp Trek via Gokyo Lakes and Cho La Pass\\u003cbr\\u003eReview\\u002fSatisfaction=%{x}\\u003cbr\\u003eCost=%{y}\\u003cextra\\u003e\\u003c\\u002fextra\\u003e\",\"legendgroup\":\"Everest Base Camp Trek via Gokyo Lakes and Cho La Pass\",\"marker\":{\"color\":\"#FECB52\",\"symbol\":\"circle\"},\"mode\":\"markers\",\"name\":\"Everest Base Camp Trek via Gokyo Lakes and Cho La Pass\",\"orientation\":\"v\",\"showlegend\":true,\"x\":[4.0,5.0,3.0,4.5,3.5],\"xaxis\":\"x\",\"y\":[1499.0,1499.0,1499.0,1499.0,1499.0],\"yaxis\":\"y\",\"type\":\"scatter\"},{\"hovertemplate\":\"Trek=Everest Advanced Base Camp Trek from Tibet\\u003cbr\\u003eReview\\u002fSatisfaction=%{x}\\u003cbr\\u003eCost=%{y}\\u003cextra\\u003e\\u003c\\u002fextra\\u003e\",\"legendgroup\":\"Everest Advanced Base Camp Trek from Tibet\",\"marker\":{\"color\":\"#636efa\",\"symbol\":\"circle\"},\"mode\":\"markers\",\"name\":\"Everest Advanced Base Camp Trek from Tibet\",\"orientation\":\"v\",\"showlegend\":true,\"x\":[4.0,3.5,4.0,5.0,3.0],\"xaxis\":\"x\",\"y\":[1499.0,1499.0,1499.0,1499.0,1499.0],\"yaxis\":\"y\",\"type\":\"scatter\"},{\"hovertemplate\":\"Trek=Gokyo Lakes and Gokyo Ri Trek\\u003cbr\\u003eReview\\u002fSatisfaction=%{x}\\u003cbr\\u003eCost=%{y}\\u003cextra\\u003e\\u003c\\u002fextra\\u003e\",\"legendgroup\":\"Gokyo Lakes and Gokyo Ri Trek\",\"marker\":{\"color\":\"#EF553B\",\"symbol\":\"circle\"},\"mode\":\"markers\",\"name\":\"Gokyo Lakes and Gokyo Ri Trek\",\"orientation\":\"v\",\"showlegend\":true,\"x\":[3.0,4.5,3.5,4.0,5.0],\"xaxis\":\"x\",\"y\":[1499.0,1499.0,1499.0,1499.0,1499.0],\"yaxis\":\"y\",\"type\":\"scatter\"},{\"hovertemplate\":\"Trek=Annapurna Sanctuary Trek\\u003cbr\\u003eReview\\u002fSatisfaction=%{x}\\u003cbr\\u003eCost=%{y}\\u003cextra\\u003e\\u003c\\u002fextra\\u003e\",\"legendgroup\":\"Annapurna Sanctuary Trek\",\"marker\":{\"color\":\"#00cc96\",\"symbol\":\"circle\"},\"mode\":\"markers\",\"name\":\"Annapurna Sanctuary Trek\",\"orientation\":\"v\",\"showlegend\":true,\"x\":[4.5,4.0,4.0,5.0,4.0],\"xaxis\":\"x\",\"y\":[1499.0,1499.0,1499.0,1499.0,1499.0],\"yaxis\":\"y\",\"type\":\"scatter\"},{\"hovertemplate\":\"Trek=Rara Lake Trek\\u003cbr\\u003eReview\\u002fSatisfaction=%{x}\\u003cbr\\u003eCost=%{y}\\u003cextra\\u003e\\u003c\\u002fextra\\u003e\",\"legendgroup\":\"Rara Lake Trek\",\"marker\":{\"color\":\"#ab63fa\",\"symbol\":\"circle\"},\"mode\":\"markers\",\"name\":\"Rara Lake Trek\",\"orientation\":\"v\",\"showlegend\":true,\"x\":[3.0,4.5,3.5,4.0,5.0],\"xaxis\":\"x\",\"y\":[1499.0,1499.0,1499.0,1499.0,1499.0],\"yaxis\":\"y\",\"type\":\"scatter\"},{\"hovertemplate\":\"Trek=Kanchenjunga Circuit Trek\\u003cbr\\u003eReview\\u002fSatisfaction=%{x}\\u003cbr\\u003eCost=%{y}\\u003cextra\\u003e\\u003c\\u002fextra\\u003e\",\"legendgroup\":\"Kanchenjunga Circuit Trek\",\"marker\":{\"color\":\"#FFA15A\",\"symbol\":\"circle\"},\"mode\":\"markers\",\"name\":\"Kanchenjunga Circuit Trek\",\"orientation\":\"v\",\"showlegend\":true,\"x\":[4.0,5.0,3.0,4.5,3.5],\"xaxis\":\"x\",\"y\":[1499.0,1499.0,1499.0,1499.0,1499.0],\"yaxis\":\"y\",\"type\":\"scatter\"},{\"hovertemplate\":\"Trek=Tsum Valley Trek\\u003cbr\\u003eReview\\u002fSatisfaction=%{x}\\u003cbr\\u003eCost=%{y}\\u003cextra\\u003e\\u003c\\u002fextra\\u003e\",\"legendgroup\":\"Tsum Valley Trek\",\"marker\":{\"color\":\"#19d3f3\",\"symbol\":\"circle\"},\"mode\":\"markers\",\"name\":\"Tsum Valley Trek\",\"orientation\":\"v\",\"showlegend\":true,\"x\":[4.5,3.5,4.0,5.0,3.0],\"xaxis\":\"x\",\"y\":[1499.0,1499.0,1499.0,1499.0,1499.0],\"yaxis\":\"y\",\"type\":\"scatter\"},{\"hovertemplate\":\"Trek=The Royal Trek\\u003cbr\\u003eReview\\u002fSatisfaction=%{x}\\u003cbr\\u003eCost=%{y}\\u003cextra\\u003e\\u003c\\u002fextra\\u003e\",\"legendgroup\":\"The Royal Trek\",\"marker\":{\"color\":\"#FF6692\",\"symbol\":\"circle\"},\"mode\":\"markers\",\"name\":\"The Royal Trek\",\"orientation\":\"v\",\"showlegend\":true,\"x\":[3.0,4.5,3.5,4.0,5.0],\"xaxis\":\"x\",\"y\":[1499.0,1499.0,1499.0,1499.0,1499.0],\"yaxis\":\"y\",\"type\":\"scatter\"},{\"hovertemplate\":\"Trek=Makalu Base Camp Trek\\u003cbr\\u003eReview\\u002fSatisfaction=%{x}\\u003cbr\\u003eCost=%{y}\\u003cextra\\u003e\\u003c\\u002fextra\\u003e\",\"legendgroup\":\"Makalu Base Camp Trek\",\"marker\":{\"color\":\"#B6E880\",\"symbol\":\"circle\"},\"mode\":\"markers\",\"name\":\"Makalu Base Camp Trek\",\"orientation\":\"v\",\"showlegend\":true,\"x\":[5.0,3.0,4.5,3.5,4.0],\"xaxis\":\"x\",\"y\":[1499.0,1499.0,1499.0,1499.0,1499.0],\"yaxis\":\"y\",\"type\":\"scatter\"},{\"hovertemplate\":\"Trek=Langtang Gosainkunda and Helambu Trek\\u003cbr\\u003eReview\\u002fSatisfaction=%{x}\\u003cbr\\u003eCost=%{y}\\u003cextra\\u003e\\u003c\\u002fextra\\u003e\",\"legendgroup\":\"Langtang Gosainkunda and Helambu Trek\",\"marker\":{\"color\":\"#FF97FF\",\"symbol\":\"circle\"},\"mode\":\"markers\",\"name\":\"Langtang Gosainkunda and Helambu Trek\",\"orientation\":\"v\",\"showlegend\":true,\"x\":[4.0,5.0,3.0,4.5,4.0],\"xaxis\":\"x\",\"y\":[1499.0,1499.0,1499.0,1499.0,1499.0],\"yaxis\":\"y\",\"type\":\"scatter\"},{\"hovertemplate\":\"Trek=Nar Phu Valley Trek\\u003cbr\\u003eReview\\u002fSatisfaction=%{x}\\u003cbr\\u003eCost=%{y}\\u003cextra\\u003e\\u003c\\u002fextra\\u003e\",\"legendgroup\":\"Nar Phu Valley Trek\",\"marker\":{\"color\":\"#FECB52\",\"symbol\":\"circle\"},\"mode\":\"markers\",\"name\":\"Nar Phu Valley Trek\",\"orientation\":\"v\",\"showlegend\":true,\"x\":[3.5,4.0,5.0,3.0,4.5],\"xaxis\":\"x\",\"y\":[1499.0,1499.0,1499.0,1499.0,1499.0],\"yaxis\":\"y\",\"type\":\"scatter\"},{\"hovertemplate\":\"Trek=Annapurna Circle Trek\\u003cbr\\u003eReview\\u002fSatisfaction=%{x}\\u003cbr\\u003eCost=%{y}\\u003cextra\\u003e\\u003c\\u002fextra\\u003e\",\"legendgroup\":\"Annapurna Circle Trek\",\"marker\":{\"color\":\"#636efa\",\"symbol\":\"circle\"},\"mode\":\"markers\",\"name\":\"Annapurna Circle Trek\",\"orientation\":\"v\",\"showlegend\":true,\"x\":[4.5,3.5,4.0,5.0,3.0],\"xaxis\":\"x\",\"y\":[1499.0,1499.0,1499.0,1499.0,1499.0],\"yaxis\":\"y\",\"type\":\"scatter\"},{\"hovertemplate\":\"Trek=Everest Kangshung Face Trek\\u003cbr\\u003eReview\\u002fSatisfaction=%{x}\\u003cbr\\u003eCost=%{y}\\u003cextra\\u003e\\u003c\\u002fextra\\u003e\",\"legendgroup\":\"Everest Kangshung Face Trek\",\"marker\":{\"color\":\"#EF553B\",\"symbol\":\"circle\"},\"mode\":\"markers\",\"name\":\"Everest Kangshung Face Trek\",\"orientation\":\"v\",\"showlegend\":true,\"x\":[3.0,4.5,3.5,4.0,5.0],\"xaxis\":\"x\",\"y\":[1499.0,1499.0,1499.0,1499.0,1499.0],\"yaxis\":\"y\",\"type\":\"scatter\"},{\"hovertemplate\":\"Trek=Tsum Valley and Manaslu Trek\\u003cbr\\u003eReview\\u002fSatisfaction=%{x}\\u003cbr\\u003eCost=%{y}\\u003cextra\\u003e\\u003c\\u002fextra\\u003e\",\"legendgroup\":\"Tsum Valley and Manaslu Trek\",\"marker\":{\"color\":\"#00cc96\",\"symbol\":\"circle\"},\"mode\":\"markers\",\"name\":\"Tsum Valley and Manaslu Trek\",\"orientation\":\"v\",\"showlegend\":true,\"x\":[5.0,3.0,4.5,3.5,4.0],\"xaxis\":\"x\",\"y\":[1499.0,1499.0,1499.0,1499.0,1499.0],\"yaxis\":\"y\",\"type\":\"scatter\"},{\"hovertemplate\":\"Trek=Khopra Ridge Community Trek\\u003cbr\\u003eReview\\u002fSatisfaction=%{x}\\u003cbr\\u003eCost=%{y}\\u003cextra\\u003e\\u003c\\u002fextra\\u003e\",\"legendgroup\":\"Khopra Ridge Community Trek\",\"marker\":{\"color\":\"#ab63fa\",\"symbol\":\"circle\"},\"mode\":\"markers\",\"name\":\"Khopra Ridge Community Trek\",\"orientation\":\"v\",\"showlegend\":true,\"x\":[4.0,5.0,3.0,4.5,3.5],\"xaxis\":\"x\",\"y\":[1499.0,1499.0,1499.0,1499.0,1499.0],\"yaxis\":\"y\",\"type\":\"scatter\"},{\"hovertemplate\":\"Trek=Nepal Experience Tour\\u003cbr\\u003eReview\\u002fSatisfaction=%{x}\\u003cbr\\u003eCost=%{y}\\u003cextra\\u003e\\u003c\\u002fextra\\u003e\",\"legendgroup\":\"Nepal Experience Tour\",\"marker\":{\"color\":\"#FFA15A\",\"symbol\":\"circle\"},\"mode\":\"markers\",\"name\":\"Nepal Experience Tour\",\"orientation\":\"v\",\"showlegend\":true,\"x\":[3.5,4.0,5.0,3.0,4.5],\"xaxis\":\"x\",\"y\":[1499.0,1499.0,1499.0,1499.0,1499.0],\"yaxis\":\"y\",\"type\":\"scatter\"},{\"hovertemplate\":\"Trek=Annapurna Circuit Trek with Tilicho Lake and Poon Hill\\u003cbr\\u003eReview\\u002fSatisfaction=%{x}\\u003cbr\\u003eCost=%{y}\\u003cextra\\u003e\\u003c\\u002fextra\\u003e\",\"legendgroup\":\"Annapurna Circuit Trek with Tilicho Lake and Poon Hill\",\"marker\":{\"color\":\"#19d3f3\",\"symbol\":\"circle\"},\"mode\":\"markers\",\"name\":\"Annapurna Circuit Trek with Tilicho Lake and Poon Hill\",\"orientation\":\"v\",\"showlegend\":true,\"x\":[4.0,3.5,4.0,5.0,3.0],\"xaxis\":\"x\",\"y\":[1499.0,1499.0,1499.0,1499.0,1499.0],\"yaxis\":\"y\",\"type\":\"scatter\"},{\"hovertemplate\":\"Trek=Annapurna With Tilicho Lake Trek\\u003cbr\\u003eReview\\u002fSatisfaction=%{x}\\u003cbr\\u003eCost=%{y}\\u003cextra\\u003e\\u003c\\u002fextra\\u003e\",\"legendgroup\":\"Annapurna With Tilicho Lake Trek\",\"marker\":{\"color\":\"#FF6692\",\"symbol\":\"circle\"},\"mode\":\"markers\",\"name\":\"Annapurna With Tilicho Lake Trek\",\"orientation\":\"v\",\"showlegend\":true,\"x\":[3.0,4.0,3.5,4.0,5.0],\"xaxis\":\"x\",\"y\":[1499.0,1499.0,1499.0,1499.0,1499.0],\"yaxis\":\"y\",\"type\":\"scatter\"},{\"hovertemplate\":\"Trek=Langtang Valley Trek with Ganja la Pass\\u003cbr\\u003eReview\\u002fSatisfaction=%{x}\\u003cbr\\u003eCost=%{y}\\u003cextra\\u003e\\u003c\\u002fextra\\u003e\",\"legendgroup\":\"Langtang Valley Trek with Ganja la Pass\",\"marker\":{\"color\":\"#B6E880\",\"symbol\":\"circle\"},\"mode\":\"markers\",\"name\":\"Langtang Valley Trek with Ganja la Pass\",\"orientation\":\"v\",\"showlegend\":true,\"x\":[5.0,3.0,4.5,3.5,4.0],\"xaxis\":\"x\",\"y\":[1499.0,1499.0,1499.0,1499.0,1499.0],\"yaxis\":\"y\",\"type\":\"scatter\"},{\"hovertemplate\":\"Trek=Manaslu and Annapurna Trek with Tilicho Lake\\u003cbr\\u003eReview\\u002fSatisfaction=%{x}\\u003cbr\\u003eCost=%{y}\\u003cextra\\u003e\\u003c\\u002fextra\\u003e\",\"legendgroup\":\"Manaslu and Annapurna Trek with Tilicho Lake\",\"marker\":{\"color\":\"#FF97FF\",\"symbol\":\"circle\"},\"mode\":\"markers\",\"name\":\"Manaslu and Annapurna Trek with Tilicho Lake\",\"orientation\":\"v\",\"showlegend\":true,\"x\":[3.5,4.0,5.0,3.0,4.5],\"xaxis\":\"x\",\"y\":[1499.0,1499.0,1499.0,1499.0,1499.0],\"yaxis\":\"y\",\"type\":\"scatter\"},{\"hovertemplate\":\"Trek=Nepal Trekking and Everest Himalaya Heli Tour\\u003cbr\\u003eReview\\u002fSatisfaction=%{x}\\u003cbr\\u003eCost=%{y}\\u003cextra\\u003e\\u003c\\u002fextra\\u003e\",\"legendgroup\":\"Nepal Trekking and Everest Himalaya Heli Tour\",\"marker\":{\"color\":\"#FECB52\",\"symbol\":\"circle\"},\"mode\":\"markers\",\"name\":\"Nepal Trekking and Everest Himalaya Heli Tour\",\"orientation\":\"v\",\"showlegend\":true,\"x\":[4.5,3.5,4.0,5.0,4.0],\"xaxis\":\"x\",\"y\":[1499.0,1499.0,1499.0,1499.0,1499.0],\"yaxis\":\"y\",\"type\":\"scatter\"},{\"hovertemplate\":\"Trek=Nepal Hiking and Culture Tour\\u003cbr\\u003eReview\\u002fSatisfaction=%{x}\\u003cbr\\u003eCost=%{y}\\u003cextra\\u003e\\u003c\\u002fextra\\u003e\",\"legendgroup\":\"Nepal Hiking and Culture Tour\",\"marker\":{\"color\":\"#636efa\",\"symbol\":\"circle\"},\"mode\":\"markers\",\"name\":\"Nepal Hiking and Culture Tour\",\"orientation\":\"v\",\"showlegend\":true,\"x\":[3.0,4.5,3.5,4.0,5.0],\"xaxis\":\"x\",\"y\":[1499.0,1499.0,1499.0,1499.0,1499.0],\"yaxis\":\"y\",\"type\":\"scatter\"},{\"hovertemplate\":\"Trek=Annapurna Sunrise and Everest View Trek\\u003cbr\\u003eReview\\u002fSatisfaction=%{x}\\u003cbr\\u003eCost=%{y}\\u003cextra\\u003e\\u003c\\u002fextra\\u003e\",\"legendgroup\":\"Annapurna Sunrise and Everest View Trek\",\"marker\":{\"color\":\"#EF553B\",\"symbol\":\"circle\"},\"mode\":\"markers\",\"name\":\"Annapurna Sunrise and Everest View Trek\",\"orientation\":\"v\",\"showlegend\":true,\"x\":[5.0,3.0,4.5,4.0,4.0],\"xaxis\":\"x\",\"y\":[1499.0,1499.0,1499.0,1499.0,1499.0],\"yaxis\":\"y\",\"type\":\"scatter\"},{\"hovertemplate\":\"Trek=Tenzing Hillary Everest Marathon\\u003cbr\\u003eReview\\u002fSatisfaction=%{x}\\u003cbr\\u003eCost=%{y}\\u003cextra\\u003e\\u003c\\u002fextra\\u003e\",\"legendgroup\":\"Tenzing Hillary Everest Marathon\",\"marker\":{\"color\":\"#00cc96\",\"symbol\":\"circle\"},\"mode\":\"markers\",\"name\":\"Tenzing Hillary Everest Marathon\",\"orientation\":\"v\",\"showlegend\":true,\"x\":[4.0,5.0,4.0,4.5,3.5],\"xaxis\":\"x\",\"y\":[1499.0,1499.0,1499.0,1499.0,1499.0],\"yaxis\":\"y\",\"type\":\"scatter\"},{\"hovertemplate\":\"Trek=Everest Kalapathar Trekking\\u003cbr\\u003eReview\\u002fSatisfaction=%{x}\\u003cbr\\u003eCost=%{y}\\u003cextra\\u003e\\u003c\\u002fextra\\u003e\",\"legendgroup\":\"Everest Kalapathar Trekking\",\"marker\":{\"color\":\"#ab63fa\",\"symbol\":\"circle\"},\"mode\":\"markers\",\"name\":\"Everest Kalapathar Trekking\",\"orientation\":\"v\",\"showlegend\":true,\"x\":[4.5,3.5,4.0,5.0,4.0],\"xaxis\":\"x\",\"y\":[1390.0,1390.0,1390.0,1390.0,1390.0],\"yaxis\":\"y\",\"type\":\"scatter\"},{\"hovertemplate\":\"Trek=Everest Base Camp Trek via Gokyo Lake\\u003cbr\\u003eReview\\u002fSatisfaction=%{x}\\u003cbr\\u003eCost=%{y}\\u003cextra\\u003e\\u003c\\u002fextra\\u003e\",\"legendgroup\":\"Everest Base Camp Trek via Gokyo Lake\",\"marker\":{\"color\":\"#FFA15A\",\"symbol\":\"circle\"},\"mode\":\"markers\",\"name\":\"Everest Base Camp Trek via Gokyo Lake\",\"orientation\":\"v\",\"showlegend\":true,\"x\":[5.0,3.0,4.5,4.0,4.0],\"xaxis\":\"x\",\"y\":[1530.0,1530.0,1530.0,1530.0,1530.0],\"yaxis\":\"y\",\"type\":\"scatter\"},{\"hovertemplate\":\"Trek=Gokyo Lake Trek\\u003cbr\\u003eReview\\u002fSatisfaction=%{x}\\u003cbr\\u003eCost=%{y}\\u003cextra\\u003e\\u003c\\u002fextra\\u003e\",\"legendgroup\":\"Gokyo Lake Trek\",\"marker\":{\"color\":\"#19d3f3\",\"symbol\":\"circle\"},\"mode\":\"markers\",\"name\":\"Gokyo Lake Trek\",\"orientation\":\"v\",\"showlegend\":true,\"x\":[4.0,5.0,3.0,4.5,3.5],\"xaxis\":\"x\",\"y\":[1190.0,1190.0,1190.0,1190.0,1190.0],\"yaxis\":\"y\",\"type\":\"scatter\"},{\"hovertemplate\":\"Trek=Ghorepani Poon Hill Trek\\u003cbr\\u003eReview\\u002fSatisfaction=%{x}\\u003cbr\\u003eCost=%{y}\\u003cextra\\u003e\\u003c\\u002fextra\\u003e\",\"legendgroup\":\"Ghorepani Poon Hill Trek\",\"marker\":{\"color\":\"#FF6692\",\"symbol\":\"circle\"},\"mode\":\"markers\",\"name\":\"Ghorepani Poon Hill Trek\",\"orientation\":\"v\",\"showlegend\":true,\"x\":[5.0,3.0,4.5,3.5,4.0],\"xaxis\":\"x\",\"y\":[450.0,450.0,450.0,450.0,450.0],\"yaxis\":\"y\",\"type\":\"scatter\"},{\"hovertemplate\":\"Trek=Langtang Valley Trekking\\u003cbr\\u003eReview\\u002fSatisfaction=%{x}\\u003cbr\\u003eCost=%{y}\\u003cextra\\u003e\\u003c\\u002fextra\\u003e\",\"legendgroup\":\"Langtang Valley Trekking\",\"marker\":{\"color\":\"#B6E880\",\"symbol\":\"circle\"},\"mode\":\"markers\",\"name\":\"Langtang Valley Trekking\",\"orientation\":\"v\",\"showlegend\":true,\"x\":[4.5,3.5,4.0,4.0,3.0],\"xaxis\":\"x\",\"y\":[690.0,690.0,690.0,690.0,690.0],\"yaxis\":\"y\",\"type\":\"scatter\"}],                        {\"template\":{\"data\":{\"histogram2dcontour\":[{\"type\":\"histogram2dcontour\",\"colorbar\":{\"outlinewidth\":0,\"ticks\":\"\"},\"colorscale\":[[0.0,\"#0d0887\"],[0.1111111111111111,\"#46039f\"],[0.2222222222222222,\"#7201a8\"],[0.3333333333333333,\"#9c179e\"],[0.4444444444444444,\"#bd3786\"],[0.5555555555555556,\"#d8576b\"],[0.6666666666666666,\"#ed7953\"],[0.7777777777777778,\"#fb9f3a\"],[0.8888888888888888,\"#fdca26\"],[1.0,\"#f0f921\"]]}],\"choropleth\":[{\"type\":\"choropleth\",\"colorbar\":{\"outlinewidth\":0,\"ticks\":\"\"}}],\"histogram2d\":[{\"type\":\"histogram2d\",\"colorbar\":{\"outlinewidth\":0,\"ticks\":\"\"},\"colorscale\":[[0.0,\"#0d0887\"],[0.1111111111111111,\"#46039f\"],[0.2222222222222222,\"#7201a8\"],[0.3333333333333333,\"#9c179e\"],[0.4444444444444444,\"#bd3786\"],[0.5555555555555556,\"#d8576b\"],[0.6666666666666666,\"#ed7953\"],[0.7777777777777778,\"#fb9f3a\"],[0.8888888888888888,\"#fdca26\"],[1.0,\"#f0f921\"]]}],\"heatmap\":[{\"type\":\"heatmap\",\"colorbar\":{\"outlinewidth\":0,\"ticks\":\"\"},\"colorscale\":[[0.0,\"#0d0887\"],[0.1111111111111111,\"#46039f\"],[0.2222222222222222,\"#7201a8\"],[0.3333333333333333,\"#9c179e\"],[0.4444444444444444,\"#bd3786\"],[0.5555555555555556,\"#d8576b\"],[0.6666666666666666,\"#ed7953\"],[0.7777777777777778,\"#fb9f3a\"],[0.8888888888888888,\"#fdca26\"],[1.0,\"#f0f921\"]]}],\"heatmapgl\":[{\"type\":\"heatmapgl\",\"colorbar\":{\"outlinewidth\":0,\"ticks\":\"\"},\"colorscale\":[[0.0,\"#0d0887\"],[0.1111111111111111,\"#46039f\"],[0.2222222222222222,\"#7201a8\"],[0.3333333333333333,\"#9c179e\"],[0.4444444444444444,\"#bd3786\"],[0.5555555555555556,\"#d8576b\"],[0.6666666666666666,\"#ed7953\"],[0.7777777777777778,\"#fb9f3a\"],[0.8888888888888888,\"#fdca26\"],[1.0,\"#f0f921\"]]}],\"contourcarpet\":[{\"type\":\"contourcarpet\",\"colorbar\":{\"outlinewidth\":0,\"ticks\":\"\"}}],\"contour\":[{\"type\":\"contour\",\"colorbar\":{\"outlinewidth\":0,\"ticks\":\"\"},\"colorscale\":[[0.0,\"#0d0887\"],[0.1111111111111111,\"#46039f\"],[0.2222222222222222,\"#7201a8\"],[0.3333333333333333,\"#9c179e\"],[0.4444444444444444,\"#bd3786\"],[0.5555555555555556,\"#d8576b\"],[0.6666666666666666,\"#ed7953\"],[0.7777777777777778,\"#fb9f3a\"],[0.8888888888888888,\"#fdca26\"],[1.0,\"#f0f921\"]]}],\"surface\":[{\"type\":\"surface\",\"colorbar\":{\"outlinewidth\":0,\"ticks\":\"\"},\"colorscale\":[[0.0,\"#0d0887\"],[0.1111111111111111,\"#46039f\"],[0.2222222222222222,\"#7201a8\"],[0.3333333333333333,\"#9c179e\"],[0.4444444444444444,\"#bd3786\"],[0.5555555555555556,\"#d8576b\"],[0.6666666666666666,\"#ed7953\"],[0.7777777777777778,\"#fb9f3a\"],[0.8888888888888888,\"#fdca26\"],[1.0,\"#f0f921\"]]}],\"mesh3d\":[{\"type\":\"mesh3d\",\"colorbar\":{\"outlinewidth\":0,\"ticks\":\"\"}}],\"scatter\":[{\"marker\":{\"line\":{\"color\":\"#283442\"}},\"type\":\"scatter\"}],\"parcoords\":[{\"type\":\"parcoords\",\"line\":{\"colorbar\":{\"outlinewidth\":0,\"ticks\":\"\"}}}],\"scatterpolargl\":[{\"type\":\"scatterpolargl\",\"marker\":{\"colorbar\":{\"outlinewidth\":0,\"ticks\":\"\"}}}],\"bar\":[{\"error_x\":{\"color\":\"#f2f5fa\"},\"error_y\":{\"color\":\"#f2f5fa\"},\"marker\":{\"line\":{\"color\":\"rgb(17,17,17)\",\"width\":0.5},\"pattern\":{\"fillmode\":\"overlay\",\"size\":10,\"solidity\":0.2}},\"type\":\"bar\"}],\"scattergeo\":[{\"type\":\"scattergeo\",\"marker\":{\"colorbar\":{\"outlinewidth\":0,\"ticks\":\"\"}}}],\"scatterpolar\":[{\"type\":\"scatterpolar\",\"marker\":{\"colorbar\":{\"outlinewidth\":0,\"ticks\":\"\"}}}],\"histogram\":[{\"marker\":{\"pattern\":{\"fillmode\":\"overlay\",\"size\":10,\"solidity\":0.2}},\"type\":\"histogram\"}],\"scattergl\":[{\"marker\":{\"line\":{\"color\":\"#283442\"}},\"type\":\"scattergl\"}],\"scatter3d\":[{\"type\":\"scatter3d\",\"line\":{\"colorbar\":{\"outlinewidth\":0,\"ticks\":\"\"}},\"marker\":{\"colorbar\":{\"outlinewidth\":0,\"ticks\":\"\"}}}],\"scattermapbox\":[{\"type\":\"scattermapbox\",\"marker\":{\"colorbar\":{\"outlinewidth\":0,\"ticks\":\"\"}}}],\"scatterternary\":[{\"type\":\"scatterternary\",\"marker\":{\"colorbar\":{\"outlinewidth\":0,\"ticks\":\"\"}}}],\"scattercarpet\":[{\"type\":\"scattercarpet\",\"marker\":{\"colorbar\":{\"outlinewidth\":0,\"ticks\":\"\"}}}],\"carpet\":[{\"aaxis\":{\"endlinecolor\":\"#A2B1C6\",\"gridcolor\":\"#506784\",\"linecolor\":\"#506784\",\"minorgridcolor\":\"#506784\",\"startlinecolor\":\"#A2B1C6\"},\"baxis\":{\"endlinecolor\":\"#A2B1C6\",\"gridcolor\":\"#506784\",\"linecolor\":\"#506784\",\"minorgridcolor\":\"#506784\",\"startlinecolor\":\"#A2B1C6\"},\"type\":\"carpet\"}],\"table\":[{\"cells\":{\"fill\":{\"color\":\"#506784\"},\"line\":{\"color\":\"rgb(17,17,17)\"}},\"header\":{\"fill\":{\"color\":\"#2a3f5f\"},\"line\":{\"color\":\"rgb(17,17,17)\"}},\"type\":\"table\"}],\"barpolar\":[{\"marker\":{\"line\":{\"color\":\"rgb(17,17,17)\",\"width\":0.5},\"pattern\":{\"fillmode\":\"overlay\",\"size\":10,\"solidity\":0.2}},\"type\":\"barpolar\"}],\"pie\":[{\"automargin\":true,\"type\":\"pie\"}]},\"layout\":{\"autotypenumbers\":\"strict\",\"colorway\":[\"#636efa\",\"#EF553B\",\"#00cc96\",\"#ab63fa\",\"#FFA15A\",\"#19d3f3\",\"#FF6692\",\"#B6E880\",\"#FF97FF\",\"#FECB52\"],\"font\":{\"color\":\"#f2f5fa\"},\"hovermode\":\"closest\",\"hoverlabel\":{\"align\":\"left\"},\"paper_bgcolor\":\"rgb(17,17,17)\",\"plot_bgcolor\":\"rgb(17,17,17)\",\"polar\":{\"bgcolor\":\"rgb(17,17,17)\",\"angularaxis\":{\"gridcolor\":\"#506784\",\"linecolor\":\"#506784\",\"ticks\":\"\"},\"radialaxis\":{\"gridcolor\":\"#506784\",\"linecolor\":\"#506784\",\"ticks\":\"\"}},\"ternary\":{\"bgcolor\":\"rgb(17,17,17)\",\"aaxis\":{\"gridcolor\":\"#506784\",\"linecolor\":\"#506784\",\"ticks\":\"\"},\"baxis\":{\"gridcolor\":\"#506784\",\"linecolor\":\"#506784\",\"ticks\":\"\"},\"caxis\":{\"gridcolor\":\"#506784\",\"linecolor\":\"#506784\",\"ticks\":\"\"}},\"coloraxis\":{\"colorbar\":{\"outlinewidth\":0,\"ticks\":\"\"}},\"colorscale\":{\"sequential\":[[0.0,\"#0d0887\"],[0.1111111111111111,\"#46039f\"],[0.2222222222222222,\"#7201a8\"],[0.3333333333333333,\"#9c179e\"],[0.4444444444444444,\"#bd3786\"],[0.5555555555555556,\"#d8576b\"],[0.6666666666666666,\"#ed7953\"],[0.7777777777777778,\"#fb9f3a\"],[0.8888888888888888,\"#fdca26\"],[1.0,\"#f0f921\"]],\"sequentialminus\":[[0.0,\"#0d0887\"],[0.1111111111111111,\"#46039f\"],[0.2222222222222222,\"#7201a8\"],[0.3333333333333333,\"#9c179e\"],[0.4444444444444444,\"#bd3786\"],[0.5555555555555556,\"#d8576b\"],[0.6666666666666666,\"#ed7953\"],[0.7777777777777778,\"#fb9f3a\"],[0.8888888888888888,\"#fdca26\"],[1.0,\"#f0f921\"]],\"diverging\":[[0,\"#8e0152\"],[0.1,\"#c51b7d\"],[0.2,\"#de77ae\"],[0.3,\"#f1b6da\"],[0.4,\"#fde0ef\"],[0.5,\"#f7f7f7\"],[0.6,\"#e6f5d0\"],[0.7,\"#b8e186\"],[0.8,\"#7fbc41\"],[0.9,\"#4d9221\"],[1,\"#276419\"]]},\"xaxis\":{\"gridcolor\":\"#283442\",\"linecolor\":\"#506784\",\"ticks\":\"\",\"title\":{\"standoff\":15},\"zerolinecolor\":\"#283442\",\"automargin\":true,\"zerolinewidth\":2},\"yaxis\":{\"gridcolor\":\"#283442\",\"linecolor\":\"#506784\",\"ticks\":\"\",\"title\":{\"standoff\":15},\"zerolinecolor\":\"#283442\",\"automargin\":true,\"zerolinewidth\":2},\"scene\":{\"xaxis\":{\"backgroundcolor\":\"rgb(17,17,17)\",\"gridcolor\":\"#506784\",\"linecolor\":\"#506784\",\"showbackground\":true,\"ticks\":\"\",\"zerolinecolor\":\"#C8D4E3\",\"gridwidth\":2},\"yaxis\":{\"backgroundcolor\":\"rgb(17,17,17)\",\"gridcolor\":\"#506784\",\"linecolor\":\"#506784\",\"showbackground\":true,\"ticks\":\"\",\"zerolinecolor\":\"#C8D4E3\",\"gridwidth\":2},\"zaxis\":{\"backgroundcolor\":\"rgb(17,17,17)\",\"gridcolor\":\"#506784\",\"linecolor\":\"#506784\",\"showbackground\":true,\"ticks\":\"\",\"zerolinecolor\":\"#C8D4E3\",\"gridwidth\":2}},\"shapedefaults\":{\"line\":{\"color\":\"#f2f5fa\"}},\"annotationdefaults\":{\"arrowcolor\":\"#f2f5fa\",\"arrowhead\":0,\"arrowwidth\":1},\"geo\":{\"bgcolor\":\"rgb(17,17,17)\",\"landcolor\":\"rgb(17,17,17)\",\"subunitcolor\":\"#506784\",\"showland\":true,\"showlakes\":true,\"lakecolor\":\"rgb(17,17,17)\"},\"title\":{\"x\":0.05},\"updatemenudefaults\":{\"bgcolor\":\"#506784\",\"borderwidth\":0},\"sliderdefaults\":{\"bgcolor\":\"#C8D4E3\",\"borderwidth\":1,\"bordercolor\":\"rgb(17,17,17)\",\"tickwidth\":0},\"mapbox\":{\"style\":\"dark\"}}},\"xaxis\":{\"anchor\":\"y\",\"domain\":[0.0,1.0],\"title\":{\"text\":\"Review\\u002fSatisfaction\"}},\"yaxis\":{\"anchor\":\"x\",\"domain\":[0.0,1.0],\"title\":{\"text\":\"Cost\"}},\"legend\":{\"title\":{\"text\":\"Trek\"},\"tracegroupgap\":0},\"title\":{\"text\":\"Trek Ratings vs. Cost\"}},                        {\"responsive\": true}                    ).then(function(){\n",
       "                            \n",
       "var gd = document.getElementById('ffaaf72b-d915-4376-9ef7-fc31a4d29881');\n",
       "var x = new MutationObserver(function (mutations, observer) {{\n",
       "        var display = window.getComputedStyle(gd).display;\n",
       "        if (!display || display === 'none') {{\n",
       "            console.log([gd, 'removed!']);\n",
       "            Plotly.purge(gd);\n",
       "            observer.disconnect();\n",
       "        }}\n",
       "}});\n",
       "\n",
       "// Listen for the removal of the full notebook cells\n",
       "var notebookContainer = gd.closest('#notebook-container');\n",
       "if (notebookContainer) {{\n",
       "    x.observe(notebookContainer, {childList: true});\n",
       "}}\n",
       "\n",
       "// Listen for the clearing of the current output cell\n",
       "var outputEl = gd.closest('.output');\n",
       "if (outputEl) {{\n",
       "    x.observe(outputEl, {childList: true});\n",
       "}}\n",
       "\n",
       "                        })                };                });            </script>        </div>"
      ]
     },
     "metadata": {},
     "output_type": "display_data"
    }
   ],
   "execution_count": 133
  },
  {
   "metadata": {},
   "cell_type": "markdown",
   "source": "Cognitive Data Modelling",
   "id": "c4f9e285253c7dab"
  },
  {
   "metadata": {
    "ExecuteTime": {
     "end_time": "2024-10-15T06:28:58.829277Z",
     "start_time": "2024-10-15T06:28:58.818558Z"
    }
   },
   "cell_type": "code",
   "source": "data=pd.read_csv('Nepali_Trekking_cleaned.csv')",
   "id": "4d557bce87f5749d",
   "outputs": [],
   "execution_count": 134
  },
  {
   "metadata": {
    "ExecuteTime": {
     "end_time": "2024-10-15T06:28:58.834724Z",
     "start_time": "2024-10-15T06:28:58.829277Z"
    }
   },
   "cell_type": "code",
   "source": [
    "# Import the required libraries\n",
    "from sklearn.model_selection import train_test_split\n",
    "from sklearn.preprocessing import LabelEncoder"
   ],
   "id": "4879b0030c18550a",
   "outputs": [],
   "execution_count": 135
  },
  {
   "metadata": {
    "ExecuteTime": {
     "end_time": "2024-10-15T06:28:58.844638Z",
     "start_time": "2024-10-15T06:28:58.834724Z"
    }
   },
   "cell_type": "code",
   "source": [
    "# Select the relevant columns for the model\n",
    "# Convert categorical columns to numerical using LabelEncoder\n",
    "# label_encoders = {}\n",
    "# categorical_columns = ['Best Travel Time', 'Accomodation','Trek']\n",
    "# \n",
    "# for column in categorical_columns:\n",
    "#     label_encoders[column] = LabelEncoder()\n",
    "#     df[column] = label_encoders[column].fit_transform(df[column])\n",
    "\n",
    "# List of categorical columns that need to be encoded\n",
    "# categorical_columns = ['Best Travel Time', 'Accomodation','Trek']  # Add more if necessary\n",
    "# \n",
    "# # Use LabelEncoder to convert categorical columns into numeric values\n",
    "# label_encoder = LabelEncoder()\n",
    "# \n",
    "# for column in categorical_columns:\n",
    "#     data[column] = label_encoder.fit_transform(data[column].astype(str))\n",
    "\n",
    " # Encode categorical columns such as 'Accomodation' and 'Best Travel Time'\n",
    "label_encoder = LabelEncoder()\n",
    "data['Accomodation'] = label_encoder.fit_transform(data['Accomodation'])\n",
    "data['Best Travel Time'] = label_encoder.fit_transform(data['Best Travel Time'])\n",
    "data['Trek'] = label_encoder.fit_transform(data['Trek'])"
   ],
   "id": "d67274259cc5124b",
   "outputs": [],
   "execution_count": 136
  },
  {
   "metadata": {
    "ExecuteTime": {
     "end_time": "2024-10-15T06:28:58.851200Z",
     "start_time": "2024-10-15T06:28:58.844638Z"
    }
   },
   "cell_type": "code",
   "source": [
    "# # Select features and target variable\n",
    "# features = ['Cost', 'Trekking Group Size', 'Age','Fitness Level','Max Altitude','Weather Conditions','Trip Grade Numeric']\n",
    "# target = 'Trek'\n",
    "# Define the input features (X) and target variable (Y)\n",
    "features= ['Cost', 'Age','Trekking Group Size','Fitness Level']  # Using cost and age ,fitness level, trekking groupsize as features\n",
    "target=['Trek','Trip Grade Numeric']  # Predicting the best travel time"
   ],
   "id": "ed6a74149a7b3e6e",
   "outputs": [],
   "execution_count": 137
  },
  {
   "metadata": {
    "ExecuteTime": {
     "end_time": "2024-10-15T06:28:58.858772Z",
     "start_time": "2024-10-15T06:28:58.851200Z"
    }
   },
   "cell_type": "code",
   "source": [
    "# Split the data into training and validation sets\n",
    "X = data[features]\n",
    "y = data[target]"
   ],
   "id": "5855fd5631c94df2",
   "outputs": [],
   "execution_count": 138
  },
  {
   "metadata": {
    "ExecuteTime": {
     "end_time": "2024-10-15T06:28:58.953087Z",
     "start_time": "2024-10-15T06:28:58.858772Z"
    }
   },
   "cell_type": "code",
   "source": [
    "from sklearn.linear_model import LogisticRegression\n",
    "from sklearn.metrics import accuracy_score\n",
    "# Train and evaluate a logistic regression model for each target variable\n",
    "for target in target:\n",
    "    y_target = y[target]\n",
    "    X_train, X_test, y_train, y_test = train_test_split(X, y_target, test_size=0.1, random_state=42)\n",
    "    \n",
    "    logistic_model = LogisticRegression()\n",
    "    logistic_model.fit(X_train, y_train)\n",
    "\n",
    "    y_pred_logistic = logistic_model.predict(X_test)\n",
    "    logistic_accuracy = accuracy_score(y_test, y_pred_logistic)\n",
    "    print(f'Logistic Regression Accuracy for {target}: {logistic_accuracy}')"
   ],
   "id": "62940546de1296b9",
   "outputs": [
    {
     "name": "stdout",
     "output_type": "stream",
     "text": [
      "Logistic Regression Accuracy for Trek: 0.02564102564102564\n",
      "Logistic Regression Accuracy for Trip Grade Numeric: 0.4358974358974359\n"
     ]
    },
    {
     "name": "stderr",
     "output_type": "stream",
     "text": [
      "C:\\Users\\supre\\Desktop\\Voicerecognitation\\.venv\\Lib\\site-packages\\sklearn\\linear_model\\_logistic.py:469: ConvergenceWarning:\n",
      "\n",
      "lbfgs failed to converge (status=1):\n",
      "STOP: TOTAL NO. of ITERATIONS REACHED LIMIT.\n",
      "\n",
      "Increase the number of iterations (max_iter) or scale the data as shown in:\n",
      "    https://scikit-learn.org/stable/modules/preprocessing.html\n",
      "Please also refer to the documentation for alternative solver options:\n",
      "    https://scikit-learn.org/stable/modules/linear_model.html#logistic-regression\n",
      "\n",
      "C:\\Users\\supre\\Desktop\\Voicerecognitation\\.venv\\Lib\\site-packages\\sklearn\\linear_model\\_logistic.py:469: ConvergenceWarning:\n",
      "\n",
      "lbfgs failed to converge (status=1):\n",
      "STOP: TOTAL NO. of ITERATIONS REACHED LIMIT.\n",
      "\n",
      "Increase the number of iterations (max_iter) or scale the data as shown in:\n",
      "    https://scikit-learn.org/stable/modules/preprocessing.html\n",
      "Please also refer to the documentation for alternative solver options:\n",
      "    https://scikit-learn.org/stable/modules/linear_model.html#logistic-regression\n",
      "\n"
     ]
    }
   ],
   "execution_count": 139
  },
  {
   "metadata": {},
   "cell_type": "markdown",
   "source": " Integration of Machine Learning Models",
   "id": "fdc3ff2db3d0a2c2"
  },
  {
   "metadata": {},
   "cell_type": "markdown",
   "source": "Logistic Regression Model",
   "id": "5acfe8af02b159a1"
  },
  {
   "metadata": {
    "ExecuteTime": {
     "end_time": "2024-10-15T06:28:58.959263Z",
     "start_time": "2024-10-15T06:28:58.953087Z"
    }
   },
   "cell_type": "code",
   "source": [
    "# # Evaluate the model\n",
    "# y_pred_logistic = logistic_model.predict(X_test)\n",
    "# logistic_accuracy = accuracy_score(y_test, y_pred_logistic)\n",
    "# print(f'Logistic Regression Accuracy: {logistic_accuracy}')"
   ],
   "id": "d81963027ae6d4e1",
   "outputs": [],
   "execution_count": 140
  },
  {
   "metadata": {},
   "cell_type": "markdown",
   "source": "Random Forest Regression Model",
   "id": "c1b30dea9c24f62e"
  },
  {
   "metadata": {
    "ExecuteTime": {
     "end_time": "2024-10-15T06:28:59.098862Z",
     "start_time": "2024-10-15T06:28:58.960870Z"
    }
   },
   "cell_type": "code",
   "source": [
    "from sklearn.ensemble import RandomForestClassifier\n",
    "\n",
    "# Train the Random Forest model\n",
    "random_forest_model = RandomForestClassifier()\n",
    "random_forest_model.fit(X_train, y_train)\n",
    "\n",
    "# Evaluate the model\n",
    "y_pred_rf = random_forest_model.predict(X_test)\n",
    "rf_accuracy = accuracy_score(y_test, y_pred_rf)\n",
    "print(f'Random Forest Accuracy: {rf_accuracy}')"
   ],
   "id": "88680ec4e7e74bac",
   "outputs": [
    {
     "name": "stdout",
     "output_type": "stream",
     "text": [
      "Random Forest Accuracy: 0.48717948717948717\n"
     ]
    }
   ],
   "execution_count": 141
  },
  {
   "metadata": {
    "ExecuteTime": {
     "end_time": "2024-10-15T06:28:59.141549Z",
     "start_time": "2024-10-15T06:28:59.100666Z"
    }
   },
   "cell_type": "code",
   "source": [
    "# Save the trained models\n",
    "import joblib   # Save the models to disk\n",
    "joblib.dump(logistic_model, 'logistic_model.pkl')\n",
    "joblib.dump(random_forest_model, 'random_forest_model.pkl')"
   ],
   "id": "648b97451ee3ce62",
   "outputs": [
    {
     "data": {
      "text/plain": [
       "['random_forest_model.pkl']"
      ]
     },
     "execution_count": 142,
     "metadata": {},
     "output_type": "execute_result"
    }
   ],
   "execution_count": 142
  },
  {
   "metadata": {
    "ExecuteTime": {
     "end_time": "2024-10-15T06:28:59.182486Z",
     "start_time": "2024-10-15T06:28:59.142554Z"
    }
   },
   "cell_type": "code",
   "source": [
    "# Load the models from disk\n",
    "loaded_logistic_model = joblib.load('logistic_model.pkl')\n",
    "loaded_rf_model = joblib.load('random_forest_model.pkl')"
   ],
   "id": "ff2bbbe7ba042fc",
   "outputs": [],
   "execution_count": 143
  },
  {
   "metadata": {
    "ExecuteTime": {
     "end_time": "2024-10-15T06:38:56.581480Z",
     "start_time": "2024-10-15T06:38:56.572069Z"
    }
   },
   "cell_type": "code",
   "source": [
    "# Test the loaded models\n",
    "y_pred_loaded_logistic = loaded_logistic_model.predict(X_test)\n",
    "loaded_logistic_accuracy = accuracy_score(y_test, y_pred_loaded_logistic)\n",
    "print(f'Loaded Logistic Regression Accuracy: {loaded_logistic_accuracy}')"
   ],
   "id": "6527131fedab579d",
   "outputs": [
    {
     "name": "stdout",
     "output_type": "stream",
     "text": [
      "Loaded Logistic Regression Accuracy: 0.4358974358974359\n"
     ]
    }
   ],
   "execution_count": 151
  },
  {
   "metadata": {
    "ExecuteTime": {
     "end_time": "2024-10-15T06:39:01.617197Z",
     "start_time": "2024-10-15T06:39:01.602260Z"
    }
   },
   "cell_type": "code",
   "source": [
    "y_pred_loaded_rf = loaded_rf_model.predict(X_test)\n",
    "loaded_rf_accuracy = accuracy_score(y_test, y_pred_loaded_rf)\n",
    "print(f'Loaded Random Forest Accuracy: {loaded_rf_accuracy}')"
   ],
   "id": "7ba3b96914a64df3",
   "outputs": [
    {
     "name": "stdout",
     "output_type": "stream",
     "text": [
      "Loaded Random Forest Accuracy: 0.48717948717948717\n"
     ]
    }
   ],
   "execution_count": 152
  },
  {
   "metadata": {
    "ExecuteTime": {
     "end_time": "2024-10-15T06:39:04.990231Z",
     "start_time": "2024-10-15T06:39:02.306622Z"
    }
   },
   "cell_type": "code",
   "source": [
    "import tkinter as tk\n",
    "from tkinter import messagebox\n",
    "import joblib\n",
    "\n",
    "# Load the models from disk\n",
    "loaded_rf_model = joblib.load('random_forest_model.pkl')\n",
    "\n",
    "# Function to recommend trek based on input features\n",
    "def recommend_trek():\n",
    "    try:\n",
    "        cost = float(entry_cost.get())\n",
    "        age = float(entry_age.get())\n",
    "        trekking_group_size = int(entry_trekking_group_size.get())\n",
    "        fitness_level = label_encoder.transform([entry_fitness_level.get()])[0]\n",
    "        \n",
    "        input_data = [[cost, age, trekking_group_size, fitness_level]]\n",
    "        \n",
    "        # Predict using the Random Forest model\n",
    "        recommended_trek = loaded_rf_model.predict(input_data)[0]\n",
    "        \n",
    "        # Display the recommended trek details\n",
    "        messagebox.showinfo(\"Recommended Trek\", f\"Trek Name: {recommended_trek}\")\n",
    "    except Exception as e:\n",
    "        messagebox.showerror(\"Error\", str(e))\n",
    "\n",
    "# Create the main window\n",
    "root = tk.Tk()\n",
    "root.title(\"Trek Recommendation System\")\n",
    "\n",
    "# Create and place the input fields and labels\n",
    "tk.Label(root, text=\"Cost:\").grid(row=0, column=0)\n",
    "entry_cost = tk.Entry(root)\n",
    "entry_cost.grid(row=0, column=1)\n",
    "\n",
    "tk.Label(root, text=\"Age:\").grid(row=1, column=0)\n",
    "entry_age = tk.Entry(root)\n",
    "entry_age.grid(row=1, column=1)\n",
    "\n",
    "tk.Label(root, text=\"Trekking Group Size:\").grid(row=2, column=0)\n",
    "entry_trekking_group_size = tk.Entry(root)\n",
    "entry_trekking_group_size.grid(row=2, column=1)\n",
    "\n",
    "tk.Label(root, text=\"Fitness Level:\").grid(row=3, column=0)\n",
    "entry_fitness_level = tk.Entry(root)\n",
    "entry_fitness_level.grid(row=3, column=1)\n",
    "\n",
    "# Create and place the recommend button\n",
    "recommend_button = tk.Button(root, text=\"Recommend Trek\", command=recommend_trek)\n",
    "recommend_button.grid(row=4, column=0, columnspan=2)\n",
    "\n",
    "# Run the main loop\n",
    "root.mainloop()"
   ],
   "id": "7456e9e40cb5eec6",
   "outputs": [],
   "execution_count": 153
  },
  {
   "metadata": {
    "ExecuteTime": {
     "end_time": "2024-10-15T06:29:07.047616Z",
     "start_time": "2024-10-15T06:29:07.043349Z"
    }
   },
   "cell_type": "code",
   "source": "",
   "id": "38120cc14338e785",
   "outputs": [],
   "execution_count": 146
  }
 ],
 "metadata": {
  "kernelspec": {
   "display_name": "Python 3",
   "language": "python",
   "name": "python3"
  },
  "language_info": {
   "codemirror_mode": {
    "name": "ipython",
    "version": 2
   },
   "file_extension": ".py",
   "mimetype": "text/x-python",
   "name": "python",
   "nbconvert_exporter": "python",
   "pygments_lexer": "ipython2",
   "version": "2.7.6"
  }
 },
 "nbformat": 4,
 "nbformat_minor": 5
}
