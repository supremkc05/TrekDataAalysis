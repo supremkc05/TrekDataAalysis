{
 "cells": [
  {
   "cell_type": "code",
   "id": "initial_id",
   "metadata": {
    "collapsed": true,
    "ExecuteTime": {
     "end_time": "2024-10-14T07:52:44.424196Z",
     "start_time": "2024-10-14T07:52:44.402100Z"
    }
   },
   "source": [
    "import pandas as pd\n",
    "import numpy as np\n",
    "import seaborn as sns\n",
    "import matplotlib.pyplot as plt\n",
    "import plotly.express as px\n",
    "import pycountry"
   ],
   "outputs": [],
   "execution_count": 139
  },
  {
   "metadata": {
    "ExecuteTime": {
     "end_time": "2024-10-14T07:52:44.584996Z",
     "start_time": "2024-10-14T07:52:44.473260Z"
    }
   },
   "cell_type": "code",
   "source": [
    "# Load the data\n",
    "df=pd.read_csv('Nepali_Treking_EnhancedV2.csv')"
   ],
   "id": "3a7b279b8f6fafcd",
   "outputs": [],
   "execution_count": 140
  },
  {
   "metadata": {
    "ExecuteTime": {
     "end_time": "2024-10-14T07:52:44.683454Z",
     "start_time": "2024-10-14T07:52:44.621754Z"
    }
   },
   "cell_type": "code",
   "source": "df.head()",
   "id": "68431b996256374a",
   "outputs": [
    {
     "data": {
      "text/plain": [
       "   Unnamed: 0                                 Trek              Cost  \\\n",
       "0           0               Everest Base Camp Trek  \\n$1,420     USD   \n",
       "1           1         Everest Base Camp Short Trek  \\n$1,295     USD   \n",
       "2           2  Everest Base Camp Heli Shuttle Trek       \\n$2000 USD   \n",
       "3           3          Everest Base Camp Heli Trek  \\n$3,300     USD   \n",
       "4           4   Everest Base Camp Trek for Seniors  \\n$1,800     USD   \n",
       "\n",
       "       Time Trip Grade Max Altitude      Accomodation  \\\n",
       "0   16 Days   Moderate       5545 m  Hotel/Guesthouse   \n",
       "1   14 Days   Moderate       5545 m  Hotel/Guesthouse   \n",
       "2   12 Days   Moderate       5545 m  Hotel/Guesthouse   \n",
       "3   11 Days   Moderate       5545 m  Hotel/Guesthouse   \n",
       "4   20 Days   Moderate       5545 m  Hotel/Guesthouse   \n",
       "\n",
       "           Best Travel Time Date of Travel         Sex  ...  Regional code  \\\n",
       "0  March - May & Sept - Dec      9/13/2022  Non-Binary  ...              0   \n",
       "1  March - May & Sept - Dec       9/4/2021      Female  ...             40   \n",
       "2  March - May & Sept - Dec      1/25/2021      Female  ...             80   \n",
       "3  March - May & Sept - Dec      1/28/2022  Non-Binary  ...            120   \n",
       "4  March - May & Sept - Dec     10/21/2021  Non-Binary  ...            200   \n",
       "\n",
       "       Country Fitness Level  Weather Conditions Trekking Group Size  \\\n",
       "0        total  Intermediate               Clear                10.0   \n",
       "1  Afghanistan           NaN                 NaN                 NaN   \n",
       "2      Albania      Advanced               Snowy                12.0   \n",
       "3      Algeria  Intermediate               Clear                 5.0   \n",
       "4        Andra      Beginner              Cloudy                 6.0   \n",
       "\n",
       "   Guide/No Guide  Equipment Used Purpose of Travel Health Incidents  \\\n",
       "0           Guide           Poles           Leisure              NaN   \n",
       "1             NaN             NaN               NaN              NaN   \n",
       "2           Guide          Oxygen           Charity              NaN   \n",
       "3           Guide           Poles           Leisure              NaN   \n",
       "4        No Guide             NaN         Adventure     Minor Injury   \n",
       "\n",
       "  Review/Satisfaction  \n",
       "0                 4.5  \n",
       "1                 NaN  \n",
       "2                 5.0  \n",
       "3                 4.0  \n",
       "4                 3.5  \n",
       "\n",
       "[5 rows x 26 columns]"
      ],
      "text/html": [
       "<div>\n",
       "<style scoped>\n",
       "    .dataframe tbody tr th:only-of-type {\n",
       "        vertical-align: middle;\n",
       "    }\n",
       "\n",
       "    .dataframe tbody tr th {\n",
       "        vertical-align: top;\n",
       "    }\n",
       "\n",
       "    .dataframe thead th {\n",
       "        text-align: right;\n",
       "    }\n",
       "</style>\n",
       "<table border=\"1\" class=\"dataframe\">\n",
       "  <thead>\n",
       "    <tr style=\"text-align: right;\">\n",
       "      <th></th>\n",
       "      <th>Unnamed: 0</th>\n",
       "      <th>Trek</th>\n",
       "      <th>Cost</th>\n",
       "      <th>Time</th>\n",
       "      <th>Trip Grade</th>\n",
       "      <th>Max Altitude</th>\n",
       "      <th>Accomodation</th>\n",
       "      <th>Best Travel Time</th>\n",
       "      <th>Date of Travel</th>\n",
       "      <th>Sex</th>\n",
       "      <th>...</th>\n",
       "      <th>Regional code</th>\n",
       "      <th>Country</th>\n",
       "      <th>Fitness Level</th>\n",
       "      <th>Weather Conditions</th>\n",
       "      <th>Trekking Group Size</th>\n",
       "      <th>Guide/No Guide</th>\n",
       "      <th>Equipment Used</th>\n",
       "      <th>Purpose of Travel</th>\n",
       "      <th>Health Incidents</th>\n",
       "      <th>Review/Satisfaction</th>\n",
       "    </tr>\n",
       "  </thead>\n",
       "  <tbody>\n",
       "    <tr>\n",
       "      <th>0</th>\n",
       "      <td>0</td>\n",
       "      <td>Everest Base Camp Trek</td>\n",
       "      <td>\\n$1,420     USD</td>\n",
       "      <td>16 Days</td>\n",
       "      <td>Moderate</td>\n",
       "      <td>5545 m</td>\n",
       "      <td>Hotel/Guesthouse</td>\n",
       "      <td>March - May &amp; Sept - Dec</td>\n",
       "      <td>9/13/2022</td>\n",
       "      <td>Non-Binary</td>\n",
       "      <td>...</td>\n",
       "      <td>0</td>\n",
       "      <td>total</td>\n",
       "      <td>Intermediate</td>\n",
       "      <td>Clear</td>\n",
       "      <td>10.0</td>\n",
       "      <td>Guide</td>\n",
       "      <td>Poles</td>\n",
       "      <td>Leisure</td>\n",
       "      <td>NaN</td>\n",
       "      <td>4.5</td>\n",
       "    </tr>\n",
       "    <tr>\n",
       "      <th>1</th>\n",
       "      <td>1</td>\n",
       "      <td>Everest Base Camp Short Trek</td>\n",
       "      <td>\\n$1,295     USD</td>\n",
       "      <td>14 Days</td>\n",
       "      <td>Moderate</td>\n",
       "      <td>5545 m</td>\n",
       "      <td>Hotel/Guesthouse</td>\n",
       "      <td>March - May &amp; Sept - Dec</td>\n",
       "      <td>9/4/2021</td>\n",
       "      <td>Female</td>\n",
       "      <td>...</td>\n",
       "      <td>40</td>\n",
       "      <td>Afghanistan</td>\n",
       "      <td>NaN</td>\n",
       "      <td>NaN</td>\n",
       "      <td>NaN</td>\n",
       "      <td>NaN</td>\n",
       "      <td>NaN</td>\n",
       "      <td>NaN</td>\n",
       "      <td>NaN</td>\n",
       "      <td>NaN</td>\n",
       "    </tr>\n",
       "    <tr>\n",
       "      <th>2</th>\n",
       "      <td>2</td>\n",
       "      <td>Everest Base Camp Heli Shuttle Trek</td>\n",
       "      <td>\\n$2000 USD</td>\n",
       "      <td>12 Days</td>\n",
       "      <td>Moderate</td>\n",
       "      <td>5545 m</td>\n",
       "      <td>Hotel/Guesthouse</td>\n",
       "      <td>March - May &amp; Sept - Dec</td>\n",
       "      <td>1/25/2021</td>\n",
       "      <td>Female</td>\n",
       "      <td>...</td>\n",
       "      <td>80</td>\n",
       "      <td>Albania</td>\n",
       "      <td>Advanced</td>\n",
       "      <td>Snowy</td>\n",
       "      <td>12.0</td>\n",
       "      <td>Guide</td>\n",
       "      <td>Oxygen</td>\n",
       "      <td>Charity</td>\n",
       "      <td>NaN</td>\n",
       "      <td>5.0</td>\n",
       "    </tr>\n",
       "    <tr>\n",
       "      <th>3</th>\n",
       "      <td>3</td>\n",
       "      <td>Everest Base Camp Heli Trek</td>\n",
       "      <td>\\n$3,300     USD</td>\n",
       "      <td>11 Days</td>\n",
       "      <td>Moderate</td>\n",
       "      <td>5545 m</td>\n",
       "      <td>Hotel/Guesthouse</td>\n",
       "      <td>March - May &amp; Sept - Dec</td>\n",
       "      <td>1/28/2022</td>\n",
       "      <td>Non-Binary</td>\n",
       "      <td>...</td>\n",
       "      <td>120</td>\n",
       "      <td>Algeria</td>\n",
       "      <td>Intermediate</td>\n",
       "      <td>Clear</td>\n",
       "      <td>5.0</td>\n",
       "      <td>Guide</td>\n",
       "      <td>Poles</td>\n",
       "      <td>Leisure</td>\n",
       "      <td>NaN</td>\n",
       "      <td>4.0</td>\n",
       "    </tr>\n",
       "    <tr>\n",
       "      <th>4</th>\n",
       "      <td>4</td>\n",
       "      <td>Everest Base Camp Trek for Seniors</td>\n",
       "      <td>\\n$1,800     USD</td>\n",
       "      <td>20 Days</td>\n",
       "      <td>Moderate</td>\n",
       "      <td>5545 m</td>\n",
       "      <td>Hotel/Guesthouse</td>\n",
       "      <td>March - May &amp; Sept - Dec</td>\n",
       "      <td>10/21/2021</td>\n",
       "      <td>Non-Binary</td>\n",
       "      <td>...</td>\n",
       "      <td>200</td>\n",
       "      <td>Andra</td>\n",
       "      <td>Beginner</td>\n",
       "      <td>Cloudy</td>\n",
       "      <td>6.0</td>\n",
       "      <td>No Guide</td>\n",
       "      <td>NaN</td>\n",
       "      <td>Adventure</td>\n",
       "      <td>Minor Injury</td>\n",
       "      <td>3.5</td>\n",
       "    </tr>\n",
       "  </tbody>\n",
       "</table>\n",
       "<p>5 rows × 26 columns</p>\n",
       "</div>"
      ]
     },
     "execution_count": 141,
     "metadata": {},
     "output_type": "execute_result"
    }
   ],
   "execution_count": 141
  },
  {
   "metadata": {
    "ExecuteTime": {
     "end_time": "2024-10-14T07:52:44.705507Z",
     "start_time": "2024-10-14T07:52:44.687639Z"
    }
   },
   "cell_type": "code",
   "source": "df.columns",
   "id": "89e82fa58f6dbb2c",
   "outputs": [
    {
     "data": {
      "text/plain": [
       "Index(['Unnamed: 0', 'Trek', 'Cost', 'Time', 'Trip Grade', 'Max Altitude',\n",
       "       'Accomodation', 'Best Travel Time', 'Date of Travel', 'Sex', 'Age',\n",
       "       'Employment Type', 'GraduateOrNot', 'AnnualIncome', 'FrequentFlyer',\n",
       "       'Year', 'Regional code', 'Country', 'Fitness Level',\n",
       "       'Weather Conditions', 'Trekking Group Size', 'Guide/No Guide',\n",
       "       'Equipment Used', 'Purpose of Travel', 'Health Incidents',\n",
       "       'Review/Satisfaction'],\n",
       "      dtype='object')"
      ]
     },
     "execution_count": 142,
     "metadata": {},
     "output_type": "execute_result"
    }
   ],
   "execution_count": 142
  },
  {
   "metadata": {
    "ExecuteTime": {
     "end_time": "2024-10-14T07:52:44.793819Z",
     "start_time": "2024-10-14T07:52:44.711964Z"
    }
   },
   "cell_type": "code",
   "source": "df.info()",
   "id": "b1809ace8a1e64d4",
   "outputs": [
    {
     "name": "stdout",
     "output_type": "stream",
     "text": [
      "<class 'pandas.core.frame.DataFrame'>\n",
      "RangeIndex: 383 entries, 0 to 382\n",
      "Data columns (total 26 columns):\n",
      " #   Column               Non-Null Count  Dtype  \n",
      "---  ------               --------------  -----  \n",
      " 0   Unnamed: 0           383 non-null    int64  \n",
      " 1   Trek                 383 non-null    object \n",
      " 2   Cost                 383 non-null    object \n",
      " 3   Time                 383 non-null    object \n",
      " 4   Trip Grade           383 non-null    object \n",
      " 5   Max Altitude         383 non-null    object \n",
      " 6   Accomodation         383 non-null    object \n",
      " 7   Best Travel Time     383 non-null    object \n",
      " 8   Date of Travel       383 non-null    object \n",
      " 9   Sex                  383 non-null    object \n",
      " 10  Age                  383 non-null    int64  \n",
      " 11  Employment Type      383 non-null    object \n",
      " 12  GraduateOrNot        383 non-null    object \n",
      " 13  AnnualIncome         383 non-null    int64  \n",
      " 14  FrequentFlyer        383 non-null    object \n",
      " 15  Year                 383 non-null    int64  \n",
      " 16  Regional code        383 non-null    int64  \n",
      " 17  Country              383 non-null    object \n",
      " 18  Fitness Level        345 non-null    object \n",
      " 19  Weather Conditions   345 non-null    object \n",
      " 20  Trekking Group Size  345 non-null    float64\n",
      " 21  Guide/No Guide       345 non-null    object \n",
      " 22  Equipment Used       207 non-null    object \n",
      " 23  Purpose of Travel    345 non-null    object \n",
      " 24  Health Incidents     138 non-null    object \n",
      " 25  Review/Satisfaction  345 non-null    float64\n",
      "dtypes: float64(2), int64(5), object(19)\n",
      "memory usage: 77.9+ KB\n"
     ]
    }
   ],
   "execution_count": 143
  },
  {
   "metadata": {
    "ExecuteTime": {
     "end_time": "2024-10-14T07:52:44.897566Z",
     "start_time": "2024-10-14T07:52:44.796556Z"
    }
   },
   "cell_type": "code",
   "source": "df.describe() #summary statistics",
   "id": "d6dd63842ef124d2",
   "outputs": [
    {
     "data": {
      "text/plain": [
       "       Unnamed: 0         Age  AnnualIncome         Year  Regional code  \\\n",
       "count   383.00000  383.000000  3.830000e+02   383.000000     383.000000   \n",
       "mean    191.00000   29.673629  9.492167e+05  2025.519582    4081.302872   \n",
       "std     110.70682    2.868042  3.720953e+05   175.953867    2432.427473   \n",
       "min       0.00000   25.000000  3.000000e+05  2016.000000       0.000000   \n",
       "25%      95.50000   28.000000  6.500000e+05  2016.000000    2030.000000   \n",
       "50%     191.00000   29.000000  9.000000e+05  2017.000000    4140.000000   \n",
       "75%     286.50000   32.000000  1.250000e+06  2017.000000    6080.000000   \n",
       "max     382.00000   35.000000  1.800000e+06  5460.000000    9990.000000   \n",
       "\n",
       "       Trekking Group Size  Review/Satisfaction  \n",
       "count           345.000000           345.000000  \n",
       "mean              8.246377             4.010145  \n",
       "std               2.584647             0.713684  \n",
       "min               5.000000             3.000000  \n",
       "25%               6.000000             3.500000  \n",
       "50%               8.000000             4.000000  \n",
       "75%              10.000000             4.500000  \n",
       "max              12.000000             5.000000  "
      ],
      "text/html": [
       "<div>\n",
       "<style scoped>\n",
       "    .dataframe tbody tr th:only-of-type {\n",
       "        vertical-align: middle;\n",
       "    }\n",
       "\n",
       "    .dataframe tbody tr th {\n",
       "        vertical-align: top;\n",
       "    }\n",
       "\n",
       "    .dataframe thead th {\n",
       "        text-align: right;\n",
       "    }\n",
       "</style>\n",
       "<table border=\"1\" class=\"dataframe\">\n",
       "  <thead>\n",
       "    <tr style=\"text-align: right;\">\n",
       "      <th></th>\n",
       "      <th>Unnamed: 0</th>\n",
       "      <th>Age</th>\n",
       "      <th>AnnualIncome</th>\n",
       "      <th>Year</th>\n",
       "      <th>Regional code</th>\n",
       "      <th>Trekking Group Size</th>\n",
       "      <th>Review/Satisfaction</th>\n",
       "    </tr>\n",
       "  </thead>\n",
       "  <tbody>\n",
       "    <tr>\n",
       "      <th>count</th>\n",
       "      <td>383.00000</td>\n",
       "      <td>383.000000</td>\n",
       "      <td>3.830000e+02</td>\n",
       "      <td>383.000000</td>\n",
       "      <td>383.000000</td>\n",
       "      <td>345.000000</td>\n",
       "      <td>345.000000</td>\n",
       "    </tr>\n",
       "    <tr>\n",
       "      <th>mean</th>\n",
       "      <td>191.00000</td>\n",
       "      <td>29.673629</td>\n",
       "      <td>9.492167e+05</td>\n",
       "      <td>2025.519582</td>\n",
       "      <td>4081.302872</td>\n",
       "      <td>8.246377</td>\n",
       "      <td>4.010145</td>\n",
       "    </tr>\n",
       "    <tr>\n",
       "      <th>std</th>\n",
       "      <td>110.70682</td>\n",
       "      <td>2.868042</td>\n",
       "      <td>3.720953e+05</td>\n",
       "      <td>175.953867</td>\n",
       "      <td>2432.427473</td>\n",
       "      <td>2.584647</td>\n",
       "      <td>0.713684</td>\n",
       "    </tr>\n",
       "    <tr>\n",
       "      <th>min</th>\n",
       "      <td>0.00000</td>\n",
       "      <td>25.000000</td>\n",
       "      <td>3.000000e+05</td>\n",
       "      <td>2016.000000</td>\n",
       "      <td>0.000000</td>\n",
       "      <td>5.000000</td>\n",
       "      <td>3.000000</td>\n",
       "    </tr>\n",
       "    <tr>\n",
       "      <th>25%</th>\n",
       "      <td>95.50000</td>\n",
       "      <td>28.000000</td>\n",
       "      <td>6.500000e+05</td>\n",
       "      <td>2016.000000</td>\n",
       "      <td>2030.000000</td>\n",
       "      <td>6.000000</td>\n",
       "      <td>3.500000</td>\n",
       "    </tr>\n",
       "    <tr>\n",
       "      <th>50%</th>\n",
       "      <td>191.00000</td>\n",
       "      <td>29.000000</td>\n",
       "      <td>9.000000e+05</td>\n",
       "      <td>2017.000000</td>\n",
       "      <td>4140.000000</td>\n",
       "      <td>8.000000</td>\n",
       "      <td>4.000000</td>\n",
       "    </tr>\n",
       "    <tr>\n",
       "      <th>75%</th>\n",
       "      <td>286.50000</td>\n",
       "      <td>32.000000</td>\n",
       "      <td>1.250000e+06</td>\n",
       "      <td>2017.000000</td>\n",
       "      <td>6080.000000</td>\n",
       "      <td>10.000000</td>\n",
       "      <td>4.500000</td>\n",
       "    </tr>\n",
       "    <tr>\n",
       "      <th>max</th>\n",
       "      <td>382.00000</td>\n",
       "      <td>35.000000</td>\n",
       "      <td>1.800000e+06</td>\n",
       "      <td>5460.000000</td>\n",
       "      <td>9990.000000</td>\n",
       "      <td>12.000000</td>\n",
       "      <td>5.000000</td>\n",
       "    </tr>\n",
       "  </tbody>\n",
       "</table>\n",
       "</div>"
      ]
     },
     "execution_count": 144,
     "metadata": {},
     "output_type": "execute_result"
    }
   ],
   "execution_count": 144
  },
  {
   "metadata": {
    "ExecuteTime": {
     "end_time": "2024-10-14T07:52:44.922549Z",
     "start_time": "2024-10-14T07:52:44.897566Z"
    }
   },
   "cell_type": "code",
   "source": [
    "#dropping the columns with missing values\n",
    "df.drop(\"Unnamed: 0\", inplace=True, axis=1) \n",
    "df.columns"
   ],
   "id": "324cb53ec1a306f1",
   "outputs": [
    {
     "data": {
      "text/plain": [
       "Index(['Trek', 'Cost', 'Time', 'Trip Grade', 'Max Altitude', 'Accomodation',\n",
       "       'Best Travel Time', 'Date of Travel', 'Sex', 'Age', 'Employment Type',\n",
       "       'GraduateOrNot', 'AnnualIncome', 'FrequentFlyer', 'Year',\n",
       "       'Regional code', 'Country', 'Fitness Level', 'Weather Conditions',\n",
       "       'Trekking Group Size', 'Guide/No Guide', 'Equipment Used',\n",
       "       'Purpose of Travel', 'Health Incidents', 'Review/Satisfaction'],\n",
       "      dtype='object')"
      ]
     },
     "execution_count": 145,
     "metadata": {},
     "output_type": "execute_result"
    }
   ],
   "execution_count": 145
  },
  {
   "metadata": {
    "ExecuteTime": {
     "end_time": "2024-10-14T07:52:44.958922Z",
     "start_time": "2024-10-14T07:52:44.938937Z"
    }
   },
   "cell_type": "code",
   "source": [
    "# Dropping the unnecessary columns from the dataset\n",
    "df.drop([\"AnnualIncome\", \"Employment Type\", \"GraduateOrNot\"], inplace=True, axis=1)\n",
    "df.columns"
   ],
   "id": "ff524f67ef72e0b4",
   "outputs": [
    {
     "data": {
      "text/plain": [
       "Index(['Trek', 'Cost', 'Time', 'Trip Grade', 'Max Altitude', 'Accomodation',\n",
       "       'Best Travel Time', 'Date of Travel', 'Sex', 'Age', 'FrequentFlyer',\n",
       "       'Year', 'Regional code', 'Country', 'Fitness Level',\n",
       "       'Weather Conditions', 'Trekking Group Size', 'Guide/No Guide',\n",
       "       'Equipment Used', 'Purpose of Travel', 'Health Incidents',\n",
       "       'Review/Satisfaction'],\n",
       "      dtype='object')"
      ]
     },
     "execution_count": 146,
     "metadata": {},
     "output_type": "execute_result"
    }
   ],
   "execution_count": 146
  },
  {
   "metadata": {
    "ExecuteTime": {
     "end_time": "2024-10-14T07:52:45.246354Z",
     "start_time": "2024-10-14T07:52:45.225617Z"
    }
   },
   "cell_type": "code",
   "source": [
    "#removing the string 'USD' from the 'Cost' column\n",
    "df['Cost'] = df['Cost'].replace(r'[\\$, USD]', '', regex=True).astype(float)"
   ],
   "id": "4339cc15edb94be1",
   "outputs": [],
   "execution_count": 147
  },
  {
   "metadata": {
    "ExecuteTime": {
     "end_time": "2024-10-14T07:52:45.332264Z",
     "start_time": "2024-10-14T07:52:45.310280Z"
    }
   },
   "cell_type": "code",
   "source": [
    "#removing the string 'Days' from the 'Time' column\n",
    "df['Time'] = df['Time'].astype(str).str.strip().str.replace(r'(?i)\\s*Days?', '', regex=True).astype(int)"
   ],
   "id": "429cda15e97a6463",
   "outputs": [],
   "execution_count": 148
  },
  {
   "metadata": {
    "ExecuteTime": {
     "end_time": "2024-10-14T07:52:45.382551Z",
     "start_time": "2024-10-14T07:52:45.366936Z"
    }
   },
   "cell_type": "code",
   "source": [
    "# Remove the 'm' and any commas from the 'Max Altitude' column\n",
    "df['Max Altitude'] = df['Max Altitude'].str.replace(r'(?i)\\s*m', '', regex=True).str.replace(',', '')\n",
    "\n",
    "# Convert the column to an integer type\n",
    "df['Max Altitude'] = df['Max Altitude'].astype(int)"
   ],
   "id": "bf3ec44052888741",
   "outputs": [],
   "execution_count": 149
  },
  {
   "metadata": {
    "ExecuteTime": {
     "end_time": "2024-10-14T07:52:45.503588Z",
     "start_time": "2024-10-14T07:52:45.454773Z"
    }
   },
   "cell_type": "code",
   "source": "df.head()",
   "id": "5fa4b1d682a7e76",
   "outputs": [
    {
     "data": {
      "text/plain": [
       "                                  Trek    Cost  Time Trip Grade  Max Altitude  \\\n",
       "0               Everest Base Camp Trek  1420.0    16   Moderate          5545   \n",
       "1         Everest Base Camp Short Trek  1295.0    14   Moderate          5545   \n",
       "2  Everest Base Camp Heli Shuttle Trek  2000.0    12   Moderate          5545   \n",
       "3          Everest Base Camp Heli Trek  3300.0    11   Moderate          5545   \n",
       "4   Everest Base Camp Trek for Seniors  1800.0    20   Moderate          5545   \n",
       "\n",
       "       Accomodation          Best Travel Time Date of Travel         Sex  Age  \\\n",
       "0  Hotel/Guesthouse  March - May & Sept - Dec      9/13/2022  Non-Binary   31   \n",
       "1  Hotel/Guesthouse  March - May & Sept - Dec       9/4/2021      Female   31   \n",
       "2  Hotel/Guesthouse  March - May & Sept - Dec      1/25/2021      Female   34   \n",
       "3  Hotel/Guesthouse  March - May & Sept - Dec      1/28/2022  Non-Binary   28   \n",
       "4  Hotel/Guesthouse  March - May & Sept - Dec     10/21/2021  Non-Binary   28   \n",
       "\n",
       "   ... Regional code      Country  Fitness Level Weather Conditions  \\\n",
       "0  ...             0        total   Intermediate              Clear   \n",
       "1  ...            40  Afghanistan            NaN                NaN   \n",
       "2  ...            80      Albania       Advanced              Snowy   \n",
       "3  ...           120      Algeria   Intermediate              Clear   \n",
       "4  ...           200        Andra       Beginner             Cloudy   \n",
       "\n",
       "  Trekking Group Size Guide/No Guide  Equipment Used Purpose of Travel  \\\n",
       "0                10.0          Guide           Poles           Leisure   \n",
       "1                 NaN            NaN             NaN               NaN   \n",
       "2                12.0          Guide          Oxygen           Charity   \n",
       "3                 5.0          Guide           Poles           Leisure   \n",
       "4                 6.0       No Guide             NaN         Adventure   \n",
       "\n",
       "  Health Incidents Review/Satisfaction  \n",
       "0              NaN                 4.5  \n",
       "1              NaN                 NaN  \n",
       "2              NaN                 5.0  \n",
       "3              NaN                 4.0  \n",
       "4     Minor Injury                 3.5  \n",
       "\n",
       "[5 rows x 22 columns]"
      ],
      "text/html": [
       "<div>\n",
       "<style scoped>\n",
       "    .dataframe tbody tr th:only-of-type {\n",
       "        vertical-align: middle;\n",
       "    }\n",
       "\n",
       "    .dataframe tbody tr th {\n",
       "        vertical-align: top;\n",
       "    }\n",
       "\n",
       "    .dataframe thead th {\n",
       "        text-align: right;\n",
       "    }\n",
       "</style>\n",
       "<table border=\"1\" class=\"dataframe\">\n",
       "  <thead>\n",
       "    <tr style=\"text-align: right;\">\n",
       "      <th></th>\n",
       "      <th>Trek</th>\n",
       "      <th>Cost</th>\n",
       "      <th>Time</th>\n",
       "      <th>Trip Grade</th>\n",
       "      <th>Max Altitude</th>\n",
       "      <th>Accomodation</th>\n",
       "      <th>Best Travel Time</th>\n",
       "      <th>Date of Travel</th>\n",
       "      <th>Sex</th>\n",
       "      <th>Age</th>\n",
       "      <th>...</th>\n",
       "      <th>Regional code</th>\n",
       "      <th>Country</th>\n",
       "      <th>Fitness Level</th>\n",
       "      <th>Weather Conditions</th>\n",
       "      <th>Trekking Group Size</th>\n",
       "      <th>Guide/No Guide</th>\n",
       "      <th>Equipment Used</th>\n",
       "      <th>Purpose of Travel</th>\n",
       "      <th>Health Incidents</th>\n",
       "      <th>Review/Satisfaction</th>\n",
       "    </tr>\n",
       "  </thead>\n",
       "  <tbody>\n",
       "    <tr>\n",
       "      <th>0</th>\n",
       "      <td>Everest Base Camp Trek</td>\n",
       "      <td>1420.0</td>\n",
       "      <td>16</td>\n",
       "      <td>Moderate</td>\n",
       "      <td>5545</td>\n",
       "      <td>Hotel/Guesthouse</td>\n",
       "      <td>March - May &amp; Sept - Dec</td>\n",
       "      <td>9/13/2022</td>\n",
       "      <td>Non-Binary</td>\n",
       "      <td>31</td>\n",
       "      <td>...</td>\n",
       "      <td>0</td>\n",
       "      <td>total</td>\n",
       "      <td>Intermediate</td>\n",
       "      <td>Clear</td>\n",
       "      <td>10.0</td>\n",
       "      <td>Guide</td>\n",
       "      <td>Poles</td>\n",
       "      <td>Leisure</td>\n",
       "      <td>NaN</td>\n",
       "      <td>4.5</td>\n",
       "    </tr>\n",
       "    <tr>\n",
       "      <th>1</th>\n",
       "      <td>Everest Base Camp Short Trek</td>\n",
       "      <td>1295.0</td>\n",
       "      <td>14</td>\n",
       "      <td>Moderate</td>\n",
       "      <td>5545</td>\n",
       "      <td>Hotel/Guesthouse</td>\n",
       "      <td>March - May &amp; Sept - Dec</td>\n",
       "      <td>9/4/2021</td>\n",
       "      <td>Female</td>\n",
       "      <td>31</td>\n",
       "      <td>...</td>\n",
       "      <td>40</td>\n",
       "      <td>Afghanistan</td>\n",
       "      <td>NaN</td>\n",
       "      <td>NaN</td>\n",
       "      <td>NaN</td>\n",
       "      <td>NaN</td>\n",
       "      <td>NaN</td>\n",
       "      <td>NaN</td>\n",
       "      <td>NaN</td>\n",
       "      <td>NaN</td>\n",
       "    </tr>\n",
       "    <tr>\n",
       "      <th>2</th>\n",
       "      <td>Everest Base Camp Heli Shuttle Trek</td>\n",
       "      <td>2000.0</td>\n",
       "      <td>12</td>\n",
       "      <td>Moderate</td>\n",
       "      <td>5545</td>\n",
       "      <td>Hotel/Guesthouse</td>\n",
       "      <td>March - May &amp; Sept - Dec</td>\n",
       "      <td>1/25/2021</td>\n",
       "      <td>Female</td>\n",
       "      <td>34</td>\n",
       "      <td>...</td>\n",
       "      <td>80</td>\n",
       "      <td>Albania</td>\n",
       "      <td>Advanced</td>\n",
       "      <td>Snowy</td>\n",
       "      <td>12.0</td>\n",
       "      <td>Guide</td>\n",
       "      <td>Oxygen</td>\n",
       "      <td>Charity</td>\n",
       "      <td>NaN</td>\n",
       "      <td>5.0</td>\n",
       "    </tr>\n",
       "    <tr>\n",
       "      <th>3</th>\n",
       "      <td>Everest Base Camp Heli Trek</td>\n",
       "      <td>3300.0</td>\n",
       "      <td>11</td>\n",
       "      <td>Moderate</td>\n",
       "      <td>5545</td>\n",
       "      <td>Hotel/Guesthouse</td>\n",
       "      <td>March - May &amp; Sept - Dec</td>\n",
       "      <td>1/28/2022</td>\n",
       "      <td>Non-Binary</td>\n",
       "      <td>28</td>\n",
       "      <td>...</td>\n",
       "      <td>120</td>\n",
       "      <td>Algeria</td>\n",
       "      <td>Intermediate</td>\n",
       "      <td>Clear</td>\n",
       "      <td>5.0</td>\n",
       "      <td>Guide</td>\n",
       "      <td>Poles</td>\n",
       "      <td>Leisure</td>\n",
       "      <td>NaN</td>\n",
       "      <td>4.0</td>\n",
       "    </tr>\n",
       "    <tr>\n",
       "      <th>4</th>\n",
       "      <td>Everest Base Camp Trek for Seniors</td>\n",
       "      <td>1800.0</td>\n",
       "      <td>20</td>\n",
       "      <td>Moderate</td>\n",
       "      <td>5545</td>\n",
       "      <td>Hotel/Guesthouse</td>\n",
       "      <td>March - May &amp; Sept - Dec</td>\n",
       "      <td>10/21/2021</td>\n",
       "      <td>Non-Binary</td>\n",
       "      <td>28</td>\n",
       "      <td>...</td>\n",
       "      <td>200</td>\n",
       "      <td>Andra</td>\n",
       "      <td>Beginner</td>\n",
       "      <td>Cloudy</td>\n",
       "      <td>6.0</td>\n",
       "      <td>No Guide</td>\n",
       "      <td>NaN</td>\n",
       "      <td>Adventure</td>\n",
       "      <td>Minor Injury</td>\n",
       "      <td>3.5</td>\n",
       "    </tr>\n",
       "  </tbody>\n",
       "</table>\n",
       "<p>5 rows × 22 columns</p>\n",
       "</div>"
      ]
     },
     "execution_count": 150,
     "metadata": {},
     "output_type": "execute_result"
    }
   ],
   "execution_count": 150
  },
  {
   "metadata": {
    "ExecuteTime": {
     "end_time": "2024-10-14T07:52:45.610352Z",
     "start_time": "2024-10-14T07:52:45.586550Z"
    }
   },
   "cell_type": "code",
   "source": [
    "# Clean the 'trek' column\n",
    "df['Trek'] = df['Trek'].str.strip().str.replace(r'[^a-zA-Z\\s]', '', regex=True)\n",
    "\n",
    "# Display the cleaned DataFrame\n",
    "print(df['Trek'])"
   ],
   "id": "ab6083f2d7ddeeb9",
   "outputs": [
    {
     "name": "stdout",
     "output_type": "stream",
     "text": [
      "0                   Everest Base Camp Trek\n",
      "1             Everest Base Camp Short Trek\n",
      "2      Everest Base Camp Heli Shuttle Trek\n",
      "3              Everest Base Camp Heli Trek\n",
      "4       Everest Base Camp Trek for Seniors\n",
      "                      ...                 \n",
      "378               Ghorepani Poon Hill Trek\n",
      "379                     Upper Mustang Trek\n",
      "380                       Mardi Himal Trek\n",
      "381               Langtang Valley Trekking\n",
      "382                   Manaslu Circuit Trek\n",
      "Name: Trek, Length: 383, dtype: object\n"
     ]
    }
   ],
   "execution_count": 151
  },
  {
   "metadata": {
    "ExecuteTime": {
     "end_time": "2024-10-14T07:52:45.743765Z",
     "start_time": "2024-10-14T07:52:45.695589Z"
    }
   },
   "cell_type": "code",
   "source": [
    "# Convert date columns to datetime\n",
    "df['Date of Travel'] = pd.to_datetime(df['Date of Travel'], errors='coerce')"
   ],
   "id": "af126a3739769050",
   "outputs": [],
   "execution_count": 152
  },
  {
   "metadata": {
    "ExecuteTime": {
     "end_time": "2024-10-14T07:52:45.793278Z",
     "start_time": "2024-10-14T07:52:45.745362Z"
    }
   },
   "cell_type": "code",
   "source": [
    "import re\n",
    "def clean_best_travel_time(time: str) -> str:\n",
    "    # Shortening months for consistency\n",
    "    time = re.sub(r\"\\bSetpt\\b\", \"Sep\", time)\n",
    "    time = re.sub(r\"\\bSept\\b\", \"Sep\", time)\n",
    "    time = re.sub(r\"\\bJan\\b\", \"Jan\", time)\n",
    "    time = re.sub(r\"\\bMarch\\b\", \"Mar\", time)\n",
    "    time = re.sub(r\"\\bApril\\b\", \"Apr\", time)\n",
    "\n",
    "    # Remove punctuations and add spaces\n",
    "    time = re.sub(r\"\\.\", \"\", time)\n",
    "    time = re.sub(r\"\\s\", \"\", time)\n",
    "    time = re.sub(r\"-\", \" - \", time)\n",
    "    time = re.sub(r\"\\s*&\\s*\", \" & \", time)\n",
    "\n",
    "    return time\n",
    "\n",
    "df['Best Travel Time'] = df['Best Travel Time'].apply(clean_best_travel_time)\n",
    "\n",
    "df['Best Travel Time'].unique()"
   ],
   "id": "b9ed5f9131fcfaf3",
   "outputs": [
    {
     "data": {
      "text/plain": [
       "array(['Mar - May & Sep - Dec', 'Apr - May & Sep - Nov',\n",
       "       'Jan - May & Sep - Dec', 'Mar - May & Sep - Nov', 'Mar - Nov'],\n",
       "      dtype=object)"
      ]
     },
     "execution_count": 153,
     "metadata": {},
     "output_type": "execute_result"
    }
   ],
   "execution_count": 153
  },
  {
   "metadata": {
    "ExecuteTime": {
     "end_time": "2024-10-14T07:52:46.031451Z",
     "start_time": "2024-10-14T07:52:46.000550Z"
    }
   },
   "cell_type": "code",
   "source": [
    "# Function to map month ranges to seasons\n",
    "def get_season(time_range):\n",
    "    if any(month in time_range for month in ['Mar', 'Apr', 'May']):\n",
    "        return 'Spring'\n",
    "    if any(month in time_range for month in ['Jun', 'Jul', 'Aug']):\n",
    "        return 'Summer'\n",
    "    if any(month in time_range for month in ['Sep', 'Oct', 'Nov']):\n",
    "        return 'Autumn'\n",
    "    if any(month in time_range for month in ['Dec', 'Jan', 'Feb']):\n",
    "        return 'Winter'\n",
    "    return None\n",
    "\n",
    "# Function to map \"Best Travel Time\" to a single season string\n",
    "def map_travel_time(time):\n",
    "    if pd.isnull(time):\n",
    "        return None\n",
    "\n",
    "    # Split if there are two ranges with '&'\n",
    "    if '&' in time:\n",
    "        seasons = time.split(' & ')\n",
    "        season1 = get_season(seasons[0].strip())\n",
    "        season2 = get_season(seasons[1].strip())\n",
    "        return f\"{season1}-{season2}\" if season1 and season2 else season1 or season2\n",
    "    else:\n",
    "        # If only one season range, return the season\n",
    "        return get_season(time.strip())\n",
    "\n",
    "# Apply the function to map the 'Best Travel Time' column\n",
    "df['Best Travel Time'] = df['Best Travel Time'].apply(map_travel_time)\n",
    "\n",
    "# Re-arranging columns to place 'Best Travel Time' before 'Date of Travel'\n",
    "cols = df.columns.tolist()\n",
    "# Remove 'Best Travel Time' from the list if it already exists\n",
    "if 'Best Travel Time' in cols:\n",
    "    cols.remove('Best Travel Time')\n",
    "\n",
    "# Find the index of 'Date of Travel'\n",
    "date_of_travel_index = cols.index('Date of Travel')\n",
    "# Insert the 'Best Travel Time' column before 'Date of Travel'\n",
    "new_order = cols[:date_of_travel_index] + ['Best Travel Time'] + cols[date_of_travel_index:]\n",
    "df = df[new_order]"
   ],
   "id": "e8863a6bad0b602c",
   "outputs": [],
   "execution_count": 154
  },
  {
   "metadata": {
    "ExecuteTime": {
     "end_time": "2024-10-14T07:52:46.120127Z",
     "start_time": "2024-10-14T07:52:46.074616Z"
    }
   },
   "cell_type": "code",
   "source": "df.head()",
   "id": "cb1c344c38319604",
   "outputs": [
    {
     "data": {
      "text/plain": [
       "                                  Trek    Cost  Time Trip Grade  Max Altitude  \\\n",
       "0               Everest Base Camp Trek  1420.0    16   Moderate          5545   \n",
       "1         Everest Base Camp Short Trek  1295.0    14   Moderate          5545   \n",
       "2  Everest Base Camp Heli Shuttle Trek  2000.0    12   Moderate          5545   \n",
       "3          Everest Base Camp Heli Trek  3300.0    11   Moderate          5545   \n",
       "4   Everest Base Camp Trek for Seniors  1800.0    20   Moderate          5545   \n",
       "\n",
       "       Accomodation Best Travel Time Date of Travel         Sex  Age  ...  \\\n",
       "0  Hotel/Guesthouse    Spring-Autumn     2022-09-13  Non-Binary   31  ...   \n",
       "1  Hotel/Guesthouse    Spring-Autumn     2021-09-04      Female   31  ...   \n",
       "2  Hotel/Guesthouse    Spring-Autumn     2021-01-25      Female   34  ...   \n",
       "3  Hotel/Guesthouse    Spring-Autumn     2022-01-28  Non-Binary   28  ...   \n",
       "4  Hotel/Guesthouse    Spring-Autumn     2021-10-21  Non-Binary   28  ...   \n",
       "\n",
       "  Regional code      Country  Fitness Level Weather Conditions  \\\n",
       "0             0        total   Intermediate              Clear   \n",
       "1            40  Afghanistan            NaN                NaN   \n",
       "2            80      Albania       Advanced              Snowy   \n",
       "3           120      Algeria   Intermediate              Clear   \n",
       "4           200        Andra       Beginner             Cloudy   \n",
       "\n",
       "  Trekking Group Size Guide/No Guide  Equipment Used Purpose of Travel  \\\n",
       "0                10.0          Guide           Poles           Leisure   \n",
       "1                 NaN            NaN             NaN               NaN   \n",
       "2                12.0          Guide          Oxygen           Charity   \n",
       "3                 5.0          Guide           Poles           Leisure   \n",
       "4                 6.0       No Guide             NaN         Adventure   \n",
       "\n",
       "  Health Incidents Review/Satisfaction  \n",
       "0              NaN                 4.5  \n",
       "1              NaN                 NaN  \n",
       "2              NaN                 5.0  \n",
       "3              NaN                 4.0  \n",
       "4     Minor Injury                 3.5  \n",
       "\n",
       "[5 rows x 22 columns]"
      ],
      "text/html": [
       "<div>\n",
       "<style scoped>\n",
       "    .dataframe tbody tr th:only-of-type {\n",
       "        vertical-align: middle;\n",
       "    }\n",
       "\n",
       "    .dataframe tbody tr th {\n",
       "        vertical-align: top;\n",
       "    }\n",
       "\n",
       "    .dataframe thead th {\n",
       "        text-align: right;\n",
       "    }\n",
       "</style>\n",
       "<table border=\"1\" class=\"dataframe\">\n",
       "  <thead>\n",
       "    <tr style=\"text-align: right;\">\n",
       "      <th></th>\n",
       "      <th>Trek</th>\n",
       "      <th>Cost</th>\n",
       "      <th>Time</th>\n",
       "      <th>Trip Grade</th>\n",
       "      <th>Max Altitude</th>\n",
       "      <th>Accomodation</th>\n",
       "      <th>Best Travel Time</th>\n",
       "      <th>Date of Travel</th>\n",
       "      <th>Sex</th>\n",
       "      <th>Age</th>\n",
       "      <th>...</th>\n",
       "      <th>Regional code</th>\n",
       "      <th>Country</th>\n",
       "      <th>Fitness Level</th>\n",
       "      <th>Weather Conditions</th>\n",
       "      <th>Trekking Group Size</th>\n",
       "      <th>Guide/No Guide</th>\n",
       "      <th>Equipment Used</th>\n",
       "      <th>Purpose of Travel</th>\n",
       "      <th>Health Incidents</th>\n",
       "      <th>Review/Satisfaction</th>\n",
       "    </tr>\n",
       "  </thead>\n",
       "  <tbody>\n",
       "    <tr>\n",
       "      <th>0</th>\n",
       "      <td>Everest Base Camp Trek</td>\n",
       "      <td>1420.0</td>\n",
       "      <td>16</td>\n",
       "      <td>Moderate</td>\n",
       "      <td>5545</td>\n",
       "      <td>Hotel/Guesthouse</td>\n",
       "      <td>Spring-Autumn</td>\n",
       "      <td>2022-09-13</td>\n",
       "      <td>Non-Binary</td>\n",
       "      <td>31</td>\n",
       "      <td>...</td>\n",
       "      <td>0</td>\n",
       "      <td>total</td>\n",
       "      <td>Intermediate</td>\n",
       "      <td>Clear</td>\n",
       "      <td>10.0</td>\n",
       "      <td>Guide</td>\n",
       "      <td>Poles</td>\n",
       "      <td>Leisure</td>\n",
       "      <td>NaN</td>\n",
       "      <td>4.5</td>\n",
       "    </tr>\n",
       "    <tr>\n",
       "      <th>1</th>\n",
       "      <td>Everest Base Camp Short Trek</td>\n",
       "      <td>1295.0</td>\n",
       "      <td>14</td>\n",
       "      <td>Moderate</td>\n",
       "      <td>5545</td>\n",
       "      <td>Hotel/Guesthouse</td>\n",
       "      <td>Spring-Autumn</td>\n",
       "      <td>2021-09-04</td>\n",
       "      <td>Female</td>\n",
       "      <td>31</td>\n",
       "      <td>...</td>\n",
       "      <td>40</td>\n",
       "      <td>Afghanistan</td>\n",
       "      <td>NaN</td>\n",
       "      <td>NaN</td>\n",
       "      <td>NaN</td>\n",
       "      <td>NaN</td>\n",
       "      <td>NaN</td>\n",
       "      <td>NaN</td>\n",
       "      <td>NaN</td>\n",
       "      <td>NaN</td>\n",
       "    </tr>\n",
       "    <tr>\n",
       "      <th>2</th>\n",
       "      <td>Everest Base Camp Heli Shuttle Trek</td>\n",
       "      <td>2000.0</td>\n",
       "      <td>12</td>\n",
       "      <td>Moderate</td>\n",
       "      <td>5545</td>\n",
       "      <td>Hotel/Guesthouse</td>\n",
       "      <td>Spring-Autumn</td>\n",
       "      <td>2021-01-25</td>\n",
       "      <td>Female</td>\n",
       "      <td>34</td>\n",
       "      <td>...</td>\n",
       "      <td>80</td>\n",
       "      <td>Albania</td>\n",
       "      <td>Advanced</td>\n",
       "      <td>Snowy</td>\n",
       "      <td>12.0</td>\n",
       "      <td>Guide</td>\n",
       "      <td>Oxygen</td>\n",
       "      <td>Charity</td>\n",
       "      <td>NaN</td>\n",
       "      <td>5.0</td>\n",
       "    </tr>\n",
       "    <tr>\n",
       "      <th>3</th>\n",
       "      <td>Everest Base Camp Heli Trek</td>\n",
       "      <td>3300.0</td>\n",
       "      <td>11</td>\n",
       "      <td>Moderate</td>\n",
       "      <td>5545</td>\n",
       "      <td>Hotel/Guesthouse</td>\n",
       "      <td>Spring-Autumn</td>\n",
       "      <td>2022-01-28</td>\n",
       "      <td>Non-Binary</td>\n",
       "      <td>28</td>\n",
       "      <td>...</td>\n",
       "      <td>120</td>\n",
       "      <td>Algeria</td>\n",
       "      <td>Intermediate</td>\n",
       "      <td>Clear</td>\n",
       "      <td>5.0</td>\n",
       "      <td>Guide</td>\n",
       "      <td>Poles</td>\n",
       "      <td>Leisure</td>\n",
       "      <td>NaN</td>\n",
       "      <td>4.0</td>\n",
       "    </tr>\n",
       "    <tr>\n",
       "      <th>4</th>\n",
       "      <td>Everest Base Camp Trek for Seniors</td>\n",
       "      <td>1800.0</td>\n",
       "      <td>20</td>\n",
       "      <td>Moderate</td>\n",
       "      <td>5545</td>\n",
       "      <td>Hotel/Guesthouse</td>\n",
       "      <td>Spring-Autumn</td>\n",
       "      <td>2021-10-21</td>\n",
       "      <td>Non-Binary</td>\n",
       "      <td>28</td>\n",
       "      <td>...</td>\n",
       "      <td>200</td>\n",
       "      <td>Andra</td>\n",
       "      <td>Beginner</td>\n",
       "      <td>Cloudy</td>\n",
       "      <td>6.0</td>\n",
       "      <td>No Guide</td>\n",
       "      <td>NaN</td>\n",
       "      <td>Adventure</td>\n",
       "      <td>Minor Injury</td>\n",
       "      <td>3.5</td>\n",
       "    </tr>\n",
       "  </tbody>\n",
       "</table>\n",
       "<p>5 rows × 22 columns</p>\n",
       "</div>"
      ]
     },
     "execution_count": 155,
     "metadata": {},
     "output_type": "execute_result"
    }
   ],
   "execution_count": 155
  },
  {
   "metadata": {
    "ExecuteTime": {
     "end_time": "2024-10-14T07:52:46.211437Z",
     "start_time": "2024-10-14T07:52:46.195458Z"
    }
   },
   "cell_type": "code",
   "source": [
    "#whitespaces haru hatayako\n",
    "df['Sex'] = df['Sex'].str.strip().str.lower()"
   ],
   "id": "8de3423cf47677cb",
   "outputs": [],
   "execution_count": 156
  },
  {
   "metadata": {
    "ExecuteTime": {
     "end_time": "2024-10-14T07:52:46.314100Z",
     "start_time": "2024-10-14T07:52:46.298274Z"
    }
   },
   "cell_type": "code",
   "source": [
    "# Map 'male' and 'female' to their respective categories, and all other values to 'other'\n",
    "df['Sex'] = df['Sex'].map({'male': 'Male', 'female': 'Female'}).fillna('Other')"
   ],
   "id": "5be8d6609968e65e",
   "outputs": [],
   "execution_count": 157
  },
  {
   "metadata": {
    "ExecuteTime": {
     "end_time": "2024-10-14T07:52:46.374687Z",
     "start_time": "2024-10-14T07:52:46.356970Z"
    }
   },
   "cell_type": "code",
   "source": "print(df['Sex'].value_counts())",
   "id": "1f520cb3fc3e8bc9",
   "outputs": [
    {
     "name": "stdout",
     "output_type": "stream",
     "text": [
      "Sex\n",
      "Other     181\n",
      "Female    103\n",
      "Male       99\n",
      "Name: count, dtype: int64\n"
     ]
    }
   ],
   "execution_count": 158
  },
  {
   "metadata": {
    "ExecuteTime": {
     "end_time": "2024-10-14T07:52:46.688424Z",
     "start_time": "2024-10-14T07:52:46.660016Z"
    }
   },
   "cell_type": "code",
   "source": [
    "#median rakhdeako nan value ma reviews ko lagi\n",
    "overall_median = df['Review/Satisfaction'].median()\n",
    "# Replace the remaining NaN values with the overall median\n",
    "df['Review/Satisfaction'].fillna(overall_median, inplace=True)\n",
    "# Check to ensure no NaN values remain in the 'Review/Satisfaction' column\n",
    "df['Review/Satisfaction'].isna().sum(), df['Review/Satisfaction'].head()"
   ],
   "id": "85d71bffb7d238d4",
   "outputs": [
    {
     "name": "stderr",
     "output_type": "stream",
     "text": [
      "C:\\Users\\supre\\AppData\\Local\\Temp\\ipykernel_6572\\3428833629.py:4: FutureWarning:\n",
      "\n",
      "A value is trying to be set on a copy of a DataFrame or Series through chained assignment using an inplace method.\n",
      "The behavior will change in pandas 3.0. This inplace method will never work because the intermediate object on which we are setting values always behaves as a copy.\n",
      "\n",
      "For example, when doing 'df[col].method(value, inplace=True)', try using 'df.method({col: value}, inplace=True)' or df[col] = df[col].method(value) instead, to perform the operation inplace on the original object.\n",
      "\n",
      "\n",
      "\n"
     ]
    },
    {
     "data": {
      "text/plain": [
       "(0,\n",
       " 0    4.5\n",
       " 1    4.0\n",
       " 2    5.0\n",
       " 3    4.0\n",
       " 4    3.5\n",
       " Name: Review/Satisfaction, dtype: float64)"
      ]
     },
     "execution_count": 159,
     "metadata": {},
     "output_type": "execute_result"
    }
   ],
   "execution_count": 159
  },
  {
   "metadata": {
    "ExecuteTime": {
     "end_time": "2024-10-14T07:52:46.728897Z",
     "start_time": "2024-10-14T07:52:46.699860Z"
    }
   },
   "cell_type": "code",
   "source": [
    "# Define the mapping dictionary for trip grades\n",
    "trip_grade_mapping = {\n",
    "    'Easy': 0,\n",
    "    'Light': 1,\n",
    "    'Easy To Moderate': 1,\n",
    "    'Light+Moderate': 2,\n",
    "    'Easy-Moderate': 2,\n",
    "    'Moderate': 3,\n",
    "    'Moderate-Hard': 4,\n",
    "    'Moderate+Demanding': 4,\n",
    "    'Demanding': 4,\n",
    "    'Strenuous': 5,\n",
    "    'Demanding+Challenging': 5\n",
    "}\n",
    "# Apply the mapping to the 'Trip Grade' column\n",
    "df['Trip Grade Numeric'] = df['Trip Grade'].map(trip_grade_mapping)\n",
    "\n",
    "# Check the result\n",
    "print(df[['Trip Grade', 'Trip Grade Numeric']].head())"
   ],
   "id": "ae1626bb473290dc",
   "outputs": [
    {
     "name": "stdout",
     "output_type": "stream",
     "text": [
      "  Trip Grade  Trip Grade Numeric\n",
      "0   Moderate                   3\n",
      "1   Moderate                   3\n",
      "2   Moderate                   3\n",
      "3   Moderate                   3\n",
      "4   Moderate                   3\n"
     ]
    }
   ],
   "execution_count": 160
  },
  {
   "metadata": {
    "ExecuteTime": {
     "end_time": "2024-10-14T07:52:46.797834Z",
     "start_time": "2024-10-14T07:52:46.779393Z"
    }
   },
   "cell_type": "code",
   "source": [
    "# Fill NaN values with the mode of the 'Guide' column\n",
    "mode_value = df['Guide/No Guide'].mode()[0]\n",
    "df['Guide/No Guide'] = df['Guide/No Guide'].fillna(mode_value)"
   ],
   "id": "549aa4ea7ccd4b3",
   "outputs": [],
   "execution_count": 161
  },
  {
   "metadata": {
    "ExecuteTime": {
     "end_time": "2024-10-14T07:52:46.834043Z",
     "start_time": "2024-10-14T07:52:46.821808Z"
    }
   },
   "cell_type": "code",
   "source": [
    "# Map 'guide' to 1 and 'no guide' to 0\n",
    "df['Guide/No Guide'] = df['Guide/No Guide'].str.strip().str.lower().map({'guide': 1, 'no guide': 0})"
   ],
   "id": "9b730c390d10fafe",
   "outputs": [],
   "execution_count": 162
  },
  {
   "metadata": {
    "ExecuteTime": {
     "end_time": "2024-10-14T07:52:46.913147Z",
     "start_time": "2024-10-14T07:52:46.896601Z"
    }
   },
   "cell_type": "code",
   "source": "print(df['Guide/No Guide'].value_counts()) #checking the conversion",
   "id": "412448ab0334e34e",
   "outputs": [
    {
     "name": "stdout",
     "output_type": "stream",
     "text": [
      "Guide/No Guide\n",
      "1    245\n",
      "0    138\n",
      "Name: count, dtype: int64\n"
     ]
    }
   ],
   "execution_count": 163
  },
  {
   "metadata": {
    "ExecuteTime": {
     "end_time": "2024-10-14T07:52:47.218104Z",
     "start_time": "2024-10-14T07:52:46.936456Z"
    }
   },
   "cell_type": "code",
   "source": [
    "# Check for outliers in the 'Cost' column\n",
    "fig = px.box(df,\n",
    "             y='Cost',\n",
    "             title='Box plot for Trek Costs',\n",
    "             hover_data=['Trek', 'Time']\n",
    "            )\n",
    "fig.show()"
   ],
   "id": "ffae41111dd919d8",
   "outputs": [
    {
     "data": {
      "application/vnd.plotly.v1+json": {
       "data": [
        {
         "alignmentgroup": "True",
         "customdata": [
          [
           "Everest Base Camp Trek",
           16
          ],
          [
           "Everest Base Camp Short Trek",
           14
          ],
          [
           "Everest Base Camp Heli Shuttle Trek",
           12
          ],
          [
           "Everest Base Camp Heli Trek",
           11
          ],
          [
           "Everest Base Camp Trek for Seniors",
           20
          ],
          [
           "Everest Chola Pass Trek",
           19
          ],
          [
           "Gokyo Lake Renjo La Pass Trek",
           16
          ],
          [
           "Everest High Passes Trek",
           22
          ],
          [
           "Short Everest Trek",
           7
          ],
          [
           "Everest Panorama Trek",
           10
          ],
          [
           "Everest View Trek",
           9
          ],
          [
           "Luxury Everest Base Camp Heli Trek",
           11
          ],
          [
           "Everest Base Camp Trek with Chola and Renjo La Pass",
           21
          ],
          [
           "Annapurna Base Camp Trek",
           14
          ],
          [
           "Annapurna Base Camp Short Trek",
           11
          ],
          [
           "Instant Annapurna Base Camp Trek",
           9
          ],
          [
           "Annapurna Base Camp Heli Trek",
           9
          ],
          [
           "Mardi Himal Trek",
           9
          ],
          [
           "Mardi Himal Trekking",
           8
          ],
          [
           "Classic Annapurna Circuit Trek",
           18
          ],
          [
           "Annapurna Circuit Trek",
           14
          ],
          [
           "Annapurna Circuit Short Trek",
           12
          ],
          [
           "Annapurna Luxury Trek",
           9
          ],
          [
           "Annapurna Panorama Trek",
           9
          ],
          [
           "Annapurna Tilicho Lake Trek",
           17
          ],
          [
           "Short Annapurna Trek",
           5
          ],
          [
           "Manaslu Circuit Trek",
           15
          ],
          [
           "Manaslu Circuit Trekking",
           14
          ],
          [
           "Tsum Valley with Manaslu Trek",
           20
          ],
          [
           "Upper Mustang Trek",
           17
          ],
          [
           "Upper Mustang Trek with Yara",
           18
          ],
          [
           "Upper Mustang Tiji Festival Trek",
           18
          ],
          [
           "Langtang Valley Trek",
           10
          ],
          [
           "Langtang Gosaikunda Trek",
           16
          ],
          [
           "Tamang Heritage Trek",
           14
          ],
          [
           "Tamang Heritage Trail",
           8
          ],
          [
           "Helambu Trek",
           9
          ],
          [
           "Annapurna Base Camp Trek",
           11
          ],
          [
           "Everest Base Camp Trek for Youths",
           14
          ],
          [
           "Everest Base Camp Short Trek",
           14
          ],
          [
           "Everest Base Camp Trek",
           16
          ],
          [
           "Annapurna Circuit Trek",
           17
          ],
          [
           "Everest Base Camp Luxury Lodge Trek",
           15
          ],
          [
           "Everest Base Camp Trek via Gokyo Lakes and Cho La Pass",
           18
          ],
          [
           "Upper Mustang Trek",
           17
          ],
          [
           "Everest Advanced Base Camp Trek from Tibet",
           18
          ],
          [
           "Gokyo Lakes and Gokyo Ri Trek",
           14
          ],
          [
           "Mardi Himal Trek",
           10
          ],
          [
           "Manaslu Circuit Trek",
           18
          ],
          [
           "Langtang Valley Trek",
           11
          ],
          [
           "Annapurna Sanctuary Trek",
           14
          ],
          [
           "Rara Lake Trek",
           15
          ],
          [
           "Everest High Passes Trek",
           20
          ],
          [
           "Kanchenjunga Circuit Trek",
           25
          ],
          [
           "Everest View Trek",
           12
          ],
          [
           "Tsum Valley Trek",
           19
          ],
          [
           "The Royal Trek",
           9
          ],
          [
           "Makalu Base Camp Trek",
           22
          ],
          [
           "Langtang Gosainkunda and Helambu Trek",
           17
          ],
          [
           "Nar Phu Valley Trek",
           19
          ],
          [
           "Annapurna Circle Trek",
           14
          ],
          [
           "Everest Kangshung Face Trek",
           21
          ],
          [
           "Tsum Valley and Manaslu Trek",
           27
          ],
          [
           "Khopra Ridge Community Trek",
           13
          ],
          [
           "Nepal Experience Tour",
           12
          ],
          [
           "Annapurna Circuit Trek with Tilicho Lake and Poon Hill",
           20
          ],
          [
           "Annapurna With Tilicho Lake Trek",
           17
          ],
          [
           "Langtang Valley Trek with Ganja la Pass",
           14
          ],
          [
           "Tamang Heritage Trek",
           14
          ],
          [
           "Manaslu and Annapurna Trek with Tilicho Lake",
           25
          ],
          [
           "Nepal Trekking and Everest Himalaya Heli Tour",
           7
          ],
          [
           "Nepal Hiking and Culture Tour",
           8
          ],
          [
           "Annapurna Sunrise and Everest View Trek",
           17
          ],
          [
           "Tenzing Hillary Everest Marathon",
           20
          ],
          [
           "Everest Base Camp Trek",
           16
          ],
          [
           "Everest Kalapathar Trekking",
           15
          ],
          [
           "Everest Panorama Trek",
           10
          ],
          [
           "Everest Base Camp Trek via Gokyo Lake",
           19
          ],
          [
           "Gokyo Lake Trek",
           13
          ],
          [
           "Everest Base Camp Heli Trek",
           9
          ],
          [
           "Annapurna Circuit Trek",
           19
          ],
          [
           "Annapurna Base Camp Trek",
           16
          ],
          [
           "Ghorepani Poon Hill Trek",
           10
          ],
          [
           "Upper Mustang Trek",
           17
          ],
          [
           "Mardi Himal Trek",
           9
          ],
          [
           "Langtang Valley Trekking",
           11
          ],
          [
           "Manaslu Circuit Trek",
           17
          ],
          [
           "Annapurna Base Camp Trek",
           14
          ],
          [
           "Annapurna Base Camp Short Trek",
           11
          ],
          [
           "Instant Annapurna Base Camp Trek",
           9
          ],
          [
           "Annapurna Base Camp Heli Trek",
           9
          ],
          [
           "Mardi Himal Trek",
           9
          ],
          [
           "Mardi Himal Trekking",
           8
          ],
          [
           "Classic Annapurna Circuit Trek",
           18
          ],
          [
           "Annapurna Circuit Trek",
           14
          ],
          [
           "Annapurna Circuit Short Trek",
           12
          ],
          [
           "Annapurna Luxury Trek",
           9
          ],
          [
           "Annapurna Panorama Trek",
           9
          ],
          [
           "Annapurna Tilicho Lake Trek",
           17
          ],
          [
           "Short Annapurna Trek",
           5
          ],
          [
           "Manaslu Circuit Trek",
           15
          ],
          [
           "Manaslu Circuit Trekking",
           14
          ],
          [
           "Tsum Valley with Manaslu Trek",
           20
          ],
          [
           "Upper Mustang Trek",
           17
          ],
          [
           "Upper Mustang Trek with Yara",
           18
          ],
          [
           "Upper Mustang Tiji Festival Trek",
           18
          ],
          [
           "Langtang Valley Trek",
           10
          ],
          [
           "Langtang Gosaikunda Trek",
           16
          ],
          [
           "Tamang Heritage Trek",
           14
          ],
          [
           "Tamang Heritage Trail",
           8
          ],
          [
           "Helambu Trek",
           9
          ],
          [
           "Annapurna Base Camp Trek",
           11
          ],
          [
           "Everest Base Camp Trek for Youths",
           14
          ],
          [
           "Everest Base Camp Short Trek",
           14
          ],
          [
           "Everest Base Camp Trek",
           16
          ],
          [
           "Annapurna Circuit Trek",
           17
          ],
          [
           "Everest Base Camp Luxury Lodge Trek",
           15
          ],
          [
           "Everest Base Camp Trek via Gokyo Lakes and Cho La Pass",
           18
          ],
          [
           "Upper Mustang Trek",
           17
          ],
          [
           "Everest Advanced Base Camp Trek from Tibet",
           18
          ],
          [
           "Gokyo Lakes and Gokyo Ri Trek",
           14
          ],
          [
           "Mardi Himal Trek",
           10
          ],
          [
           "Manaslu Circuit Trek",
           18
          ],
          [
           "Langtang Valley Trek",
           11
          ],
          [
           "Annapurna Sanctuary Trek",
           14
          ],
          [
           "Rara Lake Trek",
           15
          ],
          [
           "Everest High Passes Trek",
           20
          ],
          [
           "Kanchenjunga Circuit Trek",
           25
          ],
          [
           "Everest View Trek",
           12
          ],
          [
           "Tsum Valley Trek",
           19
          ],
          [
           "The Royal Trek",
           9
          ],
          [
           "Makalu Base Camp Trek",
           22
          ],
          [
           "Langtang Gosainkunda and Helambu Trek",
           17
          ],
          [
           "Nar Phu Valley Trek",
           19
          ],
          [
           "Annapurna Circle Trek",
           14
          ],
          [
           "Everest Kangshung Face Trek",
           21
          ],
          [
           "Tsum Valley and Manaslu Trek",
           27
          ],
          [
           "Khopra Ridge Community Trek",
           13
          ],
          [
           "Nepal Experience Tour",
           12
          ],
          [
           "Annapurna Circuit Trek with Tilicho Lake and Poon Hill",
           20
          ],
          [
           "Annapurna With Tilicho Lake Trek",
           17
          ],
          [
           "Langtang Valley Trek with Ganja la Pass",
           14
          ],
          [
           "Tamang Heritage Trek",
           14
          ],
          [
           "Manaslu and Annapurna Trek with Tilicho Lake",
           25
          ],
          [
           "Nepal Trekking and Everest Himalaya Heli Tour",
           7
          ],
          [
           "Nepal Hiking and Culture Tour",
           8
          ],
          [
           "Annapurna Sunrise and Everest View Trek",
           17
          ],
          [
           "Tenzing Hillary Everest Marathon",
           20
          ],
          [
           "Everest Base Camp Trek",
           16
          ],
          [
           "Everest Kalapathar Trekking",
           15
          ],
          [
           "Everest Panorama Trek",
           10
          ],
          [
           "Everest Base Camp Trek via Gokyo Lake",
           19
          ],
          [
           "Gokyo Lake Trek",
           13
          ],
          [
           "Everest Base Camp Heli Trek",
           9
          ],
          [
           "Annapurna Circuit Trek",
           19
          ],
          [
           "Annapurna Base Camp Trek",
           16
          ],
          [
           "Ghorepani Poon Hill Trek",
           10
          ],
          [
           "Upper Mustang Trek",
           17
          ],
          [
           "Mardi Himal Trek",
           9
          ],
          [
           "Langtang Valley Trekking",
           11
          ],
          [
           "Manaslu Circuit Trek",
           17
          ],
          [
           "Annapurna Base Camp Trek",
           14
          ],
          [
           "Annapurna Base Camp Short Trek",
           11
          ],
          [
           "Instant Annapurna Base Camp Trek",
           9
          ],
          [
           "Annapurna Base Camp Heli Trek",
           9
          ],
          [
           "Mardi Himal Trek",
           9
          ],
          [
           "Mardi Himal Trekking",
           8
          ],
          [
           "Classic Annapurna Circuit Trek",
           18
          ],
          [
           "Annapurna Circuit Trek",
           14
          ],
          [
           "Annapurna Circuit Short Trek",
           12
          ],
          [
           "Annapurna Luxury Trek",
           9
          ],
          [
           "Annapurna Panorama Trek",
           9
          ],
          [
           "Annapurna Tilicho Lake Trek",
           17
          ],
          [
           "Short Annapurna Trek",
           5
          ],
          [
           "Manaslu Circuit Trek",
           15
          ],
          [
           "Manaslu Circuit Trekking",
           14
          ],
          [
           "Tsum Valley with Manaslu Trek",
           20
          ],
          [
           "Upper Mustang Trek",
           17
          ],
          [
           "Upper Mustang Trek with Yara",
           18
          ],
          [
           "Upper Mustang Tiji Festival Trek",
           18
          ],
          [
           "Langtang Valley Trek",
           10
          ],
          [
           "Langtang Gosaikunda Trek",
           16
          ],
          [
           "Tamang Heritage Trek",
           14
          ],
          [
           "Tamang Heritage Trail",
           8
          ],
          [
           "Helambu Trek",
           9
          ],
          [
           "Annapurna Base Camp Trek",
           11
          ],
          [
           "Everest Base Camp Trek for Youths",
           14
          ],
          [
           "Everest Base Camp Short Trek",
           14
          ],
          [
           "Everest Base Camp Trek",
           16
          ],
          [
           "Annapurna Circuit Trek",
           17
          ],
          [
           "Everest Base Camp Luxury Lodge Trek",
           15
          ],
          [
           "Everest Base Camp Trek via Gokyo Lakes and Cho La Pass",
           18
          ],
          [
           "Upper Mustang Trek",
           17
          ],
          [
           "Everest Advanced Base Camp Trek from Tibet",
           18
          ],
          [
           "Gokyo Lakes and Gokyo Ri Trek",
           14
          ],
          [
           "Mardi Himal Trek",
           10
          ],
          [
           "Manaslu Circuit Trek",
           18
          ],
          [
           "Langtang Valley Trek",
           11
          ],
          [
           "Annapurna Sanctuary Trek",
           14
          ],
          [
           "Rara Lake Trek",
           15
          ],
          [
           "Everest High Passes Trek",
           20
          ],
          [
           "Kanchenjunga Circuit Trek",
           25
          ],
          [
           "Everest View Trek",
           12
          ],
          [
           "Tsum Valley Trek",
           19
          ],
          [
           "The Royal Trek",
           9
          ],
          [
           "Makalu Base Camp Trek",
           22
          ],
          [
           "Langtang Gosainkunda and Helambu Trek",
           17
          ],
          [
           "Nar Phu Valley Trek",
           19
          ],
          [
           "Annapurna Circle Trek",
           14
          ],
          [
           "Everest Kangshung Face Trek",
           21
          ],
          [
           "Tsum Valley and Manaslu Trek",
           27
          ],
          [
           "Khopra Ridge Community Trek",
           13
          ],
          [
           "Nepal Experience Tour",
           12
          ],
          [
           "Annapurna Circuit Trek with Tilicho Lake and Poon Hill",
           20
          ],
          [
           "Annapurna With Tilicho Lake Trek",
           17
          ],
          [
           "Langtang Valley Trek with Ganja la Pass",
           14
          ],
          [
           "Tamang Heritage Trek",
           14
          ],
          [
           "Manaslu and Annapurna Trek with Tilicho Lake",
           25
          ],
          [
           "Nepal Trekking and Everest Himalaya Heli Tour",
           7
          ],
          [
           "Nepal Hiking and Culture Tour",
           8
          ],
          [
           "Annapurna Sunrise and Everest View Trek",
           17
          ],
          [
           "Tenzing Hillary Everest Marathon",
           20
          ],
          [
           "Everest Base Camp Trek",
           16
          ],
          [
           "Everest Kalapathar Trekking",
           15
          ],
          [
           "Everest Panorama Trek",
           10
          ],
          [
           "Everest Base Camp Trek via Gokyo Lake",
           19
          ],
          [
           "Gokyo Lake Trek",
           13
          ],
          [
           "Everest Base Camp Heli Trek",
           9
          ],
          [
           "Annapurna Circuit Trek",
           19
          ],
          [
           "Annapurna Base Camp Trek",
           16
          ],
          [
           "Ghorepani Poon Hill Trek",
           10
          ],
          [
           "Upper Mustang Trek",
           17
          ],
          [
           "Mardi Himal Trek",
           9
          ],
          [
           "Langtang Valley Trekking",
           11
          ],
          [
           "Manaslu Circuit Trek",
           17
          ],
          [
           "Annapurna Base Camp Trek",
           14
          ],
          [
           "Annapurna Base Camp Short Trek",
           11
          ],
          [
           "Instant Annapurna Base Camp Trek",
           9
          ],
          [
           "Annapurna Base Camp Heli Trek",
           9
          ],
          [
           "Mardi Himal Trek",
           9
          ],
          [
           "Mardi Himal Trekking",
           8
          ],
          [
           "Classic Annapurna Circuit Trek",
           18
          ],
          [
           "Annapurna Circuit Trek",
           14
          ],
          [
           "Annapurna Circuit Short Trek",
           12
          ],
          [
           "Annapurna Luxury Trek",
           9
          ],
          [
           "Annapurna Panorama Trek",
           9
          ],
          [
           "Annapurna Tilicho Lake Trek",
           17
          ],
          [
           "Short Annapurna Trek",
           5
          ],
          [
           "Manaslu Circuit Trek",
           15
          ],
          [
           "Manaslu Circuit Trekking",
           14
          ],
          [
           "Tsum Valley with Manaslu Trek",
           20
          ],
          [
           "Upper Mustang Trek",
           17
          ],
          [
           "Upper Mustang Trek with Yara",
           18
          ],
          [
           "Upper Mustang Tiji Festival Trek",
           18
          ],
          [
           "Langtang Valley Trek",
           10
          ],
          [
           "Langtang Gosaikunda Trek",
           16
          ],
          [
           "Tamang Heritage Trek",
           14
          ],
          [
           "Tamang Heritage Trail",
           8
          ],
          [
           "Helambu Trek",
           9
          ],
          [
           "Annapurna Base Camp Trek",
           11
          ],
          [
           "Everest Base Camp Trek for Youths",
           14
          ],
          [
           "Everest Base Camp Short Trek",
           14
          ],
          [
           "Everest Base Camp Trek",
           16
          ],
          [
           "Annapurna Circuit Trek",
           17
          ],
          [
           "Everest Base Camp Luxury Lodge Trek",
           15
          ],
          [
           "Everest Base Camp Trek via Gokyo Lakes and Cho La Pass",
           18
          ],
          [
           "Upper Mustang Trek",
           17
          ],
          [
           "Everest Advanced Base Camp Trek from Tibet",
           18
          ],
          [
           "Gokyo Lakes and Gokyo Ri Trek",
           14
          ],
          [
           "Mardi Himal Trek",
           10
          ],
          [
           "Manaslu Circuit Trek",
           18
          ],
          [
           "Langtang Valley Trek",
           11
          ],
          [
           "Annapurna Sanctuary Trek",
           14
          ],
          [
           "Rara Lake Trek",
           15
          ],
          [
           "Everest High Passes Trek",
           20
          ],
          [
           "Kanchenjunga Circuit Trek",
           25
          ],
          [
           "Everest View Trek",
           12
          ],
          [
           "Tsum Valley Trek",
           19
          ],
          [
           "The Royal Trek",
           9
          ],
          [
           "Makalu Base Camp Trek",
           22
          ],
          [
           "Langtang Gosainkunda and Helambu Trek",
           17
          ],
          [
           "Nar Phu Valley Trek",
           19
          ],
          [
           "Annapurna Circle Trek",
           14
          ],
          [
           "Everest Kangshung Face Trek",
           21
          ],
          [
           "Tsum Valley and Manaslu Trek",
           27
          ],
          [
           "Khopra Ridge Community Trek",
           13
          ],
          [
           "Nepal Experience Tour",
           12
          ],
          [
           "Annapurna Circuit Trek with Tilicho Lake and Poon Hill",
           20
          ],
          [
           "Annapurna With Tilicho Lake Trek",
           17
          ],
          [
           "Langtang Valley Trek with Ganja la Pass",
           14
          ],
          [
           "Tamang Heritage Trek",
           14
          ],
          [
           "Manaslu and Annapurna Trek with Tilicho Lake",
           25
          ],
          [
           "Nepal Trekking and Everest Himalaya Heli Tour",
           7
          ],
          [
           "Nepal Hiking and Culture Tour",
           8
          ],
          [
           "Annapurna Sunrise and Everest View Trek",
           17
          ],
          [
           "Tenzing Hillary Everest Marathon",
           20
          ],
          [
           "Everest Base Camp Trek",
           16
          ],
          [
           "Everest Kalapathar Trekking",
           15
          ],
          [
           "Everest Panorama Trek",
           10
          ],
          [
           "Everest Base Camp Trek via Gokyo Lake",
           19
          ],
          [
           "Gokyo Lake Trek",
           13
          ],
          [
           "Everest Base Camp Heli Trek",
           9
          ],
          [
           "Annapurna Circuit Trek",
           19
          ],
          [
           "Annapurna Base Camp Trek",
           16
          ],
          [
           "Ghorepani Poon Hill Trek",
           10
          ],
          [
           "Upper Mustang Trek",
           17
          ],
          [
           "Mardi Himal Trek",
           9
          ],
          [
           "Langtang Valley Trekking",
           11
          ],
          [
           "Manaslu Circuit Trek",
           17
          ],
          [
           "Annapurna Base Camp Trek",
           14
          ],
          [
           "Annapurna Base Camp Short Trek",
           11
          ],
          [
           "Instant Annapurna Base Camp Trek",
           9
          ],
          [
           "Annapurna Base Camp Heli Trek",
           9
          ],
          [
           "Mardi Himal Trek",
           9
          ],
          [
           "Mardi Himal Trekking",
           8
          ],
          [
           "Classic Annapurna Circuit Trek",
           18
          ],
          [
           "Annapurna Circuit Trek",
           14
          ],
          [
           "Annapurna Circuit Short Trek",
           12
          ],
          [
           "Annapurna Luxury Trek",
           9
          ],
          [
           "Annapurna Panorama Trek",
           9
          ],
          [
           "Annapurna Tilicho Lake Trek",
           17
          ],
          [
           "Short Annapurna Trek",
           5
          ],
          [
           "Manaslu Circuit Trek",
           15
          ],
          [
           "Manaslu Circuit Trekking",
           14
          ],
          [
           "Tsum Valley with Manaslu Trek",
           20
          ],
          [
           "Upper Mustang Trek",
           17
          ],
          [
           "Upper Mustang Trek with Yara",
           18
          ],
          [
           "Upper Mustang Tiji Festival Trek",
           18
          ],
          [
           "Langtang Valley Trek",
           10
          ],
          [
           "Langtang Gosaikunda Trek",
           16
          ],
          [
           "Tamang Heritage Trek",
           14
          ],
          [
           "Tamang Heritage Trail",
           8
          ],
          [
           "Helambu Trek",
           9
          ],
          [
           "Annapurna Base Camp Trek",
           11
          ],
          [
           "Everest Base Camp Trek for Youths",
           14
          ],
          [
           "Everest Base Camp Short Trek",
           14
          ],
          [
           "Everest Base Camp Trek",
           16
          ],
          [
           "Annapurna Circuit Trek",
           17
          ],
          [
           "Everest Base Camp Luxury Lodge Trek",
           15
          ],
          [
           "Everest Base Camp Trek via Gokyo Lakes and Cho La Pass",
           18
          ],
          [
           "Upper Mustang Trek",
           17
          ],
          [
           "Everest Advanced Base Camp Trek from Tibet",
           18
          ],
          [
           "Gokyo Lakes and Gokyo Ri Trek",
           14
          ],
          [
           "Mardi Himal Trek",
           10
          ],
          [
           "Manaslu Circuit Trek",
           18
          ],
          [
           "Langtang Valley Trek",
           11
          ],
          [
           "Annapurna Sanctuary Trek",
           14
          ],
          [
           "Rara Lake Trek",
           15
          ],
          [
           "Everest High Passes Trek",
           20
          ],
          [
           "Kanchenjunga Circuit Trek",
           25
          ],
          [
           "Everest View Trek",
           12
          ],
          [
           "Tsum Valley Trek",
           19
          ],
          [
           "The Royal Trek",
           9
          ],
          [
           "Makalu Base Camp Trek",
           22
          ],
          [
           "Langtang Gosainkunda and Helambu Trek",
           17
          ],
          [
           "Nar Phu Valley Trek",
           19
          ],
          [
           "Annapurna Circle Trek",
           14
          ],
          [
           "Everest Kangshung Face Trek",
           21
          ],
          [
           "Tsum Valley and Manaslu Trek",
           27
          ],
          [
           "Khopra Ridge Community Trek",
           13
          ],
          [
           "Nepal Experience Tour",
           12
          ],
          [
           "Annapurna Circuit Trek with Tilicho Lake and Poon Hill",
           20
          ],
          [
           "Annapurna With Tilicho Lake Trek",
           17
          ],
          [
           "Langtang Valley Trek with Ganja la Pass",
           14
          ],
          [
           "Tamang Heritage Trek",
           14
          ],
          [
           "Manaslu and Annapurna Trek with Tilicho Lake",
           25
          ],
          [
           "Nepal Trekking and Everest Himalaya Heli Tour",
           7
          ],
          [
           "Nepal Hiking and Culture Tour",
           8
          ],
          [
           "Annapurna Sunrise and Everest View Trek",
           17
          ],
          [
           "Tenzing Hillary Everest Marathon",
           20
          ],
          [
           "Everest Base Camp Trek",
           16
          ],
          [
           "Everest Kalapathar Trekking",
           15
          ],
          [
           "Everest Panorama Trek",
           10
          ],
          [
           "Everest Base Camp Trek via Gokyo Lake",
           19
          ],
          [
           "Gokyo Lake Trek",
           13
          ],
          [
           "Everest Base Camp Heli Trek",
           9
          ],
          [
           "Annapurna Circuit Trek",
           19
          ],
          [
           "Annapurna Base Camp Trek",
           16
          ],
          [
           "Ghorepani Poon Hill Trek",
           10
          ],
          [
           "Upper Mustang Trek",
           17
          ],
          [
           "Mardi Himal Trek",
           9
          ],
          [
           "Langtang Valley Trekking",
           11
          ],
          [
           "Manaslu Circuit Trek",
           17
          ]
         ],
         "hovertemplate": "Cost=%{y}<br>Trek=%{customdata[0]}<br>Time=%{customdata[1]}<extra></extra>",
         "legendgroup": "",
         "marker": {
          "color": "#636efa"
         },
         "name": "",
         "notched": false,
         "offsetgroup": "",
         "orientation": "v",
         "showlegend": false,
         "x0": " ",
         "xaxis": "x",
         "y": [
          1420.0,
          1295.0,
          2000.0,
          3300.0,
          1800.0,
          1720.0,
          1450.0,
          1950.0,
          1060.0,
          1150.0,
          1100.0,
          4200.0,
          1900.0,
          1090.0,
          1090.0,
          980.0,
          1750.0,
          850.0,
          850.0,
          1350.0,
          1250.0,
          1250.0,
          1450.0,
          860.0,
          1450.0,
          590.0,
          1450.0,
          1380.0,
          1850.0,
          2150.0,
          2300.0,
          2150.0,
          750.0,
          1180.0,
          920.0,
          750.0,
          780.0,
          1499.0,
          1750.0,
          1499.0,
          1499.0,
          1499.0,
          1499.0,
          1499.0,
          1499.0,
          1499.0,
          1499.0,
          1499.0,
          1499.0,
          1499.0,
          1499.0,
          1499.0,
          1499.0,
          1499.0,
          1499.0,
          1499.0,
          1499.0,
          1499.0,
          1499.0,
          1499.0,
          1499.0,
          1499.0,
          1499.0,
          1499.0,
          1499.0,
          1499.0,
          1499.0,
          1499.0,
          1499.0,
          1499.0,
          1499.0,
          1499.0,
          1499.0,
          1499.0,
          1450.0,
          1390.0,
          1040.0,
          1530.0,
          1190.0,
          3600.0,
          1100.0,
          1090.0,
          450.0,
          2100.0,
          590.0,
          690.0,
          1190.0,
          1090.0,
          1090.0,
          980.0,
          1750.0,
          850.0,
          850.0,
          1350.0,
          1250.0,
          1250.0,
          1450.0,
          860.0,
          1450.0,
          590.0,
          1450.0,
          1380.0,
          1850.0,
          2150.0,
          2300.0,
          2150.0,
          750.0,
          1180.0,
          920.0,
          750.0,
          780.0,
          1499.0,
          1750.0,
          1499.0,
          1499.0,
          1499.0,
          1499.0,
          1499.0,
          1499.0,
          1499.0,
          1499.0,
          1499.0,
          1499.0,
          1499.0,
          1499.0,
          1499.0,
          1499.0,
          1499.0,
          1499.0,
          1499.0,
          1499.0,
          1499.0,
          1499.0,
          1499.0,
          1499.0,
          1499.0,
          1499.0,
          1499.0,
          1499.0,
          1499.0,
          1499.0,
          1499.0,
          1499.0,
          1499.0,
          1499.0,
          1499.0,
          1499.0,
          1499.0,
          1450.0,
          1390.0,
          1040.0,
          1530.0,
          1190.0,
          3600.0,
          1100.0,
          1090.0,
          450.0,
          2100.0,
          590.0,
          690.0,
          1190.0,
          1090.0,
          1090.0,
          980.0,
          1750.0,
          850.0,
          850.0,
          1350.0,
          1250.0,
          1250.0,
          1450.0,
          860.0,
          1450.0,
          590.0,
          1450.0,
          1380.0,
          1850.0,
          2150.0,
          2300.0,
          2150.0,
          750.0,
          1180.0,
          920.0,
          750.0,
          780.0,
          1499.0,
          1750.0,
          1499.0,
          1499.0,
          1499.0,
          1499.0,
          1499.0,
          1499.0,
          1499.0,
          1499.0,
          1499.0,
          1499.0,
          1499.0,
          1499.0,
          1499.0,
          1499.0,
          1499.0,
          1499.0,
          1499.0,
          1499.0,
          1499.0,
          1499.0,
          1499.0,
          1499.0,
          1499.0,
          1499.0,
          1499.0,
          1499.0,
          1499.0,
          1499.0,
          1499.0,
          1499.0,
          1499.0,
          1499.0,
          1499.0,
          1499.0,
          1499.0,
          1450.0,
          1390.0,
          1040.0,
          1530.0,
          1190.0,
          3600.0,
          1100.0,
          1090.0,
          450.0,
          2100.0,
          590.0,
          690.0,
          1190.0,
          1090.0,
          1090.0,
          980.0,
          1750.0,
          850.0,
          850.0,
          1350.0,
          1250.0,
          1250.0,
          1450.0,
          860.0,
          1450.0,
          590.0,
          1450.0,
          1380.0,
          1850.0,
          2150.0,
          2300.0,
          2150.0,
          750.0,
          1180.0,
          920.0,
          750.0,
          780.0,
          1499.0,
          1750.0,
          1499.0,
          1499.0,
          1499.0,
          1499.0,
          1499.0,
          1499.0,
          1499.0,
          1499.0,
          1499.0,
          1499.0,
          1499.0,
          1499.0,
          1499.0,
          1499.0,
          1499.0,
          1499.0,
          1499.0,
          1499.0,
          1499.0,
          1499.0,
          1499.0,
          1499.0,
          1499.0,
          1499.0,
          1499.0,
          1499.0,
          1499.0,
          1499.0,
          1499.0,
          1499.0,
          1499.0,
          1499.0,
          1499.0,
          1499.0,
          1499.0,
          1450.0,
          1390.0,
          1040.0,
          1530.0,
          1190.0,
          3600.0,
          1100.0,
          1090.0,
          450.0,
          2100.0,
          590.0,
          690.0,
          1190.0,
          1090.0,
          1090.0,
          980.0,
          1750.0,
          850.0,
          850.0,
          1350.0,
          1250.0,
          1250.0,
          1450.0,
          860.0,
          1450.0,
          590.0,
          1450.0,
          1380.0,
          1850.0,
          2150.0,
          2300.0,
          2150.0,
          750.0,
          1180.0,
          920.0,
          750.0,
          780.0,
          1499.0,
          1750.0,
          1499.0,
          1499.0,
          1499.0,
          1499.0,
          1499.0,
          1499.0,
          1499.0,
          1499.0,
          1499.0,
          1499.0,
          1499.0,
          1499.0,
          1499.0,
          1499.0,
          1499.0,
          1499.0,
          1499.0,
          1499.0,
          1499.0,
          1499.0,
          1499.0,
          1499.0,
          1499.0,
          1499.0,
          1499.0,
          1499.0,
          1499.0,
          1499.0,
          1499.0,
          1499.0,
          1499.0,
          1499.0,
          1499.0,
          1499.0,
          1499.0,
          1450.0,
          1390.0,
          1040.0,
          1530.0,
          1190.0,
          3600.0,
          1100.0,
          1090.0,
          450.0,
          2100.0,
          590.0,
          690.0,
          1190.0
         ],
         "y0": " ",
         "yaxis": "y",
         "type": "box"
        }
       ],
       "layout": {
        "template": {
         "data": {
          "histogram2dcontour": [
           {
            "type": "histogram2dcontour",
            "colorbar": {
             "outlinewidth": 0,
             "ticks": ""
            },
            "colorscale": [
             [
              0.0,
              "#0d0887"
             ],
             [
              0.1111111111111111,
              "#46039f"
             ],
             [
              0.2222222222222222,
              "#7201a8"
             ],
             [
              0.3333333333333333,
              "#9c179e"
             ],
             [
              0.4444444444444444,
              "#bd3786"
             ],
             [
              0.5555555555555556,
              "#d8576b"
             ],
             [
              0.6666666666666666,
              "#ed7953"
             ],
             [
              0.7777777777777778,
              "#fb9f3a"
             ],
             [
              0.8888888888888888,
              "#fdca26"
             ],
             [
              1.0,
              "#f0f921"
             ]
            ]
           }
          ],
          "choropleth": [
           {
            "type": "choropleth",
            "colorbar": {
             "outlinewidth": 0,
             "ticks": ""
            }
           }
          ],
          "histogram2d": [
           {
            "type": "histogram2d",
            "colorbar": {
             "outlinewidth": 0,
             "ticks": ""
            },
            "colorscale": [
             [
              0.0,
              "#0d0887"
             ],
             [
              0.1111111111111111,
              "#46039f"
             ],
             [
              0.2222222222222222,
              "#7201a8"
             ],
             [
              0.3333333333333333,
              "#9c179e"
             ],
             [
              0.4444444444444444,
              "#bd3786"
             ],
             [
              0.5555555555555556,
              "#d8576b"
             ],
             [
              0.6666666666666666,
              "#ed7953"
             ],
             [
              0.7777777777777778,
              "#fb9f3a"
             ],
             [
              0.8888888888888888,
              "#fdca26"
             ],
             [
              1.0,
              "#f0f921"
             ]
            ]
           }
          ],
          "heatmap": [
           {
            "type": "heatmap",
            "colorbar": {
             "outlinewidth": 0,
             "ticks": ""
            },
            "colorscale": [
             [
              0.0,
              "#0d0887"
             ],
             [
              0.1111111111111111,
              "#46039f"
             ],
             [
              0.2222222222222222,
              "#7201a8"
             ],
             [
              0.3333333333333333,
              "#9c179e"
             ],
             [
              0.4444444444444444,
              "#bd3786"
             ],
             [
              0.5555555555555556,
              "#d8576b"
             ],
             [
              0.6666666666666666,
              "#ed7953"
             ],
             [
              0.7777777777777778,
              "#fb9f3a"
             ],
             [
              0.8888888888888888,
              "#fdca26"
             ],
             [
              1.0,
              "#f0f921"
             ]
            ]
           }
          ],
          "heatmapgl": [
           {
            "type": "heatmapgl",
            "colorbar": {
             "outlinewidth": 0,
             "ticks": ""
            },
            "colorscale": [
             [
              0.0,
              "#0d0887"
             ],
             [
              0.1111111111111111,
              "#46039f"
             ],
             [
              0.2222222222222222,
              "#7201a8"
             ],
             [
              0.3333333333333333,
              "#9c179e"
             ],
             [
              0.4444444444444444,
              "#bd3786"
             ],
             [
              0.5555555555555556,
              "#d8576b"
             ],
             [
              0.6666666666666666,
              "#ed7953"
             ],
             [
              0.7777777777777778,
              "#fb9f3a"
             ],
             [
              0.8888888888888888,
              "#fdca26"
             ],
             [
              1.0,
              "#f0f921"
             ]
            ]
           }
          ],
          "contourcarpet": [
           {
            "type": "contourcarpet",
            "colorbar": {
             "outlinewidth": 0,
             "ticks": ""
            }
           }
          ],
          "contour": [
           {
            "type": "contour",
            "colorbar": {
             "outlinewidth": 0,
             "ticks": ""
            },
            "colorscale": [
             [
              0.0,
              "#0d0887"
             ],
             [
              0.1111111111111111,
              "#46039f"
             ],
             [
              0.2222222222222222,
              "#7201a8"
             ],
             [
              0.3333333333333333,
              "#9c179e"
             ],
             [
              0.4444444444444444,
              "#bd3786"
             ],
             [
              0.5555555555555556,
              "#d8576b"
             ],
             [
              0.6666666666666666,
              "#ed7953"
             ],
             [
              0.7777777777777778,
              "#fb9f3a"
             ],
             [
              0.8888888888888888,
              "#fdca26"
             ],
             [
              1.0,
              "#f0f921"
             ]
            ]
           }
          ],
          "surface": [
           {
            "type": "surface",
            "colorbar": {
             "outlinewidth": 0,
             "ticks": ""
            },
            "colorscale": [
             [
              0.0,
              "#0d0887"
             ],
             [
              0.1111111111111111,
              "#46039f"
             ],
             [
              0.2222222222222222,
              "#7201a8"
             ],
             [
              0.3333333333333333,
              "#9c179e"
             ],
             [
              0.4444444444444444,
              "#bd3786"
             ],
             [
              0.5555555555555556,
              "#d8576b"
             ],
             [
              0.6666666666666666,
              "#ed7953"
             ],
             [
              0.7777777777777778,
              "#fb9f3a"
             ],
             [
              0.8888888888888888,
              "#fdca26"
             ],
             [
              1.0,
              "#f0f921"
             ]
            ]
           }
          ],
          "mesh3d": [
           {
            "type": "mesh3d",
            "colorbar": {
             "outlinewidth": 0,
             "ticks": ""
            }
           }
          ],
          "scatter": [
           {
            "marker": {
             "line": {
              "color": "#283442"
             }
            },
            "type": "scatter"
           }
          ],
          "parcoords": [
           {
            "type": "parcoords",
            "line": {
             "colorbar": {
              "outlinewidth": 0,
              "ticks": ""
             }
            }
           }
          ],
          "scatterpolargl": [
           {
            "type": "scatterpolargl",
            "marker": {
             "colorbar": {
              "outlinewidth": 0,
              "ticks": ""
             }
            }
           }
          ],
          "bar": [
           {
            "error_x": {
             "color": "#f2f5fa"
            },
            "error_y": {
             "color": "#f2f5fa"
            },
            "marker": {
             "line": {
              "color": "rgb(17,17,17)",
              "width": 0.5
             },
             "pattern": {
              "fillmode": "overlay",
              "size": 10,
              "solidity": 0.2
             }
            },
            "type": "bar"
           }
          ],
          "scattergeo": [
           {
            "type": "scattergeo",
            "marker": {
             "colorbar": {
              "outlinewidth": 0,
              "ticks": ""
             }
            }
           }
          ],
          "scatterpolar": [
           {
            "type": "scatterpolar",
            "marker": {
             "colorbar": {
              "outlinewidth": 0,
              "ticks": ""
             }
            }
           }
          ],
          "histogram": [
           {
            "marker": {
             "pattern": {
              "fillmode": "overlay",
              "size": 10,
              "solidity": 0.2
             }
            },
            "type": "histogram"
           }
          ],
          "scattergl": [
           {
            "marker": {
             "line": {
              "color": "#283442"
             }
            },
            "type": "scattergl"
           }
          ],
          "scatter3d": [
           {
            "type": "scatter3d",
            "line": {
             "colorbar": {
              "outlinewidth": 0,
              "ticks": ""
             }
            },
            "marker": {
             "colorbar": {
              "outlinewidth": 0,
              "ticks": ""
             }
            }
           }
          ],
          "scattermapbox": [
           {
            "type": "scattermapbox",
            "marker": {
             "colorbar": {
              "outlinewidth": 0,
              "ticks": ""
             }
            }
           }
          ],
          "scatterternary": [
           {
            "type": "scatterternary",
            "marker": {
             "colorbar": {
              "outlinewidth": 0,
              "ticks": ""
             }
            }
           }
          ],
          "scattercarpet": [
           {
            "type": "scattercarpet",
            "marker": {
             "colorbar": {
              "outlinewidth": 0,
              "ticks": ""
             }
            }
           }
          ],
          "carpet": [
           {
            "aaxis": {
             "endlinecolor": "#A2B1C6",
             "gridcolor": "#506784",
             "linecolor": "#506784",
             "minorgridcolor": "#506784",
             "startlinecolor": "#A2B1C6"
            },
            "baxis": {
             "endlinecolor": "#A2B1C6",
             "gridcolor": "#506784",
             "linecolor": "#506784",
             "minorgridcolor": "#506784",
             "startlinecolor": "#A2B1C6"
            },
            "type": "carpet"
           }
          ],
          "table": [
           {
            "cells": {
             "fill": {
              "color": "#506784"
             },
             "line": {
              "color": "rgb(17,17,17)"
             }
            },
            "header": {
             "fill": {
              "color": "#2a3f5f"
             },
             "line": {
              "color": "rgb(17,17,17)"
             }
            },
            "type": "table"
           }
          ],
          "barpolar": [
           {
            "marker": {
             "line": {
              "color": "rgb(17,17,17)",
              "width": 0.5
             },
             "pattern": {
              "fillmode": "overlay",
              "size": 10,
              "solidity": 0.2
             }
            },
            "type": "barpolar"
           }
          ],
          "pie": [
           {
            "automargin": true,
            "type": "pie"
           }
          ]
         },
         "layout": {
          "autotypenumbers": "strict",
          "colorway": [
           "#636efa",
           "#EF553B",
           "#00cc96",
           "#ab63fa",
           "#FFA15A",
           "#19d3f3",
           "#FF6692",
           "#B6E880",
           "#FF97FF",
           "#FECB52"
          ],
          "font": {
           "color": "#f2f5fa"
          },
          "hovermode": "closest",
          "hoverlabel": {
           "align": "left"
          },
          "paper_bgcolor": "rgb(17,17,17)",
          "plot_bgcolor": "rgb(17,17,17)",
          "polar": {
           "bgcolor": "rgb(17,17,17)",
           "angularaxis": {
            "gridcolor": "#506784",
            "linecolor": "#506784",
            "ticks": ""
           },
           "radialaxis": {
            "gridcolor": "#506784",
            "linecolor": "#506784",
            "ticks": ""
           }
          },
          "ternary": {
           "bgcolor": "rgb(17,17,17)",
           "aaxis": {
            "gridcolor": "#506784",
            "linecolor": "#506784",
            "ticks": ""
           },
           "baxis": {
            "gridcolor": "#506784",
            "linecolor": "#506784",
            "ticks": ""
           },
           "caxis": {
            "gridcolor": "#506784",
            "linecolor": "#506784",
            "ticks": ""
           }
          },
          "coloraxis": {
           "colorbar": {
            "outlinewidth": 0,
            "ticks": ""
           }
          },
          "colorscale": {
           "sequential": [
            [
             0.0,
             "#0d0887"
            ],
            [
             0.1111111111111111,
             "#46039f"
            ],
            [
             0.2222222222222222,
             "#7201a8"
            ],
            [
             0.3333333333333333,
             "#9c179e"
            ],
            [
             0.4444444444444444,
             "#bd3786"
            ],
            [
             0.5555555555555556,
             "#d8576b"
            ],
            [
             0.6666666666666666,
             "#ed7953"
            ],
            [
             0.7777777777777778,
             "#fb9f3a"
            ],
            [
             0.8888888888888888,
             "#fdca26"
            ],
            [
             1.0,
             "#f0f921"
            ]
           ],
           "sequentialminus": [
            [
             0.0,
             "#0d0887"
            ],
            [
             0.1111111111111111,
             "#46039f"
            ],
            [
             0.2222222222222222,
             "#7201a8"
            ],
            [
             0.3333333333333333,
             "#9c179e"
            ],
            [
             0.4444444444444444,
             "#bd3786"
            ],
            [
             0.5555555555555556,
             "#d8576b"
            ],
            [
             0.6666666666666666,
             "#ed7953"
            ],
            [
             0.7777777777777778,
             "#fb9f3a"
            ],
            [
             0.8888888888888888,
             "#fdca26"
            ],
            [
             1.0,
             "#f0f921"
            ]
           ],
           "diverging": [
            [
             0,
             "#8e0152"
            ],
            [
             0.1,
             "#c51b7d"
            ],
            [
             0.2,
             "#de77ae"
            ],
            [
             0.3,
             "#f1b6da"
            ],
            [
             0.4,
             "#fde0ef"
            ],
            [
             0.5,
             "#f7f7f7"
            ],
            [
             0.6,
             "#e6f5d0"
            ],
            [
             0.7,
             "#b8e186"
            ],
            [
             0.8,
             "#7fbc41"
            ],
            [
             0.9,
             "#4d9221"
            ],
            [
             1,
             "#276419"
            ]
           ]
          },
          "xaxis": {
           "gridcolor": "#283442",
           "linecolor": "#506784",
           "ticks": "",
           "title": {
            "standoff": 15
           },
           "zerolinecolor": "#283442",
           "automargin": true,
           "zerolinewidth": 2
          },
          "yaxis": {
           "gridcolor": "#283442",
           "linecolor": "#506784",
           "ticks": "",
           "title": {
            "standoff": 15
           },
           "zerolinecolor": "#283442",
           "automargin": true,
           "zerolinewidth": 2
          },
          "scene": {
           "xaxis": {
            "backgroundcolor": "rgb(17,17,17)",
            "gridcolor": "#506784",
            "linecolor": "#506784",
            "showbackground": true,
            "ticks": "",
            "zerolinecolor": "#C8D4E3",
            "gridwidth": 2
           },
           "yaxis": {
            "backgroundcolor": "rgb(17,17,17)",
            "gridcolor": "#506784",
            "linecolor": "#506784",
            "showbackground": true,
            "ticks": "",
            "zerolinecolor": "#C8D4E3",
            "gridwidth": 2
           },
           "zaxis": {
            "backgroundcolor": "rgb(17,17,17)",
            "gridcolor": "#506784",
            "linecolor": "#506784",
            "showbackground": true,
            "ticks": "",
            "zerolinecolor": "#C8D4E3",
            "gridwidth": 2
           }
          },
          "shapedefaults": {
           "line": {
            "color": "#f2f5fa"
           }
          },
          "annotationdefaults": {
           "arrowcolor": "#f2f5fa",
           "arrowhead": 0,
           "arrowwidth": 1
          },
          "geo": {
           "bgcolor": "rgb(17,17,17)",
           "landcolor": "rgb(17,17,17)",
           "subunitcolor": "#506784",
           "showland": true,
           "showlakes": true,
           "lakecolor": "rgb(17,17,17)"
          },
          "title": {
           "x": 0.05
          },
          "updatemenudefaults": {
           "bgcolor": "#506784",
           "borderwidth": 0
          },
          "sliderdefaults": {
           "bgcolor": "#C8D4E3",
           "borderwidth": 1,
           "bordercolor": "rgb(17,17,17)",
           "tickwidth": 0
          },
          "mapbox": {
           "style": "dark"
          }
         }
        },
        "xaxis": {
         "anchor": "y",
         "domain": [
          0.0,
          1.0
         ]
        },
        "yaxis": {
         "anchor": "x",
         "domain": [
          0.0,
          1.0
         ],
         "title": {
          "text": "Cost"
         }
        },
        "legend": {
         "tracegroupgap": 0
        },
        "title": {
         "text": "Box plot for Trek Costs"
        },
        "boxmode": "group"
       },
       "config": {
        "plotlyServerURL": "https://plot.ly"
       }
      },
      "text/html": [
       "<div>                            <div id=\"b1fe46ef-b95b-4022-bebe-d7c748b6db6a\" class=\"plotly-graph-div\" style=\"height:525px; width:100%;\"></div>            <script type=\"text/javascript\">                require([\"plotly\"], function(Plotly) {                    window.PLOTLYENV=window.PLOTLYENV || {};                                    if (document.getElementById(\"b1fe46ef-b95b-4022-bebe-d7c748b6db6a\")) {                    Plotly.newPlot(                        \"b1fe46ef-b95b-4022-bebe-d7c748b6db6a\",                        [{\"alignmentgroup\":\"True\",\"customdata\":[[\"Everest Base Camp Trek\",16],[\"Everest Base Camp Short Trek\",14],[\"Everest Base Camp Heli Shuttle Trek\",12],[\"Everest Base Camp Heli Trek\",11],[\"Everest Base Camp Trek for Seniors\",20],[\"Everest Chola Pass Trek\",19],[\"Gokyo Lake Renjo La Pass Trek\",16],[\"Everest High Passes Trek\",22],[\"Short Everest Trek\",7],[\"Everest Panorama Trek\",10],[\"Everest View Trek\",9],[\"Luxury Everest Base Camp Heli Trek\",11],[\"Everest Base Camp Trek with Chola and Renjo La Pass\",21],[\"Annapurna Base Camp Trek\",14],[\"Annapurna Base Camp Short Trek\",11],[\"Instant Annapurna Base Camp Trek\",9],[\"Annapurna Base Camp Heli Trek\",9],[\"Mardi Himal Trek\",9],[\"Mardi Himal Trekking\",8],[\"Classic Annapurna Circuit Trek\",18],[\"Annapurna Circuit Trek\",14],[\"Annapurna Circuit Short Trek\",12],[\"Annapurna Luxury Trek\",9],[\"Annapurna Panorama Trek\",9],[\"Annapurna Tilicho Lake Trek\",17],[\"Short Annapurna Trek\",5],[\"Manaslu Circuit Trek\",15],[\"Manaslu Circuit Trekking\",14],[\"Tsum Valley with Manaslu Trek\",20],[\"Upper Mustang Trek\",17],[\"Upper Mustang Trek with Yara\",18],[\"Upper Mustang Tiji Festival Trek\",18],[\"Langtang Valley Trek\",10],[\"Langtang Gosaikunda Trek\",16],[\"Tamang Heritage Trek\",14],[\"Tamang Heritage Trail\",8],[\"Helambu Trek\",9],[\"Annapurna Base Camp Trek\",11],[\"Everest Base Camp Trek for Youths\",14],[\"Everest Base Camp Short Trek\",14],[\"Everest Base Camp Trek\",16],[\"Annapurna Circuit Trek\",17],[\"Everest Base Camp Luxury Lodge Trek\",15],[\"Everest Base Camp Trek via Gokyo Lakes and Cho La Pass\",18],[\"Upper Mustang Trek\",17],[\"Everest Advanced Base Camp Trek from Tibet\",18],[\"Gokyo Lakes and Gokyo Ri Trek\",14],[\"Mardi Himal Trek\",10],[\"Manaslu Circuit Trek\",18],[\"Langtang Valley Trek\",11],[\"Annapurna Sanctuary Trek\",14],[\"Rara Lake Trek\",15],[\"Everest High Passes Trek\",20],[\"Kanchenjunga Circuit Trek\",25],[\"Everest View Trek\",12],[\"Tsum Valley Trek\",19],[\"The Royal Trek\",9],[\"Makalu Base Camp Trek\",22],[\"Langtang Gosainkunda and Helambu Trek\",17],[\"Nar Phu Valley Trek\",19],[\"Annapurna Circle Trek\",14],[\"Everest Kangshung Face Trek\",21],[\"Tsum Valley and Manaslu Trek\",27],[\"Khopra Ridge Community Trek\",13],[\"Nepal Experience Tour\",12],[\"Annapurna Circuit Trek with Tilicho Lake and Poon Hill\",20],[\"Annapurna With Tilicho Lake Trek\",17],[\"Langtang Valley Trek with Ganja la Pass\",14],[\"Tamang Heritage Trek\",14],[\"Manaslu and Annapurna Trek with Tilicho Lake\",25],[\"Nepal Trekking and Everest Himalaya Heli Tour\",7],[\"Nepal Hiking and Culture Tour\",8],[\"Annapurna Sunrise and Everest View Trek\",17],[\"Tenzing Hillary Everest Marathon\",20],[\"Everest Base Camp Trek\",16],[\"Everest Kalapathar Trekking\",15],[\"Everest Panorama Trek\",10],[\"Everest Base Camp Trek via Gokyo Lake\",19],[\"Gokyo Lake Trek\",13],[\"Everest Base Camp Heli Trek\",9],[\"Annapurna Circuit Trek\",19],[\"Annapurna Base Camp Trek\",16],[\"Ghorepani Poon Hill Trek\",10],[\"Upper Mustang Trek\",17],[\"Mardi Himal Trek\",9],[\"Langtang Valley Trekking\",11],[\"Manaslu Circuit Trek\",17],[\"Annapurna Base Camp Trek\",14],[\"Annapurna Base Camp Short Trek\",11],[\"Instant Annapurna Base Camp Trek\",9],[\"Annapurna Base Camp Heli Trek\",9],[\"Mardi Himal Trek\",9],[\"Mardi Himal Trekking\",8],[\"Classic Annapurna Circuit Trek\",18],[\"Annapurna Circuit Trek\",14],[\"Annapurna Circuit Short Trek\",12],[\"Annapurna Luxury Trek\",9],[\"Annapurna Panorama Trek\",9],[\"Annapurna Tilicho Lake Trek\",17],[\"Short Annapurna Trek\",5],[\"Manaslu Circuit Trek\",15],[\"Manaslu Circuit Trekking\",14],[\"Tsum Valley with Manaslu Trek\",20],[\"Upper Mustang Trek\",17],[\"Upper Mustang Trek with Yara\",18],[\"Upper Mustang Tiji Festival Trek\",18],[\"Langtang Valley Trek\",10],[\"Langtang Gosaikunda Trek\",16],[\"Tamang Heritage Trek\",14],[\"Tamang Heritage Trail\",8],[\"Helambu Trek\",9],[\"Annapurna Base Camp Trek\",11],[\"Everest Base Camp Trek for Youths\",14],[\"Everest Base Camp Short Trek\",14],[\"Everest Base Camp Trek\",16],[\"Annapurna Circuit Trek\",17],[\"Everest Base Camp Luxury Lodge Trek\",15],[\"Everest Base Camp Trek via Gokyo Lakes and Cho La Pass\",18],[\"Upper Mustang Trek\",17],[\"Everest Advanced Base Camp Trek from Tibet\",18],[\"Gokyo Lakes and Gokyo Ri Trek\",14],[\"Mardi Himal Trek\",10],[\"Manaslu Circuit Trek\",18],[\"Langtang Valley Trek\",11],[\"Annapurna Sanctuary Trek\",14],[\"Rara Lake Trek\",15],[\"Everest High Passes Trek\",20],[\"Kanchenjunga Circuit Trek\",25],[\"Everest View Trek\",12],[\"Tsum Valley Trek\",19],[\"The Royal Trek\",9],[\"Makalu Base Camp Trek\",22],[\"Langtang Gosainkunda and Helambu Trek\",17],[\"Nar Phu Valley Trek\",19],[\"Annapurna Circle Trek\",14],[\"Everest Kangshung Face Trek\",21],[\"Tsum Valley and Manaslu Trek\",27],[\"Khopra Ridge Community Trek\",13],[\"Nepal Experience Tour\",12],[\"Annapurna Circuit Trek with Tilicho Lake and Poon Hill\",20],[\"Annapurna With Tilicho Lake Trek\",17],[\"Langtang Valley Trek with Ganja la Pass\",14],[\"Tamang Heritage Trek\",14],[\"Manaslu and Annapurna Trek with Tilicho Lake\",25],[\"Nepal Trekking and Everest Himalaya Heli Tour\",7],[\"Nepal Hiking and Culture Tour\",8],[\"Annapurna Sunrise and Everest View Trek\",17],[\"Tenzing Hillary Everest Marathon\",20],[\"Everest Base Camp Trek\",16],[\"Everest Kalapathar Trekking\",15],[\"Everest Panorama Trek\",10],[\"Everest Base Camp Trek via Gokyo Lake\",19],[\"Gokyo Lake Trek\",13],[\"Everest Base Camp Heli Trek\",9],[\"Annapurna Circuit Trek\",19],[\"Annapurna Base Camp Trek\",16],[\"Ghorepani Poon Hill Trek\",10],[\"Upper Mustang Trek\",17],[\"Mardi Himal Trek\",9],[\"Langtang Valley Trekking\",11],[\"Manaslu Circuit Trek\",17],[\"Annapurna Base Camp Trek\",14],[\"Annapurna Base Camp Short Trek\",11],[\"Instant Annapurna Base Camp Trek\",9],[\"Annapurna Base Camp Heli Trek\",9],[\"Mardi Himal Trek\",9],[\"Mardi Himal Trekking\",8],[\"Classic Annapurna Circuit Trek\",18],[\"Annapurna Circuit Trek\",14],[\"Annapurna Circuit Short Trek\",12],[\"Annapurna Luxury Trek\",9],[\"Annapurna Panorama Trek\",9],[\"Annapurna Tilicho Lake Trek\",17],[\"Short Annapurna Trek\",5],[\"Manaslu Circuit Trek\",15],[\"Manaslu Circuit Trekking\",14],[\"Tsum Valley with Manaslu Trek\",20],[\"Upper Mustang Trek\",17],[\"Upper Mustang Trek with Yara\",18],[\"Upper Mustang Tiji Festival Trek\",18],[\"Langtang Valley Trek\",10],[\"Langtang Gosaikunda Trek\",16],[\"Tamang Heritage Trek\",14],[\"Tamang Heritage Trail\",8],[\"Helambu Trek\",9],[\"Annapurna Base Camp Trek\",11],[\"Everest Base Camp Trek for Youths\",14],[\"Everest Base Camp Short Trek\",14],[\"Everest Base Camp Trek\",16],[\"Annapurna Circuit Trek\",17],[\"Everest Base Camp Luxury Lodge Trek\",15],[\"Everest Base Camp Trek via Gokyo Lakes and Cho La Pass\",18],[\"Upper Mustang Trek\",17],[\"Everest Advanced Base Camp Trek from Tibet\",18],[\"Gokyo Lakes and Gokyo Ri Trek\",14],[\"Mardi Himal Trek\",10],[\"Manaslu Circuit Trek\",18],[\"Langtang Valley Trek\",11],[\"Annapurna Sanctuary Trek\",14],[\"Rara Lake Trek\",15],[\"Everest High Passes Trek\",20],[\"Kanchenjunga Circuit Trek\",25],[\"Everest View Trek\",12],[\"Tsum Valley Trek\",19],[\"The Royal Trek\",9],[\"Makalu Base Camp Trek\",22],[\"Langtang Gosainkunda and Helambu Trek\",17],[\"Nar Phu Valley Trek\",19],[\"Annapurna Circle Trek\",14],[\"Everest Kangshung Face Trek\",21],[\"Tsum Valley and Manaslu Trek\",27],[\"Khopra Ridge Community Trek\",13],[\"Nepal Experience Tour\",12],[\"Annapurna Circuit Trek with Tilicho Lake and Poon Hill\",20],[\"Annapurna With Tilicho Lake Trek\",17],[\"Langtang Valley Trek with Ganja la Pass\",14],[\"Tamang Heritage Trek\",14],[\"Manaslu and Annapurna Trek with Tilicho Lake\",25],[\"Nepal Trekking and Everest Himalaya Heli Tour\",7],[\"Nepal Hiking and Culture Tour\",8],[\"Annapurna Sunrise and Everest View Trek\",17],[\"Tenzing Hillary Everest Marathon\",20],[\"Everest Base Camp Trek\",16],[\"Everest Kalapathar Trekking\",15],[\"Everest Panorama Trek\",10],[\"Everest Base Camp Trek via Gokyo Lake\",19],[\"Gokyo Lake Trek\",13],[\"Everest Base Camp Heli Trek\",9],[\"Annapurna Circuit Trek\",19],[\"Annapurna Base Camp Trek\",16],[\"Ghorepani Poon Hill Trek\",10],[\"Upper Mustang Trek\",17],[\"Mardi Himal Trek\",9],[\"Langtang Valley Trekking\",11],[\"Manaslu Circuit Trek\",17],[\"Annapurna Base Camp Trek\",14],[\"Annapurna Base Camp Short Trek\",11],[\"Instant Annapurna Base Camp Trek\",9],[\"Annapurna Base Camp Heli Trek\",9],[\"Mardi Himal Trek\",9],[\"Mardi Himal Trekking\",8],[\"Classic Annapurna Circuit Trek\",18],[\"Annapurna Circuit Trek\",14],[\"Annapurna Circuit Short Trek\",12],[\"Annapurna Luxury Trek\",9],[\"Annapurna Panorama Trek\",9],[\"Annapurna Tilicho Lake Trek\",17],[\"Short Annapurna Trek\",5],[\"Manaslu Circuit Trek\",15],[\"Manaslu Circuit Trekking\",14],[\"Tsum Valley with Manaslu Trek\",20],[\"Upper Mustang Trek\",17],[\"Upper Mustang Trek with Yara\",18],[\"Upper Mustang Tiji Festival Trek\",18],[\"Langtang Valley Trek\",10],[\"Langtang Gosaikunda Trek\",16],[\"Tamang Heritage Trek\",14],[\"Tamang Heritage Trail\",8],[\"Helambu Trek\",9],[\"Annapurna Base Camp Trek\",11],[\"Everest Base Camp Trek for Youths\",14],[\"Everest Base Camp Short Trek\",14],[\"Everest Base Camp Trek\",16],[\"Annapurna Circuit Trek\",17],[\"Everest Base Camp Luxury Lodge Trek\",15],[\"Everest Base Camp Trek via Gokyo Lakes and Cho La Pass\",18],[\"Upper Mustang Trek\",17],[\"Everest Advanced Base Camp Trek from Tibet\",18],[\"Gokyo Lakes and Gokyo Ri Trek\",14],[\"Mardi Himal Trek\",10],[\"Manaslu Circuit Trek\",18],[\"Langtang Valley Trek\",11],[\"Annapurna Sanctuary Trek\",14],[\"Rara Lake Trek\",15],[\"Everest High Passes Trek\",20],[\"Kanchenjunga Circuit Trek\",25],[\"Everest View Trek\",12],[\"Tsum Valley Trek\",19],[\"The Royal Trek\",9],[\"Makalu Base Camp Trek\",22],[\"Langtang Gosainkunda and Helambu Trek\",17],[\"Nar Phu Valley Trek\",19],[\"Annapurna Circle Trek\",14],[\"Everest Kangshung Face Trek\",21],[\"Tsum Valley and Manaslu Trek\",27],[\"Khopra Ridge Community Trek\",13],[\"Nepal Experience Tour\",12],[\"Annapurna Circuit Trek with Tilicho Lake and Poon Hill\",20],[\"Annapurna With Tilicho Lake Trek\",17],[\"Langtang Valley Trek with Ganja la Pass\",14],[\"Tamang Heritage Trek\",14],[\"Manaslu and Annapurna Trek with Tilicho Lake\",25],[\"Nepal Trekking and Everest Himalaya Heli Tour\",7],[\"Nepal Hiking and Culture Tour\",8],[\"Annapurna Sunrise and Everest View Trek\",17],[\"Tenzing Hillary Everest Marathon\",20],[\"Everest Base Camp Trek\",16],[\"Everest Kalapathar Trekking\",15],[\"Everest Panorama Trek\",10],[\"Everest Base Camp Trek via Gokyo Lake\",19],[\"Gokyo Lake Trek\",13],[\"Everest Base Camp Heli Trek\",9],[\"Annapurna Circuit Trek\",19],[\"Annapurna Base Camp Trek\",16],[\"Ghorepani Poon Hill Trek\",10],[\"Upper Mustang Trek\",17],[\"Mardi Himal Trek\",9],[\"Langtang Valley Trekking\",11],[\"Manaslu Circuit Trek\",17],[\"Annapurna Base Camp Trek\",14],[\"Annapurna Base Camp Short Trek\",11],[\"Instant Annapurna Base Camp Trek\",9],[\"Annapurna Base Camp Heli Trek\",9],[\"Mardi Himal Trek\",9],[\"Mardi Himal Trekking\",8],[\"Classic Annapurna Circuit Trek\",18],[\"Annapurna Circuit Trek\",14],[\"Annapurna Circuit Short Trek\",12],[\"Annapurna Luxury Trek\",9],[\"Annapurna Panorama Trek\",9],[\"Annapurna Tilicho Lake Trek\",17],[\"Short Annapurna Trek\",5],[\"Manaslu Circuit Trek\",15],[\"Manaslu Circuit Trekking\",14],[\"Tsum Valley with Manaslu Trek\",20],[\"Upper Mustang Trek\",17],[\"Upper Mustang Trek with Yara\",18],[\"Upper Mustang Tiji Festival Trek\",18],[\"Langtang Valley Trek\",10],[\"Langtang Gosaikunda Trek\",16],[\"Tamang Heritage Trek\",14],[\"Tamang Heritage Trail\",8],[\"Helambu Trek\",9],[\"Annapurna Base Camp Trek\",11],[\"Everest Base Camp Trek for Youths\",14],[\"Everest Base Camp Short Trek\",14],[\"Everest Base Camp Trek\",16],[\"Annapurna Circuit Trek\",17],[\"Everest Base Camp Luxury Lodge Trek\",15],[\"Everest Base Camp Trek via Gokyo Lakes and Cho La Pass\",18],[\"Upper Mustang Trek\",17],[\"Everest Advanced Base Camp Trek from Tibet\",18],[\"Gokyo Lakes and Gokyo Ri Trek\",14],[\"Mardi Himal Trek\",10],[\"Manaslu Circuit Trek\",18],[\"Langtang Valley Trek\",11],[\"Annapurna Sanctuary Trek\",14],[\"Rara Lake Trek\",15],[\"Everest High Passes Trek\",20],[\"Kanchenjunga Circuit Trek\",25],[\"Everest View Trek\",12],[\"Tsum Valley Trek\",19],[\"The Royal Trek\",9],[\"Makalu Base Camp Trek\",22],[\"Langtang Gosainkunda and Helambu Trek\",17],[\"Nar Phu Valley Trek\",19],[\"Annapurna Circle Trek\",14],[\"Everest Kangshung Face Trek\",21],[\"Tsum Valley and Manaslu Trek\",27],[\"Khopra Ridge Community Trek\",13],[\"Nepal Experience Tour\",12],[\"Annapurna Circuit Trek with Tilicho Lake and Poon Hill\",20],[\"Annapurna With Tilicho Lake Trek\",17],[\"Langtang Valley Trek with Ganja la Pass\",14],[\"Tamang Heritage Trek\",14],[\"Manaslu and Annapurna Trek with Tilicho Lake\",25],[\"Nepal Trekking and Everest Himalaya Heli Tour\",7],[\"Nepal Hiking and Culture Tour\",8],[\"Annapurna Sunrise and Everest View Trek\",17],[\"Tenzing Hillary Everest Marathon\",20],[\"Everest Base Camp Trek\",16],[\"Everest Kalapathar Trekking\",15],[\"Everest Panorama Trek\",10],[\"Everest Base Camp Trek via Gokyo Lake\",19],[\"Gokyo Lake Trek\",13],[\"Everest Base Camp Heli Trek\",9],[\"Annapurna Circuit Trek\",19],[\"Annapurna Base Camp Trek\",16],[\"Ghorepani Poon Hill Trek\",10],[\"Upper Mustang Trek\",17],[\"Mardi Himal Trek\",9],[\"Langtang Valley Trekking\",11],[\"Manaslu Circuit Trek\",17]],\"hovertemplate\":\"Cost=%{y}\\u003cbr\\u003eTrek=%{customdata[0]}\\u003cbr\\u003eTime=%{customdata[1]}\\u003cextra\\u003e\\u003c\\u002fextra\\u003e\",\"legendgroup\":\"\",\"marker\":{\"color\":\"#636efa\"},\"name\":\"\",\"notched\":false,\"offsetgroup\":\"\",\"orientation\":\"v\",\"showlegend\":false,\"x0\":\" \",\"xaxis\":\"x\",\"y\":[1420.0,1295.0,2000.0,3300.0,1800.0,1720.0,1450.0,1950.0,1060.0,1150.0,1100.0,4200.0,1900.0,1090.0,1090.0,980.0,1750.0,850.0,850.0,1350.0,1250.0,1250.0,1450.0,860.0,1450.0,590.0,1450.0,1380.0,1850.0,2150.0,2300.0,2150.0,750.0,1180.0,920.0,750.0,780.0,1499.0,1750.0,1499.0,1499.0,1499.0,1499.0,1499.0,1499.0,1499.0,1499.0,1499.0,1499.0,1499.0,1499.0,1499.0,1499.0,1499.0,1499.0,1499.0,1499.0,1499.0,1499.0,1499.0,1499.0,1499.0,1499.0,1499.0,1499.0,1499.0,1499.0,1499.0,1499.0,1499.0,1499.0,1499.0,1499.0,1499.0,1450.0,1390.0,1040.0,1530.0,1190.0,3600.0,1100.0,1090.0,450.0,2100.0,590.0,690.0,1190.0,1090.0,1090.0,980.0,1750.0,850.0,850.0,1350.0,1250.0,1250.0,1450.0,860.0,1450.0,590.0,1450.0,1380.0,1850.0,2150.0,2300.0,2150.0,750.0,1180.0,920.0,750.0,780.0,1499.0,1750.0,1499.0,1499.0,1499.0,1499.0,1499.0,1499.0,1499.0,1499.0,1499.0,1499.0,1499.0,1499.0,1499.0,1499.0,1499.0,1499.0,1499.0,1499.0,1499.0,1499.0,1499.0,1499.0,1499.0,1499.0,1499.0,1499.0,1499.0,1499.0,1499.0,1499.0,1499.0,1499.0,1499.0,1499.0,1499.0,1450.0,1390.0,1040.0,1530.0,1190.0,3600.0,1100.0,1090.0,450.0,2100.0,590.0,690.0,1190.0,1090.0,1090.0,980.0,1750.0,850.0,850.0,1350.0,1250.0,1250.0,1450.0,860.0,1450.0,590.0,1450.0,1380.0,1850.0,2150.0,2300.0,2150.0,750.0,1180.0,920.0,750.0,780.0,1499.0,1750.0,1499.0,1499.0,1499.0,1499.0,1499.0,1499.0,1499.0,1499.0,1499.0,1499.0,1499.0,1499.0,1499.0,1499.0,1499.0,1499.0,1499.0,1499.0,1499.0,1499.0,1499.0,1499.0,1499.0,1499.0,1499.0,1499.0,1499.0,1499.0,1499.0,1499.0,1499.0,1499.0,1499.0,1499.0,1499.0,1450.0,1390.0,1040.0,1530.0,1190.0,3600.0,1100.0,1090.0,450.0,2100.0,590.0,690.0,1190.0,1090.0,1090.0,980.0,1750.0,850.0,850.0,1350.0,1250.0,1250.0,1450.0,860.0,1450.0,590.0,1450.0,1380.0,1850.0,2150.0,2300.0,2150.0,750.0,1180.0,920.0,750.0,780.0,1499.0,1750.0,1499.0,1499.0,1499.0,1499.0,1499.0,1499.0,1499.0,1499.0,1499.0,1499.0,1499.0,1499.0,1499.0,1499.0,1499.0,1499.0,1499.0,1499.0,1499.0,1499.0,1499.0,1499.0,1499.0,1499.0,1499.0,1499.0,1499.0,1499.0,1499.0,1499.0,1499.0,1499.0,1499.0,1499.0,1499.0,1450.0,1390.0,1040.0,1530.0,1190.0,3600.0,1100.0,1090.0,450.0,2100.0,590.0,690.0,1190.0,1090.0,1090.0,980.0,1750.0,850.0,850.0,1350.0,1250.0,1250.0,1450.0,860.0,1450.0,590.0,1450.0,1380.0,1850.0,2150.0,2300.0,2150.0,750.0,1180.0,920.0,750.0,780.0,1499.0,1750.0,1499.0,1499.0,1499.0,1499.0,1499.0,1499.0,1499.0,1499.0,1499.0,1499.0,1499.0,1499.0,1499.0,1499.0,1499.0,1499.0,1499.0,1499.0,1499.0,1499.0,1499.0,1499.0,1499.0,1499.0,1499.0,1499.0,1499.0,1499.0,1499.0,1499.0,1499.0,1499.0,1499.0,1499.0,1499.0,1450.0,1390.0,1040.0,1530.0,1190.0,3600.0,1100.0,1090.0,450.0,2100.0,590.0,690.0,1190.0],\"y0\":\" \",\"yaxis\":\"y\",\"type\":\"box\"}],                        {\"template\":{\"data\":{\"histogram2dcontour\":[{\"type\":\"histogram2dcontour\",\"colorbar\":{\"outlinewidth\":0,\"ticks\":\"\"},\"colorscale\":[[0.0,\"#0d0887\"],[0.1111111111111111,\"#46039f\"],[0.2222222222222222,\"#7201a8\"],[0.3333333333333333,\"#9c179e\"],[0.4444444444444444,\"#bd3786\"],[0.5555555555555556,\"#d8576b\"],[0.6666666666666666,\"#ed7953\"],[0.7777777777777778,\"#fb9f3a\"],[0.8888888888888888,\"#fdca26\"],[1.0,\"#f0f921\"]]}],\"choropleth\":[{\"type\":\"choropleth\",\"colorbar\":{\"outlinewidth\":0,\"ticks\":\"\"}}],\"histogram2d\":[{\"type\":\"histogram2d\",\"colorbar\":{\"outlinewidth\":0,\"ticks\":\"\"},\"colorscale\":[[0.0,\"#0d0887\"],[0.1111111111111111,\"#46039f\"],[0.2222222222222222,\"#7201a8\"],[0.3333333333333333,\"#9c179e\"],[0.4444444444444444,\"#bd3786\"],[0.5555555555555556,\"#d8576b\"],[0.6666666666666666,\"#ed7953\"],[0.7777777777777778,\"#fb9f3a\"],[0.8888888888888888,\"#fdca26\"],[1.0,\"#f0f921\"]]}],\"heatmap\":[{\"type\":\"heatmap\",\"colorbar\":{\"outlinewidth\":0,\"ticks\":\"\"},\"colorscale\":[[0.0,\"#0d0887\"],[0.1111111111111111,\"#46039f\"],[0.2222222222222222,\"#7201a8\"],[0.3333333333333333,\"#9c179e\"],[0.4444444444444444,\"#bd3786\"],[0.5555555555555556,\"#d8576b\"],[0.6666666666666666,\"#ed7953\"],[0.7777777777777778,\"#fb9f3a\"],[0.8888888888888888,\"#fdca26\"],[1.0,\"#f0f921\"]]}],\"heatmapgl\":[{\"type\":\"heatmapgl\",\"colorbar\":{\"outlinewidth\":0,\"ticks\":\"\"},\"colorscale\":[[0.0,\"#0d0887\"],[0.1111111111111111,\"#46039f\"],[0.2222222222222222,\"#7201a8\"],[0.3333333333333333,\"#9c179e\"],[0.4444444444444444,\"#bd3786\"],[0.5555555555555556,\"#d8576b\"],[0.6666666666666666,\"#ed7953\"],[0.7777777777777778,\"#fb9f3a\"],[0.8888888888888888,\"#fdca26\"],[1.0,\"#f0f921\"]]}],\"contourcarpet\":[{\"type\":\"contourcarpet\",\"colorbar\":{\"outlinewidth\":0,\"ticks\":\"\"}}],\"contour\":[{\"type\":\"contour\",\"colorbar\":{\"outlinewidth\":0,\"ticks\":\"\"},\"colorscale\":[[0.0,\"#0d0887\"],[0.1111111111111111,\"#46039f\"],[0.2222222222222222,\"#7201a8\"],[0.3333333333333333,\"#9c179e\"],[0.4444444444444444,\"#bd3786\"],[0.5555555555555556,\"#d8576b\"],[0.6666666666666666,\"#ed7953\"],[0.7777777777777778,\"#fb9f3a\"],[0.8888888888888888,\"#fdca26\"],[1.0,\"#f0f921\"]]}],\"surface\":[{\"type\":\"surface\",\"colorbar\":{\"outlinewidth\":0,\"ticks\":\"\"},\"colorscale\":[[0.0,\"#0d0887\"],[0.1111111111111111,\"#46039f\"],[0.2222222222222222,\"#7201a8\"],[0.3333333333333333,\"#9c179e\"],[0.4444444444444444,\"#bd3786\"],[0.5555555555555556,\"#d8576b\"],[0.6666666666666666,\"#ed7953\"],[0.7777777777777778,\"#fb9f3a\"],[0.8888888888888888,\"#fdca26\"],[1.0,\"#f0f921\"]]}],\"mesh3d\":[{\"type\":\"mesh3d\",\"colorbar\":{\"outlinewidth\":0,\"ticks\":\"\"}}],\"scatter\":[{\"marker\":{\"line\":{\"color\":\"#283442\"}},\"type\":\"scatter\"}],\"parcoords\":[{\"type\":\"parcoords\",\"line\":{\"colorbar\":{\"outlinewidth\":0,\"ticks\":\"\"}}}],\"scatterpolargl\":[{\"type\":\"scatterpolargl\",\"marker\":{\"colorbar\":{\"outlinewidth\":0,\"ticks\":\"\"}}}],\"bar\":[{\"error_x\":{\"color\":\"#f2f5fa\"},\"error_y\":{\"color\":\"#f2f5fa\"},\"marker\":{\"line\":{\"color\":\"rgb(17,17,17)\",\"width\":0.5},\"pattern\":{\"fillmode\":\"overlay\",\"size\":10,\"solidity\":0.2}},\"type\":\"bar\"}],\"scattergeo\":[{\"type\":\"scattergeo\",\"marker\":{\"colorbar\":{\"outlinewidth\":0,\"ticks\":\"\"}}}],\"scatterpolar\":[{\"type\":\"scatterpolar\",\"marker\":{\"colorbar\":{\"outlinewidth\":0,\"ticks\":\"\"}}}],\"histogram\":[{\"marker\":{\"pattern\":{\"fillmode\":\"overlay\",\"size\":10,\"solidity\":0.2}},\"type\":\"histogram\"}],\"scattergl\":[{\"marker\":{\"line\":{\"color\":\"#283442\"}},\"type\":\"scattergl\"}],\"scatter3d\":[{\"type\":\"scatter3d\",\"line\":{\"colorbar\":{\"outlinewidth\":0,\"ticks\":\"\"}},\"marker\":{\"colorbar\":{\"outlinewidth\":0,\"ticks\":\"\"}}}],\"scattermapbox\":[{\"type\":\"scattermapbox\",\"marker\":{\"colorbar\":{\"outlinewidth\":0,\"ticks\":\"\"}}}],\"scatterternary\":[{\"type\":\"scatterternary\",\"marker\":{\"colorbar\":{\"outlinewidth\":0,\"ticks\":\"\"}}}],\"scattercarpet\":[{\"type\":\"scattercarpet\",\"marker\":{\"colorbar\":{\"outlinewidth\":0,\"ticks\":\"\"}}}],\"carpet\":[{\"aaxis\":{\"endlinecolor\":\"#A2B1C6\",\"gridcolor\":\"#506784\",\"linecolor\":\"#506784\",\"minorgridcolor\":\"#506784\",\"startlinecolor\":\"#A2B1C6\"},\"baxis\":{\"endlinecolor\":\"#A2B1C6\",\"gridcolor\":\"#506784\",\"linecolor\":\"#506784\",\"minorgridcolor\":\"#506784\",\"startlinecolor\":\"#A2B1C6\"},\"type\":\"carpet\"}],\"table\":[{\"cells\":{\"fill\":{\"color\":\"#506784\"},\"line\":{\"color\":\"rgb(17,17,17)\"}},\"header\":{\"fill\":{\"color\":\"#2a3f5f\"},\"line\":{\"color\":\"rgb(17,17,17)\"}},\"type\":\"table\"}],\"barpolar\":[{\"marker\":{\"line\":{\"color\":\"rgb(17,17,17)\",\"width\":0.5},\"pattern\":{\"fillmode\":\"overlay\",\"size\":10,\"solidity\":0.2}},\"type\":\"barpolar\"}],\"pie\":[{\"automargin\":true,\"type\":\"pie\"}]},\"layout\":{\"autotypenumbers\":\"strict\",\"colorway\":[\"#636efa\",\"#EF553B\",\"#00cc96\",\"#ab63fa\",\"#FFA15A\",\"#19d3f3\",\"#FF6692\",\"#B6E880\",\"#FF97FF\",\"#FECB52\"],\"font\":{\"color\":\"#f2f5fa\"},\"hovermode\":\"closest\",\"hoverlabel\":{\"align\":\"left\"},\"paper_bgcolor\":\"rgb(17,17,17)\",\"plot_bgcolor\":\"rgb(17,17,17)\",\"polar\":{\"bgcolor\":\"rgb(17,17,17)\",\"angularaxis\":{\"gridcolor\":\"#506784\",\"linecolor\":\"#506784\",\"ticks\":\"\"},\"radialaxis\":{\"gridcolor\":\"#506784\",\"linecolor\":\"#506784\",\"ticks\":\"\"}},\"ternary\":{\"bgcolor\":\"rgb(17,17,17)\",\"aaxis\":{\"gridcolor\":\"#506784\",\"linecolor\":\"#506784\",\"ticks\":\"\"},\"baxis\":{\"gridcolor\":\"#506784\",\"linecolor\":\"#506784\",\"ticks\":\"\"},\"caxis\":{\"gridcolor\":\"#506784\",\"linecolor\":\"#506784\",\"ticks\":\"\"}},\"coloraxis\":{\"colorbar\":{\"outlinewidth\":0,\"ticks\":\"\"}},\"colorscale\":{\"sequential\":[[0.0,\"#0d0887\"],[0.1111111111111111,\"#46039f\"],[0.2222222222222222,\"#7201a8\"],[0.3333333333333333,\"#9c179e\"],[0.4444444444444444,\"#bd3786\"],[0.5555555555555556,\"#d8576b\"],[0.6666666666666666,\"#ed7953\"],[0.7777777777777778,\"#fb9f3a\"],[0.8888888888888888,\"#fdca26\"],[1.0,\"#f0f921\"]],\"sequentialminus\":[[0.0,\"#0d0887\"],[0.1111111111111111,\"#46039f\"],[0.2222222222222222,\"#7201a8\"],[0.3333333333333333,\"#9c179e\"],[0.4444444444444444,\"#bd3786\"],[0.5555555555555556,\"#d8576b\"],[0.6666666666666666,\"#ed7953\"],[0.7777777777777778,\"#fb9f3a\"],[0.8888888888888888,\"#fdca26\"],[1.0,\"#f0f921\"]],\"diverging\":[[0,\"#8e0152\"],[0.1,\"#c51b7d\"],[0.2,\"#de77ae\"],[0.3,\"#f1b6da\"],[0.4,\"#fde0ef\"],[0.5,\"#f7f7f7\"],[0.6,\"#e6f5d0\"],[0.7,\"#b8e186\"],[0.8,\"#7fbc41\"],[0.9,\"#4d9221\"],[1,\"#276419\"]]},\"xaxis\":{\"gridcolor\":\"#283442\",\"linecolor\":\"#506784\",\"ticks\":\"\",\"title\":{\"standoff\":15},\"zerolinecolor\":\"#283442\",\"automargin\":true,\"zerolinewidth\":2},\"yaxis\":{\"gridcolor\":\"#283442\",\"linecolor\":\"#506784\",\"ticks\":\"\",\"title\":{\"standoff\":15},\"zerolinecolor\":\"#283442\",\"automargin\":true,\"zerolinewidth\":2},\"scene\":{\"xaxis\":{\"backgroundcolor\":\"rgb(17,17,17)\",\"gridcolor\":\"#506784\",\"linecolor\":\"#506784\",\"showbackground\":true,\"ticks\":\"\",\"zerolinecolor\":\"#C8D4E3\",\"gridwidth\":2},\"yaxis\":{\"backgroundcolor\":\"rgb(17,17,17)\",\"gridcolor\":\"#506784\",\"linecolor\":\"#506784\",\"showbackground\":true,\"ticks\":\"\",\"zerolinecolor\":\"#C8D4E3\",\"gridwidth\":2},\"zaxis\":{\"backgroundcolor\":\"rgb(17,17,17)\",\"gridcolor\":\"#506784\",\"linecolor\":\"#506784\",\"showbackground\":true,\"ticks\":\"\",\"zerolinecolor\":\"#C8D4E3\",\"gridwidth\":2}},\"shapedefaults\":{\"line\":{\"color\":\"#f2f5fa\"}},\"annotationdefaults\":{\"arrowcolor\":\"#f2f5fa\",\"arrowhead\":0,\"arrowwidth\":1},\"geo\":{\"bgcolor\":\"rgb(17,17,17)\",\"landcolor\":\"rgb(17,17,17)\",\"subunitcolor\":\"#506784\",\"showland\":true,\"showlakes\":true,\"lakecolor\":\"rgb(17,17,17)\"},\"title\":{\"x\":0.05},\"updatemenudefaults\":{\"bgcolor\":\"#506784\",\"borderwidth\":0},\"sliderdefaults\":{\"bgcolor\":\"#C8D4E3\",\"borderwidth\":1,\"bordercolor\":\"rgb(17,17,17)\",\"tickwidth\":0},\"mapbox\":{\"style\":\"dark\"}}},\"xaxis\":{\"anchor\":\"y\",\"domain\":[0.0,1.0]},\"yaxis\":{\"anchor\":\"x\",\"domain\":[0.0,1.0],\"title\":{\"text\":\"Cost\"}},\"legend\":{\"tracegroupgap\":0},\"title\":{\"text\":\"Box plot for Trek Costs\"},\"boxmode\":\"group\"},                        {\"responsive\": true}                    ).then(function(){\n",
       "                            \n",
       "var gd = document.getElementById('b1fe46ef-b95b-4022-bebe-d7c748b6db6a');\n",
       "var x = new MutationObserver(function (mutations, observer) {{\n",
       "        var display = window.getComputedStyle(gd).display;\n",
       "        if (!display || display === 'none') {{\n",
       "            console.log([gd, 'removed!']);\n",
       "            Plotly.purge(gd);\n",
       "            observer.disconnect();\n",
       "        }}\n",
       "}});\n",
       "\n",
       "// Listen for the removal of the full notebook cells\n",
       "var notebookContainer = gd.closest('#notebook-container');\n",
       "if (notebookContainer) {{\n",
       "    x.observe(notebookContainer, {childList: true});\n",
       "}}\n",
       "\n",
       "// Listen for the clearing of the current output cell\n",
       "var outputEl = gd.closest('.output');\n",
       "if (outputEl) {{\n",
       "    x.observe(outputEl, {childList: true});\n",
       "}}\n",
       "\n",
       "                        })                };                });            </script>        </div>"
      ]
     },
     "metadata": {},
     "output_type": "display_data"
    }
   ],
   "execution_count": 164
  },
  {
   "metadata": {
    "ExecuteTime": {
     "end_time": "2024-10-14T07:52:47.259182Z",
     "start_time": "2024-10-14T07:52:47.219880Z"
    }
   },
   "cell_type": "code",
   "source": [
    "# remove the outliers form the cost columns\n",
    "# Calculate Q1, Q3, and IQR for 'Cost'\n",
    "Q1 = df['Cost'].quantile(0.25)\n",
    "Q3 = df['Cost'].quantile(0.75)\n",
    "IQR = Q3 - Q1\n",
    "\n",
    "# Define the bounds for outliers\n",
    "lower_bound = Q1 - 1.5 * IQR\n",
    "upper_bound = Q3 + 1.5 * IQR\n",
    "\n",
    "# Filter the DataFrame to remove outliers\n",
    "df_no_outliers = df[(df['Cost'] >= lower_bound) & (df['Cost'] <= upper_bound)]\n",
    "\n",
    "print(f\"Original DataFrame Shape: {df.shape}\")\n",
    "print(f\"DataFrame Shape After Removing Outliers: {df_no_outliers.shape}\")\n",
    "\n",
    "del Q1, Q3, IQR, lower_bound, upper_bound"
   ],
   "id": "91bed1021d2d44dd",
   "outputs": [
    {
     "name": "stdout",
     "output_type": "stream",
     "text": [
      "Original DataFrame Shape: (383, 23)\n",
      "DataFrame Shape After Removing Outliers: (335, 23)\n"
     ]
    }
   ],
   "execution_count": 165
  },
  {
   "metadata": {
    "ExecuteTime": {
     "end_time": "2024-10-14T07:52:47.402753Z",
     "start_time": "2024-10-14T07:52:47.261191Z"
    }
   },
   "cell_type": "code",
   "source": [
    "fig = px.box(df_no_outliers, y='Cost', title='Box plot for Trek Costs', hover_data=['Trek', 'Time'])\n",
    "fig.show()"
   ],
   "id": "65476814baebfe5e",
   "outputs": [
    {
     "data": {
      "application/vnd.plotly.v1+json": {
       "data": [
        {
         "alignmentgroup": "True",
         "customdata": [
          [
           "Everest Base Camp Trek",
           16
          ],
          [
           "Everest Base Camp Short Trek",
           14
          ],
          [
           "Everest Base Camp Trek for Seniors",
           20
          ],
          [
           "Everest Chola Pass Trek",
           19
          ],
          [
           "Gokyo Lake Renjo La Pass Trek",
           16
          ],
          [
           "Everest High Passes Trek",
           22
          ],
          [
           "Short Everest Trek",
           7
          ],
          [
           "Everest Panorama Trek",
           10
          ],
          [
           "Everest View Trek",
           9
          ],
          [
           "Everest Base Camp Trek with Chola and Renjo La Pass",
           21
          ],
          [
           "Annapurna Base Camp Trek",
           14
          ],
          [
           "Annapurna Base Camp Short Trek",
           11
          ],
          [
           "Instant Annapurna Base Camp Trek",
           9
          ],
          [
           "Annapurna Base Camp Heli Trek",
           9
          ],
          [
           "Mardi Himal Trek",
           9
          ],
          [
           "Mardi Himal Trekking",
           8
          ],
          [
           "Classic Annapurna Circuit Trek",
           18
          ],
          [
           "Annapurna Circuit Trek",
           14
          ],
          [
           "Annapurna Circuit Short Trek",
           12
          ],
          [
           "Annapurna Luxury Trek",
           9
          ],
          [
           "Annapurna Panorama Trek",
           9
          ],
          [
           "Annapurna Tilicho Lake Trek",
           17
          ],
          [
           "Manaslu Circuit Trek",
           15
          ],
          [
           "Manaslu Circuit Trekking",
           14
          ],
          [
           "Tsum Valley with Manaslu Trek",
           20
          ],
          [
           "Langtang Valley Trek",
           10
          ],
          [
           "Langtang Gosaikunda Trek",
           16
          ],
          [
           "Tamang Heritage Trek",
           14
          ],
          [
           "Tamang Heritage Trail",
           8
          ],
          [
           "Helambu Trek",
           9
          ],
          [
           "Annapurna Base Camp Trek",
           11
          ],
          [
           "Everest Base Camp Trek for Youths",
           14
          ],
          [
           "Everest Base Camp Short Trek",
           14
          ],
          [
           "Everest Base Camp Trek",
           16
          ],
          [
           "Annapurna Circuit Trek",
           17
          ],
          [
           "Everest Base Camp Luxury Lodge Trek",
           15
          ],
          [
           "Everest Base Camp Trek via Gokyo Lakes and Cho La Pass",
           18
          ],
          [
           "Upper Mustang Trek",
           17
          ],
          [
           "Everest Advanced Base Camp Trek from Tibet",
           18
          ],
          [
           "Gokyo Lakes and Gokyo Ri Trek",
           14
          ],
          [
           "Mardi Himal Trek",
           10
          ],
          [
           "Manaslu Circuit Trek",
           18
          ],
          [
           "Langtang Valley Trek",
           11
          ],
          [
           "Annapurna Sanctuary Trek",
           14
          ],
          [
           "Rara Lake Trek",
           15
          ],
          [
           "Everest High Passes Trek",
           20
          ],
          [
           "Kanchenjunga Circuit Trek",
           25
          ],
          [
           "Everest View Trek",
           12
          ],
          [
           "Tsum Valley Trek",
           19
          ],
          [
           "The Royal Trek",
           9
          ],
          [
           "Makalu Base Camp Trek",
           22
          ],
          [
           "Langtang Gosainkunda and Helambu Trek",
           17
          ],
          [
           "Nar Phu Valley Trek",
           19
          ],
          [
           "Annapurna Circle Trek",
           14
          ],
          [
           "Everest Kangshung Face Trek",
           21
          ],
          [
           "Tsum Valley and Manaslu Trek",
           27
          ],
          [
           "Khopra Ridge Community Trek",
           13
          ],
          [
           "Nepal Experience Tour",
           12
          ],
          [
           "Annapurna Circuit Trek with Tilicho Lake and Poon Hill",
           20
          ],
          [
           "Annapurna With Tilicho Lake Trek",
           17
          ],
          [
           "Langtang Valley Trek with Ganja la Pass",
           14
          ],
          [
           "Tamang Heritage Trek",
           14
          ],
          [
           "Manaslu and Annapurna Trek with Tilicho Lake",
           25
          ],
          [
           "Nepal Trekking and Everest Himalaya Heli Tour",
           7
          ],
          [
           "Nepal Hiking and Culture Tour",
           8
          ],
          [
           "Annapurna Sunrise and Everest View Trek",
           17
          ],
          [
           "Tenzing Hillary Everest Marathon",
           20
          ],
          [
           "Everest Base Camp Trek",
           16
          ],
          [
           "Everest Kalapathar Trekking",
           15
          ],
          [
           "Everest Panorama Trek",
           10
          ],
          [
           "Everest Base Camp Trek via Gokyo Lake",
           19
          ],
          [
           "Gokyo Lake Trek",
           13
          ],
          [
           "Annapurna Circuit Trek",
           19
          ],
          [
           "Annapurna Base Camp Trek",
           16
          ],
          [
           "Manaslu Circuit Trek",
           17
          ],
          [
           "Annapurna Base Camp Trek",
           14
          ],
          [
           "Annapurna Base Camp Short Trek",
           11
          ],
          [
           "Instant Annapurna Base Camp Trek",
           9
          ],
          [
           "Annapurna Base Camp Heli Trek",
           9
          ],
          [
           "Mardi Himal Trek",
           9
          ],
          [
           "Mardi Himal Trekking",
           8
          ],
          [
           "Classic Annapurna Circuit Trek",
           18
          ],
          [
           "Annapurna Circuit Trek",
           14
          ],
          [
           "Annapurna Circuit Short Trek",
           12
          ],
          [
           "Annapurna Luxury Trek",
           9
          ],
          [
           "Annapurna Panorama Trek",
           9
          ],
          [
           "Annapurna Tilicho Lake Trek",
           17
          ],
          [
           "Manaslu Circuit Trek",
           15
          ],
          [
           "Manaslu Circuit Trekking",
           14
          ],
          [
           "Tsum Valley with Manaslu Trek",
           20
          ],
          [
           "Langtang Valley Trek",
           10
          ],
          [
           "Langtang Gosaikunda Trek",
           16
          ],
          [
           "Tamang Heritage Trek",
           14
          ],
          [
           "Tamang Heritage Trail",
           8
          ],
          [
           "Helambu Trek",
           9
          ],
          [
           "Annapurna Base Camp Trek",
           11
          ],
          [
           "Everest Base Camp Trek for Youths",
           14
          ],
          [
           "Everest Base Camp Short Trek",
           14
          ],
          [
           "Everest Base Camp Trek",
           16
          ],
          [
           "Annapurna Circuit Trek",
           17
          ],
          [
           "Everest Base Camp Luxury Lodge Trek",
           15
          ],
          [
           "Everest Base Camp Trek via Gokyo Lakes and Cho La Pass",
           18
          ],
          [
           "Upper Mustang Trek",
           17
          ],
          [
           "Everest Advanced Base Camp Trek from Tibet",
           18
          ],
          [
           "Gokyo Lakes and Gokyo Ri Trek",
           14
          ],
          [
           "Mardi Himal Trek",
           10
          ],
          [
           "Manaslu Circuit Trek",
           18
          ],
          [
           "Langtang Valley Trek",
           11
          ],
          [
           "Annapurna Sanctuary Trek",
           14
          ],
          [
           "Rara Lake Trek",
           15
          ],
          [
           "Everest High Passes Trek",
           20
          ],
          [
           "Kanchenjunga Circuit Trek",
           25
          ],
          [
           "Everest View Trek",
           12
          ],
          [
           "Tsum Valley Trek",
           19
          ],
          [
           "The Royal Trek",
           9
          ],
          [
           "Makalu Base Camp Trek",
           22
          ],
          [
           "Langtang Gosainkunda and Helambu Trek",
           17
          ],
          [
           "Nar Phu Valley Trek",
           19
          ],
          [
           "Annapurna Circle Trek",
           14
          ],
          [
           "Everest Kangshung Face Trek",
           21
          ],
          [
           "Tsum Valley and Manaslu Trek",
           27
          ],
          [
           "Khopra Ridge Community Trek",
           13
          ],
          [
           "Nepal Experience Tour",
           12
          ],
          [
           "Annapurna Circuit Trek with Tilicho Lake and Poon Hill",
           20
          ],
          [
           "Annapurna With Tilicho Lake Trek",
           17
          ],
          [
           "Langtang Valley Trek with Ganja la Pass",
           14
          ],
          [
           "Tamang Heritage Trek",
           14
          ],
          [
           "Manaslu and Annapurna Trek with Tilicho Lake",
           25
          ],
          [
           "Nepal Trekking and Everest Himalaya Heli Tour",
           7
          ],
          [
           "Nepal Hiking and Culture Tour",
           8
          ],
          [
           "Annapurna Sunrise and Everest View Trek",
           17
          ],
          [
           "Tenzing Hillary Everest Marathon",
           20
          ],
          [
           "Everest Base Camp Trek",
           16
          ],
          [
           "Everest Kalapathar Trekking",
           15
          ],
          [
           "Everest Panorama Trek",
           10
          ],
          [
           "Everest Base Camp Trek via Gokyo Lake",
           19
          ],
          [
           "Gokyo Lake Trek",
           13
          ],
          [
           "Annapurna Circuit Trek",
           19
          ],
          [
           "Annapurna Base Camp Trek",
           16
          ],
          [
           "Manaslu Circuit Trek",
           17
          ],
          [
           "Annapurna Base Camp Trek",
           14
          ],
          [
           "Annapurna Base Camp Short Trek",
           11
          ],
          [
           "Instant Annapurna Base Camp Trek",
           9
          ],
          [
           "Annapurna Base Camp Heli Trek",
           9
          ],
          [
           "Mardi Himal Trek",
           9
          ],
          [
           "Mardi Himal Trekking",
           8
          ],
          [
           "Classic Annapurna Circuit Trek",
           18
          ],
          [
           "Annapurna Circuit Trek",
           14
          ],
          [
           "Annapurna Circuit Short Trek",
           12
          ],
          [
           "Annapurna Luxury Trek",
           9
          ],
          [
           "Annapurna Panorama Trek",
           9
          ],
          [
           "Annapurna Tilicho Lake Trek",
           17
          ],
          [
           "Manaslu Circuit Trek",
           15
          ],
          [
           "Manaslu Circuit Trekking",
           14
          ],
          [
           "Tsum Valley with Manaslu Trek",
           20
          ],
          [
           "Langtang Valley Trek",
           10
          ],
          [
           "Langtang Gosaikunda Trek",
           16
          ],
          [
           "Tamang Heritage Trek",
           14
          ],
          [
           "Tamang Heritage Trail",
           8
          ],
          [
           "Helambu Trek",
           9
          ],
          [
           "Annapurna Base Camp Trek",
           11
          ],
          [
           "Everest Base Camp Trek for Youths",
           14
          ],
          [
           "Everest Base Camp Short Trek",
           14
          ],
          [
           "Everest Base Camp Trek",
           16
          ],
          [
           "Annapurna Circuit Trek",
           17
          ],
          [
           "Everest Base Camp Luxury Lodge Trek",
           15
          ],
          [
           "Everest Base Camp Trek via Gokyo Lakes and Cho La Pass",
           18
          ],
          [
           "Upper Mustang Trek",
           17
          ],
          [
           "Everest Advanced Base Camp Trek from Tibet",
           18
          ],
          [
           "Gokyo Lakes and Gokyo Ri Trek",
           14
          ],
          [
           "Mardi Himal Trek",
           10
          ],
          [
           "Manaslu Circuit Trek",
           18
          ],
          [
           "Langtang Valley Trek",
           11
          ],
          [
           "Annapurna Sanctuary Trek",
           14
          ],
          [
           "Rara Lake Trek",
           15
          ],
          [
           "Everest High Passes Trek",
           20
          ],
          [
           "Kanchenjunga Circuit Trek",
           25
          ],
          [
           "Everest View Trek",
           12
          ],
          [
           "Tsum Valley Trek",
           19
          ],
          [
           "The Royal Trek",
           9
          ],
          [
           "Makalu Base Camp Trek",
           22
          ],
          [
           "Langtang Gosainkunda and Helambu Trek",
           17
          ],
          [
           "Nar Phu Valley Trek",
           19
          ],
          [
           "Annapurna Circle Trek",
           14
          ],
          [
           "Everest Kangshung Face Trek",
           21
          ],
          [
           "Tsum Valley and Manaslu Trek",
           27
          ],
          [
           "Khopra Ridge Community Trek",
           13
          ],
          [
           "Nepal Experience Tour",
           12
          ],
          [
           "Annapurna Circuit Trek with Tilicho Lake and Poon Hill",
           20
          ],
          [
           "Annapurna With Tilicho Lake Trek",
           17
          ],
          [
           "Langtang Valley Trek with Ganja la Pass",
           14
          ],
          [
           "Tamang Heritage Trek",
           14
          ],
          [
           "Manaslu and Annapurna Trek with Tilicho Lake",
           25
          ],
          [
           "Nepal Trekking and Everest Himalaya Heli Tour",
           7
          ],
          [
           "Nepal Hiking and Culture Tour",
           8
          ],
          [
           "Annapurna Sunrise and Everest View Trek",
           17
          ],
          [
           "Tenzing Hillary Everest Marathon",
           20
          ],
          [
           "Everest Base Camp Trek",
           16
          ],
          [
           "Everest Kalapathar Trekking",
           15
          ],
          [
           "Everest Panorama Trek",
           10
          ],
          [
           "Everest Base Camp Trek via Gokyo Lake",
           19
          ],
          [
           "Gokyo Lake Trek",
           13
          ],
          [
           "Annapurna Circuit Trek",
           19
          ],
          [
           "Annapurna Base Camp Trek",
           16
          ],
          [
           "Manaslu Circuit Trek",
           17
          ],
          [
           "Annapurna Base Camp Trek",
           14
          ],
          [
           "Annapurna Base Camp Short Trek",
           11
          ],
          [
           "Instant Annapurna Base Camp Trek",
           9
          ],
          [
           "Annapurna Base Camp Heli Trek",
           9
          ],
          [
           "Mardi Himal Trek",
           9
          ],
          [
           "Mardi Himal Trekking",
           8
          ],
          [
           "Classic Annapurna Circuit Trek",
           18
          ],
          [
           "Annapurna Circuit Trek",
           14
          ],
          [
           "Annapurna Circuit Short Trek",
           12
          ],
          [
           "Annapurna Luxury Trek",
           9
          ],
          [
           "Annapurna Panorama Trek",
           9
          ],
          [
           "Annapurna Tilicho Lake Trek",
           17
          ],
          [
           "Manaslu Circuit Trek",
           15
          ],
          [
           "Manaslu Circuit Trekking",
           14
          ],
          [
           "Tsum Valley with Manaslu Trek",
           20
          ],
          [
           "Langtang Valley Trek",
           10
          ],
          [
           "Langtang Gosaikunda Trek",
           16
          ],
          [
           "Tamang Heritage Trek",
           14
          ],
          [
           "Tamang Heritage Trail",
           8
          ],
          [
           "Helambu Trek",
           9
          ],
          [
           "Annapurna Base Camp Trek",
           11
          ],
          [
           "Everest Base Camp Trek for Youths",
           14
          ],
          [
           "Everest Base Camp Short Trek",
           14
          ],
          [
           "Everest Base Camp Trek",
           16
          ],
          [
           "Annapurna Circuit Trek",
           17
          ],
          [
           "Everest Base Camp Luxury Lodge Trek",
           15
          ],
          [
           "Everest Base Camp Trek via Gokyo Lakes and Cho La Pass",
           18
          ],
          [
           "Upper Mustang Trek",
           17
          ],
          [
           "Everest Advanced Base Camp Trek from Tibet",
           18
          ],
          [
           "Gokyo Lakes and Gokyo Ri Trek",
           14
          ],
          [
           "Mardi Himal Trek",
           10
          ],
          [
           "Manaslu Circuit Trek",
           18
          ],
          [
           "Langtang Valley Trek",
           11
          ],
          [
           "Annapurna Sanctuary Trek",
           14
          ],
          [
           "Rara Lake Trek",
           15
          ],
          [
           "Everest High Passes Trek",
           20
          ],
          [
           "Kanchenjunga Circuit Trek",
           25
          ],
          [
           "Everest View Trek",
           12
          ],
          [
           "Tsum Valley Trek",
           19
          ],
          [
           "The Royal Trek",
           9
          ],
          [
           "Makalu Base Camp Trek",
           22
          ],
          [
           "Langtang Gosainkunda and Helambu Trek",
           17
          ],
          [
           "Nar Phu Valley Trek",
           19
          ],
          [
           "Annapurna Circle Trek",
           14
          ],
          [
           "Everest Kangshung Face Trek",
           21
          ],
          [
           "Tsum Valley and Manaslu Trek",
           27
          ],
          [
           "Khopra Ridge Community Trek",
           13
          ],
          [
           "Nepal Experience Tour",
           12
          ],
          [
           "Annapurna Circuit Trek with Tilicho Lake and Poon Hill",
           20
          ],
          [
           "Annapurna With Tilicho Lake Trek",
           17
          ],
          [
           "Langtang Valley Trek with Ganja la Pass",
           14
          ],
          [
           "Tamang Heritage Trek",
           14
          ],
          [
           "Manaslu and Annapurna Trek with Tilicho Lake",
           25
          ],
          [
           "Nepal Trekking and Everest Himalaya Heli Tour",
           7
          ],
          [
           "Nepal Hiking and Culture Tour",
           8
          ],
          [
           "Annapurna Sunrise and Everest View Trek",
           17
          ],
          [
           "Tenzing Hillary Everest Marathon",
           20
          ],
          [
           "Everest Base Camp Trek",
           16
          ],
          [
           "Everest Kalapathar Trekking",
           15
          ],
          [
           "Everest Panorama Trek",
           10
          ],
          [
           "Everest Base Camp Trek via Gokyo Lake",
           19
          ],
          [
           "Gokyo Lake Trek",
           13
          ],
          [
           "Annapurna Circuit Trek",
           19
          ],
          [
           "Annapurna Base Camp Trek",
           16
          ],
          [
           "Manaslu Circuit Trek",
           17
          ],
          [
           "Annapurna Base Camp Trek",
           14
          ],
          [
           "Annapurna Base Camp Short Trek",
           11
          ],
          [
           "Instant Annapurna Base Camp Trek",
           9
          ],
          [
           "Annapurna Base Camp Heli Trek",
           9
          ],
          [
           "Mardi Himal Trek",
           9
          ],
          [
           "Mardi Himal Trekking",
           8
          ],
          [
           "Classic Annapurna Circuit Trek",
           18
          ],
          [
           "Annapurna Circuit Trek",
           14
          ],
          [
           "Annapurna Circuit Short Trek",
           12
          ],
          [
           "Annapurna Luxury Trek",
           9
          ],
          [
           "Annapurna Panorama Trek",
           9
          ],
          [
           "Annapurna Tilicho Lake Trek",
           17
          ],
          [
           "Manaslu Circuit Trek",
           15
          ],
          [
           "Manaslu Circuit Trekking",
           14
          ],
          [
           "Tsum Valley with Manaslu Trek",
           20
          ],
          [
           "Langtang Valley Trek",
           10
          ],
          [
           "Langtang Gosaikunda Trek",
           16
          ],
          [
           "Tamang Heritage Trek",
           14
          ],
          [
           "Tamang Heritage Trail",
           8
          ],
          [
           "Helambu Trek",
           9
          ],
          [
           "Annapurna Base Camp Trek",
           11
          ],
          [
           "Everest Base Camp Trek for Youths",
           14
          ],
          [
           "Everest Base Camp Short Trek",
           14
          ],
          [
           "Everest Base Camp Trek",
           16
          ],
          [
           "Annapurna Circuit Trek",
           17
          ],
          [
           "Everest Base Camp Luxury Lodge Trek",
           15
          ],
          [
           "Everest Base Camp Trek via Gokyo Lakes and Cho La Pass",
           18
          ],
          [
           "Upper Mustang Trek",
           17
          ],
          [
           "Everest Advanced Base Camp Trek from Tibet",
           18
          ],
          [
           "Gokyo Lakes and Gokyo Ri Trek",
           14
          ],
          [
           "Mardi Himal Trek",
           10
          ],
          [
           "Manaslu Circuit Trek",
           18
          ],
          [
           "Langtang Valley Trek",
           11
          ],
          [
           "Annapurna Sanctuary Trek",
           14
          ],
          [
           "Rara Lake Trek",
           15
          ],
          [
           "Everest High Passes Trek",
           20
          ],
          [
           "Kanchenjunga Circuit Trek",
           25
          ],
          [
           "Everest View Trek",
           12
          ],
          [
           "Tsum Valley Trek",
           19
          ],
          [
           "The Royal Trek",
           9
          ],
          [
           "Makalu Base Camp Trek",
           22
          ],
          [
           "Langtang Gosainkunda and Helambu Trek",
           17
          ],
          [
           "Nar Phu Valley Trek",
           19
          ],
          [
           "Annapurna Circle Trek",
           14
          ],
          [
           "Everest Kangshung Face Trek",
           21
          ],
          [
           "Tsum Valley and Manaslu Trek",
           27
          ],
          [
           "Khopra Ridge Community Trek",
           13
          ],
          [
           "Nepal Experience Tour",
           12
          ],
          [
           "Annapurna Circuit Trek with Tilicho Lake and Poon Hill",
           20
          ],
          [
           "Annapurna With Tilicho Lake Trek",
           17
          ],
          [
           "Langtang Valley Trek with Ganja la Pass",
           14
          ],
          [
           "Tamang Heritage Trek",
           14
          ],
          [
           "Manaslu and Annapurna Trek with Tilicho Lake",
           25
          ],
          [
           "Nepal Trekking and Everest Himalaya Heli Tour",
           7
          ],
          [
           "Nepal Hiking and Culture Tour",
           8
          ],
          [
           "Annapurna Sunrise and Everest View Trek",
           17
          ],
          [
           "Tenzing Hillary Everest Marathon",
           20
          ],
          [
           "Everest Base Camp Trek",
           16
          ],
          [
           "Everest Kalapathar Trekking",
           15
          ],
          [
           "Everest Panorama Trek",
           10
          ],
          [
           "Everest Base Camp Trek via Gokyo Lake",
           19
          ],
          [
           "Gokyo Lake Trek",
           13
          ],
          [
           "Annapurna Circuit Trek",
           19
          ],
          [
           "Annapurna Base Camp Trek",
           16
          ],
          [
           "Manaslu Circuit Trek",
           17
          ]
         ],
         "hovertemplate": "Cost=%{y}<br>Trek=%{customdata[0]}<br>Time=%{customdata[1]}<extra></extra>",
         "legendgroup": "",
         "marker": {
          "color": "#636efa"
         },
         "name": "",
         "notched": false,
         "offsetgroup": "",
         "orientation": "v",
         "showlegend": false,
         "x0": " ",
         "xaxis": "x",
         "y": [
          1420.0,
          1295.0,
          1800.0,
          1720.0,
          1450.0,
          1950.0,
          1060.0,
          1150.0,
          1100.0,
          1900.0,
          1090.0,
          1090.0,
          980.0,
          1750.0,
          850.0,
          850.0,
          1350.0,
          1250.0,
          1250.0,
          1450.0,
          860.0,
          1450.0,
          1450.0,
          1380.0,
          1850.0,
          750.0,
          1180.0,
          920.0,
          750.0,
          780.0,
          1499.0,
          1750.0,
          1499.0,
          1499.0,
          1499.0,
          1499.0,
          1499.0,
          1499.0,
          1499.0,
          1499.0,
          1499.0,
          1499.0,
          1499.0,
          1499.0,
          1499.0,
          1499.0,
          1499.0,
          1499.0,
          1499.0,
          1499.0,
          1499.0,
          1499.0,
          1499.0,
          1499.0,
          1499.0,
          1499.0,
          1499.0,
          1499.0,
          1499.0,
          1499.0,
          1499.0,
          1499.0,
          1499.0,
          1499.0,
          1499.0,
          1499.0,
          1499.0,
          1450.0,
          1390.0,
          1040.0,
          1530.0,
          1190.0,
          1100.0,
          1090.0,
          1190.0,
          1090.0,
          1090.0,
          980.0,
          1750.0,
          850.0,
          850.0,
          1350.0,
          1250.0,
          1250.0,
          1450.0,
          860.0,
          1450.0,
          1450.0,
          1380.0,
          1850.0,
          750.0,
          1180.0,
          920.0,
          750.0,
          780.0,
          1499.0,
          1750.0,
          1499.0,
          1499.0,
          1499.0,
          1499.0,
          1499.0,
          1499.0,
          1499.0,
          1499.0,
          1499.0,
          1499.0,
          1499.0,
          1499.0,
          1499.0,
          1499.0,
          1499.0,
          1499.0,
          1499.0,
          1499.0,
          1499.0,
          1499.0,
          1499.0,
          1499.0,
          1499.0,
          1499.0,
          1499.0,
          1499.0,
          1499.0,
          1499.0,
          1499.0,
          1499.0,
          1499.0,
          1499.0,
          1499.0,
          1499.0,
          1499.0,
          1450.0,
          1390.0,
          1040.0,
          1530.0,
          1190.0,
          1100.0,
          1090.0,
          1190.0,
          1090.0,
          1090.0,
          980.0,
          1750.0,
          850.0,
          850.0,
          1350.0,
          1250.0,
          1250.0,
          1450.0,
          860.0,
          1450.0,
          1450.0,
          1380.0,
          1850.0,
          750.0,
          1180.0,
          920.0,
          750.0,
          780.0,
          1499.0,
          1750.0,
          1499.0,
          1499.0,
          1499.0,
          1499.0,
          1499.0,
          1499.0,
          1499.0,
          1499.0,
          1499.0,
          1499.0,
          1499.0,
          1499.0,
          1499.0,
          1499.0,
          1499.0,
          1499.0,
          1499.0,
          1499.0,
          1499.0,
          1499.0,
          1499.0,
          1499.0,
          1499.0,
          1499.0,
          1499.0,
          1499.0,
          1499.0,
          1499.0,
          1499.0,
          1499.0,
          1499.0,
          1499.0,
          1499.0,
          1499.0,
          1499.0,
          1450.0,
          1390.0,
          1040.0,
          1530.0,
          1190.0,
          1100.0,
          1090.0,
          1190.0,
          1090.0,
          1090.0,
          980.0,
          1750.0,
          850.0,
          850.0,
          1350.0,
          1250.0,
          1250.0,
          1450.0,
          860.0,
          1450.0,
          1450.0,
          1380.0,
          1850.0,
          750.0,
          1180.0,
          920.0,
          750.0,
          780.0,
          1499.0,
          1750.0,
          1499.0,
          1499.0,
          1499.0,
          1499.0,
          1499.0,
          1499.0,
          1499.0,
          1499.0,
          1499.0,
          1499.0,
          1499.0,
          1499.0,
          1499.0,
          1499.0,
          1499.0,
          1499.0,
          1499.0,
          1499.0,
          1499.0,
          1499.0,
          1499.0,
          1499.0,
          1499.0,
          1499.0,
          1499.0,
          1499.0,
          1499.0,
          1499.0,
          1499.0,
          1499.0,
          1499.0,
          1499.0,
          1499.0,
          1499.0,
          1499.0,
          1450.0,
          1390.0,
          1040.0,
          1530.0,
          1190.0,
          1100.0,
          1090.0,
          1190.0,
          1090.0,
          1090.0,
          980.0,
          1750.0,
          850.0,
          850.0,
          1350.0,
          1250.0,
          1250.0,
          1450.0,
          860.0,
          1450.0,
          1450.0,
          1380.0,
          1850.0,
          750.0,
          1180.0,
          920.0,
          750.0,
          780.0,
          1499.0,
          1750.0,
          1499.0,
          1499.0,
          1499.0,
          1499.0,
          1499.0,
          1499.0,
          1499.0,
          1499.0,
          1499.0,
          1499.0,
          1499.0,
          1499.0,
          1499.0,
          1499.0,
          1499.0,
          1499.0,
          1499.0,
          1499.0,
          1499.0,
          1499.0,
          1499.0,
          1499.0,
          1499.0,
          1499.0,
          1499.0,
          1499.0,
          1499.0,
          1499.0,
          1499.0,
          1499.0,
          1499.0,
          1499.0,
          1499.0,
          1499.0,
          1499.0,
          1450.0,
          1390.0,
          1040.0,
          1530.0,
          1190.0,
          1100.0,
          1090.0,
          1190.0
         ],
         "y0": " ",
         "yaxis": "y",
         "type": "box"
        }
       ],
       "layout": {
        "template": {
         "data": {
          "histogram2dcontour": [
           {
            "type": "histogram2dcontour",
            "colorbar": {
             "outlinewidth": 0,
             "ticks": ""
            },
            "colorscale": [
             [
              0.0,
              "#0d0887"
             ],
             [
              0.1111111111111111,
              "#46039f"
             ],
             [
              0.2222222222222222,
              "#7201a8"
             ],
             [
              0.3333333333333333,
              "#9c179e"
             ],
             [
              0.4444444444444444,
              "#bd3786"
             ],
             [
              0.5555555555555556,
              "#d8576b"
             ],
             [
              0.6666666666666666,
              "#ed7953"
             ],
             [
              0.7777777777777778,
              "#fb9f3a"
             ],
             [
              0.8888888888888888,
              "#fdca26"
             ],
             [
              1.0,
              "#f0f921"
             ]
            ]
           }
          ],
          "choropleth": [
           {
            "type": "choropleth",
            "colorbar": {
             "outlinewidth": 0,
             "ticks": ""
            }
           }
          ],
          "histogram2d": [
           {
            "type": "histogram2d",
            "colorbar": {
             "outlinewidth": 0,
             "ticks": ""
            },
            "colorscale": [
             [
              0.0,
              "#0d0887"
             ],
             [
              0.1111111111111111,
              "#46039f"
             ],
             [
              0.2222222222222222,
              "#7201a8"
             ],
             [
              0.3333333333333333,
              "#9c179e"
             ],
             [
              0.4444444444444444,
              "#bd3786"
             ],
             [
              0.5555555555555556,
              "#d8576b"
             ],
             [
              0.6666666666666666,
              "#ed7953"
             ],
             [
              0.7777777777777778,
              "#fb9f3a"
             ],
             [
              0.8888888888888888,
              "#fdca26"
             ],
             [
              1.0,
              "#f0f921"
             ]
            ]
           }
          ],
          "heatmap": [
           {
            "type": "heatmap",
            "colorbar": {
             "outlinewidth": 0,
             "ticks": ""
            },
            "colorscale": [
             [
              0.0,
              "#0d0887"
             ],
             [
              0.1111111111111111,
              "#46039f"
             ],
             [
              0.2222222222222222,
              "#7201a8"
             ],
             [
              0.3333333333333333,
              "#9c179e"
             ],
             [
              0.4444444444444444,
              "#bd3786"
             ],
             [
              0.5555555555555556,
              "#d8576b"
             ],
             [
              0.6666666666666666,
              "#ed7953"
             ],
             [
              0.7777777777777778,
              "#fb9f3a"
             ],
             [
              0.8888888888888888,
              "#fdca26"
             ],
             [
              1.0,
              "#f0f921"
             ]
            ]
           }
          ],
          "heatmapgl": [
           {
            "type": "heatmapgl",
            "colorbar": {
             "outlinewidth": 0,
             "ticks": ""
            },
            "colorscale": [
             [
              0.0,
              "#0d0887"
             ],
             [
              0.1111111111111111,
              "#46039f"
             ],
             [
              0.2222222222222222,
              "#7201a8"
             ],
             [
              0.3333333333333333,
              "#9c179e"
             ],
             [
              0.4444444444444444,
              "#bd3786"
             ],
             [
              0.5555555555555556,
              "#d8576b"
             ],
             [
              0.6666666666666666,
              "#ed7953"
             ],
             [
              0.7777777777777778,
              "#fb9f3a"
             ],
             [
              0.8888888888888888,
              "#fdca26"
             ],
             [
              1.0,
              "#f0f921"
             ]
            ]
           }
          ],
          "contourcarpet": [
           {
            "type": "contourcarpet",
            "colorbar": {
             "outlinewidth": 0,
             "ticks": ""
            }
           }
          ],
          "contour": [
           {
            "type": "contour",
            "colorbar": {
             "outlinewidth": 0,
             "ticks": ""
            },
            "colorscale": [
             [
              0.0,
              "#0d0887"
             ],
             [
              0.1111111111111111,
              "#46039f"
             ],
             [
              0.2222222222222222,
              "#7201a8"
             ],
             [
              0.3333333333333333,
              "#9c179e"
             ],
             [
              0.4444444444444444,
              "#bd3786"
             ],
             [
              0.5555555555555556,
              "#d8576b"
             ],
             [
              0.6666666666666666,
              "#ed7953"
             ],
             [
              0.7777777777777778,
              "#fb9f3a"
             ],
             [
              0.8888888888888888,
              "#fdca26"
             ],
             [
              1.0,
              "#f0f921"
             ]
            ]
           }
          ],
          "surface": [
           {
            "type": "surface",
            "colorbar": {
             "outlinewidth": 0,
             "ticks": ""
            },
            "colorscale": [
             [
              0.0,
              "#0d0887"
             ],
             [
              0.1111111111111111,
              "#46039f"
             ],
             [
              0.2222222222222222,
              "#7201a8"
             ],
             [
              0.3333333333333333,
              "#9c179e"
             ],
             [
              0.4444444444444444,
              "#bd3786"
             ],
             [
              0.5555555555555556,
              "#d8576b"
             ],
             [
              0.6666666666666666,
              "#ed7953"
             ],
             [
              0.7777777777777778,
              "#fb9f3a"
             ],
             [
              0.8888888888888888,
              "#fdca26"
             ],
             [
              1.0,
              "#f0f921"
             ]
            ]
           }
          ],
          "mesh3d": [
           {
            "type": "mesh3d",
            "colorbar": {
             "outlinewidth": 0,
             "ticks": ""
            }
           }
          ],
          "scatter": [
           {
            "marker": {
             "line": {
              "color": "#283442"
             }
            },
            "type": "scatter"
           }
          ],
          "parcoords": [
           {
            "type": "parcoords",
            "line": {
             "colorbar": {
              "outlinewidth": 0,
              "ticks": ""
             }
            }
           }
          ],
          "scatterpolargl": [
           {
            "type": "scatterpolargl",
            "marker": {
             "colorbar": {
              "outlinewidth": 0,
              "ticks": ""
             }
            }
           }
          ],
          "bar": [
           {
            "error_x": {
             "color": "#f2f5fa"
            },
            "error_y": {
             "color": "#f2f5fa"
            },
            "marker": {
             "line": {
              "color": "rgb(17,17,17)",
              "width": 0.5
             },
             "pattern": {
              "fillmode": "overlay",
              "size": 10,
              "solidity": 0.2
             }
            },
            "type": "bar"
           }
          ],
          "scattergeo": [
           {
            "type": "scattergeo",
            "marker": {
             "colorbar": {
              "outlinewidth": 0,
              "ticks": ""
             }
            }
           }
          ],
          "scatterpolar": [
           {
            "type": "scatterpolar",
            "marker": {
             "colorbar": {
              "outlinewidth": 0,
              "ticks": ""
             }
            }
           }
          ],
          "histogram": [
           {
            "marker": {
             "pattern": {
              "fillmode": "overlay",
              "size": 10,
              "solidity": 0.2
             }
            },
            "type": "histogram"
           }
          ],
          "scattergl": [
           {
            "marker": {
             "line": {
              "color": "#283442"
             }
            },
            "type": "scattergl"
           }
          ],
          "scatter3d": [
           {
            "type": "scatter3d",
            "line": {
             "colorbar": {
              "outlinewidth": 0,
              "ticks": ""
             }
            },
            "marker": {
             "colorbar": {
              "outlinewidth": 0,
              "ticks": ""
             }
            }
           }
          ],
          "scattermapbox": [
           {
            "type": "scattermapbox",
            "marker": {
             "colorbar": {
              "outlinewidth": 0,
              "ticks": ""
             }
            }
           }
          ],
          "scatterternary": [
           {
            "type": "scatterternary",
            "marker": {
             "colorbar": {
              "outlinewidth": 0,
              "ticks": ""
             }
            }
           }
          ],
          "scattercarpet": [
           {
            "type": "scattercarpet",
            "marker": {
             "colorbar": {
              "outlinewidth": 0,
              "ticks": ""
             }
            }
           }
          ],
          "carpet": [
           {
            "aaxis": {
             "endlinecolor": "#A2B1C6",
             "gridcolor": "#506784",
             "linecolor": "#506784",
             "minorgridcolor": "#506784",
             "startlinecolor": "#A2B1C6"
            },
            "baxis": {
             "endlinecolor": "#A2B1C6",
             "gridcolor": "#506784",
             "linecolor": "#506784",
             "minorgridcolor": "#506784",
             "startlinecolor": "#A2B1C6"
            },
            "type": "carpet"
           }
          ],
          "table": [
           {
            "cells": {
             "fill": {
              "color": "#506784"
             },
             "line": {
              "color": "rgb(17,17,17)"
             }
            },
            "header": {
             "fill": {
              "color": "#2a3f5f"
             },
             "line": {
              "color": "rgb(17,17,17)"
             }
            },
            "type": "table"
           }
          ],
          "barpolar": [
           {
            "marker": {
             "line": {
              "color": "rgb(17,17,17)",
              "width": 0.5
             },
             "pattern": {
              "fillmode": "overlay",
              "size": 10,
              "solidity": 0.2
             }
            },
            "type": "barpolar"
           }
          ],
          "pie": [
           {
            "automargin": true,
            "type": "pie"
           }
          ]
         },
         "layout": {
          "autotypenumbers": "strict",
          "colorway": [
           "#636efa",
           "#EF553B",
           "#00cc96",
           "#ab63fa",
           "#FFA15A",
           "#19d3f3",
           "#FF6692",
           "#B6E880",
           "#FF97FF",
           "#FECB52"
          ],
          "font": {
           "color": "#f2f5fa"
          },
          "hovermode": "closest",
          "hoverlabel": {
           "align": "left"
          },
          "paper_bgcolor": "rgb(17,17,17)",
          "plot_bgcolor": "rgb(17,17,17)",
          "polar": {
           "bgcolor": "rgb(17,17,17)",
           "angularaxis": {
            "gridcolor": "#506784",
            "linecolor": "#506784",
            "ticks": ""
           },
           "radialaxis": {
            "gridcolor": "#506784",
            "linecolor": "#506784",
            "ticks": ""
           }
          },
          "ternary": {
           "bgcolor": "rgb(17,17,17)",
           "aaxis": {
            "gridcolor": "#506784",
            "linecolor": "#506784",
            "ticks": ""
           },
           "baxis": {
            "gridcolor": "#506784",
            "linecolor": "#506784",
            "ticks": ""
           },
           "caxis": {
            "gridcolor": "#506784",
            "linecolor": "#506784",
            "ticks": ""
           }
          },
          "coloraxis": {
           "colorbar": {
            "outlinewidth": 0,
            "ticks": ""
           }
          },
          "colorscale": {
           "sequential": [
            [
             0.0,
             "#0d0887"
            ],
            [
             0.1111111111111111,
             "#46039f"
            ],
            [
             0.2222222222222222,
             "#7201a8"
            ],
            [
             0.3333333333333333,
             "#9c179e"
            ],
            [
             0.4444444444444444,
             "#bd3786"
            ],
            [
             0.5555555555555556,
             "#d8576b"
            ],
            [
             0.6666666666666666,
             "#ed7953"
            ],
            [
             0.7777777777777778,
             "#fb9f3a"
            ],
            [
             0.8888888888888888,
             "#fdca26"
            ],
            [
             1.0,
             "#f0f921"
            ]
           ],
           "sequentialminus": [
            [
             0.0,
             "#0d0887"
            ],
            [
             0.1111111111111111,
             "#46039f"
            ],
            [
             0.2222222222222222,
             "#7201a8"
            ],
            [
             0.3333333333333333,
             "#9c179e"
            ],
            [
             0.4444444444444444,
             "#bd3786"
            ],
            [
             0.5555555555555556,
             "#d8576b"
            ],
            [
             0.6666666666666666,
             "#ed7953"
            ],
            [
             0.7777777777777778,
             "#fb9f3a"
            ],
            [
             0.8888888888888888,
             "#fdca26"
            ],
            [
             1.0,
             "#f0f921"
            ]
           ],
           "diverging": [
            [
             0,
             "#8e0152"
            ],
            [
             0.1,
             "#c51b7d"
            ],
            [
             0.2,
             "#de77ae"
            ],
            [
             0.3,
             "#f1b6da"
            ],
            [
             0.4,
             "#fde0ef"
            ],
            [
             0.5,
             "#f7f7f7"
            ],
            [
             0.6,
             "#e6f5d0"
            ],
            [
             0.7,
             "#b8e186"
            ],
            [
             0.8,
             "#7fbc41"
            ],
            [
             0.9,
             "#4d9221"
            ],
            [
             1,
             "#276419"
            ]
           ]
          },
          "xaxis": {
           "gridcolor": "#283442",
           "linecolor": "#506784",
           "ticks": "",
           "title": {
            "standoff": 15
           },
           "zerolinecolor": "#283442",
           "automargin": true,
           "zerolinewidth": 2
          },
          "yaxis": {
           "gridcolor": "#283442",
           "linecolor": "#506784",
           "ticks": "",
           "title": {
            "standoff": 15
           },
           "zerolinecolor": "#283442",
           "automargin": true,
           "zerolinewidth": 2
          },
          "scene": {
           "xaxis": {
            "backgroundcolor": "rgb(17,17,17)",
            "gridcolor": "#506784",
            "linecolor": "#506784",
            "showbackground": true,
            "ticks": "",
            "zerolinecolor": "#C8D4E3",
            "gridwidth": 2
           },
           "yaxis": {
            "backgroundcolor": "rgb(17,17,17)",
            "gridcolor": "#506784",
            "linecolor": "#506784",
            "showbackground": true,
            "ticks": "",
            "zerolinecolor": "#C8D4E3",
            "gridwidth": 2
           },
           "zaxis": {
            "backgroundcolor": "rgb(17,17,17)",
            "gridcolor": "#506784",
            "linecolor": "#506784",
            "showbackground": true,
            "ticks": "",
            "zerolinecolor": "#C8D4E3",
            "gridwidth": 2
           }
          },
          "shapedefaults": {
           "line": {
            "color": "#f2f5fa"
           }
          },
          "annotationdefaults": {
           "arrowcolor": "#f2f5fa",
           "arrowhead": 0,
           "arrowwidth": 1
          },
          "geo": {
           "bgcolor": "rgb(17,17,17)",
           "landcolor": "rgb(17,17,17)",
           "subunitcolor": "#506784",
           "showland": true,
           "showlakes": true,
           "lakecolor": "rgb(17,17,17)"
          },
          "title": {
           "x": 0.05
          },
          "updatemenudefaults": {
           "bgcolor": "#506784",
           "borderwidth": 0
          },
          "sliderdefaults": {
           "bgcolor": "#C8D4E3",
           "borderwidth": 1,
           "bordercolor": "rgb(17,17,17)",
           "tickwidth": 0
          },
          "mapbox": {
           "style": "dark"
          }
         }
        },
        "xaxis": {
         "anchor": "y",
         "domain": [
          0.0,
          1.0
         ]
        },
        "yaxis": {
         "anchor": "x",
         "domain": [
          0.0,
          1.0
         ],
         "title": {
          "text": "Cost"
         }
        },
        "legend": {
         "tracegroupgap": 0
        },
        "title": {
         "text": "Box plot for Trek Costs"
        },
        "boxmode": "group"
       },
       "config": {
        "plotlyServerURL": "https://plot.ly"
       }
      },
      "text/html": [
       "<div>                            <div id=\"b9783bd1-f917-4f68-b9b5-b338c62bd3c8\" class=\"plotly-graph-div\" style=\"height:525px; width:100%;\"></div>            <script type=\"text/javascript\">                require([\"plotly\"], function(Plotly) {                    window.PLOTLYENV=window.PLOTLYENV || {};                                    if (document.getElementById(\"b9783bd1-f917-4f68-b9b5-b338c62bd3c8\")) {                    Plotly.newPlot(                        \"b9783bd1-f917-4f68-b9b5-b338c62bd3c8\",                        [{\"alignmentgroup\":\"True\",\"customdata\":[[\"Everest Base Camp Trek\",16],[\"Everest Base Camp Short Trek\",14],[\"Everest Base Camp Trek for Seniors\",20],[\"Everest Chola Pass Trek\",19],[\"Gokyo Lake Renjo La Pass Trek\",16],[\"Everest High Passes Trek\",22],[\"Short Everest Trek\",7],[\"Everest Panorama Trek\",10],[\"Everest View Trek\",9],[\"Everest Base Camp Trek with Chola and Renjo La Pass\",21],[\"Annapurna Base Camp Trek\",14],[\"Annapurna Base Camp Short Trek\",11],[\"Instant Annapurna Base Camp Trek\",9],[\"Annapurna Base Camp Heli Trek\",9],[\"Mardi Himal Trek\",9],[\"Mardi Himal Trekking\",8],[\"Classic Annapurna Circuit Trek\",18],[\"Annapurna Circuit Trek\",14],[\"Annapurna Circuit Short Trek\",12],[\"Annapurna Luxury Trek\",9],[\"Annapurna Panorama Trek\",9],[\"Annapurna Tilicho Lake Trek\",17],[\"Manaslu Circuit Trek\",15],[\"Manaslu Circuit Trekking\",14],[\"Tsum Valley with Manaslu Trek\",20],[\"Langtang Valley Trek\",10],[\"Langtang Gosaikunda Trek\",16],[\"Tamang Heritage Trek\",14],[\"Tamang Heritage Trail\",8],[\"Helambu Trek\",9],[\"Annapurna Base Camp Trek\",11],[\"Everest Base Camp Trek for Youths\",14],[\"Everest Base Camp Short Trek\",14],[\"Everest Base Camp Trek\",16],[\"Annapurna Circuit Trek\",17],[\"Everest Base Camp Luxury Lodge Trek\",15],[\"Everest Base Camp Trek via Gokyo Lakes and Cho La Pass\",18],[\"Upper Mustang Trek\",17],[\"Everest Advanced Base Camp Trek from Tibet\",18],[\"Gokyo Lakes and Gokyo Ri Trek\",14],[\"Mardi Himal Trek\",10],[\"Manaslu Circuit Trek\",18],[\"Langtang Valley Trek\",11],[\"Annapurna Sanctuary Trek\",14],[\"Rara Lake Trek\",15],[\"Everest High Passes Trek\",20],[\"Kanchenjunga Circuit Trek\",25],[\"Everest View Trek\",12],[\"Tsum Valley Trek\",19],[\"The Royal Trek\",9],[\"Makalu Base Camp Trek\",22],[\"Langtang Gosainkunda and Helambu Trek\",17],[\"Nar Phu Valley Trek\",19],[\"Annapurna Circle Trek\",14],[\"Everest Kangshung Face Trek\",21],[\"Tsum Valley and Manaslu Trek\",27],[\"Khopra Ridge Community Trek\",13],[\"Nepal Experience Tour\",12],[\"Annapurna Circuit Trek with Tilicho Lake and Poon Hill\",20],[\"Annapurna With Tilicho Lake Trek\",17],[\"Langtang Valley Trek with Ganja la Pass\",14],[\"Tamang Heritage Trek\",14],[\"Manaslu and Annapurna Trek with Tilicho Lake\",25],[\"Nepal Trekking and Everest Himalaya Heli Tour\",7],[\"Nepal Hiking and Culture Tour\",8],[\"Annapurna Sunrise and Everest View Trek\",17],[\"Tenzing Hillary Everest Marathon\",20],[\"Everest Base Camp Trek\",16],[\"Everest Kalapathar Trekking\",15],[\"Everest Panorama Trek\",10],[\"Everest Base Camp Trek via Gokyo Lake\",19],[\"Gokyo Lake Trek\",13],[\"Annapurna Circuit Trek\",19],[\"Annapurna Base Camp Trek\",16],[\"Manaslu Circuit Trek\",17],[\"Annapurna Base Camp Trek\",14],[\"Annapurna Base Camp Short Trek\",11],[\"Instant Annapurna Base Camp Trek\",9],[\"Annapurna Base Camp Heli Trek\",9],[\"Mardi Himal Trek\",9],[\"Mardi Himal Trekking\",8],[\"Classic Annapurna Circuit Trek\",18],[\"Annapurna Circuit Trek\",14],[\"Annapurna Circuit Short Trek\",12],[\"Annapurna Luxury Trek\",9],[\"Annapurna Panorama Trek\",9],[\"Annapurna Tilicho Lake Trek\",17],[\"Manaslu Circuit Trek\",15],[\"Manaslu Circuit Trekking\",14],[\"Tsum Valley with Manaslu Trek\",20],[\"Langtang Valley Trek\",10],[\"Langtang Gosaikunda Trek\",16],[\"Tamang Heritage Trek\",14],[\"Tamang Heritage Trail\",8],[\"Helambu Trek\",9],[\"Annapurna Base Camp Trek\",11],[\"Everest Base Camp Trek for Youths\",14],[\"Everest Base Camp Short Trek\",14],[\"Everest Base Camp Trek\",16],[\"Annapurna Circuit Trek\",17],[\"Everest Base Camp Luxury Lodge Trek\",15],[\"Everest Base Camp Trek via Gokyo Lakes and Cho La Pass\",18],[\"Upper Mustang Trek\",17],[\"Everest Advanced Base Camp Trek from Tibet\",18],[\"Gokyo Lakes and Gokyo Ri Trek\",14],[\"Mardi Himal Trek\",10],[\"Manaslu Circuit Trek\",18],[\"Langtang Valley Trek\",11],[\"Annapurna Sanctuary Trek\",14],[\"Rara Lake Trek\",15],[\"Everest High Passes Trek\",20],[\"Kanchenjunga Circuit Trek\",25],[\"Everest View Trek\",12],[\"Tsum Valley Trek\",19],[\"The Royal Trek\",9],[\"Makalu Base Camp Trek\",22],[\"Langtang Gosainkunda and Helambu Trek\",17],[\"Nar Phu Valley Trek\",19],[\"Annapurna Circle Trek\",14],[\"Everest Kangshung Face Trek\",21],[\"Tsum Valley and Manaslu Trek\",27],[\"Khopra Ridge Community Trek\",13],[\"Nepal Experience Tour\",12],[\"Annapurna Circuit Trek with Tilicho Lake and Poon Hill\",20],[\"Annapurna With Tilicho Lake Trek\",17],[\"Langtang Valley Trek with Ganja la Pass\",14],[\"Tamang Heritage Trek\",14],[\"Manaslu and Annapurna Trek with Tilicho Lake\",25],[\"Nepal Trekking and Everest Himalaya Heli Tour\",7],[\"Nepal Hiking and Culture Tour\",8],[\"Annapurna Sunrise and Everest View Trek\",17],[\"Tenzing Hillary Everest Marathon\",20],[\"Everest Base Camp Trek\",16],[\"Everest Kalapathar Trekking\",15],[\"Everest Panorama Trek\",10],[\"Everest Base Camp Trek via Gokyo Lake\",19],[\"Gokyo Lake Trek\",13],[\"Annapurna Circuit Trek\",19],[\"Annapurna Base Camp Trek\",16],[\"Manaslu Circuit Trek\",17],[\"Annapurna Base Camp Trek\",14],[\"Annapurna Base Camp Short Trek\",11],[\"Instant Annapurna Base Camp Trek\",9],[\"Annapurna Base Camp Heli Trek\",9],[\"Mardi Himal Trek\",9],[\"Mardi Himal Trekking\",8],[\"Classic Annapurna Circuit Trek\",18],[\"Annapurna Circuit Trek\",14],[\"Annapurna Circuit Short Trek\",12],[\"Annapurna Luxury Trek\",9],[\"Annapurna Panorama Trek\",9],[\"Annapurna Tilicho Lake Trek\",17],[\"Manaslu Circuit Trek\",15],[\"Manaslu Circuit Trekking\",14],[\"Tsum Valley with Manaslu Trek\",20],[\"Langtang Valley Trek\",10],[\"Langtang Gosaikunda Trek\",16],[\"Tamang Heritage Trek\",14],[\"Tamang Heritage Trail\",8],[\"Helambu Trek\",9],[\"Annapurna Base Camp Trek\",11],[\"Everest Base Camp Trek for Youths\",14],[\"Everest Base Camp Short Trek\",14],[\"Everest Base Camp Trek\",16],[\"Annapurna Circuit Trek\",17],[\"Everest Base Camp Luxury Lodge Trek\",15],[\"Everest Base Camp Trek via Gokyo Lakes and Cho La Pass\",18],[\"Upper Mustang Trek\",17],[\"Everest Advanced Base Camp Trek from Tibet\",18],[\"Gokyo Lakes and Gokyo Ri Trek\",14],[\"Mardi Himal Trek\",10],[\"Manaslu Circuit Trek\",18],[\"Langtang Valley Trek\",11],[\"Annapurna Sanctuary Trek\",14],[\"Rara Lake Trek\",15],[\"Everest High Passes Trek\",20],[\"Kanchenjunga Circuit Trek\",25],[\"Everest View Trek\",12],[\"Tsum Valley Trek\",19],[\"The Royal Trek\",9],[\"Makalu Base Camp Trek\",22],[\"Langtang Gosainkunda and Helambu Trek\",17],[\"Nar Phu Valley Trek\",19],[\"Annapurna Circle Trek\",14],[\"Everest Kangshung Face Trek\",21],[\"Tsum Valley and Manaslu Trek\",27],[\"Khopra Ridge Community Trek\",13],[\"Nepal Experience Tour\",12],[\"Annapurna Circuit Trek with Tilicho Lake and Poon Hill\",20],[\"Annapurna With Tilicho Lake Trek\",17],[\"Langtang Valley Trek with Ganja la Pass\",14],[\"Tamang Heritage Trek\",14],[\"Manaslu and Annapurna Trek with Tilicho Lake\",25],[\"Nepal Trekking and Everest Himalaya Heli Tour\",7],[\"Nepal Hiking and Culture Tour\",8],[\"Annapurna Sunrise and Everest View Trek\",17],[\"Tenzing Hillary Everest Marathon\",20],[\"Everest Base Camp Trek\",16],[\"Everest Kalapathar Trekking\",15],[\"Everest Panorama Trek\",10],[\"Everest Base Camp Trek via Gokyo Lake\",19],[\"Gokyo Lake Trek\",13],[\"Annapurna Circuit Trek\",19],[\"Annapurna Base Camp Trek\",16],[\"Manaslu Circuit Trek\",17],[\"Annapurna Base Camp Trek\",14],[\"Annapurna Base Camp Short Trek\",11],[\"Instant Annapurna Base Camp Trek\",9],[\"Annapurna Base Camp Heli Trek\",9],[\"Mardi Himal Trek\",9],[\"Mardi Himal Trekking\",8],[\"Classic Annapurna Circuit Trek\",18],[\"Annapurna Circuit Trek\",14],[\"Annapurna Circuit Short Trek\",12],[\"Annapurna Luxury Trek\",9],[\"Annapurna Panorama Trek\",9],[\"Annapurna Tilicho Lake Trek\",17],[\"Manaslu Circuit Trek\",15],[\"Manaslu Circuit Trekking\",14],[\"Tsum Valley with Manaslu Trek\",20],[\"Langtang Valley Trek\",10],[\"Langtang Gosaikunda Trek\",16],[\"Tamang Heritage Trek\",14],[\"Tamang Heritage Trail\",8],[\"Helambu Trek\",9],[\"Annapurna Base Camp Trek\",11],[\"Everest Base Camp Trek for Youths\",14],[\"Everest Base Camp Short Trek\",14],[\"Everest Base Camp Trek\",16],[\"Annapurna Circuit Trek\",17],[\"Everest Base Camp Luxury Lodge Trek\",15],[\"Everest Base Camp Trek via Gokyo Lakes and Cho La Pass\",18],[\"Upper Mustang Trek\",17],[\"Everest Advanced Base Camp Trek from Tibet\",18],[\"Gokyo Lakes and Gokyo Ri Trek\",14],[\"Mardi Himal Trek\",10],[\"Manaslu Circuit Trek\",18],[\"Langtang Valley Trek\",11],[\"Annapurna Sanctuary Trek\",14],[\"Rara Lake Trek\",15],[\"Everest High Passes Trek\",20],[\"Kanchenjunga Circuit Trek\",25],[\"Everest View Trek\",12],[\"Tsum Valley Trek\",19],[\"The Royal Trek\",9],[\"Makalu Base Camp Trek\",22],[\"Langtang Gosainkunda and Helambu Trek\",17],[\"Nar Phu Valley Trek\",19],[\"Annapurna Circle Trek\",14],[\"Everest Kangshung Face Trek\",21],[\"Tsum Valley and Manaslu Trek\",27],[\"Khopra Ridge Community Trek\",13],[\"Nepal Experience Tour\",12],[\"Annapurna Circuit Trek with Tilicho Lake and Poon Hill\",20],[\"Annapurna With Tilicho Lake Trek\",17],[\"Langtang Valley Trek with Ganja la Pass\",14],[\"Tamang Heritage Trek\",14],[\"Manaslu and Annapurna Trek with Tilicho Lake\",25],[\"Nepal Trekking and Everest Himalaya Heli Tour\",7],[\"Nepal Hiking and Culture Tour\",8],[\"Annapurna Sunrise and Everest View Trek\",17],[\"Tenzing Hillary Everest Marathon\",20],[\"Everest Base Camp Trek\",16],[\"Everest Kalapathar Trekking\",15],[\"Everest Panorama Trek\",10],[\"Everest Base Camp Trek via Gokyo Lake\",19],[\"Gokyo Lake Trek\",13],[\"Annapurna Circuit Trek\",19],[\"Annapurna Base Camp Trek\",16],[\"Manaslu Circuit Trek\",17],[\"Annapurna Base Camp Trek\",14],[\"Annapurna Base Camp Short Trek\",11],[\"Instant Annapurna Base Camp Trek\",9],[\"Annapurna Base Camp Heli Trek\",9],[\"Mardi Himal Trek\",9],[\"Mardi Himal Trekking\",8],[\"Classic Annapurna Circuit Trek\",18],[\"Annapurna Circuit Trek\",14],[\"Annapurna Circuit Short Trek\",12],[\"Annapurna Luxury Trek\",9],[\"Annapurna Panorama Trek\",9],[\"Annapurna Tilicho Lake Trek\",17],[\"Manaslu Circuit Trek\",15],[\"Manaslu Circuit Trekking\",14],[\"Tsum Valley with Manaslu Trek\",20],[\"Langtang Valley Trek\",10],[\"Langtang Gosaikunda Trek\",16],[\"Tamang Heritage Trek\",14],[\"Tamang Heritage Trail\",8],[\"Helambu Trek\",9],[\"Annapurna Base Camp Trek\",11],[\"Everest Base Camp Trek for Youths\",14],[\"Everest Base Camp Short Trek\",14],[\"Everest Base Camp Trek\",16],[\"Annapurna Circuit Trek\",17],[\"Everest Base Camp Luxury Lodge Trek\",15],[\"Everest Base Camp Trek via Gokyo Lakes and Cho La Pass\",18],[\"Upper Mustang Trek\",17],[\"Everest Advanced Base Camp Trek from Tibet\",18],[\"Gokyo Lakes and Gokyo Ri Trek\",14],[\"Mardi Himal Trek\",10],[\"Manaslu Circuit Trek\",18],[\"Langtang Valley Trek\",11],[\"Annapurna Sanctuary Trek\",14],[\"Rara Lake Trek\",15],[\"Everest High Passes Trek\",20],[\"Kanchenjunga Circuit Trek\",25],[\"Everest View Trek\",12],[\"Tsum Valley Trek\",19],[\"The Royal Trek\",9],[\"Makalu Base Camp Trek\",22],[\"Langtang Gosainkunda and Helambu Trek\",17],[\"Nar Phu Valley Trek\",19],[\"Annapurna Circle Trek\",14],[\"Everest Kangshung Face Trek\",21],[\"Tsum Valley and Manaslu Trek\",27],[\"Khopra Ridge Community Trek\",13],[\"Nepal Experience Tour\",12],[\"Annapurna Circuit Trek with Tilicho Lake and Poon Hill\",20],[\"Annapurna With Tilicho Lake Trek\",17],[\"Langtang Valley Trek with Ganja la Pass\",14],[\"Tamang Heritage Trek\",14],[\"Manaslu and Annapurna Trek with Tilicho Lake\",25],[\"Nepal Trekking and Everest Himalaya Heli Tour\",7],[\"Nepal Hiking and Culture Tour\",8],[\"Annapurna Sunrise and Everest View Trek\",17],[\"Tenzing Hillary Everest Marathon\",20],[\"Everest Base Camp Trek\",16],[\"Everest Kalapathar Trekking\",15],[\"Everest Panorama Trek\",10],[\"Everest Base Camp Trek via Gokyo Lake\",19],[\"Gokyo Lake Trek\",13],[\"Annapurna Circuit Trek\",19],[\"Annapurna Base Camp Trek\",16],[\"Manaslu Circuit Trek\",17]],\"hovertemplate\":\"Cost=%{y}\\u003cbr\\u003eTrek=%{customdata[0]}\\u003cbr\\u003eTime=%{customdata[1]}\\u003cextra\\u003e\\u003c\\u002fextra\\u003e\",\"legendgroup\":\"\",\"marker\":{\"color\":\"#636efa\"},\"name\":\"\",\"notched\":false,\"offsetgroup\":\"\",\"orientation\":\"v\",\"showlegend\":false,\"x0\":\" \",\"xaxis\":\"x\",\"y\":[1420.0,1295.0,1800.0,1720.0,1450.0,1950.0,1060.0,1150.0,1100.0,1900.0,1090.0,1090.0,980.0,1750.0,850.0,850.0,1350.0,1250.0,1250.0,1450.0,860.0,1450.0,1450.0,1380.0,1850.0,750.0,1180.0,920.0,750.0,780.0,1499.0,1750.0,1499.0,1499.0,1499.0,1499.0,1499.0,1499.0,1499.0,1499.0,1499.0,1499.0,1499.0,1499.0,1499.0,1499.0,1499.0,1499.0,1499.0,1499.0,1499.0,1499.0,1499.0,1499.0,1499.0,1499.0,1499.0,1499.0,1499.0,1499.0,1499.0,1499.0,1499.0,1499.0,1499.0,1499.0,1499.0,1450.0,1390.0,1040.0,1530.0,1190.0,1100.0,1090.0,1190.0,1090.0,1090.0,980.0,1750.0,850.0,850.0,1350.0,1250.0,1250.0,1450.0,860.0,1450.0,1450.0,1380.0,1850.0,750.0,1180.0,920.0,750.0,780.0,1499.0,1750.0,1499.0,1499.0,1499.0,1499.0,1499.0,1499.0,1499.0,1499.0,1499.0,1499.0,1499.0,1499.0,1499.0,1499.0,1499.0,1499.0,1499.0,1499.0,1499.0,1499.0,1499.0,1499.0,1499.0,1499.0,1499.0,1499.0,1499.0,1499.0,1499.0,1499.0,1499.0,1499.0,1499.0,1499.0,1499.0,1450.0,1390.0,1040.0,1530.0,1190.0,1100.0,1090.0,1190.0,1090.0,1090.0,980.0,1750.0,850.0,850.0,1350.0,1250.0,1250.0,1450.0,860.0,1450.0,1450.0,1380.0,1850.0,750.0,1180.0,920.0,750.0,780.0,1499.0,1750.0,1499.0,1499.0,1499.0,1499.0,1499.0,1499.0,1499.0,1499.0,1499.0,1499.0,1499.0,1499.0,1499.0,1499.0,1499.0,1499.0,1499.0,1499.0,1499.0,1499.0,1499.0,1499.0,1499.0,1499.0,1499.0,1499.0,1499.0,1499.0,1499.0,1499.0,1499.0,1499.0,1499.0,1499.0,1499.0,1450.0,1390.0,1040.0,1530.0,1190.0,1100.0,1090.0,1190.0,1090.0,1090.0,980.0,1750.0,850.0,850.0,1350.0,1250.0,1250.0,1450.0,860.0,1450.0,1450.0,1380.0,1850.0,750.0,1180.0,920.0,750.0,780.0,1499.0,1750.0,1499.0,1499.0,1499.0,1499.0,1499.0,1499.0,1499.0,1499.0,1499.0,1499.0,1499.0,1499.0,1499.0,1499.0,1499.0,1499.0,1499.0,1499.0,1499.0,1499.0,1499.0,1499.0,1499.0,1499.0,1499.0,1499.0,1499.0,1499.0,1499.0,1499.0,1499.0,1499.0,1499.0,1499.0,1499.0,1450.0,1390.0,1040.0,1530.0,1190.0,1100.0,1090.0,1190.0,1090.0,1090.0,980.0,1750.0,850.0,850.0,1350.0,1250.0,1250.0,1450.0,860.0,1450.0,1450.0,1380.0,1850.0,750.0,1180.0,920.0,750.0,780.0,1499.0,1750.0,1499.0,1499.0,1499.0,1499.0,1499.0,1499.0,1499.0,1499.0,1499.0,1499.0,1499.0,1499.0,1499.0,1499.0,1499.0,1499.0,1499.0,1499.0,1499.0,1499.0,1499.0,1499.0,1499.0,1499.0,1499.0,1499.0,1499.0,1499.0,1499.0,1499.0,1499.0,1499.0,1499.0,1499.0,1499.0,1450.0,1390.0,1040.0,1530.0,1190.0,1100.0,1090.0,1190.0],\"y0\":\" \",\"yaxis\":\"y\",\"type\":\"box\"}],                        {\"template\":{\"data\":{\"histogram2dcontour\":[{\"type\":\"histogram2dcontour\",\"colorbar\":{\"outlinewidth\":0,\"ticks\":\"\"},\"colorscale\":[[0.0,\"#0d0887\"],[0.1111111111111111,\"#46039f\"],[0.2222222222222222,\"#7201a8\"],[0.3333333333333333,\"#9c179e\"],[0.4444444444444444,\"#bd3786\"],[0.5555555555555556,\"#d8576b\"],[0.6666666666666666,\"#ed7953\"],[0.7777777777777778,\"#fb9f3a\"],[0.8888888888888888,\"#fdca26\"],[1.0,\"#f0f921\"]]}],\"choropleth\":[{\"type\":\"choropleth\",\"colorbar\":{\"outlinewidth\":0,\"ticks\":\"\"}}],\"histogram2d\":[{\"type\":\"histogram2d\",\"colorbar\":{\"outlinewidth\":0,\"ticks\":\"\"},\"colorscale\":[[0.0,\"#0d0887\"],[0.1111111111111111,\"#46039f\"],[0.2222222222222222,\"#7201a8\"],[0.3333333333333333,\"#9c179e\"],[0.4444444444444444,\"#bd3786\"],[0.5555555555555556,\"#d8576b\"],[0.6666666666666666,\"#ed7953\"],[0.7777777777777778,\"#fb9f3a\"],[0.8888888888888888,\"#fdca26\"],[1.0,\"#f0f921\"]]}],\"heatmap\":[{\"type\":\"heatmap\",\"colorbar\":{\"outlinewidth\":0,\"ticks\":\"\"},\"colorscale\":[[0.0,\"#0d0887\"],[0.1111111111111111,\"#46039f\"],[0.2222222222222222,\"#7201a8\"],[0.3333333333333333,\"#9c179e\"],[0.4444444444444444,\"#bd3786\"],[0.5555555555555556,\"#d8576b\"],[0.6666666666666666,\"#ed7953\"],[0.7777777777777778,\"#fb9f3a\"],[0.8888888888888888,\"#fdca26\"],[1.0,\"#f0f921\"]]}],\"heatmapgl\":[{\"type\":\"heatmapgl\",\"colorbar\":{\"outlinewidth\":0,\"ticks\":\"\"},\"colorscale\":[[0.0,\"#0d0887\"],[0.1111111111111111,\"#46039f\"],[0.2222222222222222,\"#7201a8\"],[0.3333333333333333,\"#9c179e\"],[0.4444444444444444,\"#bd3786\"],[0.5555555555555556,\"#d8576b\"],[0.6666666666666666,\"#ed7953\"],[0.7777777777777778,\"#fb9f3a\"],[0.8888888888888888,\"#fdca26\"],[1.0,\"#f0f921\"]]}],\"contourcarpet\":[{\"type\":\"contourcarpet\",\"colorbar\":{\"outlinewidth\":0,\"ticks\":\"\"}}],\"contour\":[{\"type\":\"contour\",\"colorbar\":{\"outlinewidth\":0,\"ticks\":\"\"},\"colorscale\":[[0.0,\"#0d0887\"],[0.1111111111111111,\"#46039f\"],[0.2222222222222222,\"#7201a8\"],[0.3333333333333333,\"#9c179e\"],[0.4444444444444444,\"#bd3786\"],[0.5555555555555556,\"#d8576b\"],[0.6666666666666666,\"#ed7953\"],[0.7777777777777778,\"#fb9f3a\"],[0.8888888888888888,\"#fdca26\"],[1.0,\"#f0f921\"]]}],\"surface\":[{\"type\":\"surface\",\"colorbar\":{\"outlinewidth\":0,\"ticks\":\"\"},\"colorscale\":[[0.0,\"#0d0887\"],[0.1111111111111111,\"#46039f\"],[0.2222222222222222,\"#7201a8\"],[0.3333333333333333,\"#9c179e\"],[0.4444444444444444,\"#bd3786\"],[0.5555555555555556,\"#d8576b\"],[0.6666666666666666,\"#ed7953\"],[0.7777777777777778,\"#fb9f3a\"],[0.8888888888888888,\"#fdca26\"],[1.0,\"#f0f921\"]]}],\"mesh3d\":[{\"type\":\"mesh3d\",\"colorbar\":{\"outlinewidth\":0,\"ticks\":\"\"}}],\"scatter\":[{\"marker\":{\"line\":{\"color\":\"#283442\"}},\"type\":\"scatter\"}],\"parcoords\":[{\"type\":\"parcoords\",\"line\":{\"colorbar\":{\"outlinewidth\":0,\"ticks\":\"\"}}}],\"scatterpolargl\":[{\"type\":\"scatterpolargl\",\"marker\":{\"colorbar\":{\"outlinewidth\":0,\"ticks\":\"\"}}}],\"bar\":[{\"error_x\":{\"color\":\"#f2f5fa\"},\"error_y\":{\"color\":\"#f2f5fa\"},\"marker\":{\"line\":{\"color\":\"rgb(17,17,17)\",\"width\":0.5},\"pattern\":{\"fillmode\":\"overlay\",\"size\":10,\"solidity\":0.2}},\"type\":\"bar\"}],\"scattergeo\":[{\"type\":\"scattergeo\",\"marker\":{\"colorbar\":{\"outlinewidth\":0,\"ticks\":\"\"}}}],\"scatterpolar\":[{\"type\":\"scatterpolar\",\"marker\":{\"colorbar\":{\"outlinewidth\":0,\"ticks\":\"\"}}}],\"histogram\":[{\"marker\":{\"pattern\":{\"fillmode\":\"overlay\",\"size\":10,\"solidity\":0.2}},\"type\":\"histogram\"}],\"scattergl\":[{\"marker\":{\"line\":{\"color\":\"#283442\"}},\"type\":\"scattergl\"}],\"scatter3d\":[{\"type\":\"scatter3d\",\"line\":{\"colorbar\":{\"outlinewidth\":0,\"ticks\":\"\"}},\"marker\":{\"colorbar\":{\"outlinewidth\":0,\"ticks\":\"\"}}}],\"scattermapbox\":[{\"type\":\"scattermapbox\",\"marker\":{\"colorbar\":{\"outlinewidth\":0,\"ticks\":\"\"}}}],\"scatterternary\":[{\"type\":\"scatterternary\",\"marker\":{\"colorbar\":{\"outlinewidth\":0,\"ticks\":\"\"}}}],\"scattercarpet\":[{\"type\":\"scattercarpet\",\"marker\":{\"colorbar\":{\"outlinewidth\":0,\"ticks\":\"\"}}}],\"carpet\":[{\"aaxis\":{\"endlinecolor\":\"#A2B1C6\",\"gridcolor\":\"#506784\",\"linecolor\":\"#506784\",\"minorgridcolor\":\"#506784\",\"startlinecolor\":\"#A2B1C6\"},\"baxis\":{\"endlinecolor\":\"#A2B1C6\",\"gridcolor\":\"#506784\",\"linecolor\":\"#506784\",\"minorgridcolor\":\"#506784\",\"startlinecolor\":\"#A2B1C6\"},\"type\":\"carpet\"}],\"table\":[{\"cells\":{\"fill\":{\"color\":\"#506784\"},\"line\":{\"color\":\"rgb(17,17,17)\"}},\"header\":{\"fill\":{\"color\":\"#2a3f5f\"},\"line\":{\"color\":\"rgb(17,17,17)\"}},\"type\":\"table\"}],\"barpolar\":[{\"marker\":{\"line\":{\"color\":\"rgb(17,17,17)\",\"width\":0.5},\"pattern\":{\"fillmode\":\"overlay\",\"size\":10,\"solidity\":0.2}},\"type\":\"barpolar\"}],\"pie\":[{\"automargin\":true,\"type\":\"pie\"}]},\"layout\":{\"autotypenumbers\":\"strict\",\"colorway\":[\"#636efa\",\"#EF553B\",\"#00cc96\",\"#ab63fa\",\"#FFA15A\",\"#19d3f3\",\"#FF6692\",\"#B6E880\",\"#FF97FF\",\"#FECB52\"],\"font\":{\"color\":\"#f2f5fa\"},\"hovermode\":\"closest\",\"hoverlabel\":{\"align\":\"left\"},\"paper_bgcolor\":\"rgb(17,17,17)\",\"plot_bgcolor\":\"rgb(17,17,17)\",\"polar\":{\"bgcolor\":\"rgb(17,17,17)\",\"angularaxis\":{\"gridcolor\":\"#506784\",\"linecolor\":\"#506784\",\"ticks\":\"\"},\"radialaxis\":{\"gridcolor\":\"#506784\",\"linecolor\":\"#506784\",\"ticks\":\"\"}},\"ternary\":{\"bgcolor\":\"rgb(17,17,17)\",\"aaxis\":{\"gridcolor\":\"#506784\",\"linecolor\":\"#506784\",\"ticks\":\"\"},\"baxis\":{\"gridcolor\":\"#506784\",\"linecolor\":\"#506784\",\"ticks\":\"\"},\"caxis\":{\"gridcolor\":\"#506784\",\"linecolor\":\"#506784\",\"ticks\":\"\"}},\"coloraxis\":{\"colorbar\":{\"outlinewidth\":0,\"ticks\":\"\"}},\"colorscale\":{\"sequential\":[[0.0,\"#0d0887\"],[0.1111111111111111,\"#46039f\"],[0.2222222222222222,\"#7201a8\"],[0.3333333333333333,\"#9c179e\"],[0.4444444444444444,\"#bd3786\"],[0.5555555555555556,\"#d8576b\"],[0.6666666666666666,\"#ed7953\"],[0.7777777777777778,\"#fb9f3a\"],[0.8888888888888888,\"#fdca26\"],[1.0,\"#f0f921\"]],\"sequentialminus\":[[0.0,\"#0d0887\"],[0.1111111111111111,\"#46039f\"],[0.2222222222222222,\"#7201a8\"],[0.3333333333333333,\"#9c179e\"],[0.4444444444444444,\"#bd3786\"],[0.5555555555555556,\"#d8576b\"],[0.6666666666666666,\"#ed7953\"],[0.7777777777777778,\"#fb9f3a\"],[0.8888888888888888,\"#fdca26\"],[1.0,\"#f0f921\"]],\"diverging\":[[0,\"#8e0152\"],[0.1,\"#c51b7d\"],[0.2,\"#de77ae\"],[0.3,\"#f1b6da\"],[0.4,\"#fde0ef\"],[0.5,\"#f7f7f7\"],[0.6,\"#e6f5d0\"],[0.7,\"#b8e186\"],[0.8,\"#7fbc41\"],[0.9,\"#4d9221\"],[1,\"#276419\"]]},\"xaxis\":{\"gridcolor\":\"#283442\",\"linecolor\":\"#506784\",\"ticks\":\"\",\"title\":{\"standoff\":15},\"zerolinecolor\":\"#283442\",\"automargin\":true,\"zerolinewidth\":2},\"yaxis\":{\"gridcolor\":\"#283442\",\"linecolor\":\"#506784\",\"ticks\":\"\",\"title\":{\"standoff\":15},\"zerolinecolor\":\"#283442\",\"automargin\":true,\"zerolinewidth\":2},\"scene\":{\"xaxis\":{\"backgroundcolor\":\"rgb(17,17,17)\",\"gridcolor\":\"#506784\",\"linecolor\":\"#506784\",\"showbackground\":true,\"ticks\":\"\",\"zerolinecolor\":\"#C8D4E3\",\"gridwidth\":2},\"yaxis\":{\"backgroundcolor\":\"rgb(17,17,17)\",\"gridcolor\":\"#506784\",\"linecolor\":\"#506784\",\"showbackground\":true,\"ticks\":\"\",\"zerolinecolor\":\"#C8D4E3\",\"gridwidth\":2},\"zaxis\":{\"backgroundcolor\":\"rgb(17,17,17)\",\"gridcolor\":\"#506784\",\"linecolor\":\"#506784\",\"showbackground\":true,\"ticks\":\"\",\"zerolinecolor\":\"#C8D4E3\",\"gridwidth\":2}},\"shapedefaults\":{\"line\":{\"color\":\"#f2f5fa\"}},\"annotationdefaults\":{\"arrowcolor\":\"#f2f5fa\",\"arrowhead\":0,\"arrowwidth\":1},\"geo\":{\"bgcolor\":\"rgb(17,17,17)\",\"landcolor\":\"rgb(17,17,17)\",\"subunitcolor\":\"#506784\",\"showland\":true,\"showlakes\":true,\"lakecolor\":\"rgb(17,17,17)\"},\"title\":{\"x\":0.05},\"updatemenudefaults\":{\"bgcolor\":\"#506784\",\"borderwidth\":0},\"sliderdefaults\":{\"bgcolor\":\"#C8D4E3\",\"borderwidth\":1,\"bordercolor\":\"rgb(17,17,17)\",\"tickwidth\":0},\"mapbox\":{\"style\":\"dark\"}}},\"xaxis\":{\"anchor\":\"y\",\"domain\":[0.0,1.0]},\"yaxis\":{\"anchor\":\"x\",\"domain\":[0.0,1.0],\"title\":{\"text\":\"Cost\"}},\"legend\":{\"tracegroupgap\":0},\"title\":{\"text\":\"Box plot for Trek Costs\"},\"boxmode\":\"group\"},                        {\"responsive\": true}                    ).then(function(){\n",
       "                            \n",
       "var gd = document.getElementById('b9783bd1-f917-4f68-b9b5-b338c62bd3c8');\n",
       "var x = new MutationObserver(function (mutations, observer) {{\n",
       "        var display = window.getComputedStyle(gd).display;\n",
       "        if (!display || display === 'none') {{\n",
       "            console.log([gd, 'removed!']);\n",
       "            Plotly.purge(gd);\n",
       "            observer.disconnect();\n",
       "        }}\n",
       "}});\n",
       "\n",
       "// Listen for the removal of the full notebook cells\n",
       "var notebookContainer = gd.closest('#notebook-container');\n",
       "if (notebookContainer) {{\n",
       "    x.observe(notebookContainer, {childList: true});\n",
       "}}\n",
       "\n",
       "// Listen for the clearing of the current output cell\n",
       "var outputEl = gd.closest('.output');\n",
       "if (outputEl) {{\n",
       "    x.observe(outputEl, {childList: true});\n",
       "}}\n",
       "\n",
       "                        })                };                });            </script>        </div>"
      ]
     },
     "metadata": {},
     "output_type": "display_data"
    }
   ],
   "execution_count": 166
  },
  {
   "metadata": {
    "ExecuteTime": {
     "end_time": "2024-10-14T07:52:47.442091Z",
     "start_time": "2024-10-14T07:52:47.407111Z"
    }
   },
   "cell_type": "code",
   "source": [
    "# Create a new column 'Health_Issue' where 1 indicates an incident and 0 indicates 'None'\n",
    "df['Health_Issue'] = df['Health Incidents'].apply(lambda x: 0 if pd.isna(x) or x.strip().lower() == 'none' else 1)\n",
    "\n",
    "# Display the relevant columns to verify\n",
    "df[['Health Incidents', 'Health_Issue']].head()"
   ],
   "id": "dab6c4f626040015",
   "outputs": [
    {
     "data": {
      "text/plain": [
       "  Health Incidents  Health_Issue\n",
       "0              NaN             0\n",
       "1              NaN             0\n",
       "2              NaN             0\n",
       "3              NaN             0\n",
       "4     Minor Injury             1"
      ],
      "text/html": [
       "<div>\n",
       "<style scoped>\n",
       "    .dataframe tbody tr th:only-of-type {\n",
       "        vertical-align: middle;\n",
       "    }\n",
       "\n",
       "    .dataframe tbody tr th {\n",
       "        vertical-align: top;\n",
       "    }\n",
       "\n",
       "    .dataframe thead th {\n",
       "        text-align: right;\n",
       "    }\n",
       "</style>\n",
       "<table border=\"1\" class=\"dataframe\">\n",
       "  <thead>\n",
       "    <tr style=\"text-align: right;\">\n",
       "      <th></th>\n",
       "      <th>Health Incidents</th>\n",
       "      <th>Health_Issue</th>\n",
       "    </tr>\n",
       "  </thead>\n",
       "  <tbody>\n",
       "    <tr>\n",
       "      <th>0</th>\n",
       "      <td>NaN</td>\n",
       "      <td>0</td>\n",
       "    </tr>\n",
       "    <tr>\n",
       "      <th>1</th>\n",
       "      <td>NaN</td>\n",
       "      <td>0</td>\n",
       "    </tr>\n",
       "    <tr>\n",
       "      <th>2</th>\n",
       "      <td>NaN</td>\n",
       "      <td>0</td>\n",
       "    </tr>\n",
       "    <tr>\n",
       "      <th>3</th>\n",
       "      <td>NaN</td>\n",
       "      <td>0</td>\n",
       "    </tr>\n",
       "    <tr>\n",
       "      <th>4</th>\n",
       "      <td>Minor Injury</td>\n",
       "      <td>1</td>\n",
       "    </tr>\n",
       "  </tbody>\n",
       "</table>\n",
       "</div>"
      ]
     },
     "execution_count": 167,
     "metadata": {},
     "output_type": "execute_result"
    }
   ],
   "execution_count": 167
  },
  {
   "metadata": {
    "ExecuteTime": {
     "end_time": "2024-10-14T07:52:47.473551Z",
     "start_time": "2024-10-14T07:52:47.448241Z"
    }
   },
   "cell_type": "code",
   "source": [
    "# Example mapping dictionary for weather conditions\n",
    "weather_mapping = {\n",
    "    'clear': 0,\n",
    "    'cloudy': 1,\n",
    "    'rainy': 2,\n",
    "    'snowy': 3,\n",
    "}\n",
    "# Calculate the mode of the 'Weather Conditions' column\n",
    "weather_mode = df['Weather Conditions'].mode()[0]  # Get the most frequent weather condition\n",
    "\n",
    "# Replace NaN values in 'Weather Conditions' with the mode\n",
    "df['Weather Conditions'].fillna(weather_mode, inplace=True)\n",
    "\n",
    "# Map the values in the 'Weather Conditions' column, ensuring lower case and stripping whitespace\n",
    "df['Weather Conditions'] = df['Weather Conditions'].str.strip().str.lower().map(weather_mapping)\n",
    "\n",
    "# Handle any NaN values that might arise from the mapping process (like 'Unknown')\n",
    "df['Weather Conditions'].fillna(-1, inplace=True)  # Use -1 for unmapped values"
   ],
   "id": "479ba2ec2e4655d3",
   "outputs": [
    {
     "name": "stderr",
     "output_type": "stream",
     "text": [
      "C:\\Users\\supre\\AppData\\Local\\Temp\\ipykernel_6572\\3225788877.py:13: FutureWarning:\n",
      "\n",
      "A value is trying to be set on a copy of a DataFrame or Series through chained assignment using an inplace method.\n",
      "The behavior will change in pandas 3.0. This inplace method will never work because the intermediate object on which we are setting values always behaves as a copy.\n",
      "\n",
      "For example, when doing 'df[col].method(value, inplace=True)', try using 'df.method({col: value}, inplace=True)' or df[col] = df[col].method(value) instead, to perform the operation inplace on the original object.\n",
      "\n",
      "\n",
      "\n",
      "C:\\Users\\supre\\AppData\\Local\\Temp\\ipykernel_6572\\3225788877.py:19: FutureWarning:\n",
      "\n",
      "A value is trying to be set on a copy of a DataFrame or Series through chained assignment using an inplace method.\n",
      "The behavior will change in pandas 3.0. This inplace method will never work because the intermediate object on which we are setting values always behaves as a copy.\n",
      "\n",
      "For example, when doing 'df[col].method(value, inplace=True)', try using 'df.method({col: value}, inplace=True)' or df[col] = df[col].method(value) instead, to perform the operation inplace on the original object.\n",
      "\n",
      "\n",
      "\n"
     ]
    }
   ],
   "execution_count": 168
  },
  {
   "metadata": {
    "ExecuteTime": {
     "end_time": "2024-10-14T07:52:47.489917Z",
     "start_time": "2024-10-14T07:52:47.478680Z"
    }
   },
   "cell_type": "code",
   "source": "print(df['Weather Conditions'].value_counts())",
   "id": "e7a28467b3e65412",
   "outputs": [
    {
     "name": "stdout",
     "output_type": "stream",
     "text": [
      "Weather Conditions\n",
      "0    172\n",
      "3     73\n",
      "1     70\n",
      "2     68\n",
      "Name: count, dtype: int64\n"
     ]
    }
   ],
   "execution_count": 169
  },
  {
   "metadata": {
    "ExecuteTime": {
     "end_time": "2024-10-14T07:52:47.502411Z",
     "start_time": "2024-10-14T07:52:47.494741Z"
    }
   },
   "cell_type": "code",
   "source": "",
   "id": "9c77f98647c86edd",
   "outputs": [],
   "execution_count": 169
  }
 ],
 "metadata": {
  "kernelspec": {
   "display_name": "Python 3",
   "language": "python",
   "name": "python3"
  },
  "language_info": {
   "codemirror_mode": {
    "name": "ipython",
    "version": 2
   },
   "file_extension": ".py",
   "mimetype": "text/x-python",
   "name": "python",
   "nbconvert_exporter": "python",
   "pygments_lexer": "ipython2",
   "version": "2.7.6"
  }
 },
 "nbformat": 4,
 "nbformat_minor": 5
}
